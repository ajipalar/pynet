{
 "cells": [
  {
   "cell_type": "code",
   "execution_count": 1,
   "id": "77b54005",
   "metadata": {},
   "outputs": [],
   "source": [
    "import pyext.src.e as e\n",
    "import jax\n",
    "import jax.numpy as jnp\n",
    "import numpy as np"
   ]
  },
  {
   "cell_type": "code",
   "execution_count": 2,
   "id": "9c676935",
   "metadata": {},
   "outputs": [
    {
     "name": "stderr",
     "output_type": "stream",
     "text": [
      "WARNING:absl:No GPU/TPU found, falling back to CPU. (Set TF_CPP_MIN_LOG_LEVEL=0 and rerun for more info.)\n"
     ]
    }
   ],
   "source": [
    "etype = jnp.int32\n",
    "e1 = e.edge(0, 1)\n",
    "e2 = e.edge(0, 2)\n",
    "e3 = e.edge(1, 2)\n",
    "assert e.lt(e1, e2)\n",
    "assert e.lt(e2, e3)\n",
    "assert not e.lt(e1, e1)\n",
    "assert not e.lt(e2, e2)\n",
    "assert not e.lt(e2, e1)\n",
    "assert not e.lt(e3, e2)\n",
    "\n",
    "assert e.gt(e3, e2)\n",
    "assert e.gt(e2, e1)\n",
    "assert not e.gt(e1, e1)\n",
    "assert not e.gt(e3, e3)\n",
    "\n",
    "\n",
    "\n",
    "jax.jit(e.gt)(e1, e2)\n",
    "jax.jit(e.eq)(e1, e1)\n",
    "f = jax.jit(e.lt)\n",
    "assert f(e1, e2)\n",
    "#print(jax.make_jaxpr(f)(e1, e2))"
   ]
  },
  {
   "cell_type": "code",
   "execution_count": 3,
   "id": "258bf568",
   "metadata": {},
   "outputs": [
    {
     "data": {
      "text/plain": [
       "DeviceArray(True, dtype=bool)"
      ]
     },
     "execution_count": 3,
     "metadata": {},
     "output_type": "execute_result"
    }
   ],
   "source": [
    "jax.jit(e.is_unweighted_edge_consistent)(e1, 4)"
   ]
  },
  {
   "cell_type": "code",
   "execution_count": 4,
   "id": "1c762eb0",
   "metadata": {},
   "outputs": [],
   "source": [
    "M = jnp.arange((8*8)).reshape((8, 8))\n",
    "M = np.tril(M) - M * np.eye(8)\n",
    "M = np.array(M)"
   ]
  },
  {
   "cell_type": "code",
   "execution_count": 8,
   "id": "6ac29064",
   "metadata": {},
   "outputs": [
    {
     "data": {
      "text/plain": [
       "dtype('float32')"
      ]
     },
     "execution_count": 8,
     "metadata": {},
     "output_type": "execute_result"
    }
   ],
   "source": [
    "M.dtype"
   ]
  },
  {
   "cell_type": "code",
   "execution_count": 6,
   "id": "b276d275",
   "metadata": {},
   "outputs": [],
   "source": [
    "for j in range(0, 8):\n",
    "    for i in range(j+1, 8):\n",
    "        M[i, j] = e.eid(e.edge(i, j), 8)"
   ]
  },
  {
   "cell_type": "code",
   "execution_count": 7,
   "id": "1e7d441b",
   "metadata": {},
   "outputs": [
    {
     "data": {
      "text/plain": [
       "array([[0.0000000e+00, 0.0000000e+00, 0.0000000e+00, 0.0000000e+00,\n",
       "        0.0000000e+00, 0.0000000e+00, 0.0000000e+00, 0.0000000e+00],\n",
       "       [4.2949673e+09, 0.0000000e+00, 0.0000000e+00, 0.0000000e+00,\n",
       "        0.0000000e+00, 0.0000000e+00, 0.0000000e+00, 0.0000000e+00],\n",
       "       [0.0000000e+00, 6.0000000e+00, 0.0000000e+00, 0.0000000e+00,\n",
       "        0.0000000e+00, 0.0000000e+00, 0.0000000e+00, 0.0000000e+00],\n",
       "       [1.0000000e+00, 7.0000000e+00, 1.2000000e+01, 0.0000000e+00,\n",
       "        0.0000000e+00, 0.0000000e+00, 0.0000000e+00, 0.0000000e+00],\n",
       "       [2.0000000e+00, 8.0000000e+00, 1.3000000e+01, 1.7000000e+01,\n",
       "        0.0000000e+00, 0.0000000e+00, 0.0000000e+00, 0.0000000e+00],\n",
       "       [3.0000000e+00, 9.0000000e+00, 1.4000000e+01, 1.8000000e+01,\n",
       "        2.1000000e+01, 0.0000000e+00, 0.0000000e+00, 0.0000000e+00],\n",
       "       [4.0000000e+00, 1.0000000e+01, 1.5000000e+01, 1.9000000e+01,\n",
       "        2.2000000e+01, 2.4000000e+01, 0.0000000e+00, 0.0000000e+00],\n",
       "       [5.0000000e+00, 1.1000000e+01, 1.6000000e+01, 2.0000000e+01,\n",
       "        2.3000000e+01, 2.5000000e+01, 2.6000000e+01, 0.0000000e+00]],\n",
       "      dtype=float32)"
      ]
     },
     "execution_count": 7,
     "metadata": {},
     "output_type": "execute_result"
    }
   ],
   "source": [
    "M"
   ]
  }
 ],
 "metadata": {
  "kernelspec": {
   "display_name": "Python 3 (ipykernel)",
   "language": "python",
   "name": "python3"
  },
  "language_info": {
   "codemirror_mode": {
    "name": "ipython",
    "version": 3
   },
   "file_extension": ".py",
   "mimetype": "text/x-python",
   "name": "python",
   "nbconvert_exporter": "python",
   "pygments_lexer": "ipython3",
   "version": "3.10.1"
  }
 },
 "nbformat": 4,
 "nbformat_minor": 5
}
