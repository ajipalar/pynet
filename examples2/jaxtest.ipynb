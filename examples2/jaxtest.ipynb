{
 "cells": [
  {
   "cell_type": "code",
   "execution_count": 1,
   "id": "c7d9324a",
   "metadata": {},
   "outputs": [
    {
     "name": "stderr",
     "output_type": "stream",
     "text": [
      "WARNING:absl:No GPU/TPU found, falling back to CPU. (Set TF_CPP_MIN_LOG_LEVEL=0 and rerun for more info.)\n"
     ]
    },
    {
     "name": "stdout",
     "output_type": "stream",
     "text": [
      "Original Array\n",
      "[[0 1 0 1]\n",
      " [1 0 1 0]\n",
      " [0 1 0 0]\n",
      " [1 0 0 0]]\n",
      "Updated Array\n",
      "[[0 1 0 1]\n",
      " [1 0 1 0]\n",
      " [0 1 0 1]\n",
      " [1 0 1 0]]\n",
      "Updated after sub\n",
      "[[0 0 0 1]\n",
      " [0 0 0 0]\n",
      " [0 0 0 0]\n",
      " [1 0 0 0]]\n",
      "Numpy times\n",
      "CPU times: user 8 µs, sys: 7 µs, total: 15 µs\n",
      "Wall time: 19.1 µs\n",
      "386 ns ± 16.8 ns per loop (mean ± std. dev. of 7 runs, 1000000 loops each)\n",
      "Uncompiled JAX times\n",
      "CPU times: user 331 ms, sys: 389 ms, total: 720 ms\n",
      "Wall time: 942 ms\n",
      "486 ms ± 16.8 ms per loop (mean ± std. dev. of 7 runs, 1 loop each)\n"
     ]
    }
   ],
   "source": [
    "import jax\n",
    "import numpy as np\n",
    "import jax.numpy as jnp\n",
    "from jax import jit, grad\n",
    "import jaxtest\n",
    "import sampling\n",
    "import timeit\n",
    "\n",
    "jax_array = jnp.zeros((10000, 10000))\n",
    "np_array = np.zeros((10000, 10000))\n",
    "\n",
    "def np_add(s, t, a):\n",
    "    a[s, t] = 1\n",
    "    a[t, s] = 1\n",
    "\n",
    "def np_sub(s, t, a):\n",
    "    a[s, t] = 0\n",
    "    a[t, s] = 0\n",
    "    \n",
    "def jx_add(s, t, a):\n",
    "    a.at[s, t].set(1)\n",
    "    a.at[t, s].set(1)\n",
    "    return a\n",
    "def jx_sub(s, t, a):\n",
    "    a.at[s, t].set(0)\n",
    "    a.at[t, s].set(0)\n",
    "    return a\n",
    "\n",
    "#Test the inplace numpy updates\n",
    "print(\"Numpy times\")\n",
    "%time np_add(0, 1, np_array)\n",
    "%timeit np_add(0, 1, np_array)\n",
    "\n",
    "#Test the time to add the jax_array to the device\n",
    "\n",
    "print(\"Uncompiled JAX times\")\n",
    "%time jx_add(0, 1, jax_array)\n",
    "%timeit jx_add(0, 1, jax_array)\n",
    "\n",
    "jx_add = jit(jx_add)\n",
    "jx_sub = jit(jx_sub)"
   ]
  },
  {
   "cell_type": "code",
   "execution_count": 3,
   "id": "25b84b2e",
   "metadata": {},
   "outputs": [
    {
     "name": "stdout",
     "output_type": "stream",
     "text": [
      "JAX compile time\n",
      "CPU times: user 113 ms, sys: 99.7 ms, total: 213 ms\n",
      "Wall time: 222 ms\n",
      "JAX runtime\n",
      "262 ms ± 46.6 ms per loop (mean ± std. dev. of 7 runs, 1 loop each)\n"
     ]
    }
   ],
   "source": [
    "print(\"JAX compile time\")\n",
    "%time jx_add(0, 1, jax_array).block_until_ready()\n",
    "print(\"JAX runtime\")\n",
    "%timeit jx_add(0, 1, jax_array).block_until_ready()"
   ]
  },
  {
   "cell_type": "code",
   "execution_count": 5,
   "id": "54db2d84",
   "metadata": {},
   "outputs": [
    {
     "data": {
      "text/plain": [
       "array([1, 1, 2, 1, 0, 1, 0, 0, 0, 1])"
      ]
     },
     "execution_count": 5,
     "metadata": {},
     "output_type": "execute_result"
    }
   ],
   "source": [
    "sampling.A.sum(axis=1)"
   ]
  },
  {
   "cell_type": "code",
   "execution_count": 1,
   "id": "06851228",
   "metadata": {},
   "outputs": [
    {
     "name": "stdout",
     "output_type": "stream",
     "text": [
      "1\n",
      "1\n",
      "2\n",
      "1\n",
      "0\n",
      "1\n",
      "0\n",
      "0\n",
      "0\n",
      "1\n"
     ]
    }
   ],
   "source": [
    "import sampling\n",
    "import numpy as np\n",
    "A=sampling.A\n",
    "for i in range(len(A)):\n",
    "    print(sampling.dgr(i, A))\n",
    "\n",
    "#A = np.ones((10000, 10000), dtype=np.int32)"
   ]
  },
  {
   "cell_type": "code",
   "execution_count": 11,
   "id": "6ddfdd05",
   "metadata": {},
   "outputs": [
    {
     "name": "stdout",
     "output_type": "stream",
     "text": [
      "76.6 ms ± 1.29 ms per loop (mean ± std. dev. of 7 runs, 10 loops each)\n"
     ]
    }
   ],
   "source": [
    "%timeit sampling.dgrs(A)"
   ]
  },
  {
   "cell_type": "code",
   "execution_count": 14,
   "id": "b75e2aa1",
   "metadata": {},
   "outputs": [],
   "source": [
    "j_dgrs = jit(sampling.dgrs)\n",
    "j_dgr = jit(sampling.dgr)"
   ]
  },
  {
   "cell_type": "code",
   "execution_count": 15,
   "id": "0e67519e",
   "metadata": {},
   "outputs": [
    {
     "data": {
      "text/plain": [
       "<CompiledFunction at 0x7fc5c6177a90>"
      ]
     },
     "execution_count": 15,
     "metadata": {},
     "output_type": "execute_result"
    }
   ],
   "source": [
    "j_dgrs(A)\n",
    "j_dgr"
   ]
  },
  {
   "cell_type": "code",
   "execution_count": 12,
   "id": "08f96fb4",
   "metadata": {},
   "outputs": [
    {
     "name": "stdout",
     "output_type": "stream",
     "text": [
      "36.9 ms ± 1e+03 µs per loop (mean ± std. dev. of 7 runs, 10 loops each)\n"
     ]
    }
   ],
   "source": [
    "%timeit j_dgrs(A).block_until_ready()"
   ]
  },
  {
   "cell_type": "code",
   "execution_count": 13,
   "id": "17ca9219",
   "metadata": {},
   "outputs": [
    {
     "name": "stdout",
     "output_type": "stream",
     "text": [
      "10.4 µs ± 246 ns per loop (mean ± std. dev. of 7 runs, 100000 loops each)\n"
     ]
    }
   ],
   "source": [
    "%timeit sampling.dgr(0, A)"
   ]
  },
  {
   "cell_type": "code",
   "execution_count": 16,
   "id": "8fef4ef8",
   "metadata": {},
   "outputs": [
    {
     "name": "stdout",
     "output_type": "stream",
     "text": [
      "16.2 µs ± 380 ns per loop (mean ± std. dev. of 7 runs, 100000 loops each)\n"
     ]
    }
   ],
   "source": [
    "%timeit j_dgr(0, A).block_until_ready()"
   ]
  },
  {
   "cell_type": "code",
   "execution_count": 4,
   "id": "43db5f7a",
   "metadata": {},
   "outputs": [
    {
     "data": {
      "text/plain": [
       "array([[0., 0., 0., 0., 0., 0., 0., 0., 0., 0.],\n",
       "       [1., 0., 0., 0., 0., 0., 0., 0., 0., 0.],\n",
       "       [1., 1., 0., 0., 0., 0., 0., 0., 0., 0.],\n",
       "       [1., 1., 1., 0., 0., 0., 0., 0., 0., 0.],\n",
       "       [1., 1., 1., 1., 0., 0., 0., 0., 0., 0.],\n",
       "       [1., 1., 1., 1., 1., 0., 0., 0., 0., 0.],\n",
       "       [1., 1., 1., 1., 1., 1., 0., 0., 0., 0.],\n",
       "       [1., 1., 1., 1., 1., 1., 1., 0., 0., 0.],\n",
       "       [1., 1., 1., 1., 1., 1., 1., 1., 0., 0.],\n",
       "       [1., 1., 1., 1., 1., 1., 1., 1., 1., 0.]])"
      ]
     },
     "execution_count": 4,
     "metadata": {},
     "output_type": "execute_result"
    }
   ],
   "source": [
    "np.tril(sampling.G, -1)"
   ]
  }
 ],
 "metadata": {
  "kernelspec": {
   "display_name": "Python 3 (ipykernel)",
   "language": "python",
   "name": "python3"
  },
  "language_info": {
   "codemirror_mode": {
    "name": "ipython",
    "version": 3
   },
   "file_extension": ".py",
   "mimetype": "text/x-python",
   "name": "python",
   "nbconvert_exporter": "python",
   "pygments_lexer": "ipython3",
   "version": "3.9.7"
  }
 },
 "nbformat": 4,
 "nbformat_minor": 5
}
