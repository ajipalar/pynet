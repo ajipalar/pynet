{
 "cells": [
  {
   "cell_type": "code",
   "execution_count": 1,
   "id": "38979dd3",
   "metadata": {},
   "outputs": [
    {
     "name": "stderr",
     "output_type": "stream",
     "text": [
      "WARNING:absl:No GPU/TPU found, falling back to CPU. (Set TF_CPP_MIN_LOG_LEVEL=0 and rerun for more info.)\n"
     ]
    }
   ],
   "source": [
    "import numpy as np\n",
    "import jax.numpy as jnp\n",
    "import timeit\n",
    "\n",
    "x = np.random.rand(1000, 1000)\n",
    "y = jnp.array(x)"
   ]
  },
  {
   "cell_type": "code",
   "execution_count": 30,
   "id": "a1a42dd9",
   "metadata": {
    "collapsed": true
   },
   "outputs": [
    {
     "ename": "SyntaxError",
     "evalue": "invalid syntax (<timeit-src>, line 2)",
     "output_type": "error",
     "traceback": [
      "Traceback \u001b[0;36m(most recent call last)\u001b[0m:\n",
      "  File \u001b[1;32m\"/home/aji/anaconda3/envs/pynetp/lib/python3.9/site-packages/IPython/core/interactiveshell.py\"\u001b[0m, line \u001b[1;32m3441\u001b[0m, in \u001b[1;35mrun_code\u001b[0m\n    exec(code_obj, self.user_global_ns, self.user_ns)\n",
      "  File \u001b[1;32m\"/tmp/ipykernel_5410/1290890916.py\"\u001b[0m, line \u001b[1;32m16\u001b[0m, in \u001b[1;35m<module>\u001b[0m\n    np_t = test_np_array_times()\n",
      "  File \u001b[1;32m\"/tmp/ipykernel_5410/1290890916.py\"\u001b[0m, line \u001b[1;32m13\u001b[0m, in \u001b[1;35mtest_np_array_times\u001b[0m\n    t[i] = time_array_n(size, np.random.rand, np.dot, repeat=1)\n",
      "  File \u001b[1;32m\"/tmp/ipykernel_5410/1290890916.py\"\u001b[0m, line \u001b[1;32m5\u001b[0m, in \u001b[1;35mtime_array_n\u001b[0m\n    time_s = timeit.timeit(f'{test_function(x, x)}')\n",
      "  File \u001b[1;32m\"/home/aji/anaconda3/envs/pynetp/lib/python3.9/timeit.py\"\u001b[0m, line \u001b[1;32m233\u001b[0m, in \u001b[1;35mtimeit\u001b[0m\n    return Timer(stmt, setup, timer, globals).timeit(number)\n",
      "\u001b[0;36m  File \u001b[0;32m\"/home/aji/anaconda3/envs/pynetp/lib/python3.9/timeit.py\"\u001b[0;36m, line \u001b[0;32m122\u001b[0;36m, in \u001b[0;35m__init__\u001b[0;36m\u001b[0m\n\u001b[0;31m    compile(stmtprefix + stmt, dummy_src_name, \"exec\")\u001b[0m\n",
      "\u001b[0;36m  File \u001b[0;32m\"<timeit-src>\"\u001b[0;36m, line \u001b[0;32m2\u001b[0m\n\u001b[0;31m    [[0.71257273 0.26391683]\u001b[0m\n\u001b[0m                 ^\u001b[0m\n\u001b[0;31mSyntaxError\u001b[0m\u001b[0;31m:\u001b[0m invalid syntax\n"
     ]
    }
   ],
   "source": [
    "def time_array_n(n, array_function, test_function):\n",
    "    times = []\n",
    "    for i in range(repeat):\n",
    "        x = array_function(n, n)\n",
    "        time_s = timeit.timeit(f'{test_function(x, x)}')\n",
    "        times.append(time_s)\n",
    "    return times\n",
    "\n",
    "def test_np_array_times():\n",
    "    n = [2, 20, 200, 2000, 10000]\n",
    "    t = np.zeros((len(n), 3))\n",
    "    for i, size in enumerate(n):\n",
    "        t[i] = time_array_n(size, np.random.rand, np.dot, repeat=1)\n",
    "    return t\n",
    "\n",
    "np_t = test_np_array_times()"
   ]
  },
  {
   "cell_type": "code",
   "execution_count": 32,
   "id": "a4df83d2",
   "metadata": {},
   "outputs": [
    {
     "ename": "SyntaxError",
     "evalue": "invalid syntax (<timeit-src>, line 2)",
     "output_type": "error",
     "traceback": [
      "Traceback \u001b[0;36m(most recent call last)\u001b[0m:\n",
      "  File \u001b[1;32m\"/home/aji/anaconda3/envs/pynetp/lib/python3.9/site-packages/IPython/core/interactiveshell.py\"\u001b[0m, line \u001b[1;32m3441\u001b[0m, in \u001b[1;35mrun_code\u001b[0m\n    exec(code_obj, self.user_global_ns, self.user_ns)\n",
      "  File \u001b[1;32m\"/tmp/ipykernel_5410/3720361138.py\"\u001b[0m, line \u001b[1;32m1\u001b[0m, in \u001b[1;35m<module>\u001b[0m\n    time_array_n(2, np.random.rand, np.dot)\n",
      "  File \u001b[1;32m\"/tmp/ipykernel_5410/1290890916.py\"\u001b[0m, line \u001b[1;32m5\u001b[0m, in \u001b[1;35mtime_array_n\u001b[0m\n    time_s = timeit.timeit(f'{test_function(x, x)}')\n",
      "  File \u001b[1;32m\"/home/aji/anaconda3/envs/pynetp/lib/python3.9/timeit.py\"\u001b[0m, line \u001b[1;32m233\u001b[0m, in \u001b[1;35mtimeit\u001b[0m\n    return Timer(stmt, setup, timer, globals).timeit(number)\n",
      "\u001b[0;36m  File \u001b[0;32m\"/home/aji/anaconda3/envs/pynetp/lib/python3.9/timeit.py\"\u001b[0;36m, line \u001b[0;32m122\u001b[0;36m, in \u001b[0;35m__init__\u001b[0;36m\u001b[0m\n\u001b[0;31m    compile(stmtprefix + stmt, dummy_src_name, \"exec\")\u001b[0m\n",
      "\u001b[0;36m  File \u001b[0;32m\"<timeit-src>\"\u001b[0;36m, line \u001b[0;32m2\u001b[0m\n\u001b[0;31m    [[0.14973661 0.30747588]\u001b[0m\n\u001b[0m                 ^\u001b[0m\n\u001b[0;31mSyntaxError\u001b[0m\u001b[0;31m:\u001b[0m invalid syntax\n"
     ]
    }
   ],
   "source": [
    "time_array_n(2, np.random.rand, np.dot)"
   ]
  }
 ],
 "metadata": {
  "kernelspec": {
   "display_name": "Python 3 (ipykernel)",
   "language": "python",
   "name": "python3"
  },
  "language_info": {
   "codemirror_mode": {
    "name": "ipython",
    "version": 3
   },
   "file_extension": ".py",
   "mimetype": "text/x-python",
   "name": "python",
   "nbconvert_exporter": "python",
   "pygments_lexer": "ipython3",
   "version": "3.9.7"
  }
 },
 "nbformat": 4,
 "nbformat_minor": 5
}
