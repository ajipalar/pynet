{
 "cells": [
  {
   "cell_type": "code",
   "execution_count": 1,
   "id": "66539c07",
   "metadata": {},
   "outputs": [],
   "source": [
    "#Still in alpha :)\n",
    "from jax import random\n",
    "import numpyro\n",
    "import numpyro.distributions as dist\n",
    "from numpyro.infer import MCMC, NUTS\n",
    "from numpyro.infer.reparam import TransformReparam\n",
    "import numpy as np\n",
    "import matplotlib\n",
    "import matplotlib.pyplot as plt\n",
    "\n",
    "font = {'family' : 'normal',\n",
    "        'weight' : 'normal',\n",
    "        'size'   : 22}\n",
    "\n",
    "matplotlib.rc('font', **font)"
   ]
  },
  {
   "cell_type": "code",
   "execution_count": 2,
   "id": "da02eb1c",
   "metadata": {},
   "outputs": [
    {
     "data": {
      "text/plain": [
       "<BarContainer object of 8 artists>"
      ]
     },
     "execution_count": 2,
     "metadata": {},
     "output_type": "execute_result"
    },
    {
     "name": "stderr",
     "output_type": "stream",
     "text": [
      "findfont: Font family ['normal'] not found. Falling back to DejaVu Sans.\n"
     ]
    },
    {
     "data": {
      "image/png": "[encoded data removed]",
      "text/plain": [
       "<Figure size 432x288 with 1 Axes>"
      ]
     },
     "metadata": {
      "needs_background": "light"
     },
     "output_type": "display_data"
    }
   ],
   "source": [
    "#Eight Schools example\n",
    "#What are the effects of coaching on SAT performance?\n",
    "\n",
    "J = 8 #number of schools\n",
    "y = np.array([28.0, 8.0, -3.0, 7.0, -1.0, 1.0, 18.0, 12.0])\n",
    "sigma = np.array([15.0, 10.0, 16.0, 11.0, 9.0, 11.0, 10.0, 18.0])\n",
    "assert len(sigma) == len(y)\n",
    "\n",
    "plt.bar(np.arange(J), y, yerr=sigma)"
   ]
  },
  {
   "cell_type": "code",
   "execution_count": 3,
   "id": "6a17cad9",
   "metadata": {},
   "outputs": [],
   "source": [
    "def eight_schools(J, sigma, y=None):\n",
    "    \"\"\"\n",
    "    y_j ~ Normal(theta_j, sigma_j), j=1,...,8\n",
    "    theta_j ~ Normal(mu, tau), j=1, ..., 8\n",
    "    mu ~ Normal(0, 5)\n",
    "    tau ~ HalfCauchy(5)\n",
    "    \"\"\"\n",
    "    mu = numpyro.sample('mu', dist.Normal(0, 5))\n",
    "    tau = numpyro.sample('tau', dist.HalfCauchy(5))\n",
    "    with numpyro.plate('J', J):\n",
    "        theta = numpyro.sample('theta', dist.Normal(mu, tau))\n",
    "        numpyro.sample('obs', dist.Normal(theta, sigma), obs=y)"
   ]
  },
  {
   "cell_type": "code",
   "execution_count": 4,
   "id": "4cc07b3b",
   "metadata": {},
   "outputs": [
    {
     "name": "stderr",
     "output_type": "stream",
     "text": [
      "sample: 100%|███████████████████████████| 1500/1500 [00:02<00:00, 688.08it/s, 1 steps of size 7.41e-01. acc. prob=0.91]\n",
      "sample: 100%|██████████████████████████| 1500/1500 [00:03<00:00, 480.70it/s, 15 steps of size 6.89e-02. acc. prob=0.95]\n"
     ]
    }
   ],
   "source": [
    "#What does the HalfCauchy(5) distribution look like?\n",
    "\n",
    "def hc(n, y=None):\n",
    "    numpyro.sample('mu2', dist.HalfCauchy(n))\n",
    "    \n",
    "hc_kernal = NUTS(hc)\n",
    "mcmc_hc = MCMC(hc_kernal, num_warmup=500, num_samples=1000)\n",
    "rng_key = random.PRNGKey(1731)\n",
    "n=5\n",
    "mcmc_hc.run(rng_key, n, extra_fields=('potential_energy', ))\n",
    "\n",
    "nuts_kernal = NUTS(eight_schools)\n",
    "mcmc = MCMC(nuts_kernal, num_warmup=500, num_samples=1000)\n",
    "rng_key = random.PRNGKey(222)\n",
    "mcmc.run(rng_key, J, sigma, y=y, extra_fields=('potential_energy', ))"
   ]
  },
  {
   "cell_type": "code",
   "execution_count": 5,
   "id": "72ce6492",
   "metadata": {},
   "outputs": [],
   "source": [
    "hc_samples = mcmc_hc.get_samples()"
   ]
  },
  {
   "cell_type": "code",
   "execution_count": 6,
   "id": "09e4fdc5",
   "metadata": {
    "scrolled": true
   },
   "outputs": [
    {
     "name": "stderr",
     "output_type": "stream",
     "text": [
      "WARNING:matplotlib.font_manager:findfont: Font family ['normal'] not found. Falling back to DejaVu Sans.\n"
     ]
    },
    {
     "data": {
      "image/png": "[encoded data removed]",
      "text/plain": [
       "<Figure size 432x288 with 1 Axes>"
      ]
     },
     "metadata": {
      "needs_background": "light"
     },
     "output_type": "display_data"
    }
   ],
   "source": [
    "def hist(x, title, xlabel, ylabel, bins=None, xlim=None, ylim=None):\n",
    "    plt.hist(x, bins=bins)\n",
    "    plt.xlabel(xlabel)\n",
    "    plt.ylabel(ylabel)\n",
    "    plt.title(title)\n",
    "    plt.xlim(xlim)\n",
    "    plt.ylim(ylim)\n",
    "    plt.show()\n",
    "\n",
    "hist(hc_samples['mu2'], 'HalfCauchy(5)', 'mu2', 'freq', bins=500,\n",
    "    xlim=(0, 100))"
   ]
  },
  {
   "cell_type": "code",
   "execution_count": 7,
   "id": "2f2adf07",
   "metadata": {},
   "outputs": [
    {
     "name": "stdout",
     "output_type": "stream",
     "text": [
      "\n",
      "                mean       std    median      5.0%     95.0%     n_eff     r_hat\n",
      "        mu      3.99      3.19      4.07     -1.71      8.46    164.14      1.00\n",
      "       tau      4.06      3.08      3.36      0.28      8.19     90.18      1.00\n",
      "  theta[0]      5.99      5.69      5.61     -3.26     14.17    201.30      1.00\n",
      "  theta[1]      4.73      4.84      4.38     -2.55     13.57    301.50      1.00\n",
      "  theta[2]      3.16      5.33      3.54     -5.19     11.49    205.42      1.00\n",
      "  theta[3]      4.19      4.95      4.17     -3.63     12.12    346.66      1.00\n",
      "  theta[4]      3.06      4.92      3.26     -4.36     11.11    289.14      1.00\n",
      "  theta[5]      3.41      4.93      3.51     -5.42     10.19    305.11      1.00\n",
      "  theta[6]      6.12      5.14      5.63     -2.22     14.32    214.45      1.00\n",
      "  theta[7]      4.44      5.58      4.45     -3.58     14.71    350.76      1.00\n",
      "\n",
      "Number of divergences: 9\n"
     ]
    }
   ],
   "source": [
    "mcmc.print_summary()"
   ]
  },
  {
   "cell_type": "code",
   "execution_count": 65,
   "id": "c3b8c001",
   "metadata": {},
   "outputs": [
    {
     "name": "stderr",
     "output_type": "stream",
     "text": [
      "sample: 100%|██████████████████████████| 1500/1500 [00:03<00:00, 461.06it/s, 15 steps of size 3.71e-02. acc. prob=0.94]\n"
     ]
    },
    {
     "name": "stdout",
     "output_type": "stream",
     "text": [
      "\n",
      "                   mean       std    median      5.0%     95.0%     n_eff     r_hat\n",
      "           mu      5.90      3.71      6.22      0.04     11.70    121.64      1.04\n",
      "          tau     11.01      2.91     10.43      7.02     14.98    107.16      1.01\n",
      "     theta[0]     27.96      0.51     27.97     27.25     28.89   1095.89      1.00\n",
      "     theta[1]      7.99      0.50      8.00      7.17      8.79   1012.18      1.00\n",
      "     theta[2]     -2.99      0.48     -2.97     -3.75     -2.17   1121.48      1.00\n",
      "     theta[3]      6.99      0.48      7.01      6.23      7.83    903.09      1.00\n",
      "     theta[4]     -0.98      0.52     -0.97     -1.91     -0.17   1086.04      1.00\n",
      "     theta[5]      1.01      0.51      1.00      0.17      1.85   1311.30      1.00\n",
      "     theta[6]     17.98      0.50     17.96     17.26     18.88    990.18      1.00\n",
      "     theta[7]     11.99      0.48     11.98     11.21     12.78    970.21      1.00\n",
      "theta_base[0]      2.11      0.52      2.10      1.21      2.85     97.05      1.00\n",
      "theta_base[1]      0.18      0.33      0.17     -0.42      0.68    117.71      1.04\n",
      "theta_base[2]     -0.88      0.45     -0.87     -1.61     -0.21    115.89      1.05\n",
      "theta_base[3]      0.08      0.33      0.06     -0.50      0.58    116.11      1.04\n",
      "theta_base[4]     -0.69      0.42     -0.68     -1.42     -0.12    116.19      1.05\n",
      "theta_base[5]     -0.50      0.39     -0.49     -1.15      0.08    120.15      1.05\n",
      "theta_base[6]      1.14      0.37      1.14      0.49      1.76    101.82      1.01\n",
      "theta_base[7]      0.56      0.33      0.55     -0.07      1.02    109.28      1.02\n",
      "\n",
      "Number of divergences: 0\n"
     ]
    }
   ],
   "source": [
    "# Eight Schools non centered example - Non centered Reparametrization\n",
    "\n",
    "def eight_schools_noncentered(J, sigma, y=None):\n",
    "    mu = numpyro.sample('mu', dist.Normal(0, 5))\n",
    "    tau = numpyro.sample('tau', dist.HalfCauchy(5))\n",
    "    with numpyro.plate('J', J):\n",
    "        with numpyro.handlers.reparam(config={'theta': TransformReparam()}):\n",
    "            theta = numpyro.sample(\n",
    "                'theta',\n",
    "                dist.TransformedDistribution(dist.Normal(0., 1.),\n",
    "                                             dist.transforms.AffineTransform(mu, tau)))\n",
    "        numpyro.sample('obs', dist.Normal(theta, sigma), obs=y)\n",
    "        \n",
    "nuts_kernal = NUTS(eight_schools_noncentered)\n",
    "mcmc = MCMC(nuts_kernal, num_warmup=500, num_samples=1000)\n",
    "rng_key = random.PRNGKey(0)\n",
    "mcmc.run(rng_key, J, sigma, y=y, extra_fields=('potential_energy', ))\n",
    "mcmc.print_summary(exclude_deterministic=False)"
   ]
  },
  {
   "cell_type": "code",
   "execution_count": 66,
   "id": "8f7815dc",
   "metadata": {},
   "outputs": [
    {
     "name": "stdout",
     "output_type": "stream",
     "text": [
      "Expected log joint density: -22.51\n"
     ]
    }
   ],
   "source": [
    "pe = mcmc.get_extra_fields()['potential_energy']\n",
    "# Compare with the earlier value\n",
    "print('Expected log joint density: {:.2f}'.format(np.mean(-pe)))"
   ]
  },
  {
   "cell_type": "code",
   "execution_count": 9,
   "id": "7f56f2c0",
   "metadata": {},
   "outputs": [
    {
     "name": "stderr",
     "output_type": "stream",
     "text": [
      "sample: 100%|███████████████████████████| 1500/1500 [00:02<00:00, 661.53it/s, 3 steps of size 9.72e-01. acc. prob=0.93]\n"
     ]
    }
   ],
   "source": [
    "def normal(mu, sigma):\n",
    "    numpyro.sample('obs', dist.Normal(mu, sigma))\n",
    "\n",
    "mu = 5\n",
    "sigma = 0.5\n",
    "nuts_kernal = NUTS(normal)\n",
    "mcmc = MCMC(nuts_kernal, num_warmup=500, num_samples=1000)\n",
    "rng_key = random.PRNGKey(222)\n",
    "mcmc.run(rng_key, mu, sigma, extra_fields=('potential_energy', ))"
   ]
  },
  {
   "cell_type": "code",
   "execution_count": 10,
   "id": "4db03389",
   "metadata": {},
   "outputs": [
    {
     "data": {
      "image/png": "[encoded data removed]",
      "text/plain": [
       "<Figure size 432x288 with 1 Axes>"
      ]
     },
     "metadata": {
      "needs_background": "light"
     },
     "output_type": "display_data"
    }
   ],
   "source": [
    "def hist_samples(mcmc, title, bins=None):\n",
    "    params = mcmc.get_samples()\n",
    "    samples = 0\n",
    "    name = ''\n",
    "    for key in params:\n",
    "        samples = params[key]\n",
    "        name = key\n",
    "        break\n",
    "    hist(samples, title, name, 'freq', bins=bins)\n",
    "\n",
    "hist_samples(mcmc, 'Normal (5, 0.5)', bins=30)\n",
    "    "
   ]
  },
  {
   "cell_type": "code",
   "execution_count": 11,
   "id": "b5f42b15",
   "metadata": {
    "collapsed": true
   },
   "outputs": [
    {
     "ename": "RuntimeError",
     "evalue": "MCMC only supports continuous sites or discrete sites with enumerate support, but got Poisson.",
     "output_type": "error",
     "traceback": [
      "\u001b[0;31m---------------------------------------------------------------------------\u001b[0m",
      "\u001b[0;31mRuntimeError\u001b[0m                              Traceback (most recent call last)",
      "\u001b[0;32m/tmp/ipykernel_62613/3982863135.py\u001b[0m in \u001b[0;36m<module>\u001b[0;34m\u001b[0m\n\u001b[1;32m      7\u001b[0m \u001b[0mmcmc\u001b[0m \u001b[0;34m=\u001b[0m \u001b[0mMCMC\u001b[0m\u001b[0;34m(\u001b[0m\u001b[0mnuts_kernal\u001b[0m\u001b[0;34m,\u001b[0m \u001b[0mnum_warmup\u001b[0m\u001b[0;34m=\u001b[0m\u001b[0;36m500\u001b[0m\u001b[0;34m,\u001b[0m \u001b[0mnum_samples\u001b[0m\u001b[0;34m=\u001b[0m\u001b[0;36m1000\u001b[0m\u001b[0;34m)\u001b[0m\u001b[0;34m\u001b[0m\u001b[0;34m\u001b[0m\u001b[0m\n\u001b[1;32m      8\u001b[0m \u001b[0mrng_key\u001b[0m \u001b[0;34m=\u001b[0m \u001b[0mrandom\u001b[0m\u001b[0;34m.\u001b[0m\u001b[0mPRNGKey\u001b[0m\u001b[0;34m(\u001b[0m\u001b[0;36m222\u001b[0m\u001b[0;34m)\u001b[0m\u001b[0;34m\u001b[0m\u001b[0;34m\u001b[0m\u001b[0m\n\u001b[0;32m----> 9\u001b[0;31m \u001b[0mmcmc\u001b[0m\u001b[0;34m.\u001b[0m\u001b[0mrun\u001b[0m\u001b[0;34m(\u001b[0m\u001b[0mrng_key\u001b[0m\u001b[0;34m,\u001b[0m \u001b[0mlam\u001b[0m\u001b[0;34m,\u001b[0m \u001b[0mextra_fields\u001b[0m\u001b[0;34m=\u001b[0m\u001b[0;34m(\u001b[0m\u001b[0;34m'potential_energy'\u001b[0m\u001b[0;34m,\u001b[0m \u001b[0;34m)\u001b[0m\u001b[0;34m)\u001b[0m\u001b[0;34m\u001b[0m\u001b[0;34m\u001b[0m\u001b[0m\n\u001b[0m",
      "\u001b[0;32m~/anaconda3/envs/pynetp/lib/python3.9/site-packages/numpyro/infer/mcmc.py\u001b[0m in \u001b[0;36mrun\u001b[0;34m(self, rng_key, extra_fields, init_params, *args, **kwargs)\u001b[0m\n\u001b[1;32m    564\u001b[0m         \u001b[0mmap_args\u001b[0m \u001b[0;34m=\u001b[0m \u001b[0;34m(\u001b[0m\u001b[0mrng_key\u001b[0m\u001b[0;34m,\u001b[0m \u001b[0minit_state\u001b[0m\u001b[0;34m,\u001b[0m \u001b[0minit_params\u001b[0m\u001b[0;34m)\u001b[0m\u001b[0;34m\u001b[0m\u001b[0;34m\u001b[0m\u001b[0m\n\u001b[1;32m    565\u001b[0m         \u001b[0;32mif\u001b[0m \u001b[0mself\u001b[0m\u001b[0;34m.\u001b[0m\u001b[0mnum_chains\u001b[0m \u001b[0;34m==\u001b[0m \u001b[0;36m1\u001b[0m\u001b[0;34m:\u001b[0m\u001b[0;34m\u001b[0m\u001b[0;34m\u001b[0m\u001b[0m\n\u001b[0;32m--> 566\u001b[0;31m             \u001b[0mstates_flat\u001b[0m\u001b[0;34m,\u001b[0m \u001b[0mlast_state\u001b[0m \u001b[0;34m=\u001b[0m \u001b[0mpartial_map_fn\u001b[0m\u001b[0;34m(\u001b[0m\u001b[0mmap_args\u001b[0m\u001b[0;34m)\u001b[0m\u001b[0;34m\u001b[0m\u001b[0;34m\u001b[0m\u001b[0m\n\u001b[0m\u001b[1;32m    567\u001b[0m             \u001b[0mstates\u001b[0m \u001b[0;34m=\u001b[0m \u001b[0mtree_map\u001b[0m\u001b[0;34m(\u001b[0m\u001b[0;32mlambda\u001b[0m \u001b[0mx\u001b[0m\u001b[0;34m:\u001b[0m \u001b[0mx\u001b[0m\u001b[0;34m[\u001b[0m\u001b[0mjnp\u001b[0m\u001b[0;34m.\u001b[0m\u001b[0mnewaxis\u001b[0m\u001b[0;34m,\u001b[0m \u001b[0;34m...\u001b[0m\u001b[0;34m]\u001b[0m\u001b[0;34m,\u001b[0m \u001b[0mstates_flat\u001b[0m\u001b[0;34m)\u001b[0m\u001b[0;34m\u001b[0m\u001b[0;34m\u001b[0m\u001b[0m\n\u001b[1;32m    568\u001b[0m         \u001b[0;32melse\u001b[0m\u001b[0;34m:\u001b[0m\u001b[0;34m\u001b[0m\u001b[0;34m\u001b[0m\u001b[0m\n",
      "\u001b[0;32m~/anaconda3/envs/pynetp/lib/python3.9/site-packages/numpyro/infer/mcmc.py\u001b[0m in \u001b[0;36m_single_chain_mcmc\u001b[0;34m(self, init, args, kwargs, collect_fields)\u001b[0m\n\u001b[1;32m    353\u001b[0m         \u001b[0mrng_key\u001b[0m\u001b[0;34m,\u001b[0m \u001b[0minit_state\u001b[0m\u001b[0;34m,\u001b[0m \u001b[0minit_params\u001b[0m \u001b[0;34m=\u001b[0m \u001b[0minit\u001b[0m\u001b[0;34m\u001b[0m\u001b[0;34m\u001b[0m\u001b[0m\n\u001b[1;32m    354\u001b[0m         \u001b[0;32mif\u001b[0m \u001b[0minit_state\u001b[0m \u001b[0;32mis\u001b[0m \u001b[0;32mNone\u001b[0m\u001b[0;34m:\u001b[0m\u001b[0;34m\u001b[0m\u001b[0;34m\u001b[0m\u001b[0m\n\u001b[0;32m--> 355\u001b[0;31m             init_state = self.sampler.init(\n\u001b[0m\u001b[1;32m    356\u001b[0m                 \u001b[0mrng_key\u001b[0m\u001b[0;34m,\u001b[0m\u001b[0;34m\u001b[0m\u001b[0;34m\u001b[0m\u001b[0m\n\u001b[1;32m    357\u001b[0m                 \u001b[0mself\u001b[0m\u001b[0;34m.\u001b[0m\u001b[0mnum_warmup\u001b[0m\u001b[0;34m,\u001b[0m\u001b[0;34m\u001b[0m\u001b[0;34m\u001b[0m\u001b[0m\n",
      "\u001b[0;32m~/anaconda3/envs/pynetp/lib/python3.9/site-packages/numpyro/infer/hmc.py\u001b[0m in \u001b[0;36minit\u001b[0;34m(self, rng_key, num_warmup, init_params, model_args, model_kwargs)\u001b[0m\n\u001b[1;32m    687\u001b[0m                 \u001b[0mvmap\u001b[0m\u001b[0;34m(\u001b[0m\u001b[0mrandom\u001b[0m\u001b[0;34m.\u001b[0m\u001b[0msplit\u001b[0m\u001b[0;34m)\u001b[0m\u001b[0;34m(\u001b[0m\u001b[0mrng_key\u001b[0m\u001b[0;34m)\u001b[0m\u001b[0;34m,\u001b[0m \u001b[0;36m0\u001b[0m\u001b[0;34m,\u001b[0m \u001b[0;36m1\u001b[0m\u001b[0;34m\u001b[0m\u001b[0;34m\u001b[0m\u001b[0m\n\u001b[1;32m    688\u001b[0m             )\n\u001b[0;32m--> 689\u001b[0;31m         init_params = self._init_state(\n\u001b[0m\u001b[1;32m    690\u001b[0m             \u001b[0mrng_key_init_model\u001b[0m\u001b[0;34m,\u001b[0m \u001b[0mmodel_args\u001b[0m\u001b[0;34m,\u001b[0m \u001b[0mmodel_kwargs\u001b[0m\u001b[0;34m,\u001b[0m \u001b[0minit_params\u001b[0m\u001b[0;34m\u001b[0m\u001b[0;34m\u001b[0m\u001b[0m\n\u001b[1;32m    691\u001b[0m         )\n",
      "\u001b[0;32m~/anaconda3/envs/pynetp/lib/python3.9/site-packages/numpyro/infer/hmc.py\u001b[0m in \u001b[0;36m_init_state\u001b[0;34m(self, rng_key, model_args, model_kwargs, init_params)\u001b[0m\n\u001b[1;32m    633\u001b[0m     \u001b[0;32mdef\u001b[0m \u001b[0m_init_state\u001b[0m\u001b[0;34m(\u001b[0m\u001b[0mself\u001b[0m\u001b[0;34m,\u001b[0m \u001b[0mrng_key\u001b[0m\u001b[0;34m,\u001b[0m \u001b[0mmodel_args\u001b[0m\u001b[0;34m,\u001b[0m \u001b[0mmodel_kwargs\u001b[0m\u001b[0;34m,\u001b[0m \u001b[0minit_params\u001b[0m\u001b[0;34m)\u001b[0m\u001b[0;34m:\u001b[0m\u001b[0;34m\u001b[0m\u001b[0;34m\u001b[0m\u001b[0m\n\u001b[1;32m    634\u001b[0m         \u001b[0;32mif\u001b[0m \u001b[0mself\u001b[0m\u001b[0;34m.\u001b[0m\u001b[0m_model\u001b[0m \u001b[0;32mis\u001b[0m \u001b[0;32mnot\u001b[0m \u001b[0;32mNone\u001b[0m\u001b[0;34m:\u001b[0m\u001b[0;34m\u001b[0m\u001b[0;34m\u001b[0m\u001b[0m\n\u001b[0;32m--> 635\u001b[0;31m             init_params, potential_fn, postprocess_fn, model_trace = initialize_model(\n\u001b[0m\u001b[1;32m    636\u001b[0m                 \u001b[0mrng_key\u001b[0m\u001b[0;34m,\u001b[0m\u001b[0;34m\u001b[0m\u001b[0;34m\u001b[0m\u001b[0m\n\u001b[1;32m    637\u001b[0m                 \u001b[0mself\u001b[0m\u001b[0;34m.\u001b[0m\u001b[0m_model\u001b[0m\u001b[0;34m,\u001b[0m\u001b[0;34m\u001b[0m\u001b[0;34m\u001b[0m\u001b[0m\n",
      "\u001b[0;32m~/anaconda3/envs/pynetp/lib/python3.9/site-packages/numpyro/infer/util.py\u001b[0m in \u001b[0;36minitialize_model\u001b[0;34m(rng_key, model, init_strategy, dynamic_args, model_args, model_kwargs, forward_mode_differentiation, validate_grad)\u001b[0m\n\u001b[1;32m    573\u001b[0m         \u001b[0mhas_enumerate_support\u001b[0m\u001b[0;34m,\u001b[0m\u001b[0;34m\u001b[0m\u001b[0;34m\u001b[0m\u001b[0m\n\u001b[1;32m    574\u001b[0m         \u001b[0mmodel_trace\u001b[0m\u001b[0;34m,\u001b[0m\u001b[0;34m\u001b[0m\u001b[0;34m\u001b[0m\u001b[0m\n\u001b[0;32m--> 575\u001b[0;31m     ) = _get_model_transforms(substituted_model, model_args, model_kwargs)\n\u001b[0m\u001b[1;32m    576\u001b[0m     \u001b[0;31m# substitute param sites from model_trace to model so\u001b[0m\u001b[0;34m\u001b[0m\u001b[0;34m\u001b[0m\u001b[0m\n\u001b[1;32m    577\u001b[0m     \u001b[0;31m# we don't need to generate again parameters of `numpyro.module`\u001b[0m\u001b[0;34m\u001b[0m\u001b[0;34m\u001b[0m\u001b[0m\n",
      "\u001b[0;32m~/anaconda3/envs/pynetp/lib/python3.9/site-packages/numpyro/infer/util.py\u001b[0m in \u001b[0;36m_get_model_transforms\u001b[0;34m(model, model_args, model_kwargs)\u001b[0m\n\u001b[1;32m    392\u001b[0m                 \u001b[0mhas_enumerate_support\u001b[0m \u001b[0;34m=\u001b[0m \u001b[0;32mTrue\u001b[0m\u001b[0;34m\u001b[0m\u001b[0;34m\u001b[0m\u001b[0m\n\u001b[1;32m    393\u001b[0m                 \u001b[0;32mif\u001b[0m \u001b[0;32mnot\u001b[0m \u001b[0mv\u001b[0m\u001b[0;34m[\u001b[0m\u001b[0;34m\"fn\"\u001b[0m\u001b[0;34m]\u001b[0m\u001b[0;34m.\u001b[0m\u001b[0mhas_enumerate_support\u001b[0m\u001b[0;34m:\u001b[0m\u001b[0;34m\u001b[0m\u001b[0;34m\u001b[0m\u001b[0m\n\u001b[0;32m--> 394\u001b[0;31m                     raise RuntimeError(\n\u001b[0m\u001b[1;32m    395\u001b[0m                         \u001b[0;34m\"MCMC only supports continuous sites or discrete sites \"\u001b[0m\u001b[0;34m\u001b[0m\u001b[0;34m\u001b[0m\u001b[0m\n\u001b[1;32m    396\u001b[0m                         \u001b[0;34mf\"with enumerate support, but got {type(v['fn']).__name__}.\"\u001b[0m\u001b[0;34m\u001b[0m\u001b[0;34m\u001b[0m\u001b[0m\n",
      "\u001b[0;31mRuntimeError\u001b[0m: MCMC only supports continuous sites or discrete sites with enumerate support, but got Poisson."
     ]
    }
   ],
   "source": [
    "def poisson(lam):\n",
    "    numpyro.sample('obs', dist.discrete.Poisson)\n",
    "\n",
    "lam = 50\n",
    "\n",
    "nuts_kernal = NUTS(poisson)\n",
    "mcmc = MCMC(nuts_kernal, num_warmup=500, num_samples=1000)\n",
    "rng_key = random.PRNGKey(222)\n",
    "mcmc.run(rng_key, lam, extra_fields=('potential_energy', ))"
   ]
  },
  {
   "cell_type": "code",
   "execution_count": 24,
   "id": "5675cd8f",
   "metadata": {},
   "outputs": [],
   "source": [
    "p = dist.discrete.Poisson().sample(rng_key, sample_shape=((200, 1)))"
   ]
  },
  {
   "cell_type": "code",
   "execution_count": 52,
   "id": "619c2021",
   "metadata": {},
   "outputs": [
    {
     "data": {
      "image/png": "[encoded data removed]",
      "text/plain": [
       "<Figure size 432x288 with 1 Axes>"
      ]
     },
     "metadata": {
      "needs_background": "light"
     },
     "output_type": "display_data"
    }
   ],
   "source": [
    "hist(dist.Poisson(40).sample(random.PRNGKey(3), sample_shape=(1000, )),\n",
    "    'Poisson', 'counts', 'freq', bins=10)\n",
    "\n",
    "#params, PRNGKey, sample_shape -> DeviceArray shape sample_shape\n",
    "#Output is a device array of samples\n",
    "\n",
    "\n",
    "#What algorithm is being used to sample discrete distributions in NumPyro?\n",
    "\n",
    "#To sample the poisson distribution Numpyro calls JAX's\n",
    "#random.poisson(key, self.rate, shape=sample_shape + self.batch_shape)\n",
    "\n",
    "#Uses the Knuth algorithm if lam < 10\n",
    "\n",
    "\n",
    "\n",
    "#Else transformed rejection sampling"
   ]
  },
  {
   "cell_type": "code",
   "execution_count": 67,
   "id": "8ba37621",
   "metadata": {},
   "outputs": [],
   "source": [
    "import imp"
   ]
  },
  {
   "cell_type": "code",
   "execution_count": 69,
   "id": "e38d7c8a",
   "metadata": {},
   "outputs": [
    {
     "name": "stdout",
     "output_type": "stream",
     "text": [
      "This module provides the components needed to build your own __import__\n",
      "function.  Undocumented functions are obsolete.\n",
      "\n",
      "In most cases it is preferred you consider using the importlib module's\n",
      "functionality over this module.\n",
      "\n",
      "\n"
     ]
    }
   ],
   "source": [
    "print(imp.__doc__)"
   ]
  },
  {
   "cell_type": "code",
   "execution_count": 59,
   "id": "82634dcc",
   "metadata": {
    "collapsed": true
   },
   "outputs": [
    {
     "data": {
      "text/plain": [
       "\"\\n 'warnings',\\n 'np',\\n 'jax',\\n 'lax',\\n 'softmax',\\n 'softplus',\\n 'jnp',\\n 'random',\\n 'expit',\\n 'gammaincc',\\n 'gammaln',\\n 'logsumexp',\\n 'xlog1py',\\n 'xlogy',\\n 'constraints',\\n 'Distribution',\\n 'binomial',\\n 'categorical',\\n 'multinomial',\\n 'BernoulliProbs',\\n 'BernoulliLogits',\\n 'Bernoulli',\\n 'BinomialProbs',\\n 'BinomialLogits',\\n 'Binomial',\\n 'CategoricalProbs',\\n 'CategoricalLogits',\\n 'Categorical',\\n 'OrderedLogistic',\\n 'PRNGIdentity',\\n 'MultinomialProbs',\\n 'MultinomialLogits',\\n 'Multinomial',\\n 'Poisson',\\n 'ZeroInflatedProbs',\\n 'ZeroInflatedLogits',\\n 'ZeroInflatedDistribution',\\n 'ZeroInflatedPoisson',\\n 'GeometricProbs',\\n 'GeometricLogits',\\n 'Geometric'\\n\""
      ]
     },
     "execution_count": 59,
     "metadata": {},
     "output_type": "execute_result"
    }
   ],
   "source": [
    "#What are the discrete distributions availible in numpyro?\n",
    "\n",
    "\"\"\"\n",
    " 'softmax',\n",
    " 'softplus',\n",
    " 'expit',\n",
    " 'gammaincc',\n",
    " 'gammaln',\n",
    " 'logsumexp',\n",
    " 'xlog1py',\n",
    " 'xlogy',\n",
    " 'constraints',\n",
    " 'Distribution',\n",
    " 'binomial',\n",
    " 'categorical',\n",
    " 'multinomial',\n",
    " 'BernoulliProbs',\n",
    " 'BernoulliLogits',\n",
    " 'Bernoulli',\n",
    " 'BinomialProbs',\n",
    " 'BinomialLogits',\n",
    " 'Binomial',\n",
    " 'CategoricalProbs',\n",
    " 'CategoricalLogits',\n",
    " 'Categorical',\n",
    " 'OrderedLogistic',\n",
    " 'PRNGIdentity',\n",
    " 'MultinomialProbs',\n",
    " 'MultinomialLogits',\n",
    " 'Multinomial',\n",
    " 'Poisson',\n",
    " 'ZeroInflatedProbs',\n",
    " 'ZeroInflatedLogits',\n",
    " 'ZeroInflatedDistribution',\n",
    " 'ZeroInflatedPoisson',\n",
    " 'GeometricProbs',\n",
    " 'GeometricLogits',\n",
    " 'Geometric'\n",
    "\"\"\""
   ]
  },
  {
   "cell_type": "code",
   "execution_count": null,
   "id": "ef495abd",
   "metadata": {},
   "outputs": [],
   "source": [
    "\"\"\"\n",
    "The transformers module\n",
    "\n",
    " 'math',\n",
    " 'warnings',\n",
    " 'weakref',\n",
    " 'np',\n",
    " 'lax',\n",
    " 'ops',\n",
    " 'vmap',\n",
    " 'softplus',\n",
    " 'jnp',\n",
    " 'expit',\n",
    " 'logit',\n",
    " 'constraints',\n",
    " 'Transform',\n",
    " 'AbsTransform',\n",
    " 'AffineTransform',\n",
    " 'ComposeTransform',\n",
    " 'CholeskyTransform',\n",
    " 'CorrCholeskyTransform',\n",
    " 'CorrMatrixCholeskyTransform',\n",
    " 'ExpTransform',\n",
    " 'IdentityTransform',\n",
    " 'IndependentTransform',\n",
    " 'InvCholeskyTransform',\n",
    " 'LowerCholeskyAffine',\n",
    " 'LowerCholeskyTransform',\n",
    " 'OrderedTransform',\n",
    " 'PermuteTransform',\n",
    " 'PowerTransform',\n",
    " 'SigmoidTransform',\n",
    " 'SoftplusTransform',\n",
    " 'SoftplusLowerCholeskyTransform',\n",
    " 'StickBreakingTransform',\n",
    " 'UnpackTransform',\n",
    " 'ConstraintRegistry'\n",
    "\"\"\""
   ]
  },
  {
   "cell_type": "code",
   "execution_count": 58,
   "id": "9005de3a",
   "metadata": {},
   "outputs": [
    {
     "data": {
      "text/plain": [
       "['warnings',\n",
       " 'np',\n",
       " 'jax',\n",
       " 'lax',\n",
       " 'softmax',\n",
       " 'softplus',\n",
       " 'jnp',\n",
       " 'random',\n",
       " 'expit',\n",
       " 'gammaincc',\n",
       " 'gammaln',\n",
       " 'logsumexp',\n",
       " 'xlog1py',\n",
       " 'xlogy',\n",
       " 'constraints',\n",
       " 'Distribution',\n",
       " 'binomial',\n",
       " 'categorical',\n",
       " 'multinomial',\n",
       " 'BernoulliProbs',\n",
       " 'BernoulliLogits',\n",
       " 'Bernoulli',\n",
       " 'BinomialProbs',\n",
       " 'BinomialLogits',\n",
       " 'Binomial',\n",
       " 'CategoricalProbs',\n",
       " 'CategoricalLogits',\n",
       " 'Categorical',\n",
       " 'OrderedLogistic',\n",
       " 'PRNGIdentity',\n",
       " 'MultinomialProbs',\n",
       " 'MultinomialLogits',\n",
       " 'Multinomial',\n",
       " 'Poisson',\n",
       " 'ZeroInflatedProbs',\n",
       " 'ZeroInflatedLogits',\n",
       " 'ZeroInflatedDistribution',\n",
       " 'ZeroInflatedPoisson',\n",
       " 'GeometricProbs',\n",
       " 'GeometricLogits',\n",
       " 'Geometric']"
      ]
     },
     "execution_count": 58,
     "metadata": {},
     "output_type": "execute_result"
    }
   ],
   "source": [
    "list(i for i in dist.discrete.__dict__.keys() if '_' not in i)"
   ]
  }
 ],
 "metadata": {
  "kernelspec": {
   "display_name": "Python 3 (ipykernel)",
   "language": "python",
   "name": "python3"
  },
  "language_info": {
   "codemirror_mode": {
    "name": "ipython",
    "version": 3
   },
   "file_extension": ".py",
   "mimetype": "text/x-python",
   "name": "python",
   "nbconvert_exporter": "python",
   "pygments_lexer": "ipython3",
   "version": "3.9.7"
  }
 },
 "nbformat": 4,
 "nbformat_minor": 5
}
