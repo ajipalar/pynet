{
 "cells": [
  {
   "cell_type": "code",
   "execution_count": 1,
   "id": "7ece2b32",
   "metadata": {},
   "outputs": [],
   "source": [
    "import numpy as np"
   ]
  },
  {
   "cell_type": "raw",
   "id": "76d4b20f",
   "metadata": {},
   "source": [
    "Numpy has different multiplication operators\n",
    "These are:\n",
    "@\n",
    "array.dot\n",
    "np.matmul(a, b)\n",
    "\n",
    "When A and B are vectors the dot or scalar product gives\n",
    "|A||B|cos(theta), a unitless quantity.\n",
    "a.dot(b) = b.dot(a)\n",
    "a.dot(b) = 0 whan a & b are orthogonal\n",
    "0.0 = 0\n",
    "\n",
    "For vectors the dot product is the sum of the multiplications of elements\n",
    "a = [1, 2, 3]\n",
    "b = [4, 5, 6]\n",
    "a.dot(b) = (1*2) + (2*5) + (3*6) = 2 + 10 18 = 30\n",
    "\n",
    "For matrices the dot product"
   ]
  },
  {
   "cell_type": "code",
   "execution_count": 2,
   "id": "99ca5238",
   "metadata": {},
   "outputs": [],
   "source": [
    "#Dot Product\n",
    "a = np.array([1, 2, 0])\n",
    "b = np.array([1, 1, 1])\n",
    "assert a.dot(b) == b.dot(a)\n",
    "a.dot(b)\n",
    "#Dot product multiplication -> scalar\n",
    "\n",
    "def angle(a, b):\n",
    "    maga = np.sqrt(a.dot(a))\n",
    "    magb = np.sqrt(b.dot(b))\n",
    "    costheta = a.dot(b) / maga\n",
    "    costheta = costheta / magb\n",
    "    return np.arccos(costheta)"
   ]
  },
  {
   "cell_type": "code",
   "execution_count": 3,
   "id": "849137a9",
   "metadata": {},
   "outputs": [
    {
     "data": {
      "text/plain": [
       "True"
      ]
     },
     "execution_count": 3,
     "metadata": {},
     "output_type": "execute_result"
    }
   ],
   "source": [
    "angle(np.array([0, 1, 0]), np.array([0, 0, 1])) == np.pi / 2"
   ]
  },
  {
   "cell_type": "code",
   "execution_count": 4,
   "id": "79ecc430",
   "metadata": {},
   "outputs": [],
   "source": [
    "np.random.seed(0)\n",
    "a = np.random.rand(3, 2)\n",
    "b = np.random.rand(2, 3)\n",
    "\n",
    "assert a.dot(b).shape != b.dot(a).shape"
   ]
  },
  {
   "cell_type": "code",
   "execution_count": 5,
   "id": "24b7d0ca",
   "metadata": {},
   "outputs": [
    {
     "data": {
      "text/plain": [
       "(array([3., 3., 3.]), array([3., 3., 3.]))"
      ]
     },
     "execution_count": 5,
     "metadata": {},
     "output_type": "execute_result"
    }
   ],
   "source": [
    "#Dot product\n",
    "a = np.array([1, 1, 1])\n",
    "b = np.ones((3, 3))\n",
    "a.dot(b), b.dot(a)"
   ]
  },
  {
   "cell_type": "code",
   "execution_count": 6,
   "id": "b75f1bd4",
   "metadata": {},
   "outputs": [
    {
     "name": "stdout",
     "output_type": "stream",
     "text": [
      "ValueError \n"
     ]
    }
   ],
   "source": [
    "#Dot product\n",
    "a = np.ones(4)\n",
    "b = np.ones((3,3)) * 2\n",
    "try:\n",
    "    a.dot(b) \n",
    "except ValueError:\n",
    "    print('ValueError ')"
   ]
  },
  {
   "cell_type": "code",
   "execution_count": 7,
   "id": "f38948d9",
   "metadata": {},
   "outputs": [
    {
     "name": "stdout",
     "output_type": "stream",
     "text": [
      "a.dot(b, out=None)\n",
      "\n",
      "    Dot product of two arrays.\n",
      "\n",
      "    Refer to `numpy.dot` for full documentation.\n",
      "\n",
      "    See Also\n",
      "    --------\n",
      "    numpy.dot : equivalent function\n",
      "\n",
      "    Examples\n",
      "    --------\n",
      "    >>> a = np.eye(2)\n",
      "    >>> b = np.ones((2, 2)) * 2\n",
      "    >>> a.dot(b)\n",
      "    array([[2.,  2.],\n",
      "           [2.,  2.]])\n",
      "\n",
      "    This array method can be conveniently chained:\n",
      "\n",
      "    >>> a.dot(b).dot(b)\n",
      "    array([[8.,  8.],\n",
      "           [8.,  8.]])\n"
     ]
    }
   ],
   "source": [
    "print(a.dot.__doc__)"
   ]
  },
  {
   "cell_type": "code",
   "execution_count": 8,
   "id": "7b8d8290",
   "metadata": {},
   "outputs": [
    {
     "data": {
      "text/plain": [
       "array([[1., 0.],\n",
       "       [0., 1.]])"
      ]
     },
     "execution_count": 8,
     "metadata": {},
     "output_type": "execute_result"
    }
   ],
   "source": [
    "a = np.eye(2)\n",
    "a"
   ]
  },
  {
   "cell_type": "code",
   "execution_count": 9,
   "id": "b0c5de7f",
   "metadata": {},
   "outputs": [
    {
     "data": {
      "text/plain": [
       "array([[2., 2.],\n",
       "       [2., 2.]])"
      ]
     },
     "execution_count": 9,
     "metadata": {},
     "output_type": "execute_result"
    }
   ],
   "source": [
    "b = np.ones((2, 2)) * 2\n",
    "b"
   ]
  },
  {
   "cell_type": "code",
   "execution_count": 10,
   "id": "c092f47a",
   "metadata": {},
   "outputs": [
    {
     "data": {
      "text/plain": [
       "array([[2., 2.],\n",
       "       [2., 2.]])"
      ]
     },
     "execution_count": 10,
     "metadata": {},
     "output_type": "execute_result"
    }
   ],
   "source": [
    "a.dot(b)"
   ]
  },
  {
   "cell_type": "code",
   "execution_count": 11,
   "id": "06355647",
   "metadata": {},
   "outputs": [
    {
     "data": {
      "text/plain": [
       "array([[8., 8.],\n",
       "       [8., 8.]])"
      ]
     },
     "execution_count": 11,
     "metadata": {},
     "output_type": "execute_result"
    }
   ],
   "source": [
    "a.dot(b).dot(b)"
   ]
  },
  {
   "cell_type": "code",
   "execution_count": 12,
   "id": "d2b8f2de",
   "metadata": {},
   "outputs": [
    {
     "name": "stdout",
     "output_type": "stream",
     "text": [
      "matmul(x1, x2, /, out=None, *, casting='same_kind', order='K', dtype=None, subok=True[, signature, extobj, axes, axis])\n",
      "\n",
      "Matrix product of two arrays.\n",
      "\n",
      "Parameters\n",
      "----------\n",
      "x1, x2 : array_like\n",
      "    Input arrays, scalars not allowed.\n",
      "out : ndarray, optional\n",
      "    A location into which the result is stored. If provided, it must have\n",
      "    a shape that matches the signature `(n,k),(k,m)->(n,m)`. If not\n",
      "    provided or None, a freshly-allocated array is returned.\n",
      "**kwargs\n",
      "    For other keyword-only arguments, see the\n",
      "    :ref:`ufunc docs <ufuncs.kwargs>`.\n",
      "\n",
      "    .. versionadded:: 1.16\n",
      "       Now handles ufunc kwargs\n",
      "\n",
      "Returns\n",
      "-------\n",
      "y : ndarray\n",
      "    The matrix product of the inputs.\n",
      "    This is a scalar only when both x1, x2 are 1-d vectors.\n",
      "\n",
      "Raises\n",
      "------\n",
      "ValueError\n",
      "    If the last dimension of `x1` is not the same size as\n",
      "    the second-to-last dimension of `x2`.\n",
      "\n",
      "    If a scalar value is passed in.\n",
      "\n",
      "See Also\n",
      "--------\n",
      "vdot : Complex-conjugating dot product.\n",
      "tensordot : Sum products over arbitrary axes.\n",
      "einsum : Einstein summation convention.\n",
      "dot : alternative matrix product with different broadcasting rules.\n",
      "\n",
      "Notes\n",
      "-----\n",
      "\n",
      "The behavior depends on the arguments in the following way.\n",
      "\n",
      "- If both arguments are 2-D they are multiplied like conventional\n",
      "  matrices.\n",
      "- If either argument is N-D, N > 2, it is treated as a stack of\n",
      "  matrices residing in the last two indexes and broadcast accordingly.\n",
      "- If the first argument is 1-D, it is promoted to a matrix by\n",
      "  prepending a 1 to its dimensions. After matrix multiplication\n",
      "  the prepended 1 is removed.\n",
      "- If the second argument is 1-D, it is promoted to a matrix by\n",
      "  appending a 1 to its dimensions. After matrix multiplication\n",
      "  the appended 1 is removed.\n",
      "\n",
      "``matmul`` differs from ``dot`` in two important ways:\n",
      "\n",
      "- Multiplication by scalars is not allowed, use ``*`` instead.\n",
      "- Stacks of matrices are broadcast together as if the matrices\n",
      "  were elements, respecting the signature ``(n,k),(k,m)->(n,m)``:\n",
      "\n",
      "  >>> a = np.ones([9, 5, 7, 4])\n",
      "  >>> c = np.ones([9, 5, 4, 3])\n",
      "  >>> np.dot(a, c).shape\n",
      "  (9, 5, 7, 9, 5, 3)\n",
      "  >>> np.matmul(a, c).shape\n",
      "  (9, 5, 7, 3)\n",
      "  >>> # n is 7, k is 4, m is 3\n",
      "\n",
      "The matmul function implements the semantics of the ``@`` operator introduced\n",
      "in Python 3.5 following :pep:`465`.\n",
      "\n",
      "Examples\n",
      "--------\n",
      "For 2-D arrays it is the matrix product:\n",
      "\n",
      ">>> a = np.array([[1, 0],\n",
      "...               [0, 1]])\n",
      ">>> b = np.array([[4, 1],\n",
      "...               [2, 2]])\n",
      ">>> np.matmul(a, b)\n",
      "array([[4, 1],\n",
      "       [2, 2]])\n",
      "\n",
      "For 2-D mixed with 1-D, the result is the usual.\n",
      "\n",
      ">>> a = np.array([[1, 0],\n",
      "...               [0, 1]])\n",
      ">>> b = np.array([1, 2])\n",
      ">>> np.matmul(a, b)\n",
      "array([1, 2])\n",
      ">>> np.matmul(b, a)\n",
      "array([1, 2])\n",
      "\n",
      "\n",
      "Broadcasting is conventional for stacks of arrays\n",
      "\n",
      ">>> a = np.arange(2 * 2 * 4).reshape((2, 2, 4))\n",
      ">>> b = np.arange(2 * 2 * 4).reshape((2, 4, 2))\n",
      ">>> np.matmul(a,b).shape\n",
      "(2, 2, 2)\n",
      ">>> np.matmul(a, b)[0, 1, 1]\n",
      "98\n",
      ">>> sum(a[0, 1, :] * b[0 , :, 1])\n",
      "98\n",
      "\n",
      "Vector, vector returns the scalar inner product, but neither argument\n",
      "is complex-conjugated:\n",
      "\n",
      ">>> np.matmul([2j, 3j], [2j, 3j])\n",
      "(-13+0j)\n",
      "\n",
      "Scalar multiplication raises an error.\n",
      "\n",
      ">>> np.matmul([1,2], 3)\n",
      "Traceback (most recent call last):\n",
      "...\n",
      "ValueError: matmul: Input operand 1 does not have enough dimensions ...\n",
      "\n",
      "The ``@`` operator can be used as a shorthand for ``np.matmul`` on\n",
      "ndarrays.\n",
      "\n",
      ">>> x1 = np.array([2j, 3j])\n",
      ">>> x2 = np.array([2j, 3j])\n",
      ">>> x1 @ x2\n",
      "(-13+0j)\n",
      "\n",
      ".. versionadded:: 1.10.0\n"
     ]
    }
   ],
   "source": [
    "print(np.matmul.__doc__)"
   ]
  },
  {
   "cell_type": "markdown",
   "id": "47d2dd00",
   "metadata": {},
   "source": [
    "$P(A) = \\frac{n(A)}{n(U)}$"
   ]
  },
  {
   "cell_type": "code",
   "execution_count": 13,
   "id": "409d3dd5",
   "metadata": {},
   "outputs": [],
   "source": [
    "def abtest(a, b):\n",
    "    print(f'{a}\\n\\n{b}')\n",
    "    try: \n",
    "        a @ b \n",
    "    except ValueError:\n",
    "        print('a @ b Value Error')\n",
    "\n",
    "    try:\n",
    "        b @ a\n",
    "    except ValueError:\n",
    "        print('b @ a Value Error')"
   ]
  },
  {
   "cell_type": "code",
   "execution_count": 14,
   "id": "9c51f971",
   "metadata": {},
   "outputs": [
    {
     "name": "stdout",
     "output_type": "stream",
     "text": [
      "[[3. 3.]\n",
      " [3. 3.]]\n",
      "\n",
      "[2. 2. 2.]\n",
      "a @ b Value Error\n",
      "b @ a Value Error\n"
     ]
    }
   ],
   "source": [
    "a = np.ones((2, 2)) * 3\n",
    "b = np.ones((3)) * 2\n",
    "abtest(a, b)"
   ]
  },
  {
   "cell_type": "code",
   "execution_count": 15,
   "id": "5d8ff232",
   "metadata": {},
   "outputs": [
    {
     "name": "stdout",
     "output_type": "stream",
     "text": [
      "[[[3.14159265]\n",
      "  [3.14159265]]\n",
      "\n",
      " [[3.14159265]\n",
      "  [3.14159265]]\n",
      "\n",
      " [[3.14159265]\n",
      "  [3.14159265]]]\n",
      "\n",
      "[[2.]\n",
      " [2.]\n",
      " [2.]\n",
      " [2.]\n",
      " [2.]\n",
      " [2.]\n",
      " [2.]]\n",
      "a @ b Value Error\n",
      "b @ a Value Error\n"
     ]
    }
   ],
   "source": [
    "a = np.ones((3, 2, 1)) * np.pi\n",
    "b = np.ones((7, 1)) * 2\n",
    "abtest(a, b)"
   ]
  },
  {
   "cell_type": "code",
   "execution_count": 16,
   "id": "a82930ef",
   "metadata": {},
   "outputs": [
    {
     "name": "stdout",
     "output_type": "stream",
     "text": [
      "[1. 1. 1.], (3,)\n",
      "\n",
      "[[1.]\n",
      " [1.]\n",
      " [1.]], (3, 1)\n",
      "\n",
      "[[1. 1. 1.]], (1, 3)\n",
      "\n"
     ]
    }
   ],
   "source": [
    "#Shapes\n",
    "f = lambda a : print(f'{a}, {a.shape}\\n')\n",
    "f(np.ones(3))\n",
    "f(np.ones((3, 1)))\n",
    "f(np.ones((1, 3)))"
   ]
  },
  {
   "cell_type": "code",
   "execution_count": 17,
   "id": "6123feea",
   "metadata": {
    "scrolled": true
   },
   "outputs": [
    {
     "name": "stdout",
     "output_type": "stream",
     "text": [
      "test ones: 3 x 1 @ 1 x 3 -> 3 x 3\n",
      "[[1.]\n",
      " [1.]\n",
      " [1.]]\n",
      "\n",
      "[[1. 1. 1.]]\n",
      "test ones: 3 x 1 @ 3 x 1 -> Error\n",
      "[[1.]\n",
      " [1.]\n",
      " [1.]]\n",
      "\n",
      "[[1.]\n",
      " [1.]\n",
      " [1.]]\n",
      "a @ b Value Error\n",
      "b @ a Value Error\n",
      "test ones: 1 x 3 @ 3 x 1 -> 1 x 1\n",
      "[[1. 1. 1.]]\n",
      "\n",
      "[[1.]\n",
      " [1.]\n",
      " [1.]]\n",
      "test ones: 3 x 1 @ 3, -> error\n",
      "[[1.]\n",
      " [1.]\n",
      " [1.]]\n",
      "\n",
      "[1. 1. 1.]\n",
      "a @ b Value Error\n",
      "test ones: 1 x 3 @ 3, -> 1\n",
      "[[1. 1. 1.]]\n",
      "\n",
      "[1. 1. 1.]\n",
      "b @ a Value Error\n"
     ]
    },
    {
     "data": {
      "text/plain": [
       "array([3.])"
      ]
     },
     "execution_count": 17,
     "metadata": {},
     "output_type": "execute_result"
    }
   ],
   "source": [
    "print('test ones: 3 x 1 @ 1 x 3 -> 3 x 3')\n",
    "abtest(np.ones((3, 1)), np.ones((1, 3)))\n",
    "print('test ones: 3 x 1 @ 3 x 1 -> Error')\n",
    "abtest(np.ones((3, 1)), np.ones((3, 1)))\n",
    "print('test ones: 1 x 3 @ 3 x 1 -> 1 x 1')\n",
    "abtest(np.ones((1, 3)), np.ones((3, 1)))\n",
    "print('test ones: 3 x 1 @ 3, -> error')\n",
    "abtest(np.ones((3, 1)), np.ones(3))\n",
    "print('test ones: 1 x 3 @ 3, -> 1')\n",
    "abtest(np.ones((1, 3)), np.ones(3))\n",
    "np.ones((1, 3)) @ np.ones(3)"
   ]
  },
  {
   "cell_type": "code",
   "execution_count": 51,
   "id": "c74691a0",
   "metadata": {},
   "outputs": [
    {
     "name": "stdout",
     "output_type": "stream",
     "text": [
      "True\n"
     ]
    }
   ],
   "source": [
    "def test_ascociativity():\n",
    "    A = np.random.rand(3, 4, 7)\n",
    "    B = np.random.rand(7, 4)\n",
    "    C = np.random.rand(4, 11)\n",
    "    \n",
    "    #  3 x 2 x 11\n",
    "    print(np.all(np.isclose(A @ B @ C, A @ (B @ C))))\n",
    "test_ascociativity()"
   ]
  },
  {
   "cell_type": "code",
   "execution_count": 18,
   "id": "884d321c",
   "metadata": {},
   "outputs": [
    {
     "name": "stderr",
     "output_type": "stream",
     "text": [
      "WARNING:absl:No GPU/TPU found, falling back to CPU. (Set TF_CPP_MIN_LOG_LEVEL=0 and rerun for more info.)\n"
     ]
    },
    {
     "data": {
      "text/plain": [
       "DeviceArray([[1., 1., 1.],\n",
       "             [1., 1., 1.],\n",
       "             [1., 1., 1.]], dtype=float32)"
      ]
     },
     "execution_count": 18,
     "metadata": {},
     "output_type": "execute_result"
    }
   ],
   "source": [
    "import jax.numpy as jnp\n",
    "a = jnp.ones((3, 1))\n",
    "b = jnp.ones((1, 3))\n",
    "a @ b"
   ]
  }
 ],
 "metadata": {
  "kernelspec": {
   "display_name": "Python 3 (ipykernel)",
   "language": "python",
   "name": "python3"
  },
  "language_info": {
   "codemirror_mode": {
    "name": "ipython",
    "version": 3
   },
   "file_extension": ".py",
   "mimetype": "text/x-python",
   "name": "python",
   "nbconvert_exporter": "python",
   "pygments_lexer": "ipython3",
   "version": "3.9.7"
  }
 },
 "nbformat": 4,
 "nbformat_minor": 5
}
