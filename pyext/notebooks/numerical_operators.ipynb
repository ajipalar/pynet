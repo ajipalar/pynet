{
 "cells": [
  {
   "cell_type": "code",
   "execution_count": 1,
   "id": "23138853",
   "metadata": {},
   "outputs": [],
   "source": [
    "#Basic native python, numpy and Numpyro operators\n",
    "import numpy as np\n",
    "import numpyro\n",
    "import matplotlib.pyplot as plt"
   ]
  },
  {
   "cell_type": "code",
   "execution_count": 2,
   "id": "bf49f2d5",
   "metadata": {},
   "outputs": [
    {
     "data": {
      "text/plain": [
       "4"
      ]
     },
     "execution_count": 2,
     "metadata": {},
     "output_type": "execute_result"
    }
   ],
   "source": [
    "#Integer scalar addition\n",
    "2 + 2"
   ]
  },
  {
   "cell_type": "code",
   "execution_count": 3,
   "id": "12192237",
   "metadata": {},
   "outputs": [
    {
     "data": {
      "text/plain": [
       "0"
      ]
     },
     "execution_count": 3,
     "metadata": {},
     "output_type": "execute_result"
    }
   ],
   "source": [
    "#Integer scalar subtraction\n",
    "2 - 2"
   ]
  },
  {
   "cell_type": "code",
   "execution_count": 4,
   "id": "5adaf92d",
   "metadata": {},
   "outputs": [
    {
     "data": {
      "text/plain": [
       "4.0"
      ]
     },
     "execution_count": 4,
     "metadata": {},
     "output_type": "execute_result"
    }
   ],
   "source": [
    "#Integer float addition\n",
    "2 + 2.0"
   ]
  },
  {
   "cell_type": "code",
   "execution_count": 5,
   "id": "9f98e6f2",
   "metadata": {
    "scrolled": true
   },
   "outputs": [
    {
     "data": {
      "text/plain": [
       "0.0"
      ]
     },
     "execution_count": 5,
     "metadata": {},
     "output_type": "execute_result"
    }
   ],
   "source": [
    "#Integer float subtraction\n",
    "2 - 2.0"
   ]
  },
  {
   "cell_type": "code",
   "execution_count": 6,
   "id": "31faed7d",
   "metadata": {},
   "outputs": [
    {
     "data": {
      "text/plain": [
       "(4, 4.0)"
      ]
     },
     "execution_count": 6,
     "metadata": {},
     "output_type": "execute_result"
    }
   ],
   "source": [
    "#Scalar multiplication\n",
    "(2 * 2, \n",
    " 2 * 2.0)"
   ]
  },
  {
   "cell_type": "code",
   "execution_count": 7,
   "id": "53b40a32",
   "metadata": {},
   "outputs": [
    {
     "data": {
      "text/plain": [
       "(0.6666666666666666, 0.6666666666666666)"
      ]
     },
     "execution_count": 7,
     "metadata": {},
     "output_type": "execute_result"
    }
   ],
   "source": [
    "#Scalar floating point division\n",
    "(2 / 3,\n",
    " 2 / 3.0)"
   ]
  },
  {
   "cell_type": "code",
   "execution_count": 8,
   "id": "71a0e189",
   "metadata": {},
   "outputs": [
    {
     "data": {
      "text/plain": [
       "(0, 0.0)"
      ]
     },
     "execution_count": 8,
     "metadata": {},
     "output_type": "execute_result"
    }
   ],
   "source": [
    "#Scalar floor division\n",
    "(2 // 3,\n",
    " 2.0 // 3)"
   ]
  },
  {
   "cell_type": "code",
   "execution_count": 9,
   "id": "0d641037",
   "metadata": {},
   "outputs": [
    {
     "ename": "ZeroDivisionError",
     "evalue": "division by zero",
     "output_type": "error",
     "traceback": [
      "\u001b[0;31m---------------------------------------------------------------------------\u001b[0m",
      "\u001b[0;31mZeroDivisionError\u001b[0m                         Traceback (most recent call last)",
      "\u001b[0;32m/tmp/ipykernel_685533/2124642397.py\u001b[0m in \u001b[0;36m<module>\u001b[0;34m\u001b[0m\n\u001b[1;32m      1\u001b[0m \u001b[0;31m#Division by zero\u001b[0m\u001b[0;34m\u001b[0m\u001b[0;34m\u001b[0m\u001b[0m\n\u001b[0;32m----> 2\u001b[0;31m \u001b[0;34m(\u001b[0m\u001b[0;36m2\u001b[0m \u001b[0;34m/\u001b[0m \u001b[0;36m0\u001b[0m\u001b[0;34m)\u001b[0m\u001b[0;34m\u001b[0m\u001b[0;34m\u001b[0m\u001b[0m\n\u001b[0m",
      "\u001b[0;31mZeroDivisionError\u001b[0m: division by zero"
     ]
    }
   ],
   "source": [
    "#Division by zero\n",
    "(2 / 0)"
   ]
  },
  {
   "cell_type": "code",
   "execution_count": 10,
   "id": "fb220d75",
   "metadata": {},
   "outputs": [
    {
     "ename": "ZeroDivisionError",
     "evalue": "integer division or modulo by zero",
     "output_type": "error",
     "traceback": [
      "\u001b[0;31m---------------------------------------------------------------------------\u001b[0m",
      "\u001b[0;31mZeroDivisionError\u001b[0m                         Traceback (most recent call last)",
      "\u001b[0;32m/tmp/ipykernel_685533/686056141.py\u001b[0m in \u001b[0;36m<module>\u001b[0;34m\u001b[0m\n\u001b[1;32m      1\u001b[0m \u001b[0;31m#Division by zero\u001b[0m\u001b[0;34m\u001b[0m\u001b[0;34m\u001b[0m\u001b[0m\n\u001b[0;32m----> 2\u001b[0;31m \u001b[0;34m(\u001b[0m\u001b[0;36m2\u001b[0m \u001b[0;34m//\u001b[0m \u001b[0;36m0\u001b[0m\u001b[0;34m)\u001b[0m\u001b[0;34m\u001b[0m\u001b[0;34m\u001b[0m\u001b[0m\n\u001b[0m",
      "\u001b[0;31mZeroDivisionError\u001b[0m: integer division or modulo by zero"
     ]
    }
   ],
   "source": [
    "#Division by zero\n",
    "(2 // 0)"
   ]
  },
  {
   "cell_type": "code",
   "execution_count": 11,
   "id": "795de00c",
   "metadata": {},
   "outputs": [
    {
     "data": {
      "text/plain": [
       "(16, 4.59479341998814)"
      ]
     },
     "execution_count": 11,
     "metadata": {},
     "output_type": "execute_result"
    }
   ],
   "source": [
    "#Exponentiation\n",
    "(2**4,\n",
    "2**2.2)"
   ]
  },
  {
   "cell_type": "code",
   "execution_count": 12,
   "id": "fa227a3b",
   "metadata": {},
   "outputs": [
    {
     "data": {
      "text/plain": [
       "(0, 0.10000000000000009, 2, 0, 1)"
      ]
     },
     "execution_count": 12,
     "metadata": {},
     "output_type": "execute_result"
    }
   ],
   "source": [
    "#Modulo\n",
    "(2 % 2,\n",
    "2.1 % 2,\n",
    "2 % 3,\n",
    "3 % 1,\n",
    "3 % 2)"
   ]
  },
  {
   "cell_type": "code",
   "execution_count": 13,
   "id": "7c8f8bb8",
   "metadata": {},
   "outputs": [
    {
     "data": {
      "text/plain": [
       "array([0, 1, 2, 3, 4, 5, 6, 7, 8, 9])"
      ]
     },
     "execution_count": 13,
     "metadata": {},
     "output_type": "execute_result"
    }
   ],
   "source": [
    "#Array creation\n",
    "np.arange(0, 10, 1)"
   ]
  },
  {
   "cell_type": "code",
   "execution_count": 14,
   "id": "621c5df2",
   "metadata": {},
   "outputs": [
    {
     "data": {
      "text/plain": [
       "array([0., 0., 0., 0.])"
      ]
     },
     "execution_count": 14,
     "metadata": {},
     "output_type": "execute_result"
    }
   ],
   "source": [
    "np.zeros(4)"
   ]
  },
  {
   "cell_type": "code",
   "execution_count": 15,
   "id": "1173788e",
   "metadata": {},
   "outputs": [
    {
     "data": {
      "text/plain": [
       "array([[0., 0., 0., 0.],\n",
       "       [0., 0., 0., 0.],\n",
       "       [0., 0., 0., 0.],\n",
       "       [0., 0., 0., 0.]])"
      ]
     },
     "execution_count": 15,
     "metadata": {},
     "output_type": "execute_result"
    }
   ],
   "source": [
    "np.zeros((4, 4))"
   ]
  },
  {
   "cell_type": "code",
   "execution_count": 16,
   "id": "28476598",
   "metadata": {},
   "outputs": [
    {
     "data": {
      "text/plain": [
       "array([1., 1., 1., 1.])"
      ]
     },
     "execution_count": 16,
     "metadata": {},
     "output_type": "execute_result"
    }
   ],
   "source": [
    "np.ones(4)"
   ]
  },
  {
   "cell_type": "code",
   "execution_count": 17,
   "id": "479a38b2",
   "metadata": {},
   "outputs": [
    {
     "data": {
      "text/plain": [
       "array([[1., 1., 1., 1.],\n",
       "       [1., 1., 1., 1.],\n",
       "       [1., 1., 1., 1.],\n",
       "       [1., 1., 1., 1.]])"
      ]
     },
     "execution_count": 17,
     "metadata": {},
     "output_type": "execute_result"
    }
   ],
   "source": [
    "np.ones((4, 4))"
   ]
  },
  {
   "cell_type": "code",
   "execution_count": 18,
   "id": "e30a6ef4",
   "metadata": {},
   "outputs": [
    {
     "data": {
      "text/plain": [
       "array([1., 1., 1., 1., 1., 1., 1., 1., 1., 1., 1., 1., 1., 1., 1., 1.])"
      ]
     },
     "execution_count": 18,
     "metadata": {},
     "output_type": "execute_result"
    }
   ],
   "source": [
    "#Flatten\n",
    "np.ravel(np.ones((4, 4)))"
   ]
  },
  {
   "cell_type": "code",
   "execution_count": 19,
   "id": "543ca00c",
   "metadata": {},
   "outputs": [
    {
     "data": {
      "text/plain": [
       "array([[1., 1., 1., 1.],\n",
       "       [1., 1., 1., 1.],\n",
       "       [1., 1., 1., 1.],\n",
       "       [1., 1., 1., 1.]])"
      ]
     },
     "execution_count": 19,
     "metadata": {},
     "output_type": "execute_result"
    }
   ],
   "source": [
    "#Reshaping\n",
    "np.reshape(np.ravel(np.ones((4, 4))), (4, 4))"
   ]
  },
  {
   "cell_type": "code",
   "execution_count": 20,
   "id": "456d83ba",
   "metadata": {},
   "outputs": [
    {
     "data": {
      "text/plain": [
       "array([2, 2])"
      ]
     },
     "execution_count": 20,
     "metadata": {},
     "output_type": "execute_result"
    }
   ],
   "source": [
    "#The input are the entries of the array\n",
    "np.array((2, 2))"
   ]
  },
  {
   "cell_type": "code",
   "execution_count": 21,
   "id": "ffc59770",
   "metadata": {},
   "outputs": [
    {
     "data": {
      "text/plain": [
       "array([[1., 1.],\n",
       "       [1., 1.]])"
      ]
     },
     "execution_count": 21,
     "metadata": {},
     "output_type": "execute_result"
    }
   ],
   "source": [
    "#Low level - probably don't use this\n",
    "np.ndarray((2, 2))"
   ]
  },
  {
   "cell_type": "code",
   "execution_count": 22,
   "id": "6010d2cb",
   "metadata": {
    "scrolled": true
   },
   "outputs": [
    {
     "data": {
      "text/plain": [
       "array([-1., -1., -1., -1., -1., -1., -1., -1., -1., -1., -1., -1., -1.,\n",
       "       -1., -1., -1., -1., -1., -1., -1., -1., -1., -1., -1., -1., -1.,\n",
       "       -1., -1., -1., -1., -1., -1., -1., -1., -1., -1., -1., -1., -1.,\n",
       "       -1., -1., -1., -1., -1., -1., -1., -1., -1., -1., -1., -1., -1.,\n",
       "       -1., -1., -1., -1., -1., -1., -1., -1., -1., -1., -1., -1., -1.,\n",
       "       -1., -1., -1., -1., -1., -1., -1., -1., -1., -1., -1., -1., -1.,\n",
       "       -1., -1., -1., -1., -1., -1., -1., -1., -1., -1., -1., -1., -1.,\n",
       "       -1., -1., -1., -1., -1., -1., -1., -1., -1.])"
      ]
     },
     "execution_count": 22,
     "metadata": {},
     "output_type": "execute_result"
    }
   ],
   "source": [
    "#Broadcasting\n",
    "np.ones(100) - 2"
   ]
  },
  {
   "cell_type": "code",
   "execution_count": 23,
   "id": "28f6f565",
   "metadata": {},
   "outputs": [],
   "source": [
    "import timeit"
   ]
  },
  {
   "cell_type": "code",
   "execution_count": 24,
   "id": "e9a940cf",
   "metadata": {},
   "outputs": [],
   "source": [
    "x = np.ones(10000)"
   ]
  },
  {
   "cell_type": "code",
   "execution_count": 25,
   "id": "82d84879",
   "metadata": {},
   "outputs": [
    {
     "name": "stdout",
     "output_type": "stream",
     "text": [
      "4.98 µs ± 7.39 ns per loop (mean ± std. dev. of 7 runs, 100000 loops each)\n"
     ]
    }
   ],
   "source": [
    "%timeit x - 1"
   ]
  },
  {
   "cell_type": "code",
   "execution_count": 26,
   "id": "fa492910",
   "metadata": {},
   "outputs": [
    {
     "name": "stdout",
     "output_type": "stream",
     "text": [
      "4.01 µs ± 0.936 ns per loop (mean ± std. dev. of 7 runs, 100000 loops each)\n"
     ]
    }
   ],
   "source": [
    "%timeit x - x"
   ]
  },
  {
   "cell_type": "code",
   "execution_count": 27,
   "id": "29e9906d",
   "metadata": {},
   "outputs": [
    {
     "data": {
      "text/plain": [
       "(array([0., 0., 0., ..., 0., 0., 0.]),\n",
       " array([2., 2., 2., ..., 2., 2., 2.]),\n",
       " (array([2., 2., 2., ..., 2., 2., 2.]), array([0., 0., 0., ..., 0., 0., 0.])))"
      ]
     },
     "execution_count": 27,
     "metadata": {},
     "output_type": "execute_result"
    }
   ],
   "source": [
    "#Broadcasting\n",
    "(x - 1, x + 1,\n",
    "(1 + x, 1 - x))"
   ]
  },
  {
   "cell_type": "code",
   "execution_count": 28,
   "id": "b4da15f0",
   "metadata": {},
   "outputs": [
    {
     "data": {
      "text/plain": [
       "array([0., 0., 0., ..., 0., 0., 0.])"
      ]
     },
     "execution_count": 28,
     "metadata": {},
     "output_type": "execute_result"
    }
   ],
   "source": [
    "#element wise subtraction\n",
    "x - x"
   ]
  },
  {
   "cell_type": "code",
   "execution_count": 29,
   "id": "75ec4b14",
   "metadata": {},
   "outputs": [
    {
     "data": {
      "text/plain": [
       "array([2., 2., 2., ..., 2., 2., 2.])"
      ]
     },
     "execution_count": 29,
     "metadata": {},
     "output_type": "execute_result"
    }
   ],
   "source": [
    "#element wise addition\n",
    "x + x"
   ]
  },
  {
   "cell_type": "code",
   "execution_count": 30,
   "id": "f7b7c742",
   "metadata": {},
   "outputs": [
    {
     "data": {
      "text/plain": [
       "array([1., 1., 1., ..., 1., 1., 1.])"
      ]
     },
     "execution_count": 30,
     "metadata": {},
     "output_type": "execute_result"
    }
   ],
   "source": [
    "#Elementwise multiplication\n",
    "x * x"
   ]
  },
  {
   "cell_type": "code",
   "execution_count": 31,
   "id": "ad4057b2",
   "metadata": {},
   "outputs": [
    {
     "data": {
      "text/plain": [
       "array([1., 1., 1., ..., 1., 1., 1.])"
      ]
     },
     "execution_count": 31,
     "metadata": {},
     "output_type": "execute_result"
    }
   ],
   "source": [
    "#Element wise exponentiation\n",
    "x**x"
   ]
  },
  {
   "cell_type": "code",
   "execution_count": 32,
   "id": "a6f05401",
   "metadata": {},
   "outputs": [
    {
     "data": {
      "text/plain": [
       "array([16., 16., 16., 16.])"
      ]
     },
     "execution_count": 32,
     "metadata": {},
     "output_type": "execute_result"
    }
   ],
   "source": [
    "(np.ones(4) + 3)**2"
   ]
  },
  {
   "cell_type": "code",
   "execution_count": 33,
   "id": "c072853e",
   "metadata": {},
   "outputs": [
    {
     "data": {
      "text/plain": [
       "array([0., 0., 0., 0.])"
      ]
     },
     "execution_count": 33,
     "metadata": {},
     "output_type": "execute_result"
    }
   ],
   "source": [
    "#Modulo\n",
    "(np.ones(4)+ 2) % 3"
   ]
  },
  {
   "cell_type": "code",
   "execution_count": 34,
   "id": "85acb6f1",
   "metadata": {},
   "outputs": [
    {
     "data": {
      "text/plain": [
       "array([0., 0., 1., 0.])"
      ]
     },
     "execution_count": 34,
     "metadata": {},
     "output_type": "execute_result"
    }
   ],
   "source": [
    "#Array based modulo\n",
    "(np.ones(4)+3) % (np.arange(4) + 1)"
   ]
  },
  {
   "cell_type": "code",
   "execution_count": 35,
   "id": "ca1bcf32",
   "metadata": {},
   "outputs": [
    {
     "data": {
      "text/plain": [
       "array([False, False, False, ..., False, False, False])"
      ]
     },
     "execution_count": 35,
     "metadata": {},
     "output_type": "execute_result"
    }
   ],
   "source": [
    "#Element wise boolean\n",
    "x == 2"
   ]
  },
  {
   "cell_type": "code",
   "execution_count": 36,
   "id": "20c46bf1",
   "metadata": {},
   "outputs": [
    {
     "data": {
      "text/plain": [
       "array([ True,  True,  True, ...,  True,  True,  True])"
      ]
     },
     "execution_count": 36,
     "metadata": {},
     "output_type": "execute_result"
    }
   ],
   "source": [
    "x == 1"
   ]
  },
  {
   "cell_type": "code",
   "execution_count": 37,
   "id": "e6238270",
   "metadata": {},
   "outputs": [
    {
     "data": {
      "text/plain": [
       "0.6931471805599453"
      ]
     },
     "execution_count": 37,
     "metadata": {},
     "output_type": "execute_result"
    }
   ],
   "source": [
    "#Natural log\n",
    "np.log(2)"
   ]
  },
  {
   "cell_type": "code",
   "execution_count": 38,
   "id": "ec5f6226",
   "metadata": {},
   "outputs": [
    {
     "data": {
      "text/plain": [
       "7.38905609893065"
      ]
     },
     "execution_count": 38,
     "metadata": {},
     "output_type": "execute_result"
    }
   ],
   "source": [
    "#e^x\n",
    "np.exp(2)"
   ]
  },
  {
   "cell_type": "code",
   "execution_count": 39,
   "id": "f72593f4",
   "metadata": {},
   "outputs": [
    {
     "data": {
      "text/plain": [
       "2.0"
      ]
     },
     "execution_count": 39,
     "metadata": {},
     "output_type": "execute_result"
    }
   ],
   "source": [
    "#Inverse\n",
    "np.log(np.exp(2))"
   ]
  },
  {
   "cell_type": "code",
   "execution_count": 40,
   "id": "c31e78c9",
   "metadata": {},
   "outputs": [
    {
     "data": {
      "text/plain": [
       "(1.0, 1.0, 1.0)"
      ]
     },
     "execution_count": 40,
     "metadata": {},
     "output_type": "execute_result"
    }
   ],
   "source": [
    "#Log10, log2\n",
    "(np.log10(10), np.log2(2), np.log(np.e))"
   ]
  },
  {
   "cell_type": "code",
   "execution_count": 41,
   "id": "1edb34a9",
   "metadata": {},
   "outputs": [
    {
     "data": {
      "text/plain": [
       "(2, 2, 2.0, 1.0)"
      ]
     },
     "execution_count": 41,
     "metadata": {},
     "output_type": "execute_result"
    }
   ],
   "source": [
    "#Absolute value\n",
    "(abs(2), abs(-2), abs(2.), abs(-1.))"
   ]
  },
  {
   "cell_type": "code",
   "execution_count": 42,
   "id": "9bcdd6e6",
   "metadata": {},
   "outputs": [
    {
     "name": "stdout",
     "output_type": "stream",
     "text": [
      "4.6 µs ± 10.4 ns per loop (mean ± std. dev. of 7 runs, 100000 loops each)\n"
     ]
    }
   ],
   "source": [
    "#Vector Vector addition\n",
    "%timeit (np.ones((4,)) + 3) + (np.zeros((4, )) + 1)"
   ]
  },
  {
   "cell_type": "code",
   "execution_count": 43,
   "id": "3fb18734",
   "metadata": {},
   "outputs": [
    {
     "name": "stdout",
     "output_type": "stream",
     "text": [
      "5.41 µs ± 13.3 ns per loop (mean ± std. dev. of 7 runs, 100000 loops each)\n"
     ]
    }
   ],
   "source": [
    "%timeit (np.ones(4) + 3) + (np.zeros(4) + 1)"
   ]
  },
  {
   "cell_type": "code",
   "execution_count": 44,
   "id": "46cc531f",
   "metadata": {},
   "outputs": [
    {
     "name": "stdout",
     "output_type": "stream",
     "text": [
      "5.56 µs ± 30.7 ns per loop (mean ± std. dev. of 7 runs, 100000 loops each)\n"
     ]
    }
   ],
   "source": [
    "%timeit (np.ones(4)) + 3 + np.zeros(4) + 1"
   ]
  },
  {
   "cell_type": "code",
   "execution_count": 45,
   "id": "1172997b",
   "metadata": {},
   "outputs": [
    {
     "name": "stdout",
     "output_type": "stream",
     "text": [
      "3.27 µs ± 23.7 ns per loop (mean ± std. dev. of 7 runs, 100000 loops each)\n"
     ]
    }
   ],
   "source": [
    "%timeit np.ones(4) + 4"
   ]
  },
  {
   "cell_type": "code",
   "execution_count": 46,
   "id": "fe708ba6",
   "metadata": {},
   "outputs": [
    {
     "data": {
      "text/plain": [
       "8"
      ]
     },
     "execution_count": 46,
     "metadata": {},
     "output_type": "execute_result"
    }
   ],
   "source": [
    "#Element-wise vector multiplication\n",
    "np.array(4) * np.array(2)"
   ]
  },
  {
   "cell_type": "code",
   "execution_count": 47,
   "id": "a3c52e96",
   "metadata": {},
   "outputs": [
    {
     "data": {
      "text/plain": [
       "numpy.int64"
      ]
     },
     "execution_count": 47,
     "metadata": {},
     "output_type": "execute_result"
    }
   ],
   "source": [
    "type(np.array(4) * np.array(2))"
   ]
  },
  {
   "cell_type": "code",
   "execution_count": 48,
   "id": "67db13ec",
   "metadata": {},
   "outputs": [
    {
     "data": {
      "text/plain": [
       "array([6, 3])"
      ]
     },
     "execution_count": 48,
     "metadata": {},
     "output_type": "execute_result"
    }
   ],
   "source": [
    "np.array([2, 1]) * np.array([3, 3])"
   ]
  },
  {
   "cell_type": "code",
   "execution_count": 49,
   "id": "91883e16",
   "metadata": {},
   "outputs": [
    {
     "data": {
      "text/plain": [
       "array([2, 2])"
      ]
     },
     "execution_count": 49,
     "metadata": {},
     "output_type": "execute_result"
    }
   ],
   "source": [
    "#row vector / column vector\n",
    "np.array([2, 2])"
   ]
  },
  {
   "cell_type": "code",
   "execution_count": 50,
   "id": "b0724507",
   "metadata": {},
   "outputs": [
    {
     "data": {
      "text/plain": [
       "array([0.90909091, 0.96774194])"
      ]
     },
     "execution_count": 50,
     "metadata": {},
     "output_type": "execute_result"
    }
   ],
   "source": [
    "#Element wise division\n",
    "np.array([2 , 3]) / np.array([2.2, 3.1])"
   ]
  },
  {
   "cell_type": "code",
   "execution_count": 51,
   "id": "658bc6b4",
   "metadata": {},
   "outputs": [
    {
     "data": {
      "text/plain": [
       "array([0., 0.])"
      ]
     },
     "execution_count": 51,
     "metadata": {},
     "output_type": "execute_result"
    }
   ],
   "source": [
    "#Element wise floor division\n",
    "np.array([2, 3]) // np.array([2.2, 3.1])"
   ]
  },
  {
   "cell_type": "code",
   "execution_count": 52,
   "id": "ff6901a9",
   "metadata": {},
   "outputs": [
    {
     "data": {
      "text/plain": [
       "(array([2., 2., 2., 2.]), array([2., 2., 2., 2.]))"
      ]
     },
     "execution_count": 52,
     "metadata": {},
     "output_type": "execute_result"
    }
   ],
   "source": [
    "#Vector scalar multiplication\n",
    "2*np.ones(4), np.ones(4)*2"
   ]
  },
  {
   "cell_type": "code",
   "execution_count": 53,
   "id": "7487a232",
   "metadata": {},
   "outputs": [
    {
     "data": {
      "text/plain": [
       "6.0"
      ]
     },
     "execution_count": 53,
     "metadata": {},
     "output_type": "execute_result"
    }
   ],
   "source": [
    "#vector multiplication \n",
    "np.matmul(np.ones(3)*2, np.ones(3))"
   ]
  },
  {
   "cell_type": "code",
   "execution_count": 54,
   "id": "655d8d11",
   "metadata": {},
   "outputs": [
    {
     "data": {
      "text/plain": [
       "array([32., 32., 32., 32.])"
      ]
     },
     "execution_count": 54,
     "metadata": {},
     "output_type": "execute_result"
    }
   ],
   "source": [
    "#matrix vector multiplication\n",
    "np.matmul(np.ones(4)*4, np.ones((4, 4))*2)"
   ]
  },
  {
   "cell_type": "code",
   "execution_count": 55,
   "id": "05da38e2",
   "metadata": {},
   "outputs": [
    {
     "data": {
      "text/plain": [
       "(4, 3, 4)"
      ]
     },
     "execution_count": 55,
     "metadata": {},
     "output_type": "execute_result"
    }
   ],
   "source": [
    "np.matmul(np.ones([4, 3, 2])*2, np.ones([4, 2, 4])*3).shape"
   ]
  },
  {
   "cell_type": "code",
   "execution_count": 56,
   "id": "a05c2c09",
   "metadata": {},
   "outputs": [
    {
     "ename": "SyntaxError",
     "evalue": "invalid syntax (1832704717.py, line 2)",
     "output_type": "error",
     "traceback": [
      "\u001b[0;36m  File \u001b[0;32m\"/tmp/ipykernel_685533/1832704717.py\"\u001b[0;36m, line \u001b[0;32m2\u001b[0m\n\u001b[0;31m    np.matmul(np.ones(3), np.ones(3).)\u001b[0m\n\u001b[0m                                     ^\u001b[0m\n\u001b[0;31mSyntaxError\u001b[0m\u001b[0;31m:\u001b[0m invalid syntax\n"
     ]
    }
   ],
   "source": [
    "# 3x1 crox 1x3\n",
    "np.matmul(np.ones(3), np.ones(3).)"
   ]
  },
  {
   "cell_type": "code",
   "execution_count": 58,
   "id": "7e23b134",
   "metadata": {},
   "outputs": [
    {
     "data": {
      "text/plain": [
       "array([ 1.,  1., -2.])"
      ]
     },
     "execution_count": 58,
     "metadata": {},
     "output_type": "execute_result"
    }
   ],
   "source": [
    "#Vector cross product yields a perpendicular vector\n",
    "np.cross(np.ones(3)*2, np.array([1, 0, 0.5]))"
   ]
  },
  {
   "cell_type": "code",
   "execution_count": 59,
   "id": "6ffc2363",
   "metadata": {},
   "outputs": [
    {
     "data": {
      "text/plain": [
       "array(4)"
      ]
     },
     "execution_count": 59,
     "metadata": {},
     "output_type": "execute_result"
    }
   ],
   "source": [
    "np.cross(np.array([2, 1]), np.array([2, 3]))"
   ]
  },
  {
   "cell_type": "code",
   "execution_count": 60,
   "id": "f44124a3",
   "metadata": {},
   "outputs": [
    {
     "data": {
      "text/plain": [
       "3.0"
      ]
     },
     "execution_count": 60,
     "metadata": {},
     "output_type": "execute_result"
    }
   ],
   "source": [
    "np.matmul(np.ones(3)*2, np.array([1, 0, 0.5]))"
   ]
  },
  {
   "cell_type": "code",
   "execution_count": 61,
   "id": "c9dea795",
   "metadata": {},
   "outputs": [
    {
     "data": {
      "text/plain": [
       "array([-1,  0,  0])"
      ]
     },
     "execution_count": 61,
     "metadata": {},
     "output_type": "execute_result"
    }
   ],
   "source": [
    "#An orthogonal vector\n",
    "np.cross([0, 0, 1], [0, 1, 0])"
   ]
  },
  {
   "cell_type": "code",
   "execution_count": 62,
   "id": "7c831066",
   "metadata": {},
   "outputs": [
    {
     "data": {
      "text/plain": [
       "0"
      ]
     },
     "execution_count": 62,
     "metadata": {},
     "output_type": "execute_result"
    }
   ],
   "source": [
    "np.array([0, 0, 1]) @ np.array([0, 1, 0])"
   ]
  },
  {
   "cell_type": "code",
   "execution_count": 63,
   "id": "9ffecd35",
   "metadata": {},
   "outputs": [
    {
     "data": {
      "text/plain": [
       "(array([[18.],\n",
       "        [18.],\n",
       "        [18.]]),\n",
       " (3, 1))"
      ]
     },
     "execution_count": 63,
     "metadata": {},
     "output_type": "execute_result"
    }
   ],
   "source": [
    "#Matrix vector multiplication (3, 3) . (3, 1) = (3, 1)\n",
    "x = np.dot(np.ones((3, 3))*2, np.ones((3, 1))*3)\n",
    "(x, x.shape)"
   ]
  },
  {
   "cell_type": "code",
   "execution_count": 57,
   "id": "0273fa98",
   "metadata": {},
   "outputs": [
    {
     "ename": "ValueError",
     "evalue": "incompatible dimensions for cross product\n(dimension must be 2 or 3)",
     "output_type": "error",
     "traceback": [
      "\u001b[0;31m---------------------------------------------------------------------------\u001b[0m",
      "\u001b[0;31mValueError\u001b[0m                                Traceback (most recent call last)",
      "\u001b[0;32m/tmp/ipykernel_685533/2729190884.py\u001b[0m in \u001b[0;36m<module>\u001b[0;34m\u001b[0m\n\u001b[1;32m      1\u001b[0m \u001b[0;31m#Cross product multiplicationa\u001b[0m\u001b[0;34m\u001b[0m\u001b[0;34m\u001b[0m\u001b[0m\n\u001b[0;32m----> 2\u001b[0;31m \u001b[0mx\u001b[0m \u001b[0;34m=\u001b[0m \u001b[0mnp\u001b[0m\u001b[0;34m.\u001b[0m\u001b[0mcross\u001b[0m\u001b[0;34m(\u001b[0m\u001b[0mnp\u001b[0m\u001b[0;34m.\u001b[0m\u001b[0mones\u001b[0m\u001b[0;34m(\u001b[0m\u001b[0;34m(\u001b[0m\u001b[0;36m3\u001b[0m\u001b[0;34m,\u001b[0m \u001b[0;36m3\u001b[0m\u001b[0;34m)\u001b[0m\u001b[0;34m)\u001b[0m\u001b[0;34m*\u001b[0m\u001b[0;36m2\u001b[0m\u001b[0;34m,\u001b[0m \u001b[0mnp\u001b[0m\u001b[0;34m.\u001b[0m\u001b[0mones\u001b[0m\u001b[0;34m(\u001b[0m\u001b[0;34m(\u001b[0m\u001b[0;36m3\u001b[0m\u001b[0;34m,\u001b[0m \u001b[0;36m1\u001b[0m\u001b[0;34m)\u001b[0m\u001b[0;34m)\u001b[0m\u001b[0;34m*\u001b[0m\u001b[0;36m3\u001b[0m\u001b[0;34m)\u001b[0m\u001b[0;34m\u001b[0m\u001b[0;34m\u001b[0m\u001b[0m\n\u001b[0m",
      "\u001b[0;32m<__array_function__ internals>\u001b[0m in \u001b[0;36mcross\u001b[0;34m(*args, **kwargs)\u001b[0m\n",
      "\u001b[0;32m~/anaconda3/envs/pynetp/lib/python3.9/site-packages/numpy/core/numeric.py\u001b[0m in \u001b[0;36mcross\u001b[0;34m(a, b, axisa, axisb, axisc, axis)\u001b[0m\n\u001b[1;32m   1604\u001b[0m            \"(dimension must be 2 or 3)\")\n\u001b[1;32m   1605\u001b[0m     \u001b[0;32mif\u001b[0m \u001b[0ma\u001b[0m\u001b[0;34m.\u001b[0m\u001b[0mshape\u001b[0m\u001b[0;34m[\u001b[0m\u001b[0;34m-\u001b[0m\u001b[0;36m1\u001b[0m\u001b[0;34m]\u001b[0m \u001b[0;32mnot\u001b[0m \u001b[0;32min\u001b[0m \u001b[0;34m(\u001b[0m\u001b[0;36m2\u001b[0m\u001b[0;34m,\u001b[0m \u001b[0;36m3\u001b[0m\u001b[0;34m)\u001b[0m \u001b[0;32mor\u001b[0m \u001b[0mb\u001b[0m\u001b[0;34m.\u001b[0m\u001b[0mshape\u001b[0m\u001b[0;34m[\u001b[0m\u001b[0;34m-\u001b[0m\u001b[0;36m1\u001b[0m\u001b[0;34m]\u001b[0m \u001b[0;32mnot\u001b[0m \u001b[0;32min\u001b[0m \u001b[0;34m(\u001b[0m\u001b[0;36m2\u001b[0m\u001b[0;34m,\u001b[0m \u001b[0;36m3\u001b[0m\u001b[0;34m)\u001b[0m\u001b[0;34m:\u001b[0m\u001b[0;34m\u001b[0m\u001b[0;34m\u001b[0m\u001b[0m\n\u001b[0;32m-> 1606\u001b[0;31m         \u001b[0;32mraise\u001b[0m \u001b[0mValueError\u001b[0m\u001b[0;34m(\u001b[0m\u001b[0mmsg\u001b[0m\u001b[0;34m)\u001b[0m\u001b[0;34m\u001b[0m\u001b[0;34m\u001b[0m\u001b[0m\n\u001b[0m\u001b[1;32m   1607\u001b[0m \u001b[0;34m\u001b[0m\u001b[0m\n\u001b[1;32m   1608\u001b[0m     \u001b[0;31m# Create the output array\u001b[0m\u001b[0;34m\u001b[0m\u001b[0;34m\u001b[0m\u001b[0m\n",
      "\u001b[0;31mValueError\u001b[0m: incompatible dimensions for cross product\n(dimension must be 2 or 3)"
     ]
    }
   ],
   "source": [
    "#Cross product multiplicationa\n",
    "x = np.cross(np.ones((3, 3))*2, np.ones((3, 1))*3)"
   ]
  },
  {
   "cell_type": "code",
   "execution_count": 64,
   "id": "865d0296",
   "metadata": {},
   "outputs": [],
   "source": [
    "# numpy universal functions ufunc\n",
    "# functions that operate element wise\n",
    "# Array broadcasting, type casting, \n"
   ]
  },
  {
   "cell_type": "code",
   "execution_count": 65,
   "id": "0a16328f",
   "metadata": {},
   "outputs": [],
   "source": [
    "#Define a multivariate normal distribution\n",
    "def n(x, mu, sigma):\n",
    "    k = sigma.shape[0]\n",
    "    base = 2*np.pi**(-k / 2)\n",
    "    base*=np.linalg.det(sigma)**(- 1 / 2)\n",
    "    a = (x - mu).T\n",
    "    K = np.linalg.inv(sigma)\n",
    "    b = (x - mu)\n",
    "    a = np.dot(a, K)\n",
    "    a = np.dot(a, b)\n",
    "    del b\n",
    "    a = np.exp(-0.5 * a)\n",
    "    return base * a\n"
   ]
  },
  {
   "cell_type": "code",
   "execution_count": 66,
   "id": "ecfc16da",
   "metadata": {},
   "outputs": [],
   "source": [
    "mu = np.zeros((2))\n",
    "sigma = np.array([[1, 3/5],\n",
    "                  [3/5, 2]])\n"
   ]
  },
  {
   "cell_type": "code",
   "execution_count": 67,
   "id": "e2be0698",
   "metadata": {},
   "outputs": [
    {
     "data": {
      "image/png": "[encoded data removed]",
      "text/plain": [
       "<Figure size 432x288 with 1 Axes>"
      ]
     },
     "metadata": {
      "needs_background": "light"
     },
     "output_type": "display_data"
    }
   ],
   "source": [
    "\n",
    "\n",
    "def plot_bivariate_normal(step, size, mu=mu, sigma=sigma):\n",
    "    x = np.arange(-size, size, step)\n",
    "    y = np.arange(-size, size, step)\n",
    "    xs = []\n",
    "    ys = []\n",
    "    zs = []\n",
    "\n",
    "    for i in x:\n",
    "        for j in y:\n",
    "            z = n([i, j], mu, sigma)\n",
    "            xs.append(i)\n",
    "            ys.append(j)\n",
    "            zs.append(z)\n",
    "\n",
    "    fig = plt.figure()\n",
    "    ax = fig.add_subplot(projection='3d')\n",
    "    ax.scatter(xs, ys, zs)\n",
    "    plt.show()\n",
    "\n",
    "step = 0.4\n",
    "size = 5\n",
    "mu = np.array([1, 2])\n",
    "plot_bivariate_normal(step, size, mu=mu, sigma=sigma)"
   ]
  },
  {
   "cell_type": "code",
   "execution_count": 68,
   "id": "7221ecf4",
   "metadata": {},
   "outputs": [
    {
     "data": {
      "text/plain": [
       "array([False, False, False, False, False, False, False, False, False,\n",
       "       False])"
      ]
     },
     "execution_count": 68,
     "metadata": {},
     "output_type": "execute_result"
    }
   ],
   "source": [
    "# Element wise comparison\n",
    "np.arange(10) > np.arange(10) + 1"
   ]
  },
  {
   "cell_type": "code",
   "execution_count": 69,
   "id": "62ae2c06",
   "metadata": {},
   "outputs": [
    {
     "data": {
      "text/plain": [
       "True"
      ]
     },
     "execution_count": 69,
     "metadata": {},
     "output_type": "execute_result"
    }
   ],
   "source": [
    "#Array wise comparison\n",
    "np.array_equal(np.ones(4), np.ones(4))"
   ]
  },
  {
   "cell_type": "code",
   "execution_count": 91,
   "id": "b1cdea69",
   "metadata": {},
   "outputs": [],
   "source": [
    "#Numpyro Distributions\n",
    "import numpyro.distributions as dist\n",
    "import jax.numpy as jnp\n",
    "import jax\n",
    "npn = dist.Normal(0, 1)"
   ]
  },
  {
   "cell_type": "code",
   "execution_count": 92,
   "id": "89202b98",
   "metadata": {},
   "outputs": [],
   "source": [
    "jo = jnp.ones((2, 3))"
   ]
  },
  {
   "cell_type": "code",
   "execution_count": 93,
   "id": "87b7a559",
   "metadata": {},
   "outputs": [],
   "source": [
    "key = jax.random.PRNGKey(0)"
   ]
  },
  {
   "cell_type": "code",
   "execution_count": 94,
   "id": "3e88679d",
   "metadata": {},
   "outputs": [
    {
     "data": {
      "text/plain": [
       "DeviceArray([[ 1.1878438 , -0.28334272,  1.649418  ],\n",
       "             [ 2.2490592 ,  1.2444699 ,  0.88255024]], dtype=float32)"
      ]
     },
     "execution_count": 94,
     "metadata": {},
     "output_type": "execute_result"
    }
   ],
   "source": [
    "dist.Normal(jo).rsample(key)"
   ]
  },
  {
   "cell_type": "code",
   "execution_count": 87,
   "id": "7119cbee",
   "metadata": {},
   "outputs": [],
   "source": [
    "#Jax and Numpy Linear Operators using a functional approach\n",
    "\n",
    "key"
   ]
  }
 ],
 "metadata": {
  "kernelspec": {
   "display_name": "Python 3 (ipykernel)",
   "language": "python",
   "name": "python3"
  },
  "language_info": {
   "codemirror_mode": {
    "name": "ipython",
    "version": 3
   },
   "file_extension": ".py",
   "mimetype": "text/x-python",
   "name": "python",
   "nbconvert_exporter": "python",
   "pygments_lexer": "ipython3",
   "version": "3.9.7"
  }
 },
 "nbformat": 4,
 "nbformat_minor": 5
}
