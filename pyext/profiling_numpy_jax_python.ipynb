{
 "cells": [
  {
   "cell_type": "code",
   "execution_count": 1,
   "id": "284fd990",
   "metadata": {},
   "outputs": [],
   "source": [
    "import numpy as np\n",
    "import jax\n",
    "import timeit\n"
   ]
  },
  {
   "cell_type": "code",
   "execution_count": 4,
   "id": "c85c6ae2",
   "metadata": {},
   "outputs": [
    {
     "name": "stdout",
     "output_type": "stream",
     "text": [
      "937 µs ± 3.51 µs per loop (mean ± std. dev. of 7 runs, 1000 loops each)\n"
     ]
    }
   ],
   "source": [
    "a = list(range(10000))\n",
    "b = []\n",
    "%timeit for x in a: b.append(x + 5)"
   ]
  },
  {
   "cell_type": "code",
   "execution_count": 5,
   "id": "f895b1ed",
   "metadata": {},
   "outputs": [
    {
     "name": "stdout",
     "output_type": "stream",
     "text": [
      "389 µs ± 187 ns per loop (mean ± std. dev. of 7 runs, 1000 loops each)\n"
     ]
    }
   ],
   "source": [
    "%timeit b = [x + 5 for x in a]"
   ]
  },
  {
   "cell_type": "code",
   "execution_count": 6,
   "id": "3fa78696",
   "metadata": {},
   "outputs": [
    {
     "name": "stdout",
     "output_type": "stream",
     "text": [
      "5.02 µs ± 5.21 ns per loop (mean ± std. dev. of 7 runs, 100000 loops each)\n"
     ]
    }
   ],
   "source": [
    "A = np.array(a)\n",
    "%timeit B = A + 5"
   ]
  },
  {
   "cell_type": "code",
   "execution_count": 8,
   "id": "1284d3e6",
   "metadata": {},
   "outputs": [
    {
     "data": {
      "text/plain": [
       "array([[2., 2.],\n",
       "       [2., 2.]])"
      ]
     },
     "execution_count": 8,
     "metadata": {},
     "output_type": "execute_result"
    }
   ],
   "source": [
    "\"\"\"Use the @ operator. @ is * for matrices\"\"\"\n",
    "\n",
    "A = np.ones((2, 2))\n",
    "B = np.ones((2, 2))\n",
    "A @ B"
   ]
  },
  {
   "cell_type": "code",
   "execution_count": 11,
   "id": "812524e7",
   "metadata": {},
   "outputs": [
    {
     "name": "stdout",
     "output_type": "stream",
     "text": [
      "Right ascociative -2\n",
      "Left ascociative 2\n",
      "Python is left ascociative 2\n",
      "2\n"
     ]
    }
   ],
   "source": [
    "\"\"\"The matrix multiplication @ is left ascociative\"\"\"\n",
    "# a + b + c = (a + b) + c\n",
    "# a / b / c = (a / b) / c\n",
    "# a * b - c = (a * b) - c\n",
    "#In math AZX = A(Zx)\n",
    "#In Python AZX = (AZ)x\n",
    "\n",
    "print(f'Right ascociative {2 * (3 - 4)}')\n",
    "print(f'Left ascociative {(2 * 3) - 4}')\n",
    "print(f'Python is left ascociative {2 * 3 - 4}')\n",
    "print(-4 + 2 * 3)"
   ]
  },
  {
   "cell_type": "code",
   "execution_count": 20,
   "id": "49ef031a",
   "metadata": {},
   "outputs": [
    {
     "data": {
      "text/plain": [
       "(array([[5174.4],\n",
       "        [5174.4]]),\n",
       " array([[5174.4],\n",
       "        [5174.4]]))"
      ]
     },
     "execution_count": 20,
     "metadata": {},
     "output_type": "execute_result"
    }
   ],
   "source": [
    "\"\"\"Let's say we want to multiply four matrices together\"\"\"\n",
    "A = np.ones((2, 2)) * 2\n",
    "B = np.ones((2, 3)) * 4\n",
    "C = np.ones((3, 7)) * 2.2\n",
    "D = np.ones((7, 1)) * 7\n",
    "\n",
    "v1 = np.matmul(np.matmul(np.matmul(A, B), C), D)\n",
    "v2 = A @ B @ C @ D\n",
    "v1, v2"
   ]
  },
  {
   "cell_type": "code",
   "execution_count": 19,
   "id": "6380b10a",
   "metadata": {},
   "outputs": [
    {
     "data": {
      "text/plain": [
       "DeviceArray([[5174.4004],\n",
       "             [5174.4004]], dtype=float32)"
      ]
     },
     "execution_count": 19,
     "metadata": {},
     "output_type": "execute_result"
    }
   ],
   "source": [
    "import jax.numpy as jnp\n",
    "A = jnp.ones((2, 2)) * 2\n",
    "B = jnp.ones((2, 3)) * 4\n",
    "C = jnp.ones((3, 7)) * 2.2\n",
    "D = jnp.ones((7, 1)) * 7\n",
    "A @ B @ C @ D"
   ]
  },
  {
   "cell_type": "code",
   "execution_count": 25,
   "id": "1d4886c9",
   "metadata": {},
   "outputs": [],
   "source": [
    "A = jnp.ones((2, 2)) * 2\n",
    "B = jnp.ones((2, 3)) * 4\n",
    "C = jnp.ones((3, 7)) * 2.2\n",
    "D = jnp.ones((7, 1)) * 7"
   ]
  }
 ],
 "metadata": {
  "kernelspec": {
   "display_name": "Python 3 (ipykernel)",
   "language": "python",
   "name": "python3"
  },
  "language_info": {
   "codemirror_mode": {
    "name": "ipython",
    "version": 3
   },
   "file_extension": ".py",
   "mimetype": "text/x-python",
   "name": "python",
   "nbconvert_exporter": "python",
   "pygments_lexer": "ipython3",
   "version": "3.9.7"
  }
 },
 "nbformat": 4,
 "nbformat_minor": 5
}
