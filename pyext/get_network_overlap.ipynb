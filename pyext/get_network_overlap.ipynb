{
 "cells": [
  {
   "cell_type": "code",
   "execution_count": 1,
   "id": "dd7d36b2",
   "metadata": {},
   "outputs": [
    {
     "name": "stderr",
     "output_type": "stream",
     "text": [
      "/Users/ajipalar/anaconda3/envs/pynet/lib/python3.9/site-packages/openpyxl/worksheet/_reader.py:312: UserWarning: Unknown extension is not supported and will be removed\n",
      "  warn(msg)\n",
      "/Users/ajipalar/anaconda3/envs/pynet/lib/python3.9/site-packages/openpyxl/worksheet/_reader.py:312: UserWarning: Conditional Formatting extension is not supported and will be removed\n",
      "  warn(msg)\n"
     ]
    },
    {
     "name": "stdout",
     "output_type": "stream",
     "text": [
      "DF tests passed\n"
     ]
    }
   ],
   "source": [
    "# What is the overlap in the various datasets that may be used for modeling?\n",
    "import pandas as pd\n",
    "import numpy as np\n",
    "from pathlib import Path\n",
    "import json\n",
    "\n",
    "#Read Stukalov data\n",
    "def swap_keys(d):\n",
    "    d2 = {}\n",
    "    for key in d:\n",
    "        t = d[key]\n",
    "        d2[t] = key\n",
    "    return d2\n",
    "\n",
    "def legacy():\n",
    "    with summary_json_p.open() as f:\n",
    "        summary_json = json.load(f)\n",
    "    summary_json = swap_keys(summary_json)\n",
    "    effectome_p = multi_omnics_p / summary_json[find_key(\"effectome\", summary_json)]\n",
    "\n",
    "def find_key(query, pydict):\n",
    "    for key in pydict:\n",
    "        if query in key:\n",
    "            return key\n",
    "    return None\n",
    "def parse_st_uniprot_ids(ids):\n",
    "    \"\"\"\n",
    "    \"\"\"\n",
    "    pid = []\n",
    "    for i in ids:\n",
    "        i=i.split(\";\")\n",
    "        i=i[0]\n",
    "        i=i.split(\"_\")\n",
    "        i=i[0]\n",
    "        i=i.split('-')[0]\n",
    "        i=i.split('#')[0]\n",
    "        pid.append(i)\n",
    "    return pid\n",
    "\n",
    "def test_pid(pid):\n",
    "    errors = []\n",
    "    for i,j in enumerate(pid):\n",
    "        try:\n",
    "            assert len(j) == 6\n",
    "        except AssertionError:\n",
    "            errors.append((i,j))\n",
    "    return errors\n",
    "\n",
    "def test_upper(s):\n",
    "    e = []\n",
    "    for i,v in enumerate(s):\n",
    "        try:\n",
    "            assert v.isupper()\n",
    "        except:\n",
    "            e.append((i,v))\n",
    "    return e\n",
    "            \n",
    "def read_in_data():\n",
    "    data_p = Path(\"../data\")\n",
    "    multi_omnics_p = data_p / \"multi-proteomics\"\n",
    "    summary_json_p = multi_omnics_p / \"summary.json\"\n",
    "    apms_interactions = multi_omnics_p / '41586_2021_3493_MOESM6_ESM.xlsx'\n",
    "    st_df = pd.read_excel(apms_interactions, sheet_name=1)\n",
    "    \n",
    "    sars_ppi_p = data_p / \"sars-cov-2-ppi\"\n",
    "    all_apms = sars_ppi_p / \"41586_2020_2286_MOESM5_ESM.xlsx\"\n",
    "    gr_df = pd.read_excel(all_apms, sheet_name=0)\n",
    "    return st_df, gr_df\n",
    "\n",
    "def remove_isoforms(df):\n",
    "    pid = parse_st_uniprot_ids(df['uni'])\n",
    "    df['uni'] = pid\n",
    "    return df\n",
    "\n",
    "def df_preproccessing():\n",
    "    st_df, gr_df = read_in_data()\n",
    "    #Rename DataFrames to standard columns\n",
    "    gr_df.rename(columns={'Bait':'bait', 'PreyGene':'gene', 'Preys':'uni'},inplace=True)\n",
    "    st_df.rename(columns={'bait_name':'bait','gene_name':'gene',\n",
    "                          'majority_protein_acs':'uni'},inplace=True)\n",
    "\n",
    "    #Format uniprot ids to remove isoforms\n",
    "    gr_df = remove_isoforms(gr_df)\n",
    "    st_df = remove_isoforms(st_df)\n",
    "    return gr_df, st_df\n",
    "\n",
    "gr_df, st_df = df_preproccessing()\n",
    "\n",
    "def run_tests(df):\n",
    "    e1 = test_upper(df['uni'])\n",
    "    e2 = test_upper(df['gene'])\n",
    "    e3 = test_pid(df['uni'])\n",
    "    return e1, e2, e3\n",
    "def run_tests2(d1, d2):\n",
    "    g1, g2, g3 = run_tests(d1)\n",
    "    s1, s2, s3 = run_tests(d2)\n",
    "    assert len(g1)==0\n",
    "    assert len(s1)==0\n",
    "    #assert len(g3)==0\n",
    "    assert len(s3)==0\n",
    "    print('DF tests passed')\n",
    "run_tests2(gr_df, st_df)\n",
    "\n",
    "def intersection(d1, d2, column):\n",
    "    t = set(d1[column])\n",
    "    t2 = set(d2[column])\n",
    "    i = t.intersection(t2)\n",
    "    return i, len(i)\n",
    "\n",
    "def test_intersection():\n",
    "    assert intersection(gr_df, st_df, 'uni') == intersection(st_df, gr_df, 'uni')\n",
    "test_intersection()\n",
    "\n",
    "def make_intersection_table(d1, d2):\n",
    "    i, l =  intersection(d1, d2, 'uni')\n",
    "    j, l2 = intersection(d1, d2, 'gene')\n",
    "    b, bl = intersection(d1, d2, 'bait')\n",
    "    d = pd.DataFrame()\n",
    "    d.loc['intersection','gene'] = l2\n",
    "    d.loc['intersection', 'uni'] = l\n",
    "    d.loc['intersection', 'bait'] = bl\n",
    "    return d\n",
    "\n",
    "def get_set_lengths(df):\n",
    "    d = {}\n",
    "    for col in df:\n",
    "        d[col] = len(set(df[col]))\n",
    "    return d\n",
    "\n",
    "def define_common_bait_names():\n",
    "    \"\"\"\n",
    "    The actual baits are likely different between the two studies\n",
    "    \"\"\"\n",
    "    \n",
    "\n",
    "\n",
    "def append_percentages(d):\n",
    "    gr_set_lengths = get_set_lengths(gr_df)\n",
    "    st_set_lengths = get_set_lengths(st_df)\n",
    "    d.loc['gr', ['gene', 'uni','bait']] = [\n",
    "        gr_set_lengths['gene'], \n",
    "        gr_set_lengths['uni'],\n",
    "        gr_set_lengths['bait']\n",
    "        ]\n",
    "    d.loc['st', ['gene', 'uni', 'bait']] = [\n",
    "        st_set_lengths['gene'],\n",
    "        st_set_lengths['uni'],\n",
    "        st_set_lengths['bait']\n",
    "        ]\n",
    "\n",
    "intersection_df = make_intersection_table(gr_df, st_df)\n",
    "append_percentages(intersection_df)\n",
    "st_bait_names = st_df.iloc[:, 1].unique()\n",
    "st_gene_names = st_df.iloc[:, 2].unique()\n",
    "st_uni = st_df.iloc[:, 4].unique()\n",
    "\n",
    "gr_bait_names = gr_df.iloc[:, 0].unique()\n",
    "gr_prey_genes = gr_df.iloc[:, 2].unique()\n",
    "gr_uni = gr_df.iloc[:, 1].unique()"
   ]
  },
  {
   "cell_type": "code",
   "execution_count": 35,
   "id": "f56fd72c",
   "metadata": {},
   "outputs": [],
   "source": [
    "AM = np.array( [[0, 1, 0, 0],\n",
    "                [1, 0, 1, 1],\n",
    "                [0, 1, 0, 1],\n",
    "                [0, 1, 1, 0],\n",
    "                ])"
   ]
  },
  {
   "cell_type": "code",
   "execution_count": 40,
   "id": "7455b0f7",
   "metadata": {},
   "outputs": [],
   "source": [
    "def adj(s, am):\n",
    "    return np.nonzero(am[s])[0]"
   ]
  },
  {
   "cell_type": "code",
   "execution_count": 37,
   "id": "27f51ffb",
   "metadata": {},
   "outputs": [],
   "source": [
    "remaining = np.random.rand(2, 10)\n",
    "remaining[0, 0:10] = np.arange(0, 10)\n",
    "remaining[0, 3] = 9\n",
    "remaining[0, 9] = 3\n",
    "b = remaining.copy()"
   ]
  },
  {
   "cell_type": "code",
   "execution_count": 44,
   "id": "b5a5356c",
   "metadata": {},
   "outputs": [],
   "source": [
    "def symmetric_add(s, t, AM):\n",
    "    AM[s, t] = 1\n",
    "    AM[t, s] = 1\n",
    "    return AM\n",
    "def symmetric_subtract(s, t, AM):\n",
    "    AM[s, t] = 0\n",
    "    AM[t, s] = 0\n",
    "    return AM"
   ]
  },
  {
   "cell_type": "code",
   "execution_count": 45,
   "id": "e3d9bc52",
   "metadata": {},
   "outputs": [],
   "source": [
    "a2 = symmetric_subtract(1, 3, AM)"
   ]
  },
  {
   "cell_type": "code",
   "execution_count": 48,
   "id": "f2d42b12",
   "metadata": {},
   "outputs": [
    {
     "data": {
      "text/plain": [
       "array([[ True,  True,  True,  True],\n",
       "       [ True,  True,  True,  True],\n",
       "       [ True,  True,  True,  True],\n",
       "       [ True,  True,  True,  True]])"
      ]
     },
     "execution_count": 48,
     "metadata": {},
     "output_type": "execute_result"
    }
   ],
   "source": [
    "AM == a2"
   ]
  },
  {
   "cell_type": "code",
   "execution_count": 2,
   "id": "63607c97",
   "metadata": {},
   "outputs": [],
   "source": [
    "# Output DataFrame\n",
    "columns = ['baits', 'n prey genes', 'significant_only']\n",
    "rowname = ['Gordon', 'Stukalov']\n",
    "dout = pd.DataFrame(columns=columns, index=rowname)\n",
    "\n",
    "dout.loc[:,'baits'] = [len(gr_bait_names), len(st_bait_names)]\n",
    "dout.loc[:, 'n prey genes'] = [len(gr_prey_genes), len(st_gene_names)]\n",
    "dout.loc[:, 'significant_only'] = [False, True]"
   ]
  },
  {
   "cell_type": "code",
   "execution_count": 43,
   "id": "7603315b",
   "metadata": {},
   "outputs": [],
   "source": [
    "?np.sort\n",
    "# quicksort, mergsort, heapsort, stable"
   ]
  }
 ],
 "metadata": {
  "kernelspec": {
   "display_name": "Python 3 (ipykernel)",
   "language": "python",
   "name": "python3"
  },
  "language_info": {
   "codemirror_mode": {
    "name": "ipython",
    "version": 3
   },
   "file_extension": ".py",
   "mimetype": "text/x-python",
   "name": "python",
   "nbconvert_exporter": "python",
   "pygments_lexer": "ipython3",
   "version": "3.9.7"
  }
 },
 "nbformat": 4,
 "nbformat_minor": 5
}
