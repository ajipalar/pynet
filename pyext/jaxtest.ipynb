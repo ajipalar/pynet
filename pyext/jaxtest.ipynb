{
 "cells": [
  {
   "cell_type": "code",
   "execution_count": 1,
   "id": "c7d9324a",
   "metadata": {},
   "outputs": [
    {
     "name": "stderr",
     "output_type": "stream",
     "text": [
      "WARNING:absl:No GPU/TPU found, falling back to CPU. (Set TF_CPP_MIN_LOG_LEVEL=0 and rerun for more info.)\n"
     ]
    },
    {
     "name": "stdout",
     "output_type": "stream",
     "text": [
      "Original Array\n",
      "[[0 1 0 1]\n",
      " [1 0 1 0]\n",
      " [0 1 0 0]\n",
      " [1 0 0 0]]\n",
      "Updated Array\n",
      "[[0 1 0 1]\n",
      " [1 0 1 0]\n",
      " [0 1 0 1]\n",
      " [1 0 1 0]]\n",
      "Updated after sub\n",
      "[[0 0 0 1]\n",
      " [0 0 0 0]\n",
      " [0 0 0 0]\n",
      " [1 0 0 0]]\n",
      "Numpy times\n",
      "CPU times: user 13 µs, sys: 4 µs, total: 17 µs\n",
      "Wall time: 26.7 µs\n",
      "379 ns ± 0.287 ns per loop (mean ± std. dev. of 7 runs, 1000000 loops each)\n",
      "Uncompiled JAX times\n",
      "CPU times: user 228 ms, sys: 352 ms, total: 580 ms\n",
      "Wall time: 569 ms\n",
      "512 ms ± 9.02 ms per loop (mean ± std. dev. of 7 runs, 1 loop each)\n"
     ]
    }
   ],
   "source": [
    "import jax\n",
    "import numpy as np\n",
    "import jax.numpy as jnp\n",
    "from jax import jit, grad\n",
    "import jaxtest\n",
    "import sampling\n",
    "import timeit\n",
    "\n",
    "jax_array = jnp.zeros((10000, 10000))\n",
    "np_array = np.zeros((10000, 10000))\n",
    "\n",
    "def np_add(s, t, a):\n",
    "    a[s, t] = 1\n",
    "    a[t, s] = 1\n",
    "\n",
    "def np_sub(s, t, a):\n",
    "    a[s, t] = 0\n",
    "    a[t, s] = 0\n",
    "    \n",
    "def jx_add(s, t, a):\n",
    "    a.at[s, t].set(1)\n",
    "    a.at[t, s].set(1)\n",
    "    return a\n",
    "def jx_sub(s, t, a):\n",
    "    a.at[s, t].set(0)\n",
    "    a.at[t, s].set(0)\n",
    "    return a\n",
    "\n",
    "#Test the inplace numpy updates\n",
    "print(\"Numpy times\")\n",
    "%time np_add(0, 1, np_array)\n",
    "%timeit np_add(0, 1, np_array)\n",
    "\n",
    "#Test the time to add the jax_array to the device\n",
    "\n",
    "print(\"Uncompiled JAX times\")\n",
    "%time jx_add(0, 1, jax_array)\n",
    "%timeit jx_add(0, 1, jax_array)\n",
    "\n",
    "jx_add = jit(jx_add)\n",
    "jx_sub = jit(jx_sub)"
   ]
  },
  {
   "cell_type": "code",
   "execution_count": 2,
   "id": "25b84b2e",
   "metadata": {},
   "outputs": [
    {
     "name": "stdout",
     "output_type": "stream",
     "text": [
      "JAX compile time\n",
      "CPU times: user 114 ms, sys: 149 ms, total: 263 ms\n",
      "Wall time: 258 ms\n",
      "JAX runtime\n",
      "251 ms ± 42.6 µs per loop (mean ± std. dev. of 7 runs, 1 loop each)\n"
     ]
    }
   ],
   "source": [
    "print(\"JAX compile time\")\n",
    "%time jx_add(0, 1, jax_array).block_until_ready()\n",
    "print(\"JAX runtime\")\n",
    "%timeit jx_add(0, 1, jax_array).block_until_ready()"
   ]
  },
  {
   "cell_type": "code",
   "execution_count": 3,
   "id": "54db2d84",
   "metadata": {},
   "outputs": [
    {
     "data": {
      "text/plain": [
       "array([1, 1, 2, 1, 0, 1, 0, 0, 0, 1])"
      ]
     },
     "execution_count": 3,
     "metadata": {},
     "output_type": "execute_result"
    }
   ],
   "source": [
    "sampling.A.sum(axis=1)"
   ]
  },
  {
   "cell_type": "code",
   "execution_count": 4,
   "id": "06851228",
   "metadata": {},
   "outputs": [
    {
     "name": "stdout",
     "output_type": "stream",
     "text": [
      "1\n",
      "1\n",
      "2\n",
      "1\n",
      "0\n",
      "1\n",
      "0\n",
      "0\n",
      "0\n",
      "1\n"
     ]
    }
   ],
   "source": [
    "import sampling\n",
    "import numpy as np\n",
    "A=sampling.A\n",
    "for i in range(len(A)):\n",
    "    print(sampling.dgr(i, A))\n",
    "\n",
    "#A = np.ones((10000, 10000), dtype=np.int32)"
   ]
  },
  {
   "cell_type": "code",
   "execution_count": 5,
   "id": "6ddfdd05",
   "metadata": {},
   "outputs": [
    {
     "name": "stdout",
     "output_type": "stream",
     "text": [
      "2.31 µs ± 148 ns per loop (mean ± std. dev. of 7 runs, 100000 loops each)\n"
     ]
    }
   ],
   "source": [
    "%timeit sampling.dgrs(A)"
   ]
  },
  {
   "cell_type": "code",
   "execution_count": 6,
   "id": "b75e2aa1",
   "metadata": {},
   "outputs": [],
   "source": [
    "j_dgrs = jit(sampling.dgrs)\n",
    "j_dgr = jit(sampling.dgr)"
   ]
  },
  {
   "cell_type": "code",
   "execution_count": 7,
   "id": "0e67519e",
   "metadata": {},
   "outputs": [
    {
     "data": {
      "text/plain": [
       "<CompiledFunction at 0x7fa2c00814a0>"
      ]
     },
     "execution_count": 7,
     "metadata": {},
     "output_type": "execute_result"
    }
   ],
   "source": [
    "j_dgrs(A)\n",
    "j_dgr"
   ]
  },
  {
   "cell_type": "code",
   "execution_count": 8,
   "id": "08f96fb4",
   "metadata": {},
   "outputs": [
    {
     "name": "stdout",
     "output_type": "stream",
     "text": [
      "4.97 µs ± 18.2 ns per loop (mean ± std. dev. of 7 runs, 100000 loops each)\n"
     ]
    }
   ],
   "source": [
    "%timeit j_dgrs(A).block_until_ready()"
   ]
  },
  {
   "cell_type": "code",
   "execution_count": 9,
   "id": "17ca9219",
   "metadata": {},
   "outputs": [
    {
     "name": "stdout",
     "output_type": "stream",
     "text": [
      "1.81 µs ± 14.3 ns per loop (mean ± std. dev. of 7 runs, 1000000 loops each)\n"
     ]
    }
   ],
   "source": [
    "%timeit sampling.dgr(0, A)"
   ]
  },
  {
   "cell_type": "code",
   "execution_count": 10,
   "id": "8fef4ef8",
   "metadata": {},
   "outputs": [
    {
     "name": "stdout",
     "output_type": "stream",
     "text": [
      "5.79 µs ± 7.88 ns per loop (mean ± std. dev. of 7 runs, 100000 loops each)\n"
     ]
    }
   ],
   "source": [
    "%timeit j_dgr(0, A).block_until_ready()"
   ]
  },
  {
   "cell_type": "code",
   "execution_count": 11,
   "id": "43db5f7a",
   "metadata": {},
   "outputs": [
    {
     "data": {
      "text/plain": [
       "array([[0., 0., 0., 0., 0., 0., 0., 0., 0., 0.],\n",
       "       [1., 0., 0., 0., 0., 0., 0., 0., 0., 0.],\n",
       "       [1., 1., 0., 0., 0., 0., 0., 0., 0., 0.],\n",
       "       [1., 1., 1., 0., 0., 0., 0., 0., 0., 0.],\n",
       "       [1., 1., 1., 1., 0., 0., 0., 0., 0., 0.],\n",
       "       [1., 1., 1., 1., 1., 0., 0., 0., 0., 0.],\n",
       "       [1., 1., 1., 1., 1., 1., 0., 0., 0., 0.],\n",
       "       [1., 1., 1., 1., 1., 1., 1., 0., 0., 0.],\n",
       "       [1., 1., 1., 1., 1., 1., 1., 1., 0., 0.],\n",
       "       [1., 1., 1., 1., 1., 1., 1., 1., 1., 0.]])"
      ]
     },
     "execution_count": 11,
     "metadata": {},
     "output_type": "execute_result"
    }
   ],
   "source": [
    "np.tril(sampling.G, -1)"
   ]
  },
  {
   "cell_type": "code",
   "execution_count": 40,
   "id": "4529afcf",
   "metadata": {},
   "outputs": [],
   "source": [
    "d = 5\n",
    "e = int(d*(d-1)*0.5)\n",
    "key = jax.random.PRNGKey(129837129873)\n",
    "a = jax.random.uniform(key, shape=(d, d))\n",
    "a = (a + a.T)/2"
   ]
  },
  {
   "cell_type": "code",
   "execution_count": 41,
   "id": "0d6caa1b",
   "metadata": {},
   "outputs": [
    {
     "data": {
      "text/plain": [
       "DeviceArray([[0.44665873, 0.58879507, 0.46223068, 0.5640855 , 0.75001204],\n",
       "             [0.58879507, 0.3331939 , 0.32173544, 0.73361325, 0.7287323 ],\n",
       "             [0.46223068, 0.32173544, 0.53922486, 0.5217623 , 0.42365187],\n",
       "             [0.5640855 , 0.73361325, 0.5217623 , 0.22474968, 0.19031078],\n",
       "             [0.75001204, 0.7287323 , 0.42365187, 0.19031078, 0.14194787]],            dtype=float32)"
      ]
     },
     "execution_count": 41,
     "metadata": {},
     "output_type": "execute_result"
    }
   ],
   "source": [
    "a"
   ]
  },
  {
   "cell_type": "code",
   "execution_count": 50,
   "id": "11f1ed8a",
   "metadata": {},
   "outputs": [
    {
     "data": {
      "text/plain": [
       "DeviceArray([-1.], dtype=float32)"
      ]
     },
     "execution_count": 50,
     "metadata": {},
     "output_type": "execute_result"
    }
   ],
   "source": [
    "np.array([-3]) + jnp.sqrt(4)"
   ]
  }
 ],
 "metadata": {
  "kernelspec": {
   "display_name": "Python 3 (ipykernel)",
   "language": "python",
   "name": "python3"
  },
  "language_info": {
   "codemirror_mode": {
    "name": "ipython",
    "version": 3
   },
   "file_extension": ".py",
   "mimetype": "text/x-python",
   "name": "python",
   "nbconvert_exporter": "python",
   "pygments_lexer": "ipython3",
   "version": "3.9.7"
  }
 },
 "nbformat": 4,
 "nbformat_minor": 5
}
