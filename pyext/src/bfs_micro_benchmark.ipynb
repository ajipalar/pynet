{
 "cells": [
  {
   "cell_type": "code",
   "execution_count": 1,
   "id": "7be64b2a",
   "metadata": {},
   "outputs": [
    {
     "name": "stderr",
     "output_type": "stream",
     "text": [
      "No GPU/TPU found, falling back to CPU. (Set TF_CPP_MIN_LOG_LEVEL=0 and rerun for more info.)\n"
     ]
    }
   ],
   "source": [
    "from dev_model_proto import *\n",
    "import timeit\n",
    "\n",
    "bfs = mp.bfs\n",
    "bfs_jax = partial(mp.bfs_jax, len_A=len_A)\n",
    "jbfs_jax = jax.jit(bfs_jax)"
   ]
  },
  {
   "cell_type": "code",
   "execution_count": 2,
   "id": "e80b4346",
   "metadata": {},
   "outputs": [
    {
     "name": "stdout",
     "output_type": "stream",
     "text": [
      "5 ms ± 14.7 µs per loop (mean ± std. dev. of 7 runs, 100 loops each)\n"
     ]
    }
   ],
   "source": [
    "%timeit mp.bfs(A, 0)"
   ]
  },
  {
   "cell_type": "code",
   "execution_count": 10,
   "id": "4fde6889",
   "metadata": {},
   "outputs": [
    {
     "name": "stdout",
     "output_type": "stream",
     "text": [
      "5.02 ms ± 13.1 µs per loop (mean ± std. dev. of 7 runs, 100 loops each)\n"
     ]
    }
   ],
   "source": [
    "%timeit bfs(A, 0)"
   ]
  },
  {
   "cell_type": "code",
   "execution_count": 3,
   "id": "97d833cc",
   "metadata": {},
   "outputs": [
    {
     "name": "stdout",
     "output_type": "stream",
     "text": [
      "209 ms ± 1.53 ms per loop (mean ± std. dev. of 7 runs, 1 loop each)\n"
     ]
    }
   ],
   "source": [
    "%timeit bfs_jax(A, 0)"
   ]
  },
  {
   "cell_type": "code",
   "execution_count": 4,
   "id": "08306182",
   "metadata": {},
   "outputs": [
    {
     "data": {
      "text/plain": [
       "JList(arr=Array([ 0,  1,  2,  3,  4,  5, 12, 12, 12, 12], dtype=int32), lead_idx=Array(6, dtype=int32, weak_type=True))"
      ]
     },
     "execution_count": 4,
     "metadata": {},
     "output_type": "execute_result"
    }
   ],
   "source": [
    "jbfs_jax(A, 0)"
   ]
  },
  {
   "cell_type": "code",
   "execution_count": 7,
   "id": "bceed070",
   "metadata": {},
   "outputs": [
    {
     "name": "stdout",
     "output_type": "stream",
     "text": [
      "13.6 µs ± 31.2 ns per loop (mean ± std. dev. of 7 runs, 100,000 loops each)\n"
     ]
    }
   ],
   "source": [
    "%timeit jbfs_jax(A, 0)"
   ]
  },
  {
   "cell_type": "code",
   "execution_count": 8,
   "id": "1a7dbf86",
   "metadata": {},
   "outputs": [
    {
     "name": "stdout",
     "output_type": "stream",
     "text": [
      "13.5 µs ± 24.9 ns per loop (mean ± std. dev. of 7 runs, 100,000 loops each)\n"
     ]
    }
   ],
   "source": [
    "%timeit jbfs_jax(A, 1)"
   ]
  },
  {
   "cell_type": "code",
   "execution_count": 9,
   "id": "ea7312a4",
   "metadata": {},
   "outputs": [
    {
     "name": "stdout",
     "output_type": "stream",
     "text": [
      "10.5 µs ± 47.8 ns per loop (mean ± std. dev. of 7 runs, 100,000 loops each)\n"
     ]
    }
   ],
   "source": [
    "%timeit jbfs_jax(A, 7)"
   ]
  },
  {
   "cell_type": "code",
   "execution_count": null,
   "id": "6158eb52",
   "metadata": {},
   "outputs": [],
   "source": [
    "assert sorted(jbfs_jax(A, 0))"
   ]
  }
 ],
 "metadata": {
  "kernelspec": {
   "display_name": "Python 3 (ipykernel)",
   "language": "python",
   "name": "python3"
  },
  "language_info": {
   "codemirror_mode": {
    "name": "ipython",
    "version": 3
   },
   "file_extension": ".py",
   "mimetype": "text/x-python",
   "name": "python",
   "nbconvert_exporter": "python",
   "pygments_lexer": "ipython3",
   "version": "3.11.0"
  }
 },
 "nbformat": 4,
 "nbformat_minor": 5
}
