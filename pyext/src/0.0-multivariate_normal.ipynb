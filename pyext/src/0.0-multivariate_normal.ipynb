{
 "cells": [
  {
   "cell_type": "code",
   "execution_count": 1,
   "id": "3c793146",
   "metadata": {},
   "outputs": [],
   "source": [
    "import jax\n",
    "import jax.numpy as jnp\n",
    "import jax.scipy as jsp"
   ]
  },
  {
   "cell_type": "code",
   "execution_count": 8,
   "id": "18ae6b10",
   "metadata": {},
   "outputs": [],
   "source": [
    "n = 32\n",
    "x = jnp.arange(n) + 1\n",
    "I = jnp.eye(n)\n",
    "sigma = jnp.ones((n, n)) + I\n",
    "mu = x + 1\n",
    "N = jsp.stats.multivariate_normal.pdf\n",
    "y1 = N(x, mu, sigma)\n",
    "y2 = N(x, jnp.zeros(n), sigma)   N(x, mu, I)\n"
   ]
  },
  {
   "cell_type": "code",
   "execution_count": 12,
   "id": "bc3458c2",
   "metadata": {},
   "outputs": [
    {
     "data": {
      "text/plain": [
       "Array(1.8167657e-14, dtype=float32)"
      ]
     },
     "execution_count": 12,
     "metadata": {},
     "output_type": "execute_result"
    }
   ],
   "source": [
    "# z ~ N(0, 1)\n",
    "# "
   ]
  },
  {
   "cell_type": "code",
   "execution_count": 11,
   "id": "6f0e47e7",
   "metadata": {},
   "outputs": [
    {
     "data": {
      "text/plain": [
       "Array(0., dtype=float32)"
      ]
     },
     "execution_count": 11,
     "metadata": {},
     "output_type": "execute_result"
    }
   ],
   "source": [
    "y2"
   ]
  }
 ],
 "metadata": {
  "kernelspec": {
   "display_name": "Python 3 (ipykernel)",
   "language": "python",
   "name": "python3"
  },
  "language_info": {
   "codemirror_mode": {
    "name": "ipython",
    "version": 3
   },
   "file_extension": ".py",
   "mimetype": "text/x-python",
   "name": "python",
   "nbconvert_exporter": "python",
   "pygments_lexer": "ipython3",
   "version": "3.11.0"
  }
 },
 "nbformat": 4,
 "nbformat_minor": 5
}
