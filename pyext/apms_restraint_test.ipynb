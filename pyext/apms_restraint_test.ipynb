{
 "cells": [
  {
   "cell_type": "code",
   "execution_count": 2,
   "id": "e7e75278",
   "metadata": {},
   "outputs": [],
   "source": [
    "import graph_tool as gt\n",
    "\n",
    "from graph_tool.all import graph_draw\n",
    "\n",
    "import inspect\n",
    "import json\n",
    "import matplotlib.pyplot as plt\n",
    "import numpy as np\n",
    "from pathlib import Path, PosixPath\n",
    "import pandas as pd\n",
    "import scip\n",
    "#User\n",
    "import pynetio as mio\n",
    "from myitertools import exhaust, forp\n",
    "import predicates as pred\n",
    "from utils import doc, ls, psrc\n",
    "\n",
    "\n",
    "\n",
    "home = Path.home()\n",
    "\n",
    "if Path(\".\").absolute() == PosixPath('/home/aji/Projects/dev/pynet/pyext'):\n",
    "    src = Path(\".\")\n",
    "else:\n",
    "    src = home / 'Projects/dev/pynet'\n",
    "data = src / 'data'\n",
    "lip = data / 'sars-cov-2-LiP'\n",
    "multi = data / 'multi-proteomics'\n",
    "apms_stuk = multi / '41586_2021_3493_MOESM6_ESM.xlsx'\n",
    "apms_stuk_sheetname = 'A - Significant interactions'\n",
    "apms_gordon = data / 'sars-cov-2-ppi/41586_2020_2286_MOESM5_ESM.xlsx'\n",
    "\n",
    "#Variables for testing lip funcitons\n",
    "\n",
    "xls_paths = list(mio.gen_excelpaths_from_dir(lip))\n",
    "lip1 = xls_paths[1]\n",
    "\n",
    "lipgen = mio.parse_lip_xls_file(lip1)"
   ]
  },
  {
   "cell_type": "code",
   "execution_count": 3,
   "id": "59036b8b",
   "metadata": {},
   "outputs": [],
   "source": [
    "apms = pd.read_excel(apms_gordon)"
   ]
  },
  {
   "cell_type": "code",
   "execution_count": 4,
   "id": "de1000a2",
   "metadata": {},
   "outputs": [],
   "source": [
    "def spec_counts_str_col_to_array(sc):\n",
    "    def sc_row_to_list(scrow):\n",
    "        mylist = []\n",
    "        for i in scrow.split('|'):\n",
    "            mylist.append(int(i))\n",
    "        return mylist\n",
    "    row_list = []\n",
    "    for row in sc:\n",
    "        row_list.append(sc_row_to_list(row))\n",
    "    return np.array(row_list, dtype=np.uint8)\n",
    "apms[['scr1', 'scr2', 'scr3']]=spec_counts_str_col_to_array(apms['Spec'])\n",
    "    \n"
   ]
  },
  {
   "cell_type": "code",
   "execution_count": 5,
   "id": "a42805df",
   "metadata": {},
   "outputs": [
    {
     "data": {
      "image/png": "[encoded data removed]",
      "text/plain": [
       "<Figure size 432x288 with 1 Axes>"
      ]
     },
     "metadata": {
      "needs_background": "light"
     },
     "output_type": "display_data"
    }
   ],
   "source": [
    "#The histogram of spectral counts\n",
    "plt.hist(np.ravel(list(apms[i].values for i in ['scr1', 'scr2', 'scr3'])), bins=100)\n",
    "plt.xlabel('Spectral Counts')\n",
    "plt.ylabel(\"Frequency\")\n",
    "plt.show()"
   ]
  },
  {
   "cell_type": "code",
   "execution_count": 81,
   "id": "dd0b6d48",
   "metadata": {},
   "outputs": [],
   "source": [
    "#Define the graph enumerator\n",
    "def next_edge(e, vertex_n_max):\n",
    "    if e[1] < vertex_n_max - 1: return (e[0], e[1]+1)\n",
    "    else: return (e[0] + 1, e[0] + 2)\n",
    "    \n",
    "def next_graph_of_size_E(ordered_elist, vertex_n_max):\n",
    "    change_index = -1\n",
    "    proposed_e = next_edge(ordered_elist[change_index])\n",
    "    \n",
    "\n",
    "    \n",
    "    \n",
    "def generate_eseq(estart, vertex_n_max):\n",
    "    yield estart\n",
    "    while estart != (vertex_n_max - 2, vertex_n_max - 1):\n",
    "        next_e = next_edge(estart, vertex_n_max)\n",
    "        estart = next_e\n",
    "        yield estart\n",
    "\n",
    "def generate_pair_gen(estart, vmax):\n",
    "    elist = list(generate_eseq(estart, vmax))\n",
    "    while len(elist) > 0:\n",
    "        e1 = elist.pop(0)\n",
    "        for i in elist:\n",
    "            yield [e1, i]\n",
    "\n",
    "def generate_ordered_graphs(enum, estart, vmax):\n",
    "    \"\"\"\n",
    "    Generate graphs in order with a given number of edges and vertices\n",
    "    \"\"\"\n",
    "    combinations = scipy.special.comb((vmax-1)*(vmax -2) //2, enum, exact = True)\n",
    "    i=0\n",
    "    while i < combinations:\n",
    "        \n",
    "        \n",
    "        i+=1\n",
    "    \n",
    "    \n",
    "    possible_ordered_edges = list(generate_eseq((0, 1), vmax))\n",
    "    estart_index = possible_ordered_edges.index(estart)\n",
    "    g1 = possible_ordered_edges[estart_index:estart_index + enum]\n",
    "    \n",
    "    #Freeze the first two, enumerate the last\n",
    "\n",
    "\n",
    "\n",
    "    \n",
    "    print(g1)\n",
    "\n",
    "    \n",
    "def next_graph(current_elist, vmax):\n",
    "    enum = len(elist)\n",
    "    proposed_edge = next_edge(current_elist[-1])\n",
    "    if proposed_edge[1] < vmax:\n",
    "        \n",
    "    \n",
    "        \n",
    "def enumerate_graphs(enum, vmax):\n",
    "    \"\"\"\n",
    "    Enumerate graphs of enum edges have vmax vertices\n",
    "    Defined for graphs with at least 3 vertices\n",
    "    \"\"\"\n",
    "    e1 = (0, 1)\n",
    "    \n",
    "    \n",
    "\n",
    "def undireceted_graph_enumerator(g):\n",
    "    \"\"\"\n",
    "    For a graph of size n, enunmerate all graphs in order\n",
    "    vertex identifiers [0, n)\n",
    "    edge identifiers [0, 0.5n(n-1))\n",
    "    \"\"\"\n",
    "    vertex_index_max = max(g.vertex_index)\n",
    "    vertex_n_max = vertex_index_max + 1 #The number of vertices\n",
    "    edge_n_max = vertex_n_max*(vertex_n_max - 1) // 2\n",
    "    for edgenum in range(edge_n_max + 1): #Add 1 to make the range inclusive\n",
    "        edgenum_combinations = scipy.special.comb(edge_n_max, edgenum, exact=True)\n",
    "        print(edgenum_combinations)\n",
    "\n",
    "g = gt.Graph()\n",
    "for i in range(4):\n",
    "    g.add_vertex()\n",
    "#Define the graph prior\n",
    "\n",
    "\n",
    "#Define the APMS likelihood\n",
    "\n",
    "\n",
    "#Define the \n"
   ]
  },
  {
   "cell_type": "code",
   "execution_count": 77,
   "id": "d829c602",
   "metadata": {},
   "outputs": [
    {
     "name": "stdout",
     "output_type": "stream",
     "text": [
      "[(0, 1), (0, 2), (0, 3)]\n"
     ]
    }
   ],
   "source": [
    "generate_graphs(3, (0, 1), 5)"
   ]
  },
  {
   "cell_type": "code",
   "execution_count": 47,
   "id": "371f0e5c",
   "metadata": {},
   "outputs": [],
   "source": [
    "# (0, 1)\n",
    "# (0, 2)\n",
    "# (1, 2)\n",
    "\n",
    "# (0, 1), (0, 2)\n",
    "# (0, 1), (1, 2)\n",
    "# (0, 2), (1, 2)\n",
    "\n",
    "# (0, 1), (0, 2), (1, 2)\n",
    "\n",
    "\n",
    "# (0, 1)\n",
    "# (0, 2)\n",
    "# (0, 3)\n",
    "# (1, 2)\n",
    "# (1, 3)\n",
    "# (2, 3)\n",
    "\n",
    "# (0, 1), (0, 2)\n",
    "# (0, 1), (0, 3)\n",
    "# (0, 1), (1, 2)\n",
    "# (0, 1), (1, 3)\n",
    "# (0, 1), (2, 3)\n",
    "\n",
    "# (0, 2), (0, 3)\n",
    "# (0, 2), (1, 2) ...\n",
    "\n",
    "\n",
    "# (0, 1), (0, 2), (0, 3)\n",
    "# (0, 1), (0, 2), (1, 2)\n",
    "# (0, 1), (0, 2), (1, 3)\n",
    "# (0, 1), (0, 2), (2, 3)\n",
    "\n",
    "# (0, 1), (0, 3), (1, 2)\n",
    "# (0, 1), (0, 3), (1, 3)\n",
    "# (0, 1), (0, 3), (2, 3)\n",
    "\n",
    "# (0, 1), (1, 2), (2, 3)"
   ]
  },
  {
   "cell_type": "code",
   "execution_count": 61,
   "id": "7990b7fc",
   "metadata": {
    "collapsed": true
   },
   "outputs": [
    {
     "name": "stdout",
     "output_type": "stream",
     "text": [
      "1\n",
      "6\n",
      "15\n",
      "20\n",
      "15\n",
      "6\n",
      "1\n"
     ]
    }
   ],
   "source": [
    "undireceted_graph_enumerator(g)"
   ]
  },
  {
   "cell_type": "code",
   "execution_count": 70,
   "id": "67f94e66",
   "metadata": {},
   "outputs": [],
   "source": [
    "def pair_gen(estart, vmax):\n",
    "    elist = list(generate_eseq(estart, vmax))\n",
    "    while len(elist) > 0:\n",
    "        e1 = elist.pop(0)\n",
    "        for i in elist:\n",
    "            yield [e1, i]"
   ]
  },
  {
   "cell_type": "code",
   "execution_count": 92,
   "id": "a34c5617",
   "metadata": {},
   "outputs": [
    {
     "data": {
      "text/plain": [
       "[(0, 3), (1, 2), (1, 3), (2, 3)]"
      ]
     },
     "execution_count": 92,
     "metadata": {},
     "output_type": "execute_result"
    }
   ],
   "source": [
    "list(generate_eseq((0, 3), 4))"
   ]
  },
  {
   "cell_type": "code",
   "execution_count": 93,
   "id": "3a030a17",
   "metadata": {},
   "outputs": [
    {
     "data": {
      "text/plain": [
       "[1, 2]"
      ]
     },
     "execution_count": 93,
     "metadata": {},
     "output_type": "execute_result"
    }
   ],
   "source": [
    "list(next_edge((0, 3), 4))"
   ]
  }
 ],
 "metadata": {
  "kernelspec": {
   "display_name": "Python 3 (ipykernel)",
   "language": "python",
   "name": "python3"
  },
  "language_info": {
   "codemirror_mode": {
    "name": "ipython",
    "version": 3
   },
   "file_extension": ".py",
   "mimetype": "text/x-python",
   "name": "python",
   "nbconvert_exporter": "python",
   "pygments_lexer": "ipython3",
   "version": "3.9.7"
  }
 },
 "nbformat": 4,
 "nbformat_minor": 5
}
