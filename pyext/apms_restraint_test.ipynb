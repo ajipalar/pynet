{
 "cells": [
  {
   "cell_type": "code",
   "execution_count": 2,
   "id": "a273680f",
   "metadata": {},
   "outputs": [],
   "source": [
    "import graph_tool as gt\n",
    "\n",
    "from graph_tool.all import graph_draw\n",
    "\n",
    "import inspect\n",
    "from itertools import combinations\n",
    "import json\n",
    "import matplotlib\n",
    "import matplotlib.pyplot as plt\n",
    "import numpy as np\n",
    "from pathlib import Path, PosixPath\n",
    "\n",
    "import pandas as pd\n",
    "import scipy\n",
    "#User\n",
    "import pynetio as mio\n",
    "from myitertools import exhaust, forp\n",
    "import predicates as pred\n",
    "from utils import doc, ls, psrc\n",
    "\n",
    "home = Path.home()\n",
    "\n",
    "if Path(\".\").absolute() == PosixPath('/home/aji/Projects/dev/pynet/pyext'):\n",
    "    src = Path(\".\")\n",
    "else:\n",
    "    src = home / 'Projects/dev/pynet'\n",
    "data = src / 'data'\n",
    "lip = data / 'sars-cov-2-LiP'\n",
    "multi = data / 'multi-proteomics'\n",
    "apms_stuk = multi / '41586_2021_3493_MOESM6_ESM.xlsx'\n",
    "apms_stuk_sheetname = 'A - Significant interactions'\n",
    "apms_gordon = data / 'sars-cov-2-ppi/41586_2020_2286_MOESM5_ESM.xlsx'\n",
    "\n",
    "#Variables for testing lip funcitons\n",
    "\n",
    "xls_paths = list(mio.gen_excelpaths_from_dir(lip))\n",
    "lip1 = xls_paths[1]\n",
    "\n",
    "lipgen = mio.parse_lip_xls_file(lip1)\n",
    "\n",
    "apms = pd.read_excel(apms_gordon)\n",
    "\n",
    "\n",
    "def spec_counts_str_col_to_array(sc):\n",
    "    def sc_row_to_list(scrow):\n",
    "        mylist = []\n",
    "        for i in scrow.split('|'):\n",
    "            mylist.append(int(i))\n",
    "        return mylist\n",
    "    row_list = []\n",
    "    for row in sc:\n",
    "        row_list.append(sc_row_to_list(row))\n",
    "    return np.array(row_list, dtype=np.uint8)\n",
    "\n",
    "def filter_out_prey(apms):\n",
    "    return apms[apms['SaintScore'] != 0]\n",
    "\n",
    "\n",
    "def apms_pre_processing(apms):\n",
    "    apms = apms.copy()\n",
    "    apms[['scr1', 'scr2', 'scr3']]=spec_counts_str_col_to_array(apms['Spec'])\n",
    "    apms = filter_out_prey(apms)\n",
    "    \n",
    "    apms['log10 p(prey|sc)'] = np.log10(apms['SaintScore'])\n",
    "    return apms\n",
    "\n",
    "apms = apms_pre_processing(apms)"
   ]
  },
  {
   "cell_type": "code",
   "execution_count": 3,
   "id": "e7e75278",
   "metadata": {
    "scrolled": false
   },
   "outputs": [
    {
     "name": "stderr",
     "output_type": "stream",
     "text": [
      "findfont: Font family ['normal'] not found. Falling back to DejaVu Sans.\n",
      "findfont: Font family ['normal'] not found. Falling back to DejaVu Sans.\n"
     ]
    },
    {
     "data": {
      "image/png": "[encoded data removed]",
      "text/plain": [
       "<Figure size 432x288 with 1 Axes>"
      ]
     },
     "metadata": {
      "needs_background": "light"
     },
     "output_type": "display_data"
    }
   ],
   "source": [
    "font = {'family' : 'normal',\n",
    "        'weight' : 'normal',\n",
    "        'size'   : 22}\n",
    "\n",
    "matplotlib.rc('font', **font)\n",
    "\n",
    "\n",
    "#The histogram of spectral counts\n",
    "plt.hist(np.ravel(list(apms[i].values for i in ['scr1', 'scr2', 'scr3'])), bins=250)\n",
    "plt.title(\"Human SARS-CoV-2 APMS\")\n",
    "plt.xlabel('Spectral Counts')\n",
    "plt.xlim(0, 50)\n",
    "plt.ylabel(\"Frequency\")\n",
    "plt.show()"
   ]
  },
  {
   "cell_type": "code",
   "execution_count": 4,
   "id": "8681fecd",
   "metadata": {},
   "outputs": [
    {
     "name": "stdout",
     "output_type": "stream",
     "text": [
      "solutions 8.0E+00\n",
      "gid >= base\n",
      "gid = base + mantissa\n",
      "[1, 3, 3, 1]\n",
      "gid ne base mantissa  graph\n",
      "0   0   0\t0  []\n",
      "1   1   1\t0  [(0, 1)]\n",
      "2   1   1\t1  [(0, 2)]\n",
      "3   1   1\t2  [(1, 2)]\n",
      "4   2   4\t0  [(0, 1), (0, 2)]\n",
      "5   2   4\t1  [(0, 1), (1, 2)]\n",
      "6   2   4\t2  [(0, 2), (1, 2)]\n",
      "7   3   7\t0  [(0, 1), (0, 2), (1, 2)]\n"
     ]
    }
   ],
   "source": [
    "vmax = 3\n",
    "emax = femax(vmax)\n",
    "solutions = 2**emax\n",
    "print('solutions {:.1E}'.format(solutions))\n",
    "print('gid >= base')\n",
    "print('gid = base + mantissa')\n",
    "y = list(edge_combs(emax))\n",
    "print(y)\n",
    "print('gid ne base mantissa  graph')\n",
    "\n",
    "if solutions <= 256:\n",
    "    for i in range(2**emax):\n",
    "        nedges = ne(i, vmax)\n",
    "        g = generate_graph(i, vmax)\n",
    "        print(f'{i}   {ne(i, vmax)}   {base(nedges, vmax)}\\t{mantissa(i, vmax)}  {g}')"
   ]
  },
  {
   "cell_type": "code",
   "execution_count": 5,
   "id": "49ebbd58",
   "metadata": {},
   "outputs": [
    {
     "data": {
      "image/png": "[encoded data removed]",
      "text/plain": [
       "<Figure size 432x288 with 1 Axes>"
      ]
     },
     "metadata": {
      "needs_background": "light"
     },
     "output_type": "display_data"
    }
   ],
   "source": [
    "plt.scatter(range(len(y)), y)\n",
    "plt.xlabel('n edges')\n",
    "plt.ylabel('Combinations')\n",
    "plt.show()"
   ]
  },
  {
   "cell_type": "code",
   "execution_count": 6,
   "id": "fc87be06",
   "metadata": {},
   "outputs": [],
   "source": [
    "def score_functor(M, D):\n",
    "    return ll_apms(M, D) + lp_apms(M, D)\n",
    "\n",
    "\n",
    "def rho(x, y):\n",
    "    \"\"\"\n",
    "    Returns the correlation matrix for x and y\n",
    "    \"\"\"\n",
    "    return np.corrcoef(x)\n",
    "\n",
    "def pc(x, y, z):\n",
    "    \"\"\"\n",
    "    Returns the partial correlation\n",
    "    x, y, z : rho_xy, rho_xz, rho_zy\n",
    "    \"\"\"\n",
    "    def d(y):\n",
    "        return np.sqrt(1 - (y)**2)\n",
    "    return x - y*z / (d(y)*d(z))\n",
    "\n",
    "def precision(m):\n",
    "    return -np.linalg.inv(np.corrcoef(C.T))"
   ]
  },
  {
   "cell_type": "code",
   "execution_count": 7,
   "id": "a94e8b51",
   "metadata": {},
   "outputs": [],
   "source": [
    "m = np.random.randint(2, size=(32, 3))\n",
    "omega = np.cov(m)\n",
    "#precision = np.linalg.inv(omega)\n",
    "\n",
    "def thresh(x):\n",
    "    if x > 0:\n",
    "        return 1\n",
    "    elif x < 0:\n",
    "        return -1\n",
    "    elif x==0:\n",
    "        return 0"
   ]
  },
  {
   "cell_type": "code",
   "execution_count": 8,
   "id": "901444f7",
   "metadata": {},
   "outputs": [],
   "source": [
    "def apms_fm(M, D):\n",
    "    \"\"\"\n",
    "    solutions 8.0E+00\n",
    "    gid >= base\n",
    "    gid = base + mantissa\n",
    "    [1, 3, 3, 1]\n",
    "    gid graph                         rho         upc_01\n",
    "    0   []                               \n",
    "    1   [(0, 1)]\n",
    "    2   [(0, 2)]\n",
    "    3   [(1, 2)]\n",
    "    4   [(0, 1), (0, 2)]\n",
    "    5   [(0, 1), (1, 2)]\n",
    "    6   [(0, 2), (1, 2)]             02 12 01     upc_01=0  \n",
    "    7   [(0, 1), (0, 2), (1, 2)]     01, 02, 12,  upc = 0\n",
    "    \n",
    "    \"\"\"\n",
    "    columns = ['r01', 'r02','r12', 'u01','u02','u12']\n",
    "    x = np.array([[0, 0, 0, 0, 0, 0],\n",
    "                  [1, 0, 0, 1, 0, 0],])\n",
    "    d = pd.DataFrame(x, columns=columns, index='gid')\n",
    "def ll_apms_triplet(M, D):\n",
    "    \"\"\"\n",
    "    p(d | )\n",
    "    \"\"\"\n",
    "\n",
    "    pass\n",
    "\n",
    "        \n",
    "\n",
    "    \n",
    "    \n",
    "\n",
    "def ll_apms(M, D):\n",
    "    \"\"\"\n",
    "    XY XZ YZ  g\n",
    "    +  +  +   xyz, xzy, yzx, xyzx\n",
    "    +  +  0   xy xz\n",
    "    +  0  +\n",
    "    +  -  0\n",
    "    +  0  -\n",
    "    +  -  -\n",
    "    0  0  0\n",
    "    \"\"\"\n",
    "\n",
    "def lp_apms(preyseries,D):\n",
    "    \"\"\"\n",
    "    The log probability\n",
    "                Preys SaintScore\n",
    "    preylist : [name, log10 p(prey|spectral counts)]\n",
    "    The lp will be negative because 0 <= p(prey|sc) < 1\n",
    "    \"\"\"\n",
    "    return sum(preyseries['log10 p(prey|sc)'])\n",
    "\n",
    "def plot_score():\n",
    "    \"\"\"\n",
    "    Plots the score distributions\n",
    "    \n",
    "    \"\"\"\n",
    "\n",
    "def test_partial_correlation():\n",
    "    \n",
    "    \n",
    "    \n",
    "    perms = [(0.9, 0.9, 0.9),\n",
    "             (0.9, 0.9, 0),\n",
    "             (0.9, 0.9, 0.7),\n",
    "            ]\n",
    "    pcs = list(pc(*i) for i in perms)\n",
    "    d = pd.DataFrame(perms, columns=['rho_xy', 'rho_xz', 'rho_yz'])\n",
    "    #d['rho_xy|z']=pcs\n",
    "    d['upc_xy'] = d.iloc[:, 0] - d.iloc[:, 1]*d.iloc[:, 2]\n",
    "    d['upc_xz'] = d.iloc[:, 1] - d.iloc[:, 0]*d.iloc[:, 2]\n",
    "    d['upc_yz'] = d.iloc[:, 2] - d.iloc[:, 1]*d.iloc[:, 0]\n",
    "    return d\n",
    "    "
   ]
  },
  {
   "cell_type": "code",
   "execution_count": 9,
   "id": "1f3ca68d",
   "metadata": {},
   "outputs": [
    {
     "data": {
      "text/plain": [
       "<matplotlib.collections.PathCollection at 0x7fb4e45ad670>"
      ]
     },
     "execution_count": 9,
     "metadata": {},
     "output_type": "execute_result"
    },
    {
     "data": {
      "image/png": "[encoded data removed]",
      "text/plain": [
       "<Figure size 432x288 with 1 Axes>"
      ]
     },
     "metadata": {
      "needs_background": "light"
     },
     "output_type": "display_data"
    }
   ],
   "source": [
    "#Fit a bivariate gaussian distribution using gibbs sampling\n",
    "\n",
    "mu1 = 4.0\n",
    "sig1 = 1.0\n",
    "mu2 = 1.7\n",
    "sig2 = 7\n",
    "n = 256\n",
    "x1 = mu1 + sig1*np.random.randn(n)\n",
    "x2 = mu2 + sig2*np.random.randn(n)\n",
    "plt.xlim(0, 8)\n",
    "plt.scatter(x1, x2)"
   ]
  },
  {
   "cell_type": "code",
   "execution_count": 10,
   "id": "c6b865d5",
   "metadata": {
    "collapsed": true
   },
   "outputs": [
    {
     "ename": "SyntaxError",
     "evalue": "positional argument follows keyword argument (3115005169.py, line 10)",
     "output_type": "error",
     "traceback": [
      "\u001b[0;36m  File \u001b[0;32m\"/tmp/ipykernel_337266/3115005169.py\"\u001b[0;36m, line \u001b[0;32m10\u001b[0m\n\u001b[0;31m    x_0 = conditional_sampler(sampling_index=0, condition_on=x_1, ...)\u001b[0m\n\u001b[0m                                                                     ^\u001b[0m\n\u001b[0;31mSyntaxError\u001b[0m\u001b[0;31m:\u001b[0m positional argument follows keyword argument\n"
     ]
    }
   ],
   "source": [
    "def gibbs_sampler(initial_point, num_samples):\n",
    "    x_0 = initial_point[0]\n",
    "    x_1 = initial_point[1]\n",
    "    samples = np.empty([num_samples+1, 2]) #sampled points\n",
    "    samples[0] = [x_0, x_1]\n",
    "    \n",
    "    for i in range(num_samples):\n",
    "        \n",
    "        # Sample from p(x_0|x_1)\n",
    "        x_0 = conditional_sampler(sampling_index=0, condition_on=x_1, ...)\n",
    "        # Sample from p(x_1|x_0)\n",
    "        x_0 = conditional_sampler(sampling_index=1, condition_on=x_0, ...)\n",
    "        \n",
    "        samples[i+1] = [x_0, x_1]\n",
    "\n",
    "    return samples\n",
    "\n",
    "def conditional_sampler(sampling_index, current_x, mean, cov):\n",
    "    \"\"\"\n",
    "    mean  1x2 vector\n",
    "    cov:  2x2 positive semidefinite matrx\n",
    "    \"\"\"\n",
    "    conditioned_index = 1 - sampling_index\n",
    "    #Works because of two variables\n",
    "    a = cov[sampling_index, sampling_index] #diagonal variance\n",
    "    b = cov[sampling_index, conditioned_index] #COV[sample, condition]\n",
    "    c = cov[conditioned_index, conditioned_index] #diagonal variance\n",
    "    \n",
    "    mu = mean[sampling_index]\n",
    "    "
   ]
  },
  {
   "cell_type": "code",
   "execution_count": 11,
   "id": "da2a0fb3",
   "metadata": {},
   "outputs": [],
   "source": [
    "d = 10\n",
    "x = np.random.poisson(5, d)\n",
    "sqrtx = np.sqrt(x)\n",
    "theta = np.random.rand(d)\n",
    "phi = np.random.rand(d, d)\n",
    "phi = np.tril(phi)"
   ]
  },
  {
   "cell_type": "code",
   "execution_count": 12,
   "id": "eddc235e",
   "metadata": {},
   "outputs": [
    {
     "data": {
      "text/plain": [
       "array([1.48441212e+62, 1.49951001e+62, 3.19587388e+62, 9.16907789e+61,\n",
       "       1.78755465e+62, 2.79544757e+62, 1.02779121e+62, 1.91152060e+62,\n",
       "       1.57870359e+62, 1.09140414e+62])"
      ]
     },
     "execution_count": 12,
     "metadata": {},
     "output_type": "execute_result"
    }
   ],
   "source": [
    "np.exp(theta.T*sqrtx + np.matmul(np.matmul(sqrtx.T, phi), sqrtx))"
   ]
  },
  {
   "cell_type": "code",
   "execution_count": 13,
   "id": "3a505d25",
   "metadata": {},
   "outputs": [
    {
     "data": {
      "text/plain": [
       "(array([ 1.,  6., 21., 35., 62., 65., 44., 18.,  2.,  2.]),\n",
       " array([0.76948603, 1.41095632, 2.05242662, 2.69389692, 3.33536721,\n",
       "        3.97683751, 4.61830781, 5.2597781 , 5.9012484 , 6.5427187 ,\n",
       "        7.18418899]),\n",
       " <BarContainer object of 10 artists>)"
      ]
     },
     "execution_count": 13,
     "metadata": {},
     "output_type": "execute_result"
    },
    {
     "data": {
      "image/png": "[encoded data removed]",
      "text/plain": [
       "<Figure size 432x288 with 1 Axes>"
      ]
     },
     "metadata": {
      "needs_background": "light"
     },
     "output_type": "display_data"
    }
   ],
   "source": [
    "plt.hist(x1)"
   ]
  },
  {
   "cell_type": "code",
   "execution_count": 14,
   "id": "ff72c261",
   "metadata": {},
   "outputs": [
    {
     "ename": "NameError",
     "evalue": "name 'math' is not defined",
     "output_type": "error",
     "traceback": [
      "\u001b[0;31m---------------------------------------------------------------------------\u001b[0m",
      "\u001b[0;31mNameError\u001b[0m                                 Traceback (most recent call last)",
      "\u001b[0;32m/tmp/ipykernel_337266/1804148046.py\u001b[0m in \u001b[0;36m<module>\u001b[0;34m\u001b[0m\n\u001b[0;32m----> 1\u001b[0;31m \u001b[0mlog_fac_array\u001b[0m \u001b[0;34m=\u001b[0m \u001b[0mnp\u001b[0m\u001b[0;34m.\u001b[0m\u001b[0marray\u001b[0m\u001b[0;34m(\u001b[0m\u001b[0mlist\u001b[0m\u001b[0;34m(\u001b[0m\u001b[0mnp\u001b[0m\u001b[0;34m.\u001b[0m\u001b[0mlog\u001b[0m\u001b[0;34m(\u001b[0m\u001b[0mmath\u001b[0m\u001b[0;34m.\u001b[0m\u001b[0mfactorial\u001b[0m\u001b[0;34m(\u001b[0m\u001b[0mxi\u001b[0m\u001b[0;34m)\u001b[0m\u001b[0;34m)\u001b[0m \u001b[0;32mfor\u001b[0m \u001b[0mxi\u001b[0m \u001b[0;32min\u001b[0m \u001b[0mrange\u001b[0m\u001b[0;34m(\u001b[0m\u001b[0;36m0\u001b[0m\u001b[0;34m,\u001b[0m \u001b[0mmax\u001b[0m\u001b[0;34m(\u001b[0m\u001b[0mx\u001b[0m\u001b[0;34m)\u001b[0m\u001b[0;34m+\u001b[0m\u001b[0;36m1\u001b[0m\u001b[0;34m)\u001b[0m\u001b[0;34m)\u001b[0m\u001b[0;34m)\u001b[0m\u001b[0;34m\u001b[0m\u001b[0;34m\u001b[0m\u001b[0m\n\u001b[0m\u001b[1;32m      2\u001b[0m \u001b[0;32mdef\u001b[0m \u001b[0mfac_sum\u001b[0m\u001b[0;34m(\u001b[0m\u001b[0mx\u001b[0m\u001b[0;34m)\u001b[0m\u001b[0;34m:\u001b[0m\u001b[0;34m\u001b[0m\u001b[0;34m\u001b[0m\u001b[0m\n\u001b[1;32m      3\u001b[0m     \u001b[0mrsum\u001b[0m \u001b[0;34m=\u001b[0m \u001b[0;36m0\u001b[0m\u001b[0;34m\u001b[0m\u001b[0;34m\u001b[0m\u001b[0m\n\u001b[1;32m      4\u001b[0m     \u001b[0;32mfor\u001b[0m \u001b[0mxi\u001b[0m \u001b[0;32min\u001b[0m \u001b[0mx\u001b[0m\u001b[0;34m:\u001b[0m\u001b[0;34m\u001b[0m\u001b[0;34m\u001b[0m\u001b[0m\n\u001b[1;32m      5\u001b[0m         \u001b[0mrsum\u001b[0m\u001b[0;34m+=\u001b[0m\u001b[0mlog_fac_array\u001b[0m\u001b[0;34m[\u001b[0m\u001b[0mxi\u001b[0m\u001b[0;34m]\u001b[0m\u001b[0;34m\u001b[0m\u001b[0;34m\u001b[0m\u001b[0m\n",
      "\u001b[0;32m/tmp/ipykernel_337266/1804148046.py\u001b[0m in \u001b[0;36m<genexpr>\u001b[0;34m(.0)\u001b[0m\n\u001b[0;32m----> 1\u001b[0;31m \u001b[0mlog_fac_array\u001b[0m \u001b[0;34m=\u001b[0m \u001b[0mnp\u001b[0m\u001b[0;34m.\u001b[0m\u001b[0marray\u001b[0m\u001b[0;34m(\u001b[0m\u001b[0mlist\u001b[0m\u001b[0;34m(\u001b[0m\u001b[0mnp\u001b[0m\u001b[0;34m.\u001b[0m\u001b[0mlog\u001b[0m\u001b[0;34m(\u001b[0m\u001b[0mmath\u001b[0m\u001b[0;34m.\u001b[0m\u001b[0mfactorial\u001b[0m\u001b[0;34m(\u001b[0m\u001b[0mxi\u001b[0m\u001b[0;34m)\u001b[0m\u001b[0;34m)\u001b[0m \u001b[0;32mfor\u001b[0m \u001b[0mxi\u001b[0m \u001b[0;32min\u001b[0m \u001b[0mrange\u001b[0m\u001b[0;34m(\u001b[0m\u001b[0;36m0\u001b[0m\u001b[0;34m,\u001b[0m \u001b[0mmax\u001b[0m\u001b[0;34m(\u001b[0m\u001b[0mx\u001b[0m\u001b[0;34m)\u001b[0m\u001b[0;34m+\u001b[0m\u001b[0;36m1\u001b[0m\u001b[0;34m)\u001b[0m\u001b[0;34m)\u001b[0m\u001b[0;34m)\u001b[0m\u001b[0;34m\u001b[0m\u001b[0;34m\u001b[0m\u001b[0m\n\u001b[0m\u001b[1;32m      2\u001b[0m \u001b[0;32mdef\u001b[0m \u001b[0mfac_sum\u001b[0m\u001b[0;34m(\u001b[0m\u001b[0mx\u001b[0m\u001b[0;34m)\u001b[0m\u001b[0;34m:\u001b[0m\u001b[0;34m\u001b[0m\u001b[0;34m\u001b[0m\u001b[0m\n\u001b[1;32m      3\u001b[0m     \u001b[0mrsum\u001b[0m \u001b[0;34m=\u001b[0m \u001b[0;36m0\u001b[0m\u001b[0;34m\u001b[0m\u001b[0;34m\u001b[0m\u001b[0m\n\u001b[1;32m      4\u001b[0m     \u001b[0;32mfor\u001b[0m \u001b[0mxi\u001b[0m \u001b[0;32min\u001b[0m \u001b[0mx\u001b[0m\u001b[0;34m:\u001b[0m\u001b[0;34m\u001b[0m\u001b[0;34m\u001b[0m\u001b[0m\n\u001b[1;32m      5\u001b[0m         \u001b[0mrsum\u001b[0m\u001b[0;34m+=\u001b[0m\u001b[0mlog_fac_array\u001b[0m\u001b[0;34m[\u001b[0m\u001b[0mxi\u001b[0m\u001b[0;34m]\u001b[0m\u001b[0;34m\u001b[0m\u001b[0;34m\u001b[0m\u001b[0m\n",
      "\u001b[0;31mNameError\u001b[0m: name 'math' is not defined"
     ]
    }
   ],
   "source": [
    "log_fac_array = np.array(list(np.log(math.factorial(xi)) for xi in range(0, max(x)+1)))\n",
    "def fac_sum(x):\n",
    "    rsum = 0\n",
    "    for xi in x:\n",
    "        rsum+=log_fac_array[xi]\n",
    "    return rsum\n",
    "\n",
    "def poisson_sqr(theta, phi, x):\n",
    "    sqrtx = np.sqrt(x)\n",
    "    return np.exp(np.matmul(theta.T, sqrtx) + np.matmul(np.matmul(sqrtx.T, phi), sqrtx) - fac_sum(x))\n",
    "\n",
    "    \n",
    "    "
   ]
  },
  {
   "cell_type": "code",
   "execution_count": 15,
   "id": "641e822e",
   "metadata": {},
   "outputs": [
    {
     "data": {
      "text/plain": [
       "<matplotlib.collections.PathCollection at 0x7fb4e442c8b0>"
      ]
     },
     "execution_count": 15,
     "metadata": {},
     "output_type": "execute_result"
    },
    {
     "data": {
      "image/png": "[encoded data removed]",
      "text/plain": [
       "<Figure size 432x288 with 1 Axes>"
      ]
     },
     "metadata": {
      "needs_background": "light"
     },
     "output_type": "display_data"
    }
   ],
   "source": [
    "x = np.arange(0, 10)\n",
    "y = x + 3*np.random.rand(10)\n",
    "plt.scatter(x, y)"
   ]
  },
  {
   "cell_type": "code",
   "execution_count": 16,
   "id": "a0b29b96",
   "metadata": {},
   "outputs": [
    {
     "data": {
      "text/plain": [
       "array([[1.       , 0.9710393],\n",
       "       [0.9710393, 1.       ]])"
      ]
     },
     "execution_count": 16,
     "metadata": {},
     "output_type": "execute_result"
    }
   ],
   "source": [
    "np.corrcoef(x, y)"
   ]
  },
  {
   "cell_type": "code",
   "execution_count": 17,
   "id": "dac45fb3",
   "metadata": {},
   "outputs": [
    {
     "data": {
      "text/plain": [
       "Text(0, 0.5, 'frequency')"
      ]
     },
     "execution_count": 17,
     "metadata": {},
     "output_type": "execute_result"
    },
    {
     "data": {
      "image/png": "[encoded data removed]",
      "text/plain": [
       "<Figure size 432x288 with 1 Axes>"
      ]
     },
     "metadata": {
      "needs_background": "light"
     },
     "output_type": "display_data"
    }
   ],
   "source": [
    "plt.hist(apms['SaintScore'])\n",
    "plt.xlabel('p(prey | Spec Counts)')\n",
    "plt.ylabel('frequency')"
   ]
  },
  {
   "cell_type": "code",
   "execution_count": 19,
   "id": "cfc5cd8c",
   "metadata": {},
   "outputs": [
    {
     "data": {
      "text/plain": [
       "Text(0, 0.5, 'MIST')"
      ]
     },
     "execution_count": 19,
     "metadata": {},
     "output_type": "execute_result"
    },
    {
     "data": {
      "image/png": "[encoded data removed]",
      "text/plain": [
       "<Figure size 432x288 with 1 Axes>"
      ]
     },
     "metadata": {
      "needs_background": "light"
     },
     "output_type": "display_data"
    }
   ],
   "source": [
    "plt.scatter(apms['SaintScore'], apms['MIST'])\n",
    "plt.xlabel('SaintScore p(prey | Spec Count)')\n",
    "plt.ylabel('MIST')"
   ]
  },
  {
   "cell_type": "code",
   "execution_count": 20,
   "id": "a73fc1ff",
   "metadata": {
    "collapsed": true
   },
   "outputs": [
    {
     "data": {
      "text/plain": [
       "[('SARS-CoV2 orf9b', 219),\n",
       " ('SARS-CoV2 orf10', 323),\n",
       " ('SARS-CoV2 nsp15', 108),\n",
       " ('SARS-CoV2 nsp8', 522),\n",
       " ('SARS-CoV2 orf9c', 753),\n",
       " ('SARS-CoV2 nsp6', 447),\n",
       " ('SARS-CoV2 nsp4', 389),\n",
       " ('SARS-CoV2 nsp10', 83),\n",
       " ('SARS-CoV2 orf3a', 456),\n",
       " ('SARS-CoV2 nsp1', 148),\n",
       " ('SARS-CoV2 Spike', 327),\n",
       " ('SARS-CoV2 N', 238),\n",
       " ('SARS-CoV2 orf3b', 250),\n",
       " ('SARS-CoV2 nsp14', 85),\n",
       " ('SARS-CoV2 M', 589),\n",
       " ('SARS-CoV2 orf7a', 363),\n",
       " ('SARS-CoV2 nsp7', 296),\n",
       " ('SARS-CoV2 E', 323),\n",
       " ('SARS-CoV2 orf6', 256),\n",
       " ('SARS-CoV2 nsp12', 162),\n",
       " ('SARS-CoV2 nsp13', 485),\n",
       " ('SARS-CoV2 nsp11', 389),\n",
       " ('SARS-CoV2 nsp5', 90),\n",
       " ('SARS-CoV2 nsp5_C145A', 40),\n",
       " ('SARS-CoV2 nsp9', 220),\n",
       " ('SARS-CoV2 nsp2', 434),\n",
       " ('SARS-CoV2 orf8', 512)]"
      ]
     },
     "execution_count": 20,
     "metadata": {},
     "output_type": "execute_result"
    }
   ],
   "source": [
    "def npreys(df, baitname):\n",
    "    return sum(df['Bait']==baitname)\n",
    "\n",
    "def gen_apms_n_preys_per_bait(apms):\n",
    "    for bait in set(apms['Bait']):\n",
    "        yield (bait, npreys(apms, bait))\n",
    "npreys = list(gen_apms_n_preys_per_bait(apms))\n",
    "npreys"
   ]
  },
  {
   "cell_type": "code",
   "execution_count": 21,
   "id": "c5a189a2",
   "metadata": {
    "collapsed": true
   },
   "outputs": [
    {
     "name": "stderr",
     "output_type": "stream",
     "text": [
      "<>:43: SyntaxWarning: list indices must be integers or slices, not tuple; perhaps you missed a comma?\n",
      "<>:43: SyntaxWarning: list indices must be integers or slices, not tuple; perhaps you missed a comma?\n",
      "/tmp/ipykernel_337266/4033629585.py:43: SyntaxWarning: list indices must be integers or slices, not tuple; perhaps you missed a comma?\n",
      "  [(0, 1), (0, 3), (2, 3)]\n"
     ]
    },
    {
     "ename": "TypeError",
     "evalue": "list indices must be integers or slices, not tuple",
     "output_type": "error",
     "traceback": [
      "\u001b[0;31m---------------------------------------------------------------------------\u001b[0m",
      "\u001b[0;31mTypeError\u001b[0m                                 Traceback (most recent call last)",
      "\u001b[0;32m/tmp/ipykernel_337266/4033629585.py\u001b[0m in \u001b[0;36m<module>\u001b[0;34m\u001b[0m\n\u001b[1;32m     41\u001b[0m             \u001b[0;34m[\u001b[0m\u001b[0;34m(\u001b[0m\u001b[0;36m0\u001b[0m\u001b[0;34m,\u001b[0m \u001b[0;36m1\u001b[0m\u001b[0;34m)\u001b[0m\u001b[0;34m,\u001b[0m \u001b[0;34m(\u001b[0m\u001b[0;36m0\u001b[0m\u001b[0;34m,\u001b[0m \u001b[0;36m3\u001b[0m\u001b[0;34m)\u001b[0m\u001b[0;34m,\u001b[0m \u001b[0;34m(\u001b[0m\u001b[0;36m1\u001b[0m\u001b[0;34m,\u001b[0m \u001b[0;36m2\u001b[0m\u001b[0;34m)\u001b[0m\u001b[0;34m]\u001b[0m\u001b[0;34m,\u001b[0m\u001b[0;34m\u001b[0m\u001b[0;34m\u001b[0m\u001b[0m\n\u001b[1;32m     42\u001b[0m             \u001b[0;34m[\u001b[0m\u001b[0;34m(\u001b[0m\u001b[0;36m0\u001b[0m\u001b[0;34m,\u001b[0m \u001b[0;36m1\u001b[0m\u001b[0;34m)\u001b[0m\u001b[0;34m,\u001b[0m \u001b[0;34m(\u001b[0m\u001b[0;36m0\u001b[0m\u001b[0;34m,\u001b[0m \u001b[0;36m3\u001b[0m\u001b[0;34m)\u001b[0m\u001b[0;34m,\u001b[0m \u001b[0;34m(\u001b[0m\u001b[0;36m1\u001b[0m\u001b[0;34m,\u001b[0m \u001b[0;36m3\u001b[0m\u001b[0;34m)\u001b[0m\u001b[0;34m]\u001b[0m\u001b[0;34m,\u001b[0m\u001b[0;34m\u001b[0m\u001b[0;34m\u001b[0m\u001b[0m\n\u001b[0;32m---> 43\u001b[0;31m             \u001b[0;34m[\u001b[0m\u001b[0;34m(\u001b[0m\u001b[0;36m0\u001b[0m\u001b[0;34m,\u001b[0m \u001b[0;36m1\u001b[0m\u001b[0;34m)\u001b[0m\u001b[0;34m,\u001b[0m \u001b[0;34m(\u001b[0m\u001b[0;36m0\u001b[0m\u001b[0;34m,\u001b[0m \u001b[0;36m3\u001b[0m\u001b[0;34m)\u001b[0m\u001b[0;34m,\u001b[0m \u001b[0;34m(\u001b[0m\u001b[0;36m2\u001b[0m\u001b[0;34m,\u001b[0m \u001b[0;36m3\u001b[0m\u001b[0;34m)\u001b[0m\u001b[0;34m]\u001b[0m\u001b[0;34m\u001b[0m\u001b[0;34m\u001b[0m\u001b[0m\n\u001b[0m\u001b[1;32m     44\u001b[0m             \u001b[0;34m[\u001b[0m\u001b[0;34m(\u001b[0m\u001b[0;36m0\u001b[0m\u001b[0;34m,\u001b[0m \u001b[0;36m1\u001b[0m\u001b[0;34m)\u001b[0m\u001b[0;34m,\u001b[0m \u001b[0;34m(\u001b[0m\u001b[0;36m0\u001b[0m\u001b[0;34m,\u001b[0m \u001b[0;36m2\u001b[0m\u001b[0;34m)\u001b[0m\u001b[0;34m,\u001b[0m \u001b[0;34m(\u001b[0m\u001b[0;36m0\u001b[0m\u001b[0;34m,\u001b[0m \u001b[0;36m3\u001b[0m\u001b[0;34m)\u001b[0m\u001b[0;34m,\u001b[0m \u001b[0;34m(\u001b[0m\u001b[0;36m1\u001b[0m\u001b[0;34m,\u001b[0m \u001b[0;36m2\u001b[0m\u001b[0;34m)\u001b[0m\u001b[0;34m]\u001b[0m\u001b[0;34m\u001b[0m\u001b[0;34m\u001b[0m\u001b[0m\n\u001b[1;32m     45\u001b[0m            ]}\n",
      "\u001b[0;31mTypeError\u001b[0m: list indices must be integers or slices, not tuple"
     ]
    }
   ],
   "source": [
    "t1 = [(0, 1)]\n",
    "t2 = [(0, 2)]\n",
    "t3 = [(1, 2)]\n",
    "t4 = [(0, 1), (0, 2)]\n",
    "t5 = [(0, 1), (1, 2)]\n",
    "t6 = [(0, 1), (0, 2), (1, 2)]\n",
    "\n",
    "#\n",
    "t3_4 = [(0, 3)]\n",
    "\n",
    "\n",
    "master = [(0, 1), (0, 2), (0, 3), (1, 2), (1, 3), (2, 3)]\n",
    "\n",
    "\n",
    "tests = {3:[t1, t2, t3, t4, t5, t6],\n",
    "         4:[[(0, 1)], #4 1 6 1 : 1 : master[gid-1]\n",
    "            [(0, 2)], #4 1 6 2 : 2\n",
    "            [(0, 3)], #4 1 6 3 : 3\n",
    "            [(1, 2)], #4 1 6 4 : 4\n",
    "            [(1, 3)], #4 1 6 5 : 5\n",
    "            [(2, 3)], #4 1 6 6 : 6\n",
    "            [(0, 1), (0, 2)], #4 2 5 1 : 7 master[0:gid] = master[]\n",
    "            [(0, 1), (0, 3)], #4 2 5 2 : 8\n",
    "            [(0, 1), (1, 2)], #4 2 5 3 : 9\n",
    "            [(0, 1), (1, 3)], #4 2 5 4 : 10\n",
    "            [(0, 1), (2, 3)], #4 2 5 5 : 11\n",
    "            [(0, 2), (0, 3)], #4 2 4 1 : 12 master[1:gid]\n",
    "            [(0, 2), (1, 2)], #\n",
    "            [(0, 2), (1, 3)],\n",
    "            [(0, 2), (2, 3)],\n",
    "            [(0, 3), (1, 2)],\n",
    "            [(0, 3), (1, 3)],\n",
    "            [(0, 3), (2, 3)],\n",
    "            [(1, 2), (1, 3)],\n",
    "            [(1, 2), (2, 3)],\n",
    "            [(1, 3), (2, 3)],\n",
    "            [(0, 1), (0, 2), (0, 3)],\n",
    "            [(0, 1), (0, 2), (1, 2)],\n",
    "            [(0, 1), (0, 2), (1, 3)],\n",
    "            [(0, 1), (0, 2), (2, 3)],\n",
    "            [(0, 1), (0, 3), (1, 2)],\n",
    "            [(0, 1), (0, 3), (1, 3)],\n",
    "            [(0, 1), (0, 3), (2, 3)]\n",
    "            [(0, 1), (0, 2), (0, 3), (1, 2)]\n",
    "           ]}\n",
    "\n",
    "\n",
    "# 4 choose 2\n",
    "# 1, 2 | 1, 3 | 1\n",
    "\n",
    "for key, item in tests.items():\n",
    "    print('\\n')\n",
    "    for i, test in enumerate(item):\n",
    "        result = next_n_graph(test, key)\n",
    "        try:\n",
    "            compare = result == item[i+1]\n",
    "        except IndexError:\n",
    "            compare = \"IndexError\"\n",
    "        print(f'key:{key} test:{test} return: {result} compare: {compare}')"
   ]
  },
  {
   "cell_type": "code",
   "execution_count": 22,
   "id": "371f0e5c",
   "metadata": {},
   "outputs": [],
   "source": [
    "# (0, 1) ne\n",
    "# (0, 2) ne\n",
    "# (1, 2)\n",
    "\n",
    "# (0, 1), (0, 2) ne\n",
    "# (0, 1), (1, 2) ne\n",
    "# (0, 2), (1, 2)\n",
    "\n",
    "# (0, 1), (0, 2), (1, 2)\n",
    "\n",
    "\n",
    "# (0, 1)\n",
    "# (0, 2)\n",
    "# (0, 3)\n",
    "# (1, 2)\n",
    "# (1, 3)\n",
    "# (2, 3)\n",
    "\n",
    "# (0, 1), (0, 2)\n",
    "# (0, 1), (0, 3)\n",
    "# (0, 1), (1, 2)\n",
    "# (0, 1), (1, 3)\n",
    "# (0, 1), (2, 3)\n",
    "\n",
    "# (0, 2), (0, 3)\n",
    "# (0, 2), (1, 2) ...\n",
    "\n",
    "\n",
    "# (0, 1), (0, 2), (0, 3)\n",
    "# (0, 1), (0, 2), (1, 2)\n",
    "# (0, 1), (0, 2), (1, 3)\n",
    "# (0, 1), (0, 2), (2, 3)\n",
    "\n",
    "# (0, 1), (0, 3), (1, 2)\n",
    "# (0, 1), (0, 3), (1, 3)\n",
    "# (0, 1), (0, 3), (2, 3)\n",
    "\n",
    "# (0, 1), (1, 2), (1, 3)\n",
    "# (0, 1), (1, 2), (2, 3)\n",
    "# (0, 1), (1, 3), (2, 3)\n",
    "\n",
    "# (0, 1), (2,3), (3, 4) #reject\n"
   ]
  },
  {
   "cell_type": "code",
   "execution_count": 23,
   "id": "3a030a17",
   "metadata": {},
   "outputs": [],
   "source": [
    "#Introduce Integrative Network Modeling\n",
    "#Motivate the problem, emphasis on generalizability\n",
    "\n",
    "#Illustration with APMS data likelihood and prior\n",
    "\n",
    "#Prior based on graph density -> Benchmark on Corum\n",
    "\n",
    "#Likelihood based on the covariation of abundances in APMS data\n",
    "\n",
    "#Comparison to know complexes in Corum\n",
    "\n",
    "#Prior predictive check\n",
    "\n",
    "#Next steps"
   ]
  }
 ],
 "metadata": {
  "kernelspec": {
   "display_name": "Python 3 (ipykernel)",
   "language": "python",
   "name": "python3"
  },
  "language_info": {
   "codemirror_mode": {
    "name": "ipython",
    "version": 3
   },
   "file_extension": ".py",
   "mimetype": "text/x-python",
   "name": "python",
   "nbconvert_exporter": "python",
   "pygments_lexer": "ipython3",
   "version": "3.9.7"
  }
 },
 "nbformat": 4,
 "nbformat_minor": 5
}
