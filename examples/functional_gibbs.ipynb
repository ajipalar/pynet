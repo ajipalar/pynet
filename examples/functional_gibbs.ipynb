{
 "cells": [
  {
   "cell_type": "code",
   "execution_count": 1,
   "id": "a27afd05",
   "metadata": {},
   "outputs": [
    {
     "name": "stderr",
     "output_type": "stream",
     "text": [
      "WARNING:absl:No GPU/TPU found, falling back to CPU. (Set TF_CPP_MIN_LOG_LEVEL=0 and rerun for more info.)\n"
     ]
    },
    {
     "data": {
      "image/png": "[encoded data removed]",
      "text/plain": [
       "<Figure size 432x288 with 1 Axes>"
      ]
     },
     "metadata": {
      "needs_background": "light"
     },
     "output_type": "display_data"
    }
   ],
   "source": [
    "import jax\n",
    "import numpy as np\n",
    "import jax.numpy as jnp\n",
    "import matplotlib.pyplot as plt\n",
    "from jax.lax import fori_loop as jfori\n",
    "from functools import partial\n",
    "import pyext.src.plot as plot\n",
    "from typing import Any\n",
    "State = Any\n",
    "Output = Any\n",
    "KeyArray = Any\n",
    "DeviceArray = Any\n",
    "\n",
    "class StateLess:\n",
    "    def stateless_method(state: State, *args, **kwargs) -> (State, Output):\n",
    "        pass\n",
    "\n",
    "\n",
    "def outer_fun(N, inner_params):\n",
    "    jax.lax.fori_loop(0, N,inner_fun, inner_params)\n",
    "\n",
    "def norm_cond_x(key, x):\n",
    "    \"\"\"\n",
    "    x > 0\n",
    "    \"\"\"\n",
    "    mu = 1 / (1 + x)\n",
    "    sigma = 1 / ( 2 * (1 + x) )\n",
    "    norm = jax.random.normal(key)\n",
    "    norm = norm*sigma + mu\n",
    "\n",
    "def inner_fun(key, x, y):\n",
    "    key = jax.random.split(key, 3)\n",
    "    x = x_cond_dens(key[0])\n",
    "    y = y_cond_dens(key[1])\n",
    "    key = key[2]\n",
    "    return key, x, y\n",
    "\n",
    "\n",
    "# Funcitonal implementation\n",
    "def x_cond_dens(key):\n",
    "    return jax.random.normal(key) * 0.01 + 5\n",
    "\n",
    "def y_cond_dens(key):\n",
    "    return jax.random.normal(key) * 4 - 11\n",
    "\n",
    "\n",
    "# X and Y are independant\n",
    "def gibbsf(key: KeyArray, N=10, thin=10) -> DeviceArray:\n",
    "    \n",
    "    def outer_body_fun(i: int, val):\n",
    "        key, samples, x, y, thin = val\n",
    "        key, samples, x, y, thin = jax.lax.fori_loop(0, thin, inner_body_fun, val)\n",
    "        samples = samples.at[i].set([x, y])\n",
    "        return key, samples, x, y, thin\n",
    "\n",
    "    def inner_body_fun(i: int, \n",
    "                       val: tuple[KeyArray, float, float]\n",
    "                       ) -> tuple[KeyArray, float, float]:\n",
    "        \n",
    "        key, samples, x, y, thin = val\n",
    "        key, k1, k2 = jax.random.split(key, 3)\n",
    "        x = x_cond_dens(k1)\n",
    "        y = y_cond_dens(k2)\n",
    "        return key, samples, x, y, thin\n",
    "    \n",
    "    # initiate\n",
    "    x = 0\n",
    "    y = 0\n",
    "    samples = jnp.array(np.zeros((N, 2)))\n",
    "    val = key, samples, x, y, thin\n",
    "    \n",
    "    key, samples, x, y, thin = jax.lax.fori_loop(0, N, outer_body_fun, val)\n",
    "    return samples\n",
    "\n",
    "# imperative implementation\n",
    "def gibbs(key, N=10, thin=10):\n",
    "    x = 0\n",
    "    y = 0\n",
    "    samples = jnp.array(np.zeros((N, 2)))\n",
    "    for i in range(N):\n",
    "        for j in range(thin):\n",
    "            key, k1, k2 = jax.random.split(key, 3)\n",
    "            x = x_cond_dens(k1)\n",
    "            y = y_cond_dens(k2)\n",
    "        samples = samples.at[i].set([x, y])\n",
    "    return samples\n",
    "\n",
    "gibbsf_partial = partial(gibbsf, N=50000, thin=1000)\n",
    "gibbsf_jit = jax.jit(gibbsf_partial)\n",
    "key = jax.random.PRNGKey(5)\n",
    "samples = np.array(gibbsf_jit(key))\n",
    "plot.scatter(samples[:, 0], samples[:, 1])"
   ]
  },
  {
   "cell_type": "code",
   "execution_count": 2,
   "id": "152458ea",
   "metadata": {},
   "outputs": [
    {
     "data": {
      "image/png": "[encoded data removed]",
      "text/plain": [
       "<Figure size 432x288 with 1 Axes>"
      ]
     },
     "metadata": {
      "needs_background": "light"
     },
     "output_type": "display_data"
    }
   ],
   "source": [
    "plot.marginal(samples[:, 0])"
   ]
  },
  {
   "cell_type": "code",
   "execution_count": 3,
   "id": "5c3f5b26",
   "metadata": {},
   "outputs": [
    {
     "data": {
      "image/png": "[encoded data removed]",
      "text/plain": [
       "<Figure size 432x288 with 1 Axes>"
      ]
     },
     "metadata": {
      "needs_background": "light"
     },
     "output_type": "display_data"
    }
   ],
   "source": [
    "plot.marginal(samples[:, 1])"
   ]
  },
  {
   "cell_type": "code",
   "execution_count": null,
   "id": "428d1fca",
   "metadata": {},
   "outputs": [],
   "source": [
    "\"\"\"\n",
    "# This code will take a very long time to jit compile\n",
    "# because the gibbs function uses python for loops\n",
    "# instead of jax.lax.fori_loop\n",
    "\n",
    "gibbs_partial = partial(gibbs, N=50000, thin=1000)\n",
    "gibbs_jit = jax.jit(gibbs_partial)\n",
    "key = jax.random.PRNGKey(5)\n",
    "samples = np.array(gibbs_jit(key))\n",
    "plot.scatter(samples[:, 0], samples[:, 1])\n",
    "\"\"\""
   ]
  },
  {
   "cell_type": "code",
   "execution_count": 3,
   "id": "43cf93ca",
   "metadata": {},
   "outputs": [
    {
     "name": "stderr",
     "output_type": "stream",
     "text": [
      "WARNING:absl:No GPU/TPU found, falling back to CPU. (Set TF_CPP_MIN_LOG_LEVEL=0 and rerun for more info.)\n"
     ]
    }
   ],
   "source": [
    "key = jax.random.PRNGKey(5)\n",
    "gibbs_jit = jax.jit(gibbs)\n",
    "samples = gibbs_jit(key)"
   ]
  },
  {
   "cell_type": "code",
   "execution_count": 4,
   "id": "b6d93253",
   "metadata": {},
   "outputs": [],
   "source": [
    "key = jax.random.PRNGKey(5)\n",
    "gibbsf_jit = jax.jit(gibbsf)\n",
    "samplesf = gibbsf_jit(key)"
   ]
  },
  {
   "cell_type": "code",
   "execution_count": 6,
   "id": "e1966035",
   "metadata": {},
   "outputs": [
    {
     "data": {
      "text/plain": [
       "DeviceArray([[ True,  True],\n",
       "             [ True,  True],\n",
       "             [ True,  True],\n",
       "             [ True,  True],\n",
       "             [ True,  True],\n",
       "             [ True,  True],\n",
       "             [ True,  True],\n",
       "             [ True,  True],\n",
       "             [ True,  True],\n",
       "             [ True,  True]], dtype=bool)"
      ]
     },
     "execution_count": 6,
     "metadata": {},
     "output_type": "execute_result"
    }
   ],
   "source": [
    "samples == samplesf"
   ]
  },
  {
   "cell_type": "code",
   "execution_count": 7,
   "id": "74dc15a8",
   "metadata": {},
   "outputs": [],
   "source": [
    "key2 = jax.random.PRNGKey(17)\n",
    "samples = gibbs_jit(key2)\n",
    "key2 = jax.random.PRNGKey(17)\n",
    "samplesf = gibbsf_jit(key2)"
   ]
  },
  {
   "cell_type": "code",
   "execution_count": 8,
   "id": "16e315f1",
   "metadata": {},
   "outputs": [
    {
     "data": {
      "text/plain": [
       "DeviceArray([[ True,  True],\n",
       "             [ True,  True],\n",
       "             [ True,  True],\n",
       "             [ True,  True],\n",
       "             [ True,  True],\n",
       "             [ True,  True],\n",
       "             [ True,  True],\n",
       "             [ True,  True],\n",
       "             [ True,  True],\n",
       "             [ True,  True]], dtype=bool)"
      ]
     },
     "execution_count": 8,
     "metadata": {},
     "output_type": "execute_result"
    }
   ],
   "source": [
    "samples == samplesf"
   ]
  },
  {
   "cell_type": "code",
   "execution_count": 11,
   "id": "1508b84a",
   "metadata": {},
   "outputs": [
    {
     "data": {
      "text/plain": [
       "<matplotlib.collections.PathCollection at 0x7fd1d57539a0>"
      ]
     },
     "execution_count": 11,
     "metadata": {},
     "output_type": "execute_result"
    },
    {
     "data": {
      "image/png": "[encoded data removed]",
      "text/plain": [
       "<Figure size 432x288 with 1 Axes>"
      ]
     },
     "metadata": {
      "needs_background": "light"
     },
     "output_type": "display_data"
    }
   ],
   "source": [
    "plt.scatter(samples[:, 0], samples[:, 1])"
   ]
  },
  {
   "cell_type": "code",
   "execution_count": 13,
   "id": "07903568",
   "metadata": {},
   "outputs": [
    {
     "data": {
      "text/plain": [
       "<matplotlib.collections.PathCollection at 0x7fd1cc66c5b0>"
      ]
     },
     "execution_count": 13,
     "metadata": {},
     "output_type": "execute_result"
    },
    {
     "data": {
      "image/png": "[encoded data removed]",
      "text/plain": [
       "<Figure size 432x288 with 1 Axes>"
      ]
     },
     "metadata": {
      "needs_background": "light"
     },
     "output_type": "display_data"
    }
   ],
   "source": [
    "plt.scatter(samplesf[:, 0], samplesf[:, 1])"
   ]
  },
  {
   "cell_type": "code",
   "execution_count": 4,
   "id": "85c2fc9b",
   "metadata": {},
   "outputs": [
    {
     "name": "stderr",
     "output_type": "stream",
     "text": [
      "WARNING:absl:No GPU/TPU found, falling back to CPU. (Set TF_CPP_MIN_LOG_LEVEL=0 and rerun for more info.)\n"
     ]
    },
    {
     "data": {
      "text/plain": [
       "<matplotlib.collections.PathCollection at 0x7fe27f3f0d90>"
      ]
     },
     "execution_count": 4,
     "metadata": {},
     "output_type": "execute_result"
    },
    {
     "data": {
      "image/png": "[encoded data removed]",
      "text/plain": [
       "<Figure size 432x288 with 1 Axes>"
      ]
     },
     "metadata": {
      "needs_background": "light"
     },
     "output_type": "display_data"
    }
   ],
   "source": [
    "gibbs_partial = partial(gibbsf, N=50000, thin=1000)\n",
    "gibbsf_jit = jax.jit(gibbs_partial)\n",
    "key = jax.random.PRNGKey(5)\n",
    "samples = np.array(gibbsf_jit(key))\n",
    "plt.scatter(samples[:, 0], samples[:, 1])"
   ]
  },
  {
   "cell_type": "code",
   "execution_count": 15,
   "id": "7529507b",
   "metadata": {},
   "outputs": [
    {
     "ename": "AttributeError",
     "evalue": "module 'pyext.src.plot' has no attribute 'marginal'",
     "output_type": "error",
     "traceback": [
      "\u001b[0;31m---------------------------------------------------------------------------\u001b[0m",
      "\u001b[0;31mAttributeError\u001b[0m                            Traceback (most recent call last)",
      "Input \u001b[0;32mIn [15]\u001b[0m, in \u001b[0;36m<module>\u001b[0;34m\u001b[0m\n\u001b[1;32m      1\u001b[0m \u001b[38;5;28;01mimport\u001b[39;00m \u001b[38;5;21;01mpyext\u001b[39;00m\u001b[38;5;21;01m.\u001b[39;00m\u001b[38;5;21;01msrc\u001b[39;00m\u001b[38;5;21;01m.\u001b[39;00m\u001b[38;5;21;01mplot\u001b[39;00m \u001b[38;5;28;01mas\u001b[39;00m \u001b[38;5;21;01mplot\u001b[39;00m\n\u001b[0;32m----> 2\u001b[0m \u001b[43mplot\u001b[49m\u001b[38;5;241;43m.\u001b[39;49m\u001b[43mmarginal\u001b[49m(samples[:, \u001b[38;5;241m0\u001b[39m])\n",
      "\u001b[0;31mAttributeError\u001b[0m: module 'pyext.src.plot' has no attribute 'marginal'"
     ]
    }
   ],
   "source": [
    "import pyext.src.plot as plot\n",
    "plot.marginal(samples[:, 0])"
   ]
  },
  {
   "cell_type": "code",
   "execution_count": null,
   "id": "736f0419",
   "metadata": {},
   "outputs": [],
   "source": [
    "try:  # Doesn't work; fori_loop requires f(i, val)\n",
    "    f = lambda x: x+1\n",
    "    jax.lax.fori_loop(0, 100, f, 0)\n",
    "except TypeError:\n",
    "    # Works\n",
    "    # Can jit through the funciton\n",
    "    def iwrapper(f):\n",
    "        def wrap(i, val):\n",
    "            return f(val)\n",
    "        return wrap\n",
    "    f = iwrapper(lambda x: x+1)\n",
    "    print(jax.lax.fori_loop(0, 10, f, 0))\n",
    "    print(jax.jit(lambda : jax.lax.fori_loop(0, 10, f, 0))().block_until_ready())"
   ]
  },
  {
   "cell_type": "code",
   "execution_count": 270,
   "id": "2402ebcb",
   "metadata": {},
   "outputs": [],
   "source": [
    "def f(x: KeyArray):\n",
    "    def g(x):\n",
    "        return 2*x\n",
    "    return g(x) + 1\n",
    "f = jax.jit(f)\n"
   ]
  },
  {
   "cell_type": "code",
   "execution_count": 67,
   "id": "eb0a1162",
   "metadata": {
    "scrolled": true
   },
   "outputs": [
    {
     "data": {
      "image/png": "[encoded data removed]",
      "text/plain": [
       "<Figure size 432x288 with 1 Axes>"
      ]
     },
     "metadata": {
      "needs_background": "light"
     },
     "output_type": "display_data"
    }
   ],
   "source": [
    "plt.hist(samples, bins=100)\n",
    "plt.show()"
   ]
  }
 ],
 "metadata": {
  "kernelspec": {
   "display_name": "Python 3 (ipykernel)",
   "language": "python",
   "name": "python3"
  },
  "language_info": {
   "codemirror_mode": {
    "name": "ipython",
    "version": 3
   },
   "file_extension": ".py",
   "mimetype": "text/x-python",
   "name": "python",
   "nbconvert_exporter": "python",
   "pygments_lexer": "ipython3",
   "version": "3.10.1"
  }
 },
 "nbformat": 4,
 "nbformat_minor": 5
}
