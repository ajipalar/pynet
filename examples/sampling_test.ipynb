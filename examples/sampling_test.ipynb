{
 "cells": [
  {
   "cell_type": "code",
   "execution_count": 7,
   "id": "ce377d92",
   "metadata": {},
   "outputs": [],
   "source": [
    "import sampling as s\n",
    "import numpy as np\n",
    "\n",
    "def sq(func):\n",
    "    def inner(a, b):\n",
    "        return func(a,b)**2\n",
    "    return inner"
   ]
  },
  {
   "cell_type": "code",
   "execution_count": 8,
   "id": "2d287cf8",
   "metadata": {},
   "outputs": [],
   "source": [
    "def f(a, b):\n",
    "    return a + b"
   ]
  },
  {
   "cell_type": "code",
   "execution_count": 10,
   "id": "bf6df579",
   "metadata": {},
   "outputs": [],
   "source": [
    "square = sq(f)"
   ]
  },
  {
   "cell_type": "code",
   "execution_count": 11,
   "id": "e8f8fba7",
   "metadata": {},
   "outputs": [
    {
     "data": {
      "text/plain": [
       "9"
      ]
     },
     "execution_count": 11,
     "metadata": {},
     "output_type": "execute_result"
    }
   ],
   "source": [
    "square(1, 2)"
   ]
  },
  {
   "cell_type": "code",
   "execution_count": 12,
   "id": "00212a7c",
   "metadata": {},
   "outputs": [],
   "source": [
    "@sq\n",
    "def f2(a, b):\n",
    "    return a + b"
   ]
  },
  {
   "cell_type": "code",
   "execution_count": 13,
   "id": "391cc799",
   "metadata": {},
   "outputs": [
    {
     "data": {
      "text/plain": [
       "4"
      ]
     },
     "execution_count": 13,
     "metadata": {},
     "output_type": "execute_result"
    }
   ],
   "source": [
    "f2(1, 1)"
   ]
  },
  {
   "cell_type": "code",
   "execution_count": 18,
   "id": "d8c66217",
   "metadata": {},
   "outputs": [],
   "source": [
    "def general_sq(func):\n",
    "    def inner(*args, **kwargs):\n",
    "        return func(*args, **kwargs)**2\n",
    "    return inner"
   ]
  },
  {
   "cell_type": "code",
   "execution_count": 19,
   "id": "01add459",
   "metadata": {},
   "outputs": [],
   "source": [
    "f3 = general_sq(f)"
   ]
  },
  {
   "cell_type": "code",
   "execution_count": 55,
   "id": "bea5bf1d",
   "metadata": {},
   "outputs": [],
   "source": [
    "def edges_left(s, v):\n",
    "    return v-s-1\n",
    "def edge_num(s, t, v):\n",
    "    return edges_left(s, v) - (t)\n",
    "def get_immutable_edge_id(s, t, v):\n",
    "    return "
   ]
  },
  {
   "cell_type": "code",
   "execution_count": 2,
   "id": "e6a893f7",
   "metadata": {},
   "outputs": [],
   "source": [
    "def rsum(v):\n",
    "    r=0\n",
    "    while v > 0:\n",
    "        v-=1\n",
    "        r+=v\n",
    "    return r"
   ]
  },
  {
   "cell_type": "code",
   "execution_count": 7,
   "id": "ff381f3d",
   "metadata": {},
   "outputs": [],
   "source": [
    "def e_base(s, v):\n",
    "    r=0\n",
    "    vmax = v\n",
    "    while v > vmax -s:\n",
    "        v-=1\n",
    "        r+=v\n",
    "    return r\n",
    "def revert_sum(n):\n",
    "    steps = 0\n",
    "    i=1\n",
    "    while i < n:\n",
    "        pass\n",
    "    return steps\n",
    "def get_immutable_edge_id(s, t, vmax):\n",
    "    \"\"\"\n",
    "    Note s < t\n",
    "    s: source\n",
    "    t: target\n",
    "    vmax: max vertices\n",
    "    return edge_id\n",
    "    \"\"\"\n",
    "    return e_base(s, vmax) + t - s - 1\n",
    "\n",
    "def get_edge_from_id(eid, vmax):\n",
    "    #eid [0 -> 1/2v(v-1) -1]\n",
    "    s = 0 #[0 -> vmax -2]\n",
    "    t = 1 #[1 -> vmax -1]\n",
    "    c = 0\n",
    "    while eid > vmax:\n",
    "        #Reduce the eid by c\n",
    "        eid = eid - s*c\n",
    "        c+=1\n",
    "    return s, eid\n",
    "\n",
    "def src_from_eid(eid, v):\n",
    "    \"\"\"\n",
    "    How many times does v go into eid?\n",
    "    \"\"\"\n",
    "    u = v-2\n",
    "    count = 0\n",
    "    while eid > u:\n",
    "        count+=1\n",
    "        u = u + v - 1 - count\n",
    "    return count\n",
    "\n",
    "def smart_mod(a, b):\n",
    "    if b != 0:\n",
    "        return a % b\n",
    "    else:\n",
    "        return 0\n",
    "def count(eid, v):\n",
    "    eid = base + leftover"
   ]
  },
  {
   "cell_type": "code",
   "execution_count": 8,
   "id": "05b47d99",
   "metadata": {},
   "outputs": [],
   "source": [
    "def integral_lower_tri(x:int, v:int)-> int:\n",
    "    \"\"\"\n",
    "    x: The base 1 index of the triangle\n",
    "    note x = vertex id + 1\n",
    "    Call integral_lower_tri(vid+1, v)\n",
    "    \"\"\"\n",
    "    return int((-x**2)/2 + x*v - 0.5*x)\n",
    "def edge_from_eid(eid, v):\n",
    "    \"\"\"\n",
    "    v: the number of vertices in the graph\n",
    "    eid: the immutable edge id\n",
    "    return s, t : source target\n",
    "    \"\"\"\n",
    "    #Area of the lower triangle not including self loops\n",
    "    s = src_from_eid(eid, v)\n",
    "    area = integral_lower_tri(s, v)\n",
    "    eid = eid - area + s + 1\n",
    "    return s, eid"
   ]
  },
  {
   "cell_type": "code",
   "execution_count": 57,
   "id": "1ac5e752",
   "metadata": {},
   "outputs": [],
   "source": [
    "# 0 1 1 0 + 1 0\n",
    "# 0 2 2 0 + 2\n",
    "# 0 3 3 0 + 3\n",
    "# 0 4 4 0 + 4\n",
    "# 1 2 5 4 + 1  1\n",
    "# 1 3 6 4 + 2\n",
    "# 1 4 7 4 + 3\n",
    "# 2 3 8 4 + 3 + 1\n",
    "# 2 4 9 4 + 3 + 2\n",
    "# 3 4 10 4 + 3 + 2 + 1   \n",
    "\n",
    "#s :    t         #\n",
    "#0 : [1, v-1]\n",
    "#1 : [2, v-1]\n",
    "#2 : [3, v-1]\n",
    "#n : [n+1, v-1]"
   ]
  },
  {
   "cell_type": "code",
   "execution_count": 20,
   "id": "8c2fe661",
   "metadata": {},
   "outputs": [
    {
     "name": "stdout",
     "output_type": "stream",
     "text": [
      "i j eid area (s, t)\n",
      "0 1  0    0  (0, 1) \n",
      "0 2  1    0  (0, 2) \n",
      "1 2  2    2  (1, 2) \n"
     ]
    }
   ],
   "source": [
    "v=3\n",
    "emax = v*(v-1)//2\n",
    "print(\"i j eid area (s, t)\")\n",
    "for i in range(v):\n",
    "    for j in range(i+1, v):\n",
    "        eid = get_immutable_edge_id(i, j, v)\n",
    "        base = e_base(i, v)\n",
    "        s, t = edge_from_eid(eid, v)\n",
    "        area = integral_lower_tri(s, v)\n",
    "        #c = get_edge_from_id(eid, v)\n",
    "        print(f\"{i} {j}  {eid}    {area}  {(s, t)} \")"
   ]
  },
  {
   "cell_type": "code",
   "execution_count": 127,
   "id": "8de662d0",
   "metadata": {},
   "outputs": [
    {
     "data": {
      "text/plain": [
       "4"
      ]
     },
     "execution_count": 127,
     "metadata": {},
     "output_type": "execute_result"
    }
   ],
   "source": [
    "def count(eid, v):\n",
    "    emax = v*(v-1)//2\n",
    "    i = v-1\n",
    "    s=0\n",
    "    while i < eid:\n",
    "        s+=1\n",
    "        i+=i-1\n",
    "    return s, i\n",
    "    "
   ]
  },
  {
   "cell_type": "code",
   "execution_count": 300,
   "id": "719c6ecb",
   "metadata": {},
   "outputs": [
    {
     "data": {
      "text/plain": [
       "array([[0., 0., 0., 0., 0.],\n",
       "       [1., 0., 0., 0., 0.],\n",
       "       [1., 1., 0., 0., 0.],\n",
       "       [1., 1., 1., 0., 0.],\n",
       "       [1., 1., 1., 1., 0.]])"
      ]
     },
     "execution_count": 300,
     "metadata": {},
     "output_type": "execute_result"
    }
   ],
   "source": [
    "n=5\n",
    "np.tril(np.ones((n,n)), -1)"
   ]
  },
  {
   "cell_type": "code",
   "execution_count": 291,
   "id": "b9756cda",
   "metadata": {},
   "outputs": [
    {
     "data": {
      "text/plain": [
       "array([5., 4., 3., 2., 1., 0.])"
      ]
     },
     "execution_count": 291,
     "metadata": {},
     "output_type": "execute_result"
    }
   ],
   "source": [
    "np.tril(np.ones((n,n)), -1).sum(axis=0)"
   ]
  },
  {
   "cell_type": "code",
   "execution_count": 310,
   "id": "e0fdf57a",
   "metadata": {},
   "outputs": [
    {
     "name": "stdout",
     "output_type": "stream",
     "text": [
      "0 4 0\n",
      "1 4 3\n",
      "2 4 5\n",
      "3 4 6\n"
     ]
    }
   ],
   "source": [
    "\n",
    "    \n",
    "for s in range(v):\n",
    "    print(s, v, integral_lower_tri(s , v))"
   ]
  },
  {
   "cell_type": "code",
   "execution_count": 21,
   "id": "61a9a856",
   "metadata": {},
   "outputs": [
    {
     "data": {
      "text/plain": [
       "0"
      ]
     },
     "execution_count": 21,
     "metadata": {},
     "output_type": "execute_result"
    }
   ],
   "source": [
    "e_base(0, 2)"
   ]
  }
 ],
 "metadata": {
  "kernelspec": {
   "display_name": "Python 3 (ipykernel)",
   "language": "python",
   "name": "python3"
  },
  "language_info": {
   "codemirror_mode": {
    "name": "ipython",
    "version": 3
   },
   "file_extension": ".py",
   "mimetype": "text/x-python",
   "name": "python",
   "nbconvert_exporter": "python",
   "pygments_lexer": "ipython3",
   "version": "3.9.7"
  }
 },
 "nbformat": 4,
 "nbformat_minor": 5
}
