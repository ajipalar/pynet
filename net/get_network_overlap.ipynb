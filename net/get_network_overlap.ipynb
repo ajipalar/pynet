{
 "cells": [
  {
   "cell_type": "code",
   "execution_count": null,
   "id": "dd7d36b2",
   "metadata": {},
   "outputs": [],
   "source": [
    "# What is the overlap in the various datasets that may be used for modeling?\n",
    "import pandas as pd\n",
    "import numpy as np\n",
    "from pathlib import Path\n",
    "import json\n",
    "data_p = Path(\"../data\")\n",
    "multi_omnics_p = data_p / \"multi-proteomics\"\n",
    "summary_json_p = multi_omnics_p / \"summary.json\"\n",
    "apms_interactions = multi_omnics_p / '41586_2021_3493_MOESM6_ESM.xlsx'\n",
    "proteome_infection = multi_omnics_p / '41586_2021_3493_MOESM9_ESM.xlsx'\n",
    "#Read data contents\n",
    "\n",
    "with summary_json_p.open() as f:\n",
    "    summary_json = json.load(f)\n",
    "\n",
    "def swap_keys(d):\n",
    "    d2 = {}\n",
    "    for key in d:\n",
    "        t = d[key]\n",
    "        d2[t] = key\n",
    "    return d2\n",
    "summary_json = swap_keys(summary_json)\n",
    "\n",
    "def find_key(query, pydict):\n",
    "    for key in pydict:\n",
    "        if query in key:\n",
    "            return key\n",
    "    return None\n",
    "effectome_p = multi_omnics_p / summary_json[find_key(\"effectome\", summary_json)]\n",
    "#effectome_d = pd.read_excel(table5.as_posix(), sheet_name=1)\n",
    "\n",
    "#APMS Changes multilevel omnics significant interactions\n",
    "\n",
    "apms_multi = pd.read_excel(apms_interactions, sheet_name=1)\n",
    "bait_names = apms_multi.iloc[:, 1].unique()\n",
    "gene_names = apms_multi.iloc[:, 2].unique()"
   ]
  },
  {
   "cell_type": "code",
   "execution_count": 22,
   "id": "63607c97",
   "metadata": {},
   "outputs": [],
   "source": [
    "# Output DataFrame\n",
    "columns = ['baits', 'n prey genes']\n",
    "rowname = ['Gordon', 'Stukalov']\n",
    "dout = pd.DataFrame(columns=columns, index=rowname)\n",
    "\n",
    "dout.loc['Stukalov', 'baits'] = len(bait_names)\n",
    "dout.loc['Stukalov', 'n prey genes'] = len(gene_names)"
   ]
  },
  {
   "cell_type": "code",
   "execution_count": 23,
   "id": "375145ae",
   "metadata": {},
   "outputs": [
    {
     "data": {
      "text/html": [
       "<div>\n",
       "<style scoped>\n",
       "    .dataframe tbody tr th:only-of-type {\n",
       "        vertical-align: middle;\n",
       "    }\n",
       "\n",
       "    .dataframe tbody tr th {\n",
       "        vertical-align: top;\n",
       "    }\n",
       "\n",
       "    .dataframe thead th {\n",
       "        text-align: right;\n",
       "    }\n",
       "</style>\n",
       "<table border=\"1\" class=\"dataframe\">\n",
       "  <thead>\n",
       "    <tr style=\"text-align: right;\">\n",
       "      <th></th>\n",
       "      <th>baits</th>\n",
       "      <th>n prey genes</th>\n",
       "    </tr>\n",
       "  </thead>\n",
       "  <tbody>\n",
       "    <tr>\n",
       "      <th>Gordon</th>\n",
       "      <td>NaN</td>\n",
       "      <td>NaN</td>\n",
       "    </tr>\n",
       "    <tr>\n",
       "      <th>Stukalov</th>\n",
       "      <td>30</td>\n",
       "      <td>1208</td>\n",
       "    </tr>\n",
       "  </tbody>\n",
       "</table>\n",
       "</div>"
      ],
      "text/plain": [
       "         baits n prey genes\n",
       "Gordon     NaN          NaN\n",
       "Stukalov    30         1208"
      ]
     },
     "execution_count": 23,
     "metadata": {},
     "output_type": "execute_result"
    }
   ],
   "source": [
    "dout"
   ]
  }
 ],
 "metadata": {
  "kernelspec": {
   "display_name": "Python 3 (ipykernel)",
   "language": "python",
   "name": "python3"
  },
  "language_info": {
   "codemirror_mode": {
    "name": "ipython",
    "version": 3
   },
   "file_extension": ".py",
   "mimetype": "text/x-python",
   "name": "python",
   "nbconvert_exporter": "python",
   "pygments_lexer": "ipython3",
   "version": "3.9.7"
  }
 },
 "nbformat": 4,
 "nbformat_minor": 5
}
