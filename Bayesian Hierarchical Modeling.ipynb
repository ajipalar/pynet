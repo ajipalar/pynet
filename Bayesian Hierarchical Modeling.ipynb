{
 "cells": [
  {
   "cell_type": "code",
   "execution_count": 6,
   "id": "64575922",
   "metadata": {},
   "outputs": [],
   "source": [
    "import pyext.src.pynet_rng as rng\n",
    "import jax\n",
    "import jax.numpy as jnp\n",
    "\n",
    "\n",
    "from collections import namedtuple\n",
    "import jax\n",
    "import jax.numpy as jnp\n",
    "import jax.scipy as jsp\n",
    "import numpy as np\n",
    "import matplotlib\n",
    "import matplotlib.pyplot as plt\n",
    "import matplotlib.patches as mpatches\n",
    "import pandas as pd\n",
    "from pathlib import Path\n",
    "from functools import partial\n",
    "import itertools\n",
    "from itertools import combinations\n",
    "import re\n",
    "import requests\n",
    "import json\n",
    "import scipy as sp\n",
    "import scipy.stats\n",
    "import sklearn\n",
    "import sys\n",
    "import time"
   ]
  },
  {
   "cell_type": "code",
   "execution_count": 53,
   "id": "330a2a60",
   "metadata": {},
   "outputs": [],
   "source": [
    "inv = jsp.linalg.inv"
   ]
  },
  {
   "cell_type": "code",
   "execution_count": 27,
   "id": "b36f0e82",
   "metadata": {},
   "outputs": [],
   "source": [
    "p = 1444\n",
    "key = jax.random.PRNGKey(234)\n",
    "A = jax.random.normal(key, shape=(p, p))\n",
    "A = A.at[np.diag_indices(p)].set(2000)"
   ]
  },
  {
   "cell_type": "code",
   "execution_count": 28,
   "id": "0ddcb1d9",
   "metadata": {},
   "outputs": [],
   "source": [
    "for i in range(2):\n",
    "    key, k1 = jax.random.split(key)\n",
    "    A = rng.wishart(k1, A, p, p)"
   ]
  },
  {
   "cell_type": "code",
   "execution_count": 60,
   "id": "55b994fd",
   "metadata": {},
   "outputs": [],
   "source": [
    "# Bayesian Hierarchical model\n",
    "\n",
    "\"\"\"\n",
    "sigma ~ exp(1)\n",
    "alpha ~ beta(1, 1)\n",
    "mu ~ norm(0, sigma * alpha)\n",
    "\n",
    "\"\"\"\n",
    "\n",
    "def step(key, alpha_0, beta_0):\n",
    "    ks = jax.random.split(key, 4)\n",
    "    prob = jax.random.beta(ks[0], alpha_0, beta_0)\n",
    "    A = jax.random.bernoulli(ks[1], p)\n",
    "    \n",
    "    A = A + A.T\n",
    "    \n",
    "    \n",
    "    \n",
    "    \n",
    "    \n",
    "    \n",
    "    mu_prior = jax.random.normal(k3)\n",
    "    mu = jax.random.normal(k2)*sigma*alpha + mu_prior\n",
    "    return mu, sigma, alpha\n",
    "\n",
    "def score(p, A, K1, K2, Y1, Y2):\n",
    "    r1 = jsp.stats.beta(p)\n",
    "    r2 = jsp.stats.bernoulli(A)\n",
    "    cov1 = jsp.linalg.inv(K1)\n",
    "    cov2 = jsp.linalg.inv(K2)\n",
    "    r3 = jsp.stats.multivariate_normal(Y1, cov1)\n",
    "    r4 = jsp.stats.multivariate_normal(Y2, cov2)\n",
    "    \n",
    "    \n",
    "    \n",
    "    "
   ]
  },
  {
   "cell_type": "code",
   "execution_count": 66,
   "id": "2b88312f",
   "metadata": {},
   "outputs": [],
   "source": [
    "key = jax.random.PRNGKey(123)\n",
    "A = jax.random.bernoulli(key, 0.001, shape=(100, 100))\n",
    "A = A + A.T\n",
    "A"
   ]
  },
  {
   "cell_type": "code",
   "execution_count": 68,
   "id": "424c9dd2",
   "metadata": {},
   "outputs": [
    {
     "data": {
      "text/plain": [
       "DeviceArray([[nan, nan, nan, ..., nan, nan, nan],\n",
       "             [nan, nan, nan, ..., nan, nan, nan],\n",
       "             [nan, nan, nan, ..., nan, nan, nan],\n",
       "             ...,\n",
       "             [nan, nan, nan, ..., nan, nan, nan],\n",
       "             [nan, nan, nan, ..., nan, nan, nan],\n",
       "             [nan, nan, nan, ..., nan, nan, nan]], dtype=float32)"
      ]
     },
     "execution_count": 68,
     "metadata": {},
     "output_type": "execute_result"
    }
   ],
   "source": []
  },
  {
   "cell_type": "markdown",
   "id": "9f4ee391",
   "metadata": {},
   "source": [
    "$$ f(S) = \\frac{|S|^{\\frac{\\nu - p - 1}{2}}}{2^{ \\frac{\\nu p}{2} }\n",
    "           |\\Sigma|^\\frac{\\nu}{2} \\Gamma_p \\left ( \\frac{\\nu}{2} \\right )}\n",
    "           \\exp\\left( -tr(\\Sigma^{-1} S) / 2 \\right) $$"
   ]
  },
  {
   "cell_type": "code",
   "execution_count": 59,
   "id": "649d0c55",
   "metadata": {},
   "outputs": [],
   "source": [
    "def wishpdf(S, nu, p, Sigma):\n",
    "    \"\"\"\n",
    "    \\frac{|S|^{\\frac{\\nu - p - 1}{2}}}{2^{ \\frac{\\nu p}{2} }\n",
    "           |\\Sigma|^\\frac{\\nu}{2} \\Gamma_p \\left ( \\frac{\\nu}{2} \\right )}\n",
    "           \\exp\\left( -tr(\\Sigma^{-1} S) / 2 \\right)\n",
    "    \n",
    "    \"\"\"\n",
    "    \n",
    "    # jnp.exp\n",
    "    # jnp.trace\n",
    "    # jsp.linalg.det\n",
    "    # jsp.special.mulgammaln\n"
   ]
  },
  {
   "cell_type": "code",
   "execution_count": 58,
   "id": "472ebd50",
   "metadata": {},
   "outputs": [
    {
     "data": {
      "text/plain": [
       "[<matplotlib.lines.Line2D at 0x7f10a0392d10>]"
      ]
     },
     "execution_count": 58,
     "metadata": {},
     "output_type": "execute_result"
    },
    {
     "data": {
      "image/png": "[encoded data removed]",
      "text/plain": [
       "<Figure size 432x288 with 1 Axes>"
      ]
     },
     "metadata": {
      "needs_background": "light"
     },
     "output_type": "display_data"
    }
   ],
   "source": [
    "d = 1\n",
    "a = jnp.arange(0 ,10)\n",
    "plt.plot(a, jsp.special.multigammaln(a, d), 'k.')"
   ]
  },
  {
   "cell_type": "code",
   "execution_count": 50,
   "id": "56760355",
   "metadata": {},
   "outputs": [],
   "source": [
    "jax.jit()"
   ]
  },
  {
   "cell_type": "code",
   "execution_count": 56,
   "id": "cd212ff9",
   "metadata": {},
   "outputs": [],
   "source": [
    "?jsp.special.multigammaln"
   ]
  }
 ],
 "metadata": {
  "kernelspec": {
   "display_name": "Python 3 (ipykernel)",
   "language": "python",
   "name": "python3"
  },
  "language_info": {
   "codemirror_mode": {
    "name": "ipython",
    "version": 3
   },
   "file_extension": ".py",
   "mimetype": "text/x-python",
   "name": "python",
   "nbconvert_exporter": "python",
   "pygments_lexer": "ipython3",
   "version": "3.10.1"
  }
 },
 "nbformat": 4,
 "nbformat_minor": 5
}
