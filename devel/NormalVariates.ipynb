{
 "cells": [
  {
   "cell_type": "code",
   "execution_count": null,
   "id": "f435b70b",
   "metadata": {},
   "outputs": [],
   "source": [
    "\"\"\"\n",
    "Conclusion: As per the literature - the mean parameter and the covariance or inverse covariance\n",
    "parameter may be treated seperatley by cholesky or spectral decomposition\n",
    "cholesky  S = AA.T\n",
    "spectral  S = UV inv(U)\n",
    "The entries of the diagonal matrix V are the eigen values. \n",
    "\n",
    "Spectral Theorem - diagonalize matrices\n",
    "- Every real symmetric matrix is diagonizable\n",
    "- \n",
    "\n",
    "\n",
    "\"\"\""
   ]
  },
  {
   "cell_type": "code",
   "execution_count": 28,
   "id": "aabb4c90",
   "metadata": {},
   "outputs": [],
   "source": [
    "import jax\n",
    "import jax.numpy as jnp\n",
    "import jax.scipy as jsp\n",
    "import numpy as np\n",
    "import pyext.src.matrix as mat\n",
    "import scipy as sp\n",
    "import matplotlib.pyplot as plt\n",
    "import matplotlib as mpl\n",
    "\n",
    "key = jax.random.PRNGKey(13)\n",
    "\n",
    "import sklearn\n",
    "\n",
    "p = 8\n",
    "cov = np.eye(p)\n",
    "cov[0, 1] = 0.5\n",
    "cov[0, 2] = -0.3\n",
    "cov[0, 6] = 0.1\n",
    "cov[3, 5] = 0.4342\n",
    "cov = cov + cov.T\n",
    "cov = np.array(cov)\n",
    "cov[np.diag_indices(p)] = 1.\n",
    "assert mat.is_positive_definite(cov)\n",
    "\n",
    "mean = jnp.arange(p)"
   ]
  },
  {
   "cell_type": "code",
   "execution_count": 139,
   "id": "d7f438f4",
   "metadata": {},
   "outputs": [],
   "source": [
    "mpl.rcParams[\"font.size\"] = 16"
   ]
  },
  {
   "cell_type": "code",
   "execution_count": 3,
   "id": "6a8990f3",
   "metadata": {},
   "outputs": [],
   "source": [
    "nsamples = 1000\n",
    "x = jax.random.multivariate_normal(key, mean, cov, shape=(nsamples,))\n",
    "x = np.array(x)\n",
    "nrows, ncols = x.shape\n",
    "ij = []\n",
    "\n",
    "def get_pearsonr(x):\n",
    "    c=0\n",
    "    rs = np.zeros(int(p * (p - 1) // 2))\n",
    "    ps = np.zeros(int(p * (p - 1) // 2))\n",
    "\n",
    "    for i in range(ncols):\n",
    "        for j in range(i+1, ncols):\n",
    "            r, pval = sp.stats.pearsonr(x[:, i], x[:, j])\n",
    "            rs[c] = r\n",
    "            ps[c] = pval\n",
    "            ij.append((i, j))\n",
    "            c+=1\n",
    "\n",
    "    return rs, ps\n",
    "rs, ps = get_pearsonr(x)\n",
    "\n",
    "covs = []\n",
    "for t in ij:\n",
    "    covs.append(cov[t])"
   ]
  },
  {
   "cell_type": "code",
   "execution_count": 4,
   "id": "796828e5",
   "metadata": {},
   "outputs": [],
   "source": [
    "def latent_model(key, mu, cov, p, nsamples):\n",
    "    z = jax.random.normal(key, shape=(p, nsamples))\n",
    "    U = jsp.linalg.cholesky(cov)\n",
    "    x = mean + z.T @ U\n",
    "    x = np.array(x)\n",
    "    z = np.array(z)\n",
    "    U = np.array(U)\n",
    "    return x, z, U"
   ]
  },
  {
   "cell_type": "code",
   "execution_count": 173,
   "id": "5e5b622b",
   "metadata": {},
   "outputs": [],
   "source": [
    "testm = cov[0:4, 0:4]"
   ]
  },
  {
   "cell_type": "code",
   "execution_count": 178,
   "id": "4a94e5d7",
   "metadata": {},
   "outputs": [
    {
     "data": {
      "text/plain": [
       "DeviceArray([[ 1.        ,  0.5       , -0.3       ,  0.        ],\n",
       "             [ 0.        ,  0.8660254 ,  0.17320508,  0.        ],\n",
       "             [ 0.        ,  0.        ,  0.9380832 ,  0.        ],\n",
       "             [ 0.        ,  0.        ,  0.        ,  1.        ]],            dtype=float32)"
      ]
     },
     "execution_count": 178,
     "metadata": {},
     "output_type": "execute_result"
    }
   ],
   "source": [
    "jsp.linalg.cholesky(testm, lower=True).T"
   ]
  },
  {
   "cell_type": "code",
   "execution_count": 177,
   "id": "fed3010c",
   "metadata": {},
   "outputs": [
    {
     "data": {
      "text/plain": [
       "DeviceArray([[ 1.        ,  0.5       , -0.3       ,  0.        ],\n",
       "             [ 0.        ,  0.8660254 ,  0.17320508,  0.        ],\n",
       "             [ 0.        ,  0.        ,  0.9380832 ,  0.        ],\n",
       "             [ 0.        ,  0.        ,  0.        ,  1.        ]],            dtype=float32)"
      ]
     },
     "execution_count": 177,
     "metadata": {},
     "output_type": "execute_result"
    }
   ],
   "source": [
    "jsp.linalg.cholesky(testm)"
   ]
  },
  {
   "cell_type": "code",
   "execution_count": 5,
   "id": "c20f6b03",
   "metadata": {},
   "outputs": [],
   "source": [
    "# M1 x | mu cov\n",
    "# M2 x | 0  cov\n",
    "# M3 x | mu, z, A ; A | cov, z ~ N(0, 1)"
   ]
  },
  {
   "cell_type": "code",
   "execution_count": 140,
   "id": "53c731e9",
   "metadata": {},
   "outputs": [
    {
     "data": {
      "text/plain": [
       "Text(0.5, 1.0, 'Full model N(mu, cov)\\np=8 N=1000')"
      ]
     },
     "execution_count": 140,
     "metadata": {},
     "output_type": "execute_result"
    },
    {
     "data": {
      "image/png": "[encoded data removed]",
      "text/plain": [
       "<Figure size 432x288 with 1 Axes>"
      ]
     },
     "metadata": {
      "needs_background": "light"
     },
     "output_type": "display_data"
    }
   ],
   "source": [
    "#mpl.rcParams[\"font.size\"] = 1\n",
    "mpl.rcParams[\"font.style\"] = \"normal\"\n",
    "plt.plot(rs, covs, 'k.')\n",
    "plt.xlabel(\"Pearson r\")\n",
    "plt.ylabel(\"True cov\")\n",
    "plt.title(f\"Full model N(mu, cov)\\np={p} N={nsamples}\")"
   ]
  },
  {
   "cell_type": "code",
   "execution_count": 141,
   "id": "42999871",
   "metadata": {},
   "outputs": [
    {
     "data": {
      "text/plain": [
       "Text(0, 0.5, 'True cov')"
      ]
     },
     "execution_count": 141,
     "metadata": {},
     "output_type": "execute_result"
    },
    {
     "data": {
      "image/png": "[encoded data removed]",
      "text/plain": [
       "<Figure size 432x288 with 1 Axes>"
      ]
     },
     "metadata": {
      "needs_background": "light"
     },
     "output_type": "display_data"
    }
   ],
   "source": [
    "# Independant model\n",
    "x_ind = jax.random.multivariate_normal(key, mean, jnp.eye(p), shape=(nsamples,))\n",
    "x_ind = np.array(x_ind)\n",
    "rs, ps = get_pearsonr(x_ind)\n",
    "plt.title(f\"Independant Model N(mu, I)\\np={p} N={nsamples}\")\n",
    "plt.plot(rs, covs, 'k.')\n",
    "plt.xlabel(\"Pearson r\")\n",
    "plt.ylabel(\"True cov\")"
   ]
  },
  {
   "cell_type": "code",
   "execution_count": 142,
   "id": "3af458a5",
   "metadata": {},
   "outputs": [
    {
     "data": {
      "text/plain": [
       "Text(0, 0.5, 'True cov')"
      ]
     },
     "execution_count": 142,
     "metadata": {},
     "output_type": "execute_result"
    },
    {
     "data": {
      "image/png": "[encoded data removed]",
      "text/plain": [
       "<Figure size 432x288 with 1 Axes>"
      ]
     },
     "metadata": {
      "needs_background": "light"
     },
     "output_type": "display_data"
    }
   ],
   "source": [
    "# Just Correlations\n",
    "x_corr = jax.random.multivariate_normal(key, jnp.zeros(p), cov, shape=(nsamples,))\n",
    "x_corr = np.array(x_corr)\n",
    "rs, ps = get_pearsonr(x_corr)\n",
    "plt.title(f\"Correlation Model N(0, cov)\\np={p} N={nsamples}\")\n",
    "plt.plot(rs, covs, 'k.')\n",
    "plt.xlabel(\"Pearson r\")\n",
    "plt.ylabel(\"True cov\")"
   ]
  },
  {
   "cell_type": "code",
   "execution_count": 143,
   "id": "0672540a",
   "metadata": {},
   "outputs": [
    {
     "data": {
      "text/plain": [
       "Text(0, 0.5, 'True cov')"
      ]
     },
     "execution_count": 143,
     "metadata": {},
     "output_type": "execute_result"
    },
    {
     "data": {
      "image/png": "[encoded data removed]",
      "text/plain": [
       "<Figure size 432x288 with 1 Axes>"
      ]
     },
     "metadata": {
      "needs_background": "light"
     },
     "output_type": "display_data"
    }
   ],
   "source": [
    "# Latent model\n",
    "x_latent, z, U = latent_model(key, mean, cov, p, nsamples)\n",
    "rs, ps = get_pearsonr(x_latent)\n",
    "plt.title(f\"Latent Model\\n x| z, A\\np={p} N={nsamples}\")\n",
    "plt.plot(rs, covs, 'k.')\n",
    "plt.xlabel(\"Pearson r\")\n",
    "plt.ylabel(\"True cov\")"
   ]
  },
  {
   "cell_type": "code",
   "execution_count": 24,
   "id": "66df61f0",
   "metadata": {},
   "outputs": [],
   "source": [
    "x_full_means = get_means(x)\n",
    "x_ind_means = get_means(x_ind)\n",
    "x_corr_means = get_means(x_corr)\n",
    "x_latent_means = get_means(x_latent)"
   ]
  },
  {
   "cell_type": "code",
   "execution_count": 166,
   "id": "741109d0",
   "metadata": {},
   "outputs": [
    {
     "data": {
      "text/plain": [
       "Text(0, 0.5, 'sample mean')"
      ]
     },
     "execution_count": 166,
     "metadata": {},
     "output_type": "execute_result"
    },
    {
     "data": {
      "image/png": "[encoded data removed]",
      "text/plain": [
       "<Figure size 576x576 with 1 Axes>"
      ]
     },
     "metadata": {
      "needs_background": "light"
     },
     "output_type": "display_data"
    }
   ],
   "source": [
    "s = 8\n",
    "w = s\n",
    "h = s\n",
    "fig = plt.figure(figsize=(w, h))\n",
    "plt.title(f\"N={nsamples}\")\n",
    "plt.plot(mean, x_full_means, 'b+', label=\"full model N(mu, cov)\")\n",
    "plt.plot(mean, x_ind_means, 'k.', label=\"independant model N(mu, I)\")\n",
    "plt.plot(mean, x_corr_means, 'co', label=\"corr model N(0, cov)\")\n",
    "plt.plot(mean, x_latent_means, 'rx', label=\"latent model x = mu + zA\")\n",
    "plt.legend()\n",
    "plt.xlabel(\"True mean\")\n",
    "plt.ylabel(\"sample mean\")"
   ]
  },
  {
   "cell_type": "code",
   "execution_count": 167,
   "id": "ca2b2d1c",
   "metadata": {},
   "outputs": [],
   "source": [
    "?plt.plot"
   ]
  },
  {
   "cell_type": "code",
   "execution_count": 96,
   "id": "57bbb1d8",
   "metadata": {},
   "outputs": [
    {
     "name": "stdout",
     "output_type": "stream",
     "text": [
      "det(cov) jnp.linalg.det 0.5274556875228882\n",
      "det(cov) jsp.linalg.det 0.5274556875228882\n",
      "det(L)^2      cholesky  0.527455747127533\n",
      "\n",
      "\n",
      "log det cov             -0.6396903991699219\n",
      "log det(L)^2            -0.6396902799606323\n",
      "2 Sum log Ld            -0.6396902799606323\n",
      "\n",
      "\n",
      "-----svd-------\n",
      "svd prod(s)             0.5274558067321777\n",
      "svd sum log s           -0.6396902203559875\n",
      "-----svd--------\n",
      "------LU--------\n",
      "----------------\n"
     ]
    }
   ],
   "source": [
    "\"\"\"\n",
    "Methods of computing the determinant?\n",
    "Directly\n",
    "\"\"\"\n",
    "L = jsp.linalg.cholesky(cov)\n",
    "Ld = L[jnp.diag_indices(p)]\n",
    "U, s, Vh = jsp.linalg.svd(cov)\n",
    "print(f\"det(cov) jnp.linalg.det {jnp.linalg.det(cov)}\")\n",
    "print(f\"det(cov) jsp.linalg.det {jsp.linalg.det(cov)}\")\n",
    "print(f\"det(L)^2      cholesky  {jnp.prod(Ld)**2}\")\n",
    "print(\"\\n\")\n",
    "print(f\"log det cov             {jnp.log(jnp.linalg.det(cov))}\")\n",
    "print(f\"log det(L)^2            {jnp.log(jnp.prod(Ld)**2)}\")\n",
    "print(f\"2 Sum log Ld            {2 * jnp.sum(jnp.log(Ld))}\")\n",
    "print(\"\\n\")\n",
    "print(\"-----svd-------\")\n",
    "print(f\"svd prod(s)             {jnp.prod(s)}\")\n",
    "print(f\"svd sum log s           {jnp.sum(jnp.log(s))}\")\n",
    "print(\"-----svd--------\")\n",
    "\n",
    "\n",
    "print(\"------LU--------\")\n",
    "\n",
    "print(\"----------------\")\n",
    "\n",
    "\n",
    "print(\"--------QR-------\")\n",
    "\"\"\"\n",
    "X=QR. Q is an orthogonal matrix. R is an upper triangular matrix. can be used for least squares.\n",
    "\n",
    "\"\"\""
   ]
  },
  {
   "cell_type": "code",
   "execution_count": 102,
   "id": "aec196ad",
   "metadata": {
    "collapsed": true
   },
   "outputs": [
    {
     "data": {
      "text/plain": [
       "DeviceArray([[ 1.35      ,  0.37527767, -0.27716094,  0.        ,\n",
       "               0.        ,  0.        ,  0.09923954,  0.        ],\n",
       "             [ 0.37527767,  0.7833333 ,  0.16001894,  0.        ,\n",
       "               0.        ,  0.        , -0.05729597,  0.        ],\n",
       "             [-0.27716094,  0.16001894,  0.88181823,  0.        ,\n",
       "               0.        ,  0.        ,  0.04231588,  0.        ],\n",
       "             [ 0.        ,  0.        ,  0.        ,  1.1885296 ,\n",
       "               0.        ,  0.3911345 ,  0.        ,  0.        ],\n",
       "             [ 0.        ,  0.        ,  0.        ,  0.        ,\n",
       "               1.        ,  0.        ,  0.        ,  0.        ],\n",
       "             [ 0.        ,  0.        ,  0.        ,  0.3911345 ,\n",
       "               0.        ,  0.8114704 ,  0.        ,  0.        ],\n",
       "             [ 0.09923954, -0.05729597,  0.04231588,  0.        ,\n",
       "               0.        ,  0.        ,  0.9848485 ,  0.        ],\n",
       "             [ 0.        ,  0.        ,  0.        ,  0.        ,\n",
       "               0.        ,  0.        ,  0.        ,  1.        ]],            dtype=float32)"
      ]
     },
     "execution_count": 102,
     "metadata": {},
     "output_type": "execute_result"
    }
   ],
   "source": [
    "L @ L.T"
   ]
  },
  {
   "cell_type": "code",
   "execution_count": 134,
   "id": "73c108ad",
   "metadata": {},
   "outputs": [
    {
     "name": "stdout",
     "output_type": "stream",
     "text": [
      "trace term -8.0\n",
      "trace A, L -8.0\n"
     ]
    }
   ],
   "source": [
    "A = jsp.linalg.cholesky(cov)\n",
    "A = A.T\n",
    "V = 1 * cov\n",
    "L = jsp.linalg.cholesky(V)\n",
    "S = L @ A @ A.T @ L.T\n",
    "mat.is_positive_definite(S)\n",
    "inv = jsp.linalg.inv\n",
    "print(f\"trace term {-jnp.trace(inv(L @ L.T) @ S)}\")\n",
    "print(f\"trace A, L {-_trace_term(L, A)}\")"
   ]
  },
  {
   "cell_type": "code",
   "execution_count": null,
   "id": "4e96c594",
   "metadata": {},
   "outputs": [],
   "source": [
    "\"\"\"\n",
    "inv(V) @ S\n",
    "inv(L @ L.T) @ L @ A @ A.T @ L.T\n",
    "inv(L.T) @ inv(L) @ L @ A @ A.T @ L.T\n",
    "inv(L.T) @ A @ A.T @ L.T\n",
    "\n",
    "\"\"\""
   ]
  },
  {
   "cell_type": "code",
   "execution_count": 126,
   "id": "f56438f6",
   "metadata": {},
   "outputs": [],
   "source": [
    "def _trace_term(L, A):\n",
    "    return jnp.trace(inv(L.T) @ A @ A.T @ L.T)"
   ]
  },
  {
   "cell_type": "code",
   "execution_count": null,
   "id": "f37e179f",
   "metadata": {},
   "outputs": [],
   "source": [
    "import jax.scipy as jsp"
   ]
  },
  {
   "cell_type": "code",
   "execution_count": null,
   "id": "8a2c65b6",
   "metadata": {},
   "outputs": [],
   "source": [
    "?jnp.linalg.norm"
   ]
  },
  {
   "cell_type": "code",
   "execution_count": null,
   "id": "4f5bbb89",
   "metadata": {},
   "outputs": [],
   "source": [
    "plt.plot(x[:, 0], x[:, 1], 'k.')"
   ]
  },
  {
   "cell_type": "code",
   "execution_count": null,
   "id": "88fa811e",
   "metadata": {},
   "outputs": [],
   "source": [
    "?np.linalg.norm"
   ]
  }
 ],
 "metadata": {
  "kernelspec": {
   "display_name": "Python 3 (ipykernel)",
   "language": "python",
   "name": "python3"
  },
  "language_info": {
   "codemirror_mode": {
    "name": "ipython",
    "version": 3
   },
   "file_extension": ".py",
   "mimetype": "text/x-python",
   "name": "python",
   "nbconvert_exporter": "python",
   "pygments_lexer": "ipython3",
   "version": "3.10.1"
  }
 },
 "nbformat": 4,
 "nbformat_minor": 5
}
