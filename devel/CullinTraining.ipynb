{
 "cells": [
  {
   "cell_type": "code",
   "execution_count": 1,
   "id": "507519c1",
   "metadata": {},
   "outputs": [
    {
     "name": "stdout",
     "output_type": "stream",
     "text": [
      "piano.ucsf.edu\n"
     ]
    }
   ],
   "source": [
    "%%bash\n",
    "hostname"
   ]
  },
  {
   "cell_type": "code",
   "execution_count": 2,
   "id": "f6fc03a1",
   "metadata": {},
   "outputs": [],
   "source": [
    "from collections import namedtuple\n",
    "import jax\n",
    "import jax.numpy as jnp\n",
    "import jax.scipy as jsp\n",
    "import numpy as np\n",
    "import matplotlib\n",
    "import matplotlib.pyplot as plt\n",
    "import matplotlib.patches as mpatches\n",
    "from matplotlib.transforms import Affine2D\n",
    "import mpl_toolkits.axisartist.floating_axes as floating_axes\n",
    "import pandas as pd\n",
    "from pathlib import Path\n",
    "from functools import partial\n",
    "import itertools\n",
    "from itertools import combinations\n",
    "import re\n",
    "import requests\n",
    "import json\n",
    "import scipy as sp\n",
    "import scipy.stats\n",
    "import sys\n",
    "import time\n",
    "import pyext.src.pynet_rng as rng\n",
    "import timeit\n",
    "import pyext.src.matrix as mat\n",
    "import pyext.src.stats as stats\n",
    "\n",
    "from src.wishart_synthetic_benchmark import (\n",
    "    ccscatter,\n",
    "    check_cov,\n",
    "    df_from_stats,\n",
    "    get_precision_matrix_stats,\n",
    "    get_prior_pred,\n",
    "    helper_vline_hist,\n",
    "    margins_plot,\n",
    "    quad_plot,\n",
    "    randPOSDEFMAT,\n",
    "    rprior,\n",
    "    rprior_pred,\n",
    "    sample_from_prior,\n",
    "    scatter_plot,\n",
    "    simulate_from_prior,\n",
    "    try_sampling,\n",
    "    ground_truth_pair_plot\n",
    ")\n",
    "\n",
    "from src.cullin_benchmark_test import (\n",
    "    CullinBenchMark,\n",
    "    accumulate_indicies,\n",
    "    bar_plot_df_summary,\n",
    "    binary_search,\n",
    "    biogrid_df_report,\n",
    "    check_biogrid_data,\n",
    "    check_bounds,\n",
    "    compare_reports,\n",
    "    find_bounds,\n",
    "    find_end,\n",
    "    find_start,\n",
    "    format_biogrid_df_report,\n",
    "    get_all_indicies,\n",
    "    get_biogrid_summary,\n",
    "    get_json_report_from_report,\n",
    "    make_bounds,\n",
    "    show_idmapping_results,\n",
    "    transform_and_validate_biogrid,\n",
    "    uniprot_id_mapping,\n",
    "    get_experimental_coverage_df,\n",
    "    triangular_to_symmetric,\n",
    "    coverage_plot,\n",
    "    transform_cullin_benchmark_data,\n",
    "    split,\n",
    "    to_entrez,\n",
    "    get_bounds_from_id_mapping\n",
    ")"
   ]
  },
  {
   "cell_type": "code",
   "execution_count": 3,
   "id": "47f158f8",
   "metadata": {},
   "outputs": [],
   "source": [
    "# Flags\n",
    "\n",
    "GET_CULLIN_BG = True"
   ]
  },
  {
   "cell_type": "code",
   "execution_count": 4,
   "id": "f62578ef",
   "metadata": {},
   "outputs": [],
   "source": [
    "# Global helper functions\n",
    "\n",
    "inv = sp.linalg.inv"
   ]
  },
  {
   "cell_type": "code",
   "execution_count": 5,
   "id": "fa9f3cfa",
   "metadata": {},
   "outputs": [],
   "source": [
    "# Global Plotting params\n",
    "\n",
    "divergent = \"seismic\"\n",
    "sequential = \"Reds\""
   ]
  },
  {
   "cell_type": "code",
   "execution_count": 6,
   "id": "99718d9b",
   "metadata": {},
   "outputs": [
    {
     "name": "stdout",
     "output_type": "stream",
     "text": [
      "BIOGRID-ALL-4.4.206.tab3.txt: OK\n"
     ]
    }
   ],
   "source": [
    "%%bash\n",
    "cd ../data/raw/biogrid/ && shasum -c checksum512.txt"
   ]
  },
  {
   "cell_type": "code",
   "execution_count": 7,
   "id": "c93bbda6",
   "metadata": {},
   "outputs": [
    {
     "name": "stdout",
     "output_type": "stream",
     "text": [
      "Checking biogrid data for missing tabs\n",
      "Passed\n",
      "n-lines 2312699\n"
     ]
    }
   ],
   "source": [
    "check_biogrid_data()"
   ]
  },
  {
   "cell_type": "code",
   "execution_count": 9,
   "id": "423fad89",
   "metadata": {},
   "outputs": [
    {
     "name": "stderr",
     "output_type": "stream",
     "text": [
      "/tmp/ipykernel_2564433/2573753576.py:1: DtypeWarning: Columns (1,2,18) have mixed types. Specify dtype option on import or set low_memory=False.\n",
      "  biogrid = pd.read_csv(\"../data/raw/biogrid/BIOGRID-ALL-4.4.206.tab3.txt\", delimiter=\"\\t\")\n"
     ]
    }
   ],
   "source": [
    "biogrid = pd.read_csv(\"../data/raw/biogrid/BIOGRID-ALL-4.4.206.tab3.txt\", delimiter=\"\\t\")"
   ]
  },
  {
   "cell_type": "code",
   "execution_count": 10,
   "id": "bd1c33bb",
   "metadata": {},
   "outputs": [
    {
     "name": "stdout",
     "output_type": "stream",
     "text": [
      "Processing Entrez Gene Interactor A\n",
      "Processing Entrez Gene Interactor B\n",
      "Change dtypes to categorical\n",
      "Select columns\n"
     ]
    }
   ],
   "source": [
    "biogrid = transform_and_validate_biogrid(biogrid)"
   ]
  },
  {
   "cell_type": "code",
   "execution_count": 17,
   "id": "403e07db",
   "metadata": {},
   "outputs": [],
   "source": [
    "# Load in the Cullin Data\n",
    "cullin_benchmark = CullinBenchMark(dirpath=Path(\"../data/raw/cullin_e3_ligase\"))\n",
    "#cullin_benchmark.load_data()"
   ]
  },
  {
   "cell_type": "code",
   "execution_count": 20,
   "id": "7f276d6a",
   "metadata": {},
   "outputs": [
    {
     "name": "stdout",
     "output_type": "stream",
     "text": [
      "from UniProtKB_AC-ID to GeneID size 5000\n",
      "POST https://rest.uniprot.org/idmapping/run\n",
      "          respone  200\n",
      "          jobId 509258eae75bd64606325ddf25fc85ec20daf815\n",
      "Waiting 15 s\n",
      "GET https://rest.uniprot.org/idmapping/status/509258eae75bd64606325ddf25fc85ec20daf815\n",
      "GET https://rest.uniprot.org/idmapping/stream/509258eae75bd64606325ddf25fc85ec20daf815\n"
     ]
    }
   ],
   "source": [
    "# Do Uniprot ID mapping\n",
    "id_mapping, failed_ids, prey_set_idmapping_input = uniprot_id_mapping(cullin_benchmark)"
   ]
  },
  {
   "cell_type": "code",
   "execution_count": 21,
   "id": "6d70c761",
   "metadata": {},
   "outputs": [
    {
     "name": "stdout",
     "output_type": "stream",
     "text": [
      "12 failed to map\n",
      "2835 succeeded\n",
      "of 2847 total\n"
     ]
    }
   ],
   "source": [
    "show_idmapping_results(id_mapping, failed_ids, prey_set_idmapping_input)"
   ]
  },
  {
   "cell_type": "code",
   "execution_count": 46,
   "id": "9d03e3c8",
   "metadata": {},
   "outputs": [],
   "source": [
    "# Optionally write the ID mapping to a file and update the reference\n",
    "WRITE_IDMAPPING=False\n",
    "if WRITE_IDMAPPING:\n",
    "    pd.DataFrame(data={'UKBID': list(id_mapping.keys()), 'GID': list(id_mapping.values())}).to_csv(\n",
    "        '../data/interim/cullin_e3_ligase/id_mapping.csv',\n",
    "    index=False)\n",
    "    \n",
    "    pd.DataFrame(data={'Variable': ['UKBID', 'GID'], \n",
    "                       'Variable Name': ['Uniprot Knowledge Base Accession ID', 'Entrez Gene ID'],\n",
    "                      'Measurement Unit': ['Unique Alphanumeric ID', 'Unique Numeric ID'],\n",
    "                      }).to_csv('../references/data/interim/cullin_e3_ligase/id_mapping.csv',\n",
    "                               index=False)"
   ]
  },
  {
   "cell_type": "code",
   "execution_count": 53,
   "id": "635757f9",
   "metadata": {},
   "outputs": [
    {
     "name": "stdout",
     "output_type": "stream",
     "text": [
      "1-s2.0-S1931312819302537-mmc2.xlsx\n",
      "1-s2.0-S1931312819302537-mmc3.xlsx\n",
      "1-s2.0-S1931312819302537-mmc4.xlsx\n",
      "1-s2.0-S1931312819302537-mmc5.xlsx\n",
      "ground_truth\n",
      "PRIDE\n",
      "summary.json\n",
      "test\n",
      "train\n"
     ]
    }
   ],
   "source": [
    "%%bash\n",
    "ls ../data/raw/cullin_e3_ligase"
   ]
  },
  {
   "cell_type": "code",
   "execution_count": null,
   "id": "850e46ea",
   "metadata": {},
   "outputs": [],
   "source": [
    "# Make Cullin Reference Guide\n",
    "\n"
   ]
  },
  {
   "cell_type": "code",
   "execution_count": 51,
   "id": "7b1861f2",
   "metadata": {},
   "outputs": [
    {
     "data": {
      "text/html": [
       "<div>\n",
       "<style scoped>\n",
       "    .dataframe tbody tr th:only-of-type {\n",
       "        vertical-align: middle;\n",
       "    }\n",
       "\n",
       "    .dataframe tbody tr th {\n",
       "        vertical-align: top;\n",
       "    }\n",
       "\n",
       "    .dataframe thead th {\n",
       "        text-align: right;\n",
       "    }\n",
       "</style>\n",
       "<table border=\"1\" class=\"dataframe\">\n",
       "  <thead>\n",
       "    <tr style=\"text-align: right;\">\n",
       "      <th></th>\n",
       "      <th>Bait</th>\n",
       "      <th>Prey</th>\n",
       "      <th>PreyGene</th>\n",
       "      <th>Spec</th>\n",
       "      <th>SpecSum</th>\n",
       "      <th>AvgSpec</th>\n",
       "      <th>NumReplicates</th>\n",
       "      <th>ctrlCounts</th>\n",
       "      <th>AvgP</th>\n",
       "      <th>MaxP</th>\n",
       "      <th>TopoAvgP</th>\n",
       "      <th>TopoMaxP</th>\n",
       "      <th>SaintScore</th>\n",
       "      <th>FoldChange</th>\n",
       "      <th>BFDR</th>\n",
       "    </tr>\n",
       "  </thead>\n",
       "  <tbody>\n",
       "    <tr>\n",
       "      <th>0</th>\n",
       "      <td>CBFBwt_MG132</td>\n",
       "      <td>vifprotein</td>\n",
       "      <td>vifprotein</td>\n",
       "      <td>22|22|26|34</td>\n",
       "      <td>104</td>\n",
       "      <td>26.00</td>\n",
       "      <td>4</td>\n",
       "      <td>0|0|1|1|0|1|3|2|1|0|0|0</td>\n",
       "      <td>1.00</td>\n",
       "      <td>1.0</td>\n",
       "      <td>1.00</td>\n",
       "      <td>1.0</td>\n",
       "      <td>1.00</td>\n",
       "      <td>34.67</td>\n",
       "      <td>0.00</td>\n",
       "    </tr>\n",
       "    <tr>\n",
       "      <th>1</th>\n",
       "      <td>CBFBwt_MG132</td>\n",
       "      <td>Q9UBF6</td>\n",
       "      <td>RBX2_HUMAN</td>\n",
       "      <td>9|11|12|16</td>\n",
       "      <td>48</td>\n",
       "      <td>12.00</td>\n",
       "      <td>4</td>\n",
       "      <td>0|0|0|0|0|0|0|0|1|0|0|0</td>\n",
       "      <td>1.00</td>\n",
       "      <td>1.0</td>\n",
       "      <td>1.00</td>\n",
       "      <td>1.0</td>\n",
       "      <td>1.00</td>\n",
       "      <td>120.00</td>\n",
       "      <td>0.00</td>\n",
       "    </tr>\n",
       "    <tr>\n",
       "      <th>2</th>\n",
       "      <td>CBFBwt_MG132</td>\n",
       "      <td>Q9C0K0</td>\n",
       "      <td>BC11B_HUMAN</td>\n",
       "      <td>8|8|26|27</td>\n",
       "      <td>69</td>\n",
       "      <td>17.25</td>\n",
       "      <td>4</td>\n",
       "      <td>0|2|2|0|3|1|1|0|4|3|1|1</td>\n",
       "      <td>0.96</td>\n",
       "      <td>1.0</td>\n",
       "      <td>0.96</td>\n",
       "      <td>1.0</td>\n",
       "      <td>0.96</td>\n",
       "      <td>11.50</td>\n",
       "      <td>0.00</td>\n",
       "    </tr>\n",
       "    <tr>\n",
       "      <th>3</th>\n",
       "      <td>CBFBwt_MG132</td>\n",
       "      <td>Q93034</td>\n",
       "      <td>CUL5_HUMAN</td>\n",
       "      <td>78|77|66|99</td>\n",
       "      <td>320</td>\n",
       "      <td>80.00</td>\n",
       "      <td>4</td>\n",
       "      <td>0|0|0|0|0|0|0|1|0|0|1|0</td>\n",
       "      <td>1.00</td>\n",
       "      <td>1.0</td>\n",
       "      <td>1.00</td>\n",
       "      <td>1.0</td>\n",
       "      <td>1.00</td>\n",
       "      <td>480.00</td>\n",
       "      <td>0.00</td>\n",
       "    </tr>\n",
       "    <tr>\n",
       "      <th>4</th>\n",
       "      <td>CBFBwt_MG132</td>\n",
       "      <td>Q8TEB1</td>\n",
       "      <td>DCA11_HUMAN</td>\n",
       "      <td>24|19|15|11</td>\n",
       "      <td>69</td>\n",
       "      <td>17.25</td>\n",
       "      <td>4</td>\n",
       "      <td>0|0|0|0|0|1|3|0|1|0|1|0</td>\n",
       "      <td>1.00</td>\n",
       "      <td>1.0</td>\n",
       "      <td>1.00</td>\n",
       "      <td>1.0</td>\n",
       "      <td>1.00</td>\n",
       "      <td>34.50</td>\n",
       "      <td>0.00</td>\n",
       "    </tr>\n",
       "    <tr>\n",
       "      <th>...</th>\n",
       "      <td>...</td>\n",
       "      <td>...</td>\n",
       "      <td>...</td>\n",
       "      <td>...</td>\n",
       "      <td>...</td>\n",
       "      <td>...</td>\n",
       "      <td>...</td>\n",
       "      <td>...</td>\n",
       "      <td>...</td>\n",
       "      <td>...</td>\n",
       "      <td>...</td>\n",
       "      <td>...</td>\n",
       "      <td>...</td>\n",
       "      <td>...</td>\n",
       "      <td>...</td>\n",
       "    </tr>\n",
       "    <tr>\n",
       "      <th>6550</th>\n",
       "      <td>ELOBwt_MG132</td>\n",
       "      <td>O00232</td>\n",
       "      <td>PSD12_HUMAN</td>\n",
       "      <td>10|9|12|12</td>\n",
       "      <td>43</td>\n",
       "      <td>10.75</td>\n",
       "      <td>4</td>\n",
       "      <td>12|10|11|17|17|19|19|15|7|11|16|11</td>\n",
       "      <td>0.00</td>\n",
       "      <td>0.0</td>\n",
       "      <td>0.00</td>\n",
       "      <td>0.0</td>\n",
       "      <td>0.00</td>\n",
       "      <td>0.78</td>\n",
       "      <td>0.92</td>\n",
       "    </tr>\n",
       "    <tr>\n",
       "      <th>6551</th>\n",
       "      <td>ELOBwt_MG132</td>\n",
       "      <td>O00139</td>\n",
       "      <td>KIF2A_HUMAN</td>\n",
       "      <td>0|0|0|0</td>\n",
       "      <td>0</td>\n",
       "      <td>0.00</td>\n",
       "      <td>4</td>\n",
       "      <td>0|0|1|0|1|0|3|4|0|0|0|0</td>\n",
       "      <td>0.00</td>\n",
       "      <td>0.0</td>\n",
       "      <td>0.00</td>\n",
       "      <td>0.0</td>\n",
       "      <td>0.00</td>\n",
       "      <td>0.00</td>\n",
       "      <td>0.92</td>\n",
       "    </tr>\n",
       "    <tr>\n",
       "      <th>6552</th>\n",
       "      <td>ELOBwt_MG132</td>\n",
       "      <td>A8MTZ0</td>\n",
       "      <td>BBIP1_HUMAN</td>\n",
       "      <td>1|0|1|1</td>\n",
       "      <td>3</td>\n",
       "      <td>0.75</td>\n",
       "      <td>4</td>\n",
       "      <td>0|0|0|0|0|0|0|0|0|0|0|0</td>\n",
       "      <td>0.00</td>\n",
       "      <td>0.0</td>\n",
       "      <td>0.00</td>\n",
       "      <td>0.0</td>\n",
       "      <td>0.00</td>\n",
       "      <td>7.50</td>\n",
       "      <td>0.92</td>\n",
       "    </tr>\n",
       "    <tr>\n",
       "      <th>6553</th>\n",
       "      <td>ELOBwt_MG132</td>\n",
       "      <td>A4UGR9</td>\n",
       "      <td>XIRP2_HUMAN</td>\n",
       "      <td>0|0|0|0</td>\n",
       "      <td>0</td>\n",
       "      <td>0.00</td>\n",
       "      <td>4</td>\n",
       "      <td>0|0|0|0|0|0|0|0|0|1|0|0</td>\n",
       "      <td>0.00</td>\n",
       "      <td>0.0</td>\n",
       "      <td>0.00</td>\n",
       "      <td>0.0</td>\n",
       "      <td>0.00</td>\n",
       "      <td>0.00</td>\n",
       "      <td>0.92</td>\n",
       "    </tr>\n",
       "    <tr>\n",
       "      <th>6554</th>\n",
       "      <td>ELOBwt_MG132</td>\n",
       "      <td>A4D0S4</td>\n",
       "      <td>LAMB4_HUMAN</td>\n",
       "      <td>0|0|1|0</td>\n",
       "      <td>1</td>\n",
       "      <td>0.25</td>\n",
       "      <td>4</td>\n",
       "      <td>0|0|0|0|0|0|0|0|0|0|1|0</td>\n",
       "      <td>0.00</td>\n",
       "      <td>0.0</td>\n",
       "      <td>0.00</td>\n",
       "      <td>0.0</td>\n",
       "      <td>0.00</td>\n",
       "      <td>2.50</td>\n",
       "      <td>0.92</td>\n",
       "    </tr>\n",
       "  </tbody>\n",
       "</table>\n",
       "<p>6555 rows × 15 columns</p>\n",
       "</div>"
      ],
      "text/plain": [
       "              Bait        Prey     PreyGene         Spec  SpecSum  AvgSpec  \\\n",
       "0     CBFBwt_MG132  vifprotein   vifprotein  22|22|26|34      104    26.00   \n",
       "1     CBFBwt_MG132      Q9UBF6   RBX2_HUMAN   9|11|12|16       48    12.00   \n",
       "2     CBFBwt_MG132      Q9C0K0  BC11B_HUMAN    8|8|26|27       69    17.25   \n",
       "3     CBFBwt_MG132      Q93034   CUL5_HUMAN  78|77|66|99      320    80.00   \n",
       "4     CBFBwt_MG132      Q8TEB1  DCA11_HUMAN  24|19|15|11       69    17.25   \n",
       "...            ...         ...          ...          ...      ...      ...   \n",
       "6550  ELOBwt_MG132      O00232  PSD12_HUMAN   10|9|12|12       43    10.75   \n",
       "6551  ELOBwt_MG132      O00139  KIF2A_HUMAN      0|0|0|0        0     0.00   \n",
       "6552  ELOBwt_MG132      A8MTZ0  BBIP1_HUMAN      1|0|1|1        3     0.75   \n",
       "6553  ELOBwt_MG132      A4UGR9  XIRP2_HUMAN      0|0|0|0        0     0.00   \n",
       "6554  ELOBwt_MG132      A4D0S4  LAMB4_HUMAN      0|0|1|0        1     0.25   \n",
       "\n",
       "      NumReplicates                          ctrlCounts  AvgP  MaxP  TopoAvgP  \\\n",
       "0                 4             0|0|1|1|0|1|3|2|1|0|0|0  1.00   1.0      1.00   \n",
       "1                 4             0|0|0|0|0|0|0|0|1|0|0|0  1.00   1.0      1.00   \n",
       "2                 4             0|2|2|0|3|1|1|0|4|3|1|1  0.96   1.0      0.96   \n",
       "3                 4             0|0|0|0|0|0|0|1|0|0|1|0  1.00   1.0      1.00   \n",
       "4                 4             0|0|0|0|0|1|3|0|1|0|1|0  1.00   1.0      1.00   \n",
       "...             ...                                 ...   ...   ...       ...   \n",
       "6550              4  12|10|11|17|17|19|19|15|7|11|16|11  0.00   0.0      0.00   \n",
       "6551              4             0|0|1|0|1|0|3|4|0|0|0|0  0.00   0.0      0.00   \n",
       "6552              4             0|0|0|0|0|0|0|0|0|0|0|0  0.00   0.0      0.00   \n",
       "6553              4             0|0|0|0|0|0|0|0|0|1|0|0  0.00   0.0      0.00   \n",
       "6554              4             0|0|0|0|0|0|0|0|0|0|1|0  0.00   0.0      0.00   \n",
       "\n",
       "      TopoMaxP  SaintScore  FoldChange  BFDR  \n",
       "0          1.0        1.00       34.67  0.00  \n",
       "1          1.0        1.00      120.00  0.00  \n",
       "2          1.0        0.96       11.50  0.00  \n",
       "3          1.0        1.00      480.00  0.00  \n",
       "4          1.0        1.00       34.50  0.00  \n",
       "...        ...         ...         ...   ...  \n",
       "6550       0.0        0.00        0.78  0.92  \n",
       "6551       0.0        0.00        0.00  0.92  \n",
       "6552       0.0        0.00        7.50  0.92  \n",
       "6553       0.0        0.00        0.00  0.92  \n",
       "6554       0.0        0.00        2.50  0.92  \n",
       "\n",
       "[6555 rows x 15 columns]"
      ]
     },
     "execution_count": 51,
     "metadata": {},
     "output_type": "execute_result"
    }
   ],
   "source": [
    "pd.read_excel(\"../data/raw/cullin_e3_ligase/1-s2.0-S1931312819302537-mmc2.xlsx\")"
   ]
  },
  {
   "cell_type": "code",
   "execution_count": null,
   "id": "ca85ec5b",
   "metadata": {},
   "outputs": [],
   "source": [
    "# Check the Failed Cases\n",
    "failed_df = cullin_benchmark.data[cullin_benchmark.data['Prey'].apply(lambda x: x in failed_ids)]\n",
    "\n",
    "# The failed cases amount to only 20 Bait prey Pairs\n",
    "# The Saint Score < 0.14 for all cases\n",
    "# Therefore we ignore the 13 failed cases instead of mapping them\n",
    "# Except for L0R6Q1. Consider for later"
   ]
  },
  {
   "cell_type": "code",
   "execution_count": null,
   "id": "0cf60810",
   "metadata": {},
   "outputs": [],
   "source": [
    "# Set the Values for the Entrez Gene Id Columns\n",
    "\n",
    "eids = set(val for key, val in id_mapping.items())\n",
    "\n",
    "colA = \"Entrez Gene Interactor A\"\n",
    "colB = \"Entrez Gene Interactor B\"\n",
    "\n",
    "col = colA\n",
    "eids_in_biogrid = set(map(lambda x: x if int(x) in biogrid.loc[:, col] else None, eids))\n",
    "eids_in_biogrid.remove(None)\n",
    "bounds_A = make_bounds(biogrid, col, eids_in_biogrid)\n",
    "\n",
    "col = colB\n",
    "eids_in_biogrid = set(map(lambda x: x if int(x) in biogrid.loc[:, col] else None, eids))\n",
    "eids_in_biogrid.remove(None)\n",
    "bounds_B = make_bounds(biogrid, col, eids_in_biogrid)\n",
    "            \n",
    "\n",
    "check_bounds(biogrid, bounds_A, eids, colnum=1)\n",
    "check_bounds(biogrid, bounds_B, eids, colnum=2)"
   ]
  },
  {
   "cell_type": "code",
   "execution_count": null,
   "id": "5fd80d35",
   "metadata": {},
   "outputs": [],
   "source": [
    "if GET_CULLIN_BG:\n",
    "    index_labels = get_all_indicies(biogrid, bounds_A, bounds_B, 1, 2)\n",
    "\n",
    "    # Look at the subset of biogrid\n",
    "\n",
    "    cullin_bg = biogrid.loc[index_labels]\n",
    "\n",
    "    # Validate the data frame\n",
    "    assert np.all(cullin_bg.iloc[:, 1].apply(lambda x: True if str(int(x)) in eids_in_biogrid else False))\n",
    "    assert np.all(cullin_bg.iloc[:, 2].apply(lambda x: True if str(int(x)) in eids_in_biogrid else False))\n",
    "\n",
    "    nnodes = len(eids_in_biogrid)\n",
    "    n_possible_edges = int(0.5*nnodes*(nnodes-1))\n",
    "\n",
    "    nself = len(cullin_bg[cullin_bg.iloc[:, 1]==cullin_bg.iloc[:, 2]])\n",
    "    not_self = cullin_bg.iloc[:, 1]!=cullin_bg.iloc[:, 2]\n",
    "\n",
    "    cullin_bg = cullin_bg[not_self]\n",
    "\n",
    "    #df = cullin_bg\n",
    "\n",
    "\n",
    "    # How many edges are unique?"
   ]
  },
  {
   "cell_type": "code",
   "execution_count": null,
   "id": "d15512a9",
   "metadata": {},
   "outputs": [],
   "source": [
    "cullin_report = biogrid_df_report(cullin_bg)"
   ]
  },
  {
   "cell_type": "code",
   "execution_count": null,
   "id": "ee9b7fa8",
   "metadata": {},
   "outputs": [],
   "source": [
    "# Annotate the cullin benchmark with entrez genes and rows and columns\n",
    "cullin_benchmark_transformed = transform_cullin_benchmark_data(cullin_benchmark.data, id_mapping)"
   ]
  },
  {
   "cell_type": "code",
   "execution_count": null,
   "id": "0519230c",
   "metadata": {},
   "outputs": [],
   "source": [
    "# Define the training set\n",
    "bait_name = \"CBFBwt_MG132\"\n",
    "s = cullin_benchmark_transformed[\"Bait\"] == bait_name\n",
    "trainingset = cullin_benchmark_transformed[s]\n",
    "\n",
    "saint_cutoff = 0.7\n",
    "s = trainingset[\"SaintScore\"] >= saint_cutoff\n",
    "\n",
    "trainingset = trainingset[s]"
   ]
  },
  {
   "cell_type": "code",
   "execution_count": null,
   "id": "c686a392",
   "metadata": {},
   "outputs": [],
   "source": [
    "# Get the biogrid subset for the training set\n",
    "training_set_id_mapping = {key:id_mapping[key] for key in trainingset.iloc[1:len(trainingset), 1]} # ignore vifprotein\n",
    "s = False\n",
    "training_set_eid_set= set(trainingset[\"Entrez\"])\n",
    "for key, entrezid in training_set_id_mapping.items():\n",
    "    s1 = cullin_bg[\"Entrez Gene Interactor A\"] == float(entrezid)\n",
    "    s = s1 | s\n",
    "\n",
    "# Select the union\n",
    "for key, entrezid in training_set_id_mapping.items():\n",
    "    s1 = cullin_bg[\"Entrez Gene Interactor B\"] == float(entrezid)\n",
    "    #s = s1 & s\n",
    "\n",
    "    \n",
    "\n",
    "# Superset of at least one interactor\n",
    "\n",
    "\n",
    "\n",
    "assert len(s) == len(cullin_bg)\n",
    "\n",
    "training_bg = cullin_bg[s]"
   ]
  },
  {
   "cell_type": "code",
   "execution_count": null,
   "id": "fc8b1cc0",
   "metadata": {},
   "outputs": [],
   "source": [
    "training_bg[training_bg[colA] == 9616.0]"
   ]
  },
  {
   "cell_type": "code",
   "execution_count": null,
   "id": "3d33c2fa",
   "metadata": {},
   "outputs": [],
   "source": [
    "# Generate the report for the training data\n",
    "trainingset_report = biogrid_df_report(cullin_bg)"
   ]
  },
  {
   "cell_type": "code",
   "execution_count": null,
   "id": "aef87f36",
   "metadata": {},
   "outputs": [],
   "source": [
    "# Experimental Coverage\n",
    "trainingset_bg_coverage = get_experimental_coverage_df(training_bg, trainingset_report)"
   ]
  },
  {
   "cell_type": "code",
   "execution_count": null,
   "id": "25e32e07",
   "metadata": {},
   "outputs": [],
   "source": [
    "coverage_plot(trainingset_bg_coverage)"
   ]
  },
  {
   "cell_type": "code",
   "execution_count": null,
   "id": "b8cdf4b3",
   "metadata": {},
   "outputs": [],
   "source": [
    "training_bg"
   ]
  },
  {
   "cell_type": "code",
   "execution_count": null,
   "id": "2603b69b",
   "metadata": {},
   "outputs": [],
   "source": [
    "# highlight the area of interaction using labels\n",
    "# remove the '-'\n",
    "try:\n",
    "    training_set_eid_set.remove(\"-\")\n",
    "except KeyError:\n",
    "    ...\n",
    "training_set_eid_list = [float(i) for i in training_set_eid_set]\n",
    "trainingset_bg_coverage = trainingset_bg_coverage.loc[training_set_eid_list, training_set_eid_list]\n",
    "\n"
   ]
  },
  {
   "cell_type": "code",
   "execution_count": null,
   "id": "1cd6ac41",
   "metadata": {},
   "outputs": [],
   "source": [
    "w = 8\n",
    "h = 8\n",
    "\n",
    "plt.figure(figsize=(w, h))\n",
    "plt.title(f\"Experimental Coverage of {bait_name} prey in biogrid\")\n",
    "plt.imshow(trainingset_bg_coverage + trainingset_bg_coverage.T, vmin=0, cmap=sequential)\n",
    "#xlabels = \n",
    "plt.show()"
   ]
  },
  {
   "cell_type": "code",
   "execution_count": null,
   "id": "b608857c",
   "metadata": {},
   "outputs": [],
   "source": [
    "cols = list(eid_to_preygene.keys())\n",
    "cols = cols[1:len(cols)] # drop '-'\n",
    "cols = [float(i) for i in cols]\n",
    "\n",
    "scratch = training_bg_coverage.loc[cols, cols]\n",
    "\n",
    "fig1 = np.ones((p, p)) * 1000\n",
    "fig1[1:p, 1:p] = scratch\n",
    "fig, axs = ground_truth_pair_plot((fig1 + fig1.T) // 2, \n",
    "                                  np.array(np.mean(exp.samples, axis=0)), \n",
    "                                 overwrite_diags=False,\n",
    "                                 vmin1=0, vmax1=150,\n",
    "                                 vmin2=-12.5, vmax2=12.5,\n",
    "                                 cmap1=sequential, cmap2=divergent)\n",
    "\n",
    "\n",
    "\n",
    "axs[0].set_title(f\"N Biogrid annotated interaction pairs\")\n",
    "axs[1].set_title(f\"Ensemble average value over {'{:,}'.format(n_samples)} replicates\")\n",
    "\n",
    "xlabels1 = trainingset_bg_coverage.columns\n",
    "eid_to_preygene = {}\n",
    "for i, row in trainingset.loc[:, [\"PreyGene\", \"Entrez\"]].iterrows():\n",
    "    eid_to_preygene[row[\"Entrez\"]] = row[\"PreyGene\"]\n",
    "\n",
    "xlabels = [eid_to_preygene[str(int(eid))] for eid in cols]\n",
    "\n",
    "\n",
    "\n",
    "axs[0].set_xticks(ticks=np.arange(p), labels=[\"vifprotein\"] + xlabels, rotation=-45)\n",
    "axs[0].set_yticks(ticks=list(range(p)), labels=[\"vifprotein\"] + xlabels, rotation=45)\n",
    "\n",
    "axs[1].set_xticks(ticks=np.arange(p), labels=list(trainingset[\"PreyGene\"]), rotation=-45)\n",
    "axs[1].set_yticks(ticks=np.arange(p), labels=list(trainingset[\"PreyGene\"]), rotation=45)\n",
    "plt.show()"
   ]
  },
  {
   "cell_type": "code",
   "execution_count": null,
   "id": "4f25081e",
   "metadata": {},
   "outputs": [],
   "source": [
    "[\"-\"] + [\"a\", 1, 7]"
   ]
  },
  {
   "cell_type": "code",
   "execution_count": null,
   "id": "72910438",
   "metadata": {},
   "outputs": [],
   "source": [
    "assert exp.samples.shape == (n_samples, 16, 16)\n",
    "assert scratch.shape == (15, 15)\n",
    "scratch2 = np.mean(exp.samples, axis=0)\n",
    "scratch2 = scratch2[1:16, 1:16]\n",
    "assert scratch2.shape == scratch.shape\n",
    "\n",
    "\n",
    "plt.scatter(scratch2[np.tril_indices(15, k=-1)], scratch.values[np.tril_indices(15, k=-1)])\n",
    "plt.ylabel(\"Biogrid Annotation Rate\")\n",
    "plt.xlabel(\"Average edge value\")"
   ]
  },
  {
   "cell_type": "code",
   "execution_count": null,
   "id": "4426b9b5",
   "metadata": {},
   "outputs": [],
   "source": [
    "\n",
    "\n",
    "import matplotlib as mpl\n",
    "with mpl.rc_context({\"font.size\": 18}):\n",
    "\n",
    "    plt.figure(figsize=(8, 8))\n",
    "\n",
    "    assert exp.samples.shape == (n_samples, 16, 16)\n",
    "    assert scratch.shape == (15, 15)\n",
    "    scratch2 = np.mean(exp.samples, axis=0)\n",
    "    scratch2 = scratch2[1:16, 1:16]\n",
    "    assert scratch2.shape == scratch.shape\n",
    "\n",
    "\n",
    "    x = scratch2[np.tril_indices(15, k=-1)]\n",
    "    y = scratch.values[np.tril_indices(15, k=-1)]\n",
    "    plt.plot(x, y, \"o\",color=\"b\")\n",
    "    plt.ylabel(\"Biogrid Annotation Rate\")\n",
    "    plt.xlabel(\"Average pairwise value\")\n",
    "    \n",
    "    r, pval = sp.stats.pearsonr(x, y)\n",
    "    \n",
    "    decimals = 2\n",
    "    r = np.round(r, decimals)\n",
    "    pval = np.round(pval, decimals)\n",
    "    s = \"\\N{greek small letter rho}\"\n",
    "    s += f\" {r}\"\n",
    "    s += f\"\\np-val {pval}\"\n",
    "    plt.text(-5.5, 120, s)\n",
    "    \n",
    "    #plt.xlabel(\"Ground Truth\")\n",
    "\n",
    "    plt.legend()\n",
    "    \n",
    "    plt.show()"
   ]
  },
  {
   "cell_type": "code",
   "execution_count": null,
   "id": "0beff13a",
   "metadata": {},
   "outputs": [],
   "source": [
    "# Map Prey Gene names to columns\n",
    "\n",
    "?sp.stats.pearsonr\n"
   ]
  },
  {
   "cell_type": "code",
   "execution_count": null,
   "id": "e1eb861c",
   "metadata": {},
   "outputs": [],
   "source": [
    "cols = list(eid_to_preygene.keys())\n",
    "cols = cols[1:len(cols)] # drop '-'\n",
    "cols = [float(i) for i in cols]"
   ]
  },
  {
   "cell_type": "code",
   "execution_count": null,
   "id": "a278c674",
   "metadata": {},
   "outputs": [],
   "source": [
    "training_bg_coverage.loc[cols, cols]"
   ]
  },
  {
   "cell_type": "code",
   "execution_count": null,
   "id": "5a6a6196",
   "metadata": {},
   "outputs": [],
   "source": [
    "eid_to_preygene"
   ]
  },
  {
   "cell_type": "code",
   "execution_count": null,
   "id": "2cc6b45d",
   "metadata": {},
   "outputs": [],
   "source": [
    "training_bg_coverage = get_experimental_coverage_df(cullin_bg, cullin_report)"
   ]
  },
  {
   "cell_type": "code",
   "execution_count": null,
   "id": "6aa4e520",
   "metadata": {},
   "outputs": [],
   "source": [
    "# Get Biogrid for the training set\n",
    "\n",
    "index_labels = get_all_indicies(biogrid, bounds_A, bounds_B, 1, 2)\n",
    "\n",
    "# Look at the subset of biogrid\n",
    "\n",
    "cullin_bg = biogrid.loc[index_labels]\n",
    "\n",
    "# Validate the data frame\n",
    "assert np.all(cullin_bg.iloc[:, 1].apply(lambda x: True if str(int(x)) in eids_in_biogrid else False))\n",
    "assert np.all(cullin_bg.iloc[:, 2].apply(lambda x: True if str(int(x)) in eids_in_biogrid else False))\n",
    "\n",
    "nnodes = len(eids_in_biogrid)\n",
    "n_possible_edges = int(0.5*nnodes*(nnodes-1))\n",
    "\n",
    "nself = len(cullin_bg[cullin_bg.iloc[:, 1]==cullin_bg.iloc[:, 2]])\n",
    "not_self = cullin_bg.iloc[:, 1]!=cullin_bg.iloc[:, 2]\n",
    "\n",
    "cullin_bg = cullin_bg[not_self]"
   ]
  },
  {
   "cell_type": "code",
   "execution_count": null,
   "id": "a2afdb41",
   "metadata": {},
   "outputs": [],
   "source": [
    "# Operate on\n",
    "cols = [\"r1\", \"r3\", \"r3\", \"r4\"]\n",
    "\n",
    "df = trainingset\n",
    "U = df[cols] @ df[cols].T\n",
    "p = len(U)\n",
    "\n",
    "\n",
    "# log10 transformation(SC) + prior\n",
    "\n",
    "# Do the sampling\n",
    "V = inv(U / 4 + np.eye(p))\n",
    "key = jax.random.PRNGKey(3721)\n",
    "n_samples = 1000000\n",
    "exp = sample_from_prior(key, 15, p, n_samples, V)"
   ]
  },
  {
   "cell_type": "code",
   "execution_count": null,
   "id": "ba0e69dd",
   "metadata": {},
   "outputs": [],
   "source": [
    "# How many failed ids are in the training set?\n",
    "\n",
    "len(set(failed_ids).intersection(df[\"Prey\"]))\n",
    "# Conclusion - all ids except vif mapped"
   ]
  },
  {
   "cell_type": "code",
   "execution_count": null,
   "id": "370451f0",
   "metadata": {},
   "outputs": [],
   "source": [
    "# Get the experimental coverage in biogrid\n",
    "\n",
    "        \n",
    "d = get_experimental_coverage_df(cullin_bg, cullin_report)"
   ]
  },
  {
   "cell_type": "code",
   "execution_count": null,
   "id": "9897aeb1",
   "metadata": {},
   "outputs": [],
   "source": [
    "# Annotate the cullin benchmark with entrez genes and rows and columns\n",
    "cullin_benchmark_transformed = transform_cullin_benchmark_data(cullin_benchmark.data, id_mapping)"
   ]
  },
  {
   "cell_type": "code",
   "execution_count": null,
   "id": "f19f6865",
   "metadata": {},
   "outputs": [],
   "source": [
    "coverage_plot(d, w=16, h=14,)"
   ]
  },
  {
   "cell_type": "code",
   "execution_count": null,
   "id": "202a3870",
   "metadata": {},
   "outputs": [],
   "source": [
    "ground_truth_pair_plot(np.log10(U / 16), inv(U + np.eye(p)),\n",
    "                      vmin1=1, vmax1=4.5, vmin2=-1., vmax2=1.,\n",
    "                      cmap1=sequential, cmap2=divergent, title1=\"log 10 correlations\", title2=\"Precision + Prior\")\n"
   ]
  },
  {
   "cell_type": "code",
   "execution_count": null,
   "id": "ebd65ff2",
   "metadata": {},
   "outputs": [],
   "source": [
    "ground_truth_pair_plot(inv(U + np.eye(p)), inv(U/4 + np.eye(p)),\n",
    "                      vmin1=-1.5, vmax1=1.5, vmin2=-1.5, vmax2=1.5,\n",
    "                      cmap1=divergent, cmap2=divergent, title1=\"Precision + Prior\", title2=\"Scaled Precision + Prior\")"
   ]
  },
  {
   "cell_type": "code",
   "execution_count": null,
   "id": "dbea2526",
   "metadata": {},
   "outputs": [],
   "source": [
    "# 4 replicate Plot\n",
    "\n",
    "fig, axs = ground_truth_pair_plot(np.array(np.var(exp.samples, axis=0)), np.array(np.mean(exp.samples, axis=0)), \n",
    "                                 overwrite_diags=False,\n",
    "                                 vmin1=0,\n",
    "                                 vmin2=-12.5, vmax2=12.5,\n",
    "                                 cmap1=sequential, cmap2=divergent)\n",
    "\n",
    "axs[0].set_title(f\"Ensemble average variance\")\n",
    "axs[1].set_title(f\"Ensemble average value over {'{:,}'.format(n_samples)} replicates\")\n",
    "plt.show()"
   ]
  },
  {
   "cell_type": "code",
   "execution_count": null,
   "id": "56176bd0",
   "metadata": {},
   "outputs": [],
   "source": [
    "cocrystal_sel = cullin_bg[\"Experimental System\"] == \"Co-crystal Structure\"\n",
    "cullin_bg_cocrystal = cullin_bg[cocrystal_sel]"
   ]
  },
  {
   "cell_type": "code",
   "execution_count": null,
   "id": "ae83e3cf",
   "metadata": {},
   "outputs": [],
   "source": [
    "s = cullin_benchmark_transformed[\"Bait\"] == bait_name\n",
    "s2 = cullin_benchmark_transformed[\"SaintScore\"] >= saint_cutoff\n",
    "s3 = s & s2\n",
    "assert np.alltrue(cullin_benchmark_transformed.loc[s3,cols] == df[cols])"
   ]
  },
  {
   "cell_type": "code",
   "execution_count": null,
   "id": "6ba7c041",
   "metadata": {},
   "outputs": [],
   "source": [
    "# Check the experimental coverage for the training set\n",
    "trainingset = cullin_benchmark_transformed[s3]\n",
    "trainingset_report = biogrid_df_report(cullin_bg)"
   ]
  },
  {
   "cell_type": "code",
   "execution_count": null,
   "id": "51fa841f",
   "metadata": {},
   "outputs": [],
   "source": [
    "# Must select a subset of biogrid, then do the report"
   ]
  },
  {
   "cell_type": "code",
   "execution_count": null,
   "id": "07220d20",
   "metadata": {},
   "outputs": [],
   "source": [
    "trainingset_coverage = get_experimental_coverage_df(trainingset, cullin_benchmark_transformed)\n",
    "\n",
    "coverage_plot(trainingset_coverage)"
   ]
  },
  {
   "cell_type": "code",
   "execution_count": null,
   "id": "8bf0fb10",
   "metadata": {},
   "outputs": [],
   "source": [
    "?coverage_plot"
   ]
  },
  {
   "cell_type": "code",
   "execution_count": null,
   "id": "510698f4",
   "metadata": {},
   "outputs": [],
   "source": [
    "?biogrid_df_report"
   ]
  },
  {
   "cell_type": "code",
   "execution_count": null,
   "id": "4dcec560",
   "metadata": {},
   "outputs": [],
   "source": [
    "bait_name"
   ]
  },
  {
   "cell_type": "code",
   "execution_count": null,
   "id": "d17ce36d",
   "metadata": {},
   "outputs": [],
   "source": [
    "s = cullin_benchmark_transformed[\"Bait\"] == bait_name\n",
    "s2 = cullin_benchmark_transformed[\"SaintScore\"] >= saint_cutoff\n",
    "s3 = s & s2\n",
    "assert np.alltrue(cullin_benchmark_transformed.loc[s3,cols] == df[cols])"
   ]
  },
  {
   "cell_type": "code",
   "execution_count": null,
   "id": "a6d10144",
   "metadata": {},
   "outputs": [],
   "source": [
    "set(cullin_bg[\"Experimental System\"])"
   ]
  },
  {
   "cell_type": "code",
   "execution_count": null,
   "id": "d58d953d",
   "metadata": {},
   "outputs": [],
   "source": [
    "fig, axs = ground_truth_pair_plot(V, V, \n",
    "                                 overwrite_diags=False,\n",
    "                                 vmin1=0,\n",
    "                                 vmin2=-1.5, vmax2=1.5,\n",
    "                                 cmap1=sequential, cmap2=divergent)"
   ]
  }
 ],
 "metadata": {
  "kernelspec": {
   "display_name": "Python 3 (ipykernel)",
   "language": "python",
   "name": "python3"
  },
  "language_info": {
   "codemirror_mode": {
    "name": "ipython",
    "version": 3
   },
   "file_extension": ".py",
   "mimetype": "text/x-python",
   "name": "python",
   "nbconvert_exporter": "python",
   "pygments_lexer": "ipython3",
   "version": "3.10.8"
  }
 },
 "nbformat": 4,
 "nbformat_minor": 5
}
