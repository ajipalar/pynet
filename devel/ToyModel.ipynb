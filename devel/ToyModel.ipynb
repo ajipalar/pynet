{
 "cells": [
  {
   "cell_type": "code",
   "execution_count": 175,
   "id": "a88254ce",
   "metadata": {},
   "outputs": [],
   "source": [
    "import jax\n",
    "import jax.numpy as jnp\n",
    "import jax.scipy as jsp\n",
    "import pyext.src.lpdf as lpdf\n",
    "import pyext.src.lpmf as lpmf\n",
    "import pyext.src.matrix as mat\n",
    "import pyext.src.pynet_rng as rng\n",
    "import matplotlib.pyplot as plt\n",
    "import numpy as np\n",
    "from itertools import combinations, permutations\n",
    "from functools import partial\n",
    "from collections import namedtuple"
   ]
  },
  {
   "cell_type": "code",
   "execution_count": 80,
   "id": "448963c5",
   "metadata": {},
   "outputs": [],
   "source": [
    "def select(nodes, A):\n",
    "    p = len(nodes)\n",
    "    B = np.zeros((p, p))\n",
    "    for i in range(p):\n",
    "        for j in range(i, p):\n",
    "            if i < j:\n",
    "                u = nodes[j]\n",
    "                v = nodes[i]\n",
    "                print(j, i, u, v)\n",
    "                B[j, i] = A[u, v]\n",
    "    return B\n",
    "\n",
    "def projectAtog1(A):\n",
    "    B = jnp.zeros((p1, p1))\n",
    "    val = A[(2, 4, 6, 4, 6, 6), (0, 0, 0, 2, 2, 4)]\n",
    "    B = B.at[(1, 2, 3, 2, 3, 3), (0, 0, 0, 1, 1, 2)].set(val)\n",
    "    B = B + B.T\n",
    "    B = B.at[(0, 1, 2, 3), (0, 1, 2, 3)].set(A[g1, g1])\n",
    "    return B\n",
    "\n",
    "def projectAtog2(A):\n",
    "    B = jnp.zeros((p2, p2))\n",
    "    val = A[(4, 5, 6, 7, 5, 6, 7, 6, 7, 7), (3, 3, 3, 3, 4, 4, 4, 5, 5, 6)]\n",
    "    B = B.at[(1, 2, 3, 4, 2, 3, 4, 3, 4, 4), (0, 0, 0, 0, 1, 1, 1, 2, 2, 3)].set(val)\n",
    "    B = B + B.T\n",
    "    B = B.at[(0, 1, 2, 3 ,4), (0, 1, 2, 3, 4)].set(A[g2, g2])\n",
    "    return B\n",
    "\n",
    "\n",
    "def norm_squares(S):\n",
    "    \"\"\"\n",
    "    vector norm elementwise\n",
    "    \"\"\"\n",
    "    n = jnp.mean(jnp.sqrt(jnp.power(S, 2)))\n",
    "    return S / n\n",
    "\n",
    "def d(S, A):\n",
    "    return jnp.mean(jnp.sqrt(jnp.power(S - A, 2)))\n",
    "\n",
    "split = jax.random.split\n",
    "inv = jnp.linalg.inv"
   ]
  },
  {
   "cell_type": "code",
   "execution_count": 48,
   "id": "1720e0d7",
   "metadata": {},
   "outputs": [],
   "source": [
    "# Generate Synthetic data and ground truth\n",
    "p = 8\n",
    "rseed = 13\n",
    "Atrue = np.array([[0, 0, 0, 0, 0, 0, 0, 0],\n",
    "                  [1, 0, 0, 0, 0, 0, 0, 0],\n",
    "                  [1, 0, 0, 0, 0, 0, 0, 0],\n",
    "                  [1, 0, 0, 0, 0, 0, 0, 0],\n",
    "                  [0, 1, 0, 1, 0, 0, 0, 0],\n",
    "                  [0, 0, 1, 0, 0, 0, 0, 0],\n",
    "                  [0, 0, 1, 0, 1, 0, 0, 0],\n",
    "                  [0, 1, 0, 0, 0, 1, 1, 0],\n",
    "                 ])\n",
    "\n",
    "npos = jnp.sum(Atrue)\n",
    "m = 8 * (8 - 1) // 2\n",
    "nneg = m - npos\n",
    "p1 = 4\n",
    "p2 = 5\n",
    "\n",
    "c1 = 37392\n",
    "c2 = 2893921\n",
    "\n",
    "data_mu1 = jnp.ones(p1) * c1\n",
    "data_mu2 = jnp.ones(p2) * c2\n",
    "\n",
    "Atrue = Atrue + Atrue.T\n",
    "Atrue[np.diag_indices(p)] = 1\n",
    "\n",
    "tril1 = jnp.tril_indices(p1, k=-1) \n",
    "tril2 = jnp.tril_indices(p2, k=-1)\n",
    "diag1 = jnp.diag_indices(p1)\n",
    "diag2 = jnp.diag_indices(p2)"
   ]
  },
  {
   "cell_type": "code",
   "execution_count": 160,
   "id": "1a6fd4f9",
   "metadata": {},
   "outputs": [],
   "source": [
    "g0 = (0, 1, 2, 3, 4, 5, 6, 7)\n",
    "g1 = (0, 2, 4, 6)\n",
    "g2 = (3, 4, 5, 6, 7)\n",
    "\n",
    "data_prec1 = projectAtog1(Atrue) * (1 / c1)\n",
    "data_prec2 = projectAtog2(Atrue) * (1 / c2)\n",
    "\n",
    "data_prec1 = data_prec1.at[diag1].set(100 / c1)\n",
    "data_prec2 = data_prec2.at[diag2].set(100 / c2)\n",
    "\n",
    "key = jax.random.PRNGKey(rseed)\n",
    "key, k1, k2 = split(key, 3)\n",
    "\n",
    "assert mat.is_positive_definite(data_prec1)\n",
    "assert mat.is_positive_definite(data_prec2)\n",
    "\n",
    "y1 = jax.random.multivariate_normal(k1, data_mu1, inv(data_prec1), shape=(3,))\n",
    "y2 = jax.random.multivariate_normal(k2, data_mu2, inv(data_prec2), shape=(3,))\n",
    "\n",
    "assert y1.shape == (3, p1)\n",
    "assert y2.shape == (3, p2)\n",
    "\n",
    "\n",
    "# Define degrees of freedom\n",
    "\n",
    "nsolutions = 2**m\n",
    "A = jnp.eye(p)\n",
    "alpha = 2\n",
    "beta = 2\n",
    "\n",
    "cov1 = jnp.eye(p1)\n",
    "cov2 = jnp.eye(p2)\n",
    "\n",
    "\n",
    "assert len(g1) == p1\n",
    "assert len(g2) == p2\n",
    "b1 = 1\n",
    "b2 = 0\n",
    "\n",
    "nu1 = p1\n",
    "nu2 = p2\n",
    "\n",
    "V1 = 1/nu1 * (inv(y1.T @ y1 + jnp.mean(y1.T @ y1) * np.eye(p1)))\n",
    "\n",
    "V2 = jnp.ones((p2, p2))\n",
    "V2 = V2 * 1e-7\n",
    "V2 = V2.at[diag2].set(4*1e-7)\n",
    "V2 = (1/nu2) * V2\n",
    "assert mat.is_positive_definite(V1)\n",
    "assert mat.is_positive_definite(V2)"
   ]
  },
  {
   "cell_type": "code",
   "execution_count": 187,
   "id": "8bb7d479",
   "metadata": {},
   "outputs": [],
   "source": [
    "# Generate synthetic data\n",
    "\n",
    "data1 = jax.random.multivariate_normal\n",
    "\n",
    "position = {'g0': {'A': A, 'alpha': alpha, 'beta': beta},\n",
    "           'p1': {\n",
    "                 'cov': cov1,\n",
    "                 'mu':  data_mu1,\n",
    "                 'y': y1,\n",
    "                 'nu': nu1,\n",
    "                 'V': V1\n",
    "            },\n",
    "            'p2': {\n",
    "                 'cov': cov2,\n",
    "                 'mu':  data_mu2,\n",
    "                 'y': y2,\n",
    "                 'nu': nu2,\n",
    "                 'V': V2\n",
    "            },\n",
    "            'g1': {'idx': (0, 1, 2, 4, 6)},\n",
    "            'g2': {'idx': (0, 3, 4, 5, 6, 7)}\n",
    "           }\n",
    "\n",
    "\n",
    "# Define Scoring Function\n",
    "\n",
    "def lbetabinom(position):\n",
    "    # p(A| alpha, beta)\n",
    "    tril_idx = np.tril_indices(p, k=-1)\n",
    "    alpha = position['g0']['alpha']\n",
    "    beta = position['g0']['beta']\n",
    "    d = position['g0']\n",
    "    A = d['A']\n",
    "    k = jnp.sum(A[tril_idx])\n",
    "    return lpmf.betabinom(k, m, alpha, beta)\n",
    "\n",
    "    \n",
    "def yscore(position, scope):\n",
    "    mu = position[scope]['mu']\n",
    "    cov = position[scope]['cov']\n",
    "    y1 = position[scope]['y']\n",
    "    \n",
    "    ya = y1[0, :]\n",
    "    yb = y1[1, :]\n",
    "    yc = y1[2, :]\n",
    "    \n",
    "    s1 = lpdf.multivariate_normal(ya, mu, cov)\n",
    "    s2 = lpdf.multivariate_normal(yb, mu, cov)\n",
    "    s3 = lpdf.multivariate_normal(yc, mu, cov)\n",
    "    \n",
    "    return s1 + s2 + s3\n",
    "\n",
    "y1score = partial(yscore, scope='p1')\n",
    "y2score = partial(yscore, scope='p2')\n",
    "\n",
    "def d1score(position):\n",
    "    A = position['g0']['A']\n",
    "    cov1 = position['p1']['cov']\n",
    "    prec1 = inv(cov1)\n",
    "    A1 = projectAtog1(A)\n",
    "    d1 = d(prec1, A1)\n",
    "    \n",
    "    # lambda = 1\n",
    "    # logpdf = ln(1)-1 *x = -x\n",
    "    return -d1\n",
    "\n",
    "def d2score(position):\n",
    "    A = position['g0']['A']\n",
    "    cov = position['p2']['cov']\n",
    "    prec = inv(cov)\n",
    "    A2 = projectAtog2(A)\n",
    "    d2 = d(prec, A2)\n",
    "    \n",
    "    # lambda = 1\n",
    "    # logpdf = ln(1)-1 *x = -x\n",
    "    return -d2\n",
    "    \n",
    "def model_score(position):\n",
    "    s1 = lbetabinom(position)\n",
    "    s2 = y1score(position)\n",
    "    s3 = y2score(position)\n",
    "    s4 = d1score(position)\n",
    "    s5 = d2score(position)\n",
    "    \n",
    "    return jnp.array([s1, s2, s3, s4, s5])\n",
    "    \n",
    "def log_score(position):\n",
    "    return jnp.sum(model_score(position))\n",
    "# Define Movers\n",
    "\n",
    "def move_A0(key, position):\n",
    "    k0, k1 = split(key, 2)\n",
    "    row = jax.random.randint(k0, shape=(1,), minval=1, maxval=p)\n",
    "    col = 0\n",
    "    value = jax.random.randint(k1, shape=(1,), minval=0, maxval=2)\n",
    "    \n",
    "    A = position['g0']['A']\n",
    "    A = A.at[row, col].set(value)\n",
    "    A = A.at[col, row].set(value)\n",
    "    position['g0']['A'] = A\n",
    "    return position\n",
    "    \n",
    "\n",
    "def move_A(key, position):\n",
    "    A = position['g0']['A']\n",
    "    k0, k1, k3 = split(key, 3)\n",
    "    \n",
    "    col = jax.random.randint(k0, shape=(1,), minval=1, maxval=p)\n",
    "    row = jax.random.randint(k1, shape=(1,), minval=col+1, maxval=p)\n",
    "    value = jax.random.randint(k3, shape=(1,), minval=0, maxval=2)\n",
    "    \n",
    "    A = A.at[row, col].set(value)\n",
    "    A = A.at[col, row].set(value)\n",
    "    \n",
    "    position['g0']['A'] = A\n",
    "    \n",
    "    return position\n",
    "\n",
    "def move_wish(key, p, nu, V):\n",
    "    w = rng.wishart(key=key, p=p, nu=nu, V=V)\n",
    "    return w\n",
    "\n",
    "def move_cov1(key, position):\n",
    "    V = position['p1']['V']\n",
    "    nu = position['p1']['nu']\n",
    "    s = rng.wishart(key=key, p = p1, n=nu, V=V)\n",
    "    cov = inv(s)\n",
    "    \n",
    "    position['p1']['cov1'] = cov\n",
    "    return position\n",
    "\n",
    "def move_cov2(key, position):\n",
    "    V = position['p2']['V']\n",
    "    nu = position['p2']['nu']\n",
    "    s = rng.wishart(key=key, p = p2, n=nu, V=V)\n",
    "    cov = inv(s)\n",
    "    position['p1']['cov1'] = cov\n",
    "    return position\n",
    "\n",
    "\n",
    "def move_model(key, position):\n",
    "    \n",
    "    k1, k2, k3, k4 = jax.random.split(key, 4)\n",
    "    position = move_A0(k1, position)\n",
    "    position = move_A(k2, position)\n",
    "    position = move_cov1(k3, position)\n",
    "    position = move_cov2(k4, position)\n",
    "    return position\n",
    "\n",
    "\n",
    "\n",
    "    \n",
    "SampleParams = namedtuple(\"SampleParams\",\n",
    "\"nmc_steps step T key accepted\")\n",
    "\n",
    "SampleState = namedtuple(\"SampleState\",\n",
    "                        \"position params\")\n",
    "    \n",
    "# Define Sampling\n",
    "\n",
    "def init_sampling_state(position, sample_params):\n",
    "    return SampleState(position, sample_params)\n",
    "    \n",
    "\n",
    "def update_sampling_state(sample_state):\n",
    "    \n",
    "    def accept_branch(v):\n",
    "        x0, x1, _ = v\n",
    "        return x1, x1, True\n",
    "        \n",
    "\n",
    "    def reject_branch():\n",
    "        x0, x1, _ = v\n",
    "        return x0, x0, True\n",
    "    \n",
    "    return sample_state\n",
    "    k0, k1, k2, k3 = split(sample_state.params.key, 4)\n",
    "    x0 = sample_state.position\n",
    "    \n",
    "    x1 = move_model(k1, sample_state.position)\n",
    "    \n",
    "    s0 = log_score(x0)\n",
    "    s1 = log_score(x1)\n",
    "    \n",
    "    log_alpha = s1 - s0 \n",
    "    \n",
    "    alpha = jnp.exp(log_alpha)\n",
    "    \n",
    "    u = jax.random.uniform(k0, minval=0, maxval=1)\n",
    "    \n",
    "    # Accept\n",
    "    \n",
    "    accepted = False\n",
    "    x_update, _, accepted = jax.lax.cond(u <= alpha, accept_branch, reject_branch, (x0, x1, accepted))\n",
    "    \n",
    "    # update sample params\n",
    "    \n",
    "    params = sample_state.params\n",
    "    nmc_steps = params.nmc_steps\n",
    "    step = params.step + 1\n",
    "    T = params.T\n",
    "    key = k3\n",
    "    params = SampleParams(nmc_steps=nmc_steps,\n",
    "                          step=step,\n",
    "                          T=T,\n",
    "                          key=key,\n",
    "                          accepted=accepted)\n",
    "    \n",
    "    # update sample state\n",
    "    \n",
    "    sample_state = SampleState(position=x_update,\n",
    "                               params=params)\n",
    "    \n",
    "\n",
    "    \n",
    "\n",
    "# Sample alternative models\n",
    "\n",
    "# Report"
   ]
  },
  {
   "cell_type": "code",
   "execution_count": 313,
   "id": "a1f31cb0",
   "metadata": {},
   "outputs": [],
   "source": [
    "\n",
    "def dosaves(val):\n",
    "\n",
    "    \n",
    "    InfState = namedtuple(\"InfState\",\n",
    "           \"scores accepteds As Sigma1s Sigma2s step saveindex\")\n",
    "    state, infstate = val\n",
    "    saveindex = infstate.saveindex\n",
    "    \n",
    "    A = state.position['g0']['A']\n",
    "    cov1 = state.position['p1']['cov']\n",
    "    cov2 = state.position['p2']['cov']\n",
    "    \n",
    "    As = infstate.As\n",
    "    Sigma1s = infstate.Sigma1s\n",
    "    Sigma2s = infstate.Sigma2s\n",
    "    \n",
    "    As = As.at[saveindex, :, :].set(A)\n",
    "    Sigma1s = Sigma1s.at[saveindex, :, :].set(cov1)\n",
    "    Sigma2s = Sigma2s.at[saveindex, :, :].set(cov2)\n",
    "    \n",
    "\n",
    "    saveindex = saveindex\n",
    "    saveindex = saveindex + 1\n",
    "    scores = InfState.scores\n",
    "    step = infstate.step\n",
    "    step = step + 1\n",
    "    accepteds = infstate.accepteds\n",
    "    \n",
    "    updated = InfState(scores, accepteds, As, Sigma1s, Sigma2s, step, saveindex)\n",
    "    val = state, updated\n",
    "    return val\n",
    "\n",
    "def dontsave(val):\n",
    "    InfState = namedtuple(\"InfState\",\n",
    "           \"scores accepteds As Sigma1s Sigma2s step saveindex\")\n",
    "    state, infstate = val\n",
    "    step = infstate.step\n",
    "    step = step + 1\n",
    "    scores = infstate.scores\n",
    "    accepteds = infstate.accepteds\n",
    "    As = infstate.As\n",
    "    Sigma1s = infstate.Sigma1s\n",
    "    Sigma2s = infstate.Sigma2s\n",
    "    saveindex = infstate.saveindex\n",
    "\n",
    "    infstate = InfState(scores, accepteds, As, Sigma1s, Sigma2s, step, saveindex)\n",
    "    val = state, infstate\n",
    "    return val\n",
    "\n",
    "def init_inference(nsteps, save_position_every):\n",
    "    scores = jnp.zeros(nsteps)\n",
    "    accepteds = jnp.zeros(nsteps)\n",
    "    \n",
    "    nsaves = nsteps // save_position_every\n",
    "    \n",
    "    As = jnp.zeros((nsaves, p, p))\n",
    "    Sigma1s = jnp.zeros((nsaves, p1, p1))\n",
    "    Sigma2s = jnp.zeros((nsaves, p2, p2))\n",
    "    return (scores,\n",
    "           accepteds,\n",
    "           nsaves,\n",
    "           As,\n",
    "           Sigma1s,\n",
    "           Sigma2s)\n",
    "\n",
    "def init_inference_state(nsteps, save_position_every):\n",
    "    scores, accepteds, nsaves, As, Sigma1s, Sigma2s = init_inference(nsteps, save_position_every)\n",
    "    return InfState(scores, accepteds, As, Sigma1s, Sigma2s, 0, 0)\n",
    "\n",
    "InfState = namedtuple(\"InfState\",\n",
    "           \"scores accepteds As Sigma1s Sigma2s step saveindex\")\n",
    "def do_inference(init_state, update_fun, nsteps, save_position_every):\n",
    "    \n",
    "    # save the score, position, every save_every\n",
    "    \n",
    "    scores, accepteds, nsaves, As, Sigma1s, Sigma2s = init_inference(nsteps, save_position_every)\n",
    "    init_infstate = InfState(scores, accepteds, As, Sigma1s, Sigma2s, 0, 0)\n",
    "\n",
    "    def body(i, val):\n",
    "        state, infstate = val\n",
    "        step = infstate.step\n",
    "        notsave = step % nsaves\n",
    "\n",
    "        val = state, infstate\n",
    "\n",
    "        scratch, updated_infstate = jax.lax.cond(notsave==False,\n",
    "                                       dosaves,\n",
    "                                       dontsave,\n",
    "                                       val)\n",
    "\n",
    "        updated_state = update_fun(state)\n",
    "        val = updated_state, updated_infstate\n",
    "\n",
    "        return val\n",
    "    val = init_state, init_infstate\n",
    "    return jax.lax.fori_loop(0, nsteps, body, val)\n",
    "    "
   ]
  },
  {
   "cell_type": "code",
   "execution_count": 306,
   "id": "fa170c2d",
   "metadata": {},
   "outputs": [],
   "source": [
    "key = jax.random.PRNGKey(12983)\n",
    "sample_params = SampleParams(nmc_steps=1000,\n",
    "                            step=0,\n",
    "                            T=2,\n",
    "                            key=key,\n",
    "                            accepted=False)\n",
    "sample_state = init_sampling_state(position, sample_params)\n",
    "\n",
    "\n",
    "inference_loop = partial(do_inference, update_fun=update_sampling_state,\n",
    "                        nsteps=sample_params.nmc_steps, save_position_every=100)"
   ]
  },
  {
   "cell_type": "code",
   "execution_count": 366,
   "id": "064b0cb1",
   "metadata": {},
   "outputs": [
    {
     "ename": "AttributeError",
     "evalue": "'tuple' object has no attribute 'step'",
     "output_type": "error",
     "traceback": [
      "\u001b[0;31m---------------------------------------------------------------------------\u001b[0m",
      "\u001b[0;31mAttributeError\u001b[0m                            Traceback (most recent call last)",
      "Input \u001b[0;32mIn [366]\u001b[0m, in \u001b[0;36m<cell line: 43>\u001b[0;34m()\u001b[0m\n\u001b[1;32m     38\u001b[0m \u001b[38;5;28;01massert\u001b[39;00m init_infstate\u001b[38;5;241m.\u001b[39mSigma2s\u001b[38;5;241m.\u001b[39mshape \u001b[38;5;241m==\u001b[39m (\u001b[38;5;241m10\u001b[39m, p2, p2)\n\u001b[1;32m     41\u001b[0m inftuple \u001b[38;5;241m=\u001b[39m \u001b[38;5;28mtuple\u001b[39m(init_infstate)\n\u001b[0;32m---> 43\u001b[0m \u001b[43mjax\u001b[49m\u001b[38;5;241;43m.\u001b[39;49m\u001b[43mjit\u001b[49m\u001b[43m(\u001b[49m\u001b[43mdosaves\u001b[49m\u001b[43m)\u001b[49m\u001b[43m(\u001b[49m\u001b[43m(\u001b[49m\u001b[43msample_state\u001b[49m\u001b[43m,\u001b[49m\u001b[43m \u001b[49m\u001b[43minftuple\u001b[49m\u001b[43m)\u001b[49m\u001b[43m)\u001b[49m\n",
      "    \u001b[0;31m[... skipping hidden 14 frame]\u001b[0m\n",
      "Input \u001b[0;32mIn [366]\u001b[0m, in \u001b[0;36mdosaves\u001b[0;34m(val)\u001b[0m\n\u001b[1;32m     23\u001b[0m saveindex \u001b[38;5;241m=\u001b[39m saveindex \u001b[38;5;241m+\u001b[39m \u001b[38;5;241m1\u001b[39m\n\u001b[1;32m     24\u001b[0m scores \u001b[38;5;241m=\u001b[39m InfState\u001b[38;5;241m.\u001b[39mscores\n\u001b[0;32m---> 25\u001b[0m step \u001b[38;5;241m=\u001b[39m \u001b[43minfstate\u001b[49m\u001b[38;5;241;43m.\u001b[39;49m\u001b[43mstep\u001b[49m\n\u001b[1;32m     26\u001b[0m step \u001b[38;5;241m=\u001b[39m step \u001b[38;5;241m+\u001b[39m \u001b[38;5;241m1\u001b[39m\n\u001b[1;32m     27\u001b[0m accepteds \u001b[38;5;241m=\u001b[39m infstate\u001b[38;5;241m.\u001b[39maccepteds\n",
      "\u001b[0;31mAttributeError\u001b[0m: 'tuple' object has no attribute 'step'"
     ]
    }
   ],
   "source": [
    "def dosaves(val):\n",
    "    InfState = namedtuple(\"InfState\",\n",
    "           \"scores accepteds As Sigma1s Sigma2s step saveindex\")\n",
    "    state=val[0]\n",
    "    infstate=val[1]\n",
    "    \n",
    "    saveindex = infstate[6]#.saveindex\n",
    "    \n",
    "    A = state.position['g0']['A']\n",
    "    cov1 = state.position['p1']['cov']\n",
    "    cov2 = state.position['p2']['cov']\n",
    "    \n",
    "    As = infstate[2]#.As\n",
    "    Sigma1s = infstate[3]#.Sigma1s\n",
    "    Sigma2s = infstate[4]#.Sigma2s\n",
    "    \n",
    "    As = As.at[saveindex, :, :].set(A)\n",
    "    Sigma1s = Sigma1s.at[saveindex, :, :].set(cov1)\n",
    "    Sigma2s = Sigma2s.at[saveindex, :, :].set(cov2)\n",
    "    \n",
    "    \n",
    "    saveindex = saveindex\n",
    "    saveindex = saveindex + 1\n",
    "    scores = infstate.scores\n",
    "    step = infstate.step\n",
    "    step = step + 1\n",
    "    accepteds = infstate.accepteds\n",
    "    \n",
    "    infstate = (scores, accepteds, As, Sigma1s, Sigma2s, step, saveindex)\n",
    "    \n",
    "    val = state, infstate\n",
    "    \n",
    "    return val\n",
    "\n",
    "init_infstate = init_inference_state(1000, 100)\n",
    "assert init_infstate.As.shape == (10, p, p)\n",
    "assert init_infstate.Sigma1s.shape == (10, p1, p1)\n",
    "assert init_infstate.Sigma2s.shape == (10, p2, p2)\n",
    "\n",
    "\n",
    "inftuple = tuple(init_infstate)\n",
    "\n",
    "jax.jit(dosaves)((sample_state, inftuple))"
   ]
  },
  {
   "cell_type": "code",
   "execution_count": 357,
   "id": "d966ffe7",
   "metadata": {},
   "outputs": [
    {
     "data": {
      "text/plain": [
       "0"
      ]
     },
     "execution_count": 357,
     "metadata": {},
     "output_type": "execute_result"
    }
   ],
   "source": []
  },
  {
   "cell_type": "code",
   "execution_count": 364,
   "id": "fed0e82a",
   "metadata": {},
   "outputs": [
    {
     "data": {
      "text/plain": [
       "2"
      ]
     },
     "execution_count": 364,
     "metadata": {},
     "output_type": "execute_result"
    }
   ],
   "source": []
  },
  {
   "cell_type": "code",
   "execution_count": 310,
   "id": "61c7ec84",
   "metadata": {},
   "outputs": [
    {
     "data": {
      "text/plain": [
       "(10, 8, 8)"
      ]
     },
     "execution_count": 310,
     "metadata": {},
     "output_type": "execute_result"
    }
   ],
   "source": [
    "init_infstate.As.shape"
   ]
  },
  {
   "cell_type": "code",
   "execution_count": null,
   "id": "25a1fe8a",
   "metadata": {},
   "outputs": [],
   "source": []
  },
  {
   "cell_type": "code",
   "execution_count": 294,
   "id": "5f1ea37a",
   "metadata": {},
   "outputs": [
    {
     "data": {
      "text/plain": [
       "(SampleState(position={'g0': {'A': DeviceArray([[1., 0., 0., 0., 0., 0., 0., 0.],\n",
       "              [0., 1., 0., 0., 0., 0., 0., 0.],\n",
       "              [0., 0., 1., 0., 0., 0., 0., 0.],\n",
       "              [0., 0., 0., 1., 0., 0., 0., 0.],\n",
       "              [0., 0., 0., 0., 1., 0., 0., 0.],\n",
       "              [0., 0., 0., 0., 0., 1., 0., 0.],\n",
       "              [0., 0., 0., 0., 0., 0., 1., 0.],\n",
       "              [0., 0., 0., 0., 0., 0., 0., 1.]], dtype=float32), 'alpha': DeviceArray(2, dtype=int32, weak_type=True), 'beta': DeviceArray(2, dtype=int32, weak_type=True)}, 'g1': {'idx': (DeviceArray(0, dtype=int32, weak_type=True), DeviceArray(1, dtype=int32, weak_type=True), DeviceArray(2, dtype=int32, weak_type=True), DeviceArray(4, dtype=int32, weak_type=True), DeviceArray(6, dtype=int32, weak_type=True))}, 'g2': {'idx': (DeviceArray(0, dtype=int32, weak_type=True), DeviceArray(3, dtype=int32, weak_type=True), DeviceArray(4, dtype=int32, weak_type=True), DeviceArray(5, dtype=int32, weak_type=True), DeviceArray(6, dtype=int32, weak_type=True), DeviceArray(7, dtype=int32, weak_type=True))}, 'p1': {'V': DeviceArray([[ 4.76550813e-11, -1.19144321e-11, -1.19146117e-11,\n",
       "               -1.19098828e-11],\n",
       "              [-1.19144312e-11,  4.76503316e-11, -1.19169934e-11,\n",
       "               -1.19122524e-11],\n",
       "              [-1.19146125e-11, -1.19169917e-11,  4.76500159e-11,\n",
       "               -1.19124190e-11],\n",
       "              [-1.19098837e-11, -1.19122524e-11, -1.19124181e-11,\n",
       "                4.76595013e-11]], dtype=float32), 'cov': DeviceArray([[1., 0., 0., 0.],\n",
       "              [0., 1., 0., 0.],\n",
       "              [0., 0., 1., 0.],\n",
       "              [0., 0., 0., 1.]], dtype=float32), 'mu': DeviceArray([37392., 37392., 37392., 37392.], dtype=float32), 'nu': DeviceArray(4, dtype=int32, weak_type=True), 'y': DeviceArray([[37430.9  , 37383.305, 37419.855, 37400.902],\n",
       "              [37406.98 , 37415.22 , 37386.29 , 37394.99 ],\n",
       "              [37364.57 , 37426.3  , 37420.234, 37385.855]], dtype=float32)}, 'p2': {'V': DeviceArray([[8.e-08, 2.e-08, 2.e-08, 2.e-08, 2.e-08],\n",
       "              [2.e-08, 8.e-08, 2.e-08, 2.e-08, 2.e-08],\n",
       "              [2.e-08, 2.e-08, 8.e-08, 2.e-08, 2.e-08],\n",
       "              [2.e-08, 2.e-08, 2.e-08, 8.e-08, 2.e-08],\n",
       "              [2.e-08, 2.e-08, 2.e-08, 2.e-08, 8.e-08]], dtype=float32), 'cov': DeviceArray([[1., 0., 0., 0., 0.],\n",
       "              [0., 1., 0., 0., 0.],\n",
       "              [0., 0., 1., 0., 0.],\n",
       "              [0., 0., 0., 1., 0.],\n",
       "              [0., 0., 0., 0., 1.]], dtype=float32), 'mu': DeviceArray([2893921., 2893921., 2893921., 2893921., 2893921.], dtype=float32), 'nu': DeviceArray(5, dtype=int32, weak_type=True), 'y': DeviceArray([[2893859.8, 2894099.2, 2893637.8, 2893766. , 2893818.5],\n",
       "              [2893806.5, 2894122.5, 2893788.8, 2893851. , 2893846.5],\n",
       "              [2893709.2, 2893883.2, 2893637.8, 2893839.2, 2893673.8]],            dtype=float32)}}, params=SampleParams(nmc_steps=DeviceArray(1000, dtype=int32, weak_type=True), step=DeviceArray(0, dtype=int32, weak_type=True), T=DeviceArray(2, dtype=int32, weak_type=True), key=DeviceArray([    0, 12983], dtype=uint32), accepted=DeviceArray(False, dtype=bool))),\n",
       " InfState(scores=DeviceArray([0., 0., 0., 0., 0., 0., 0., 0., 0., 0., 0., 0., 0., 0., 0.,\n",
       "              0., 0., 0., 0., 0., 0., 0., 0., 0., 0., 0., 0., 0., 0., 0.,\n",
       "              0., 0., 0., 0., 0., 0., 0., 0., 0., 0., 0., 0., 0., 0., 0.,\n",
       "              0., 0., 0., 0., 0., 0., 0., 0., 0., 0., 0., 0., 0., 0., 0.,\n",
       "              0., 0., 0., 0., 0., 0., 0., 0., 0., 0., 0., 0., 0., 0., 0.,\n",
       "              0., 0., 0., 0., 0., 0., 0., 0., 0., 0., 0., 0., 0., 0., 0.,\n",
       "              0., 0., 0., 0., 0., 0., 0., 0., 0., 0., 0., 0., 0., 0., 0.,\n",
       "              0., 0., 0., 0., 0., 0., 0., 0., 0., 0., 0., 0., 0., 0., 0.,\n",
       "              0., 0., 0., 0., 0., 0., 0., 0., 0., 0., 0., 0., 0., 0., 0.,\n",
       "              0., 0., 0., 0., 0., 0., 0., 0., 0., 0., 0., 0., 0., 0., 0.,\n",
       "              0., 0., 0., 0., 0., 0., 0., 0., 0., 0., 0., 0., 0., 0., 0.,\n",
       "              0., 0., 0., 0., 0., 0., 0., 0., 0., 0., 0., 0., 0., 0., 0.,\n",
       "              0., 0., 0., 0., 0., 0., 0., 0., 0., 0., 0., 0., 0., 0., 0.,\n",
       "              0., 0., 0., 0., 0., 0., 0., 0., 0., 0., 0., 0., 0., 0., 0.,\n",
       "              0., 0., 0., 0., 0., 0., 0., 0., 0., 0., 0., 0., 0., 0., 0.,\n",
       "              0., 0., 0., 0., 0., 0., 0., 0., 0., 0., 0., 0., 0., 0., 0.,\n",
       "              0., 0., 0., 0., 0., 0., 0., 0., 0., 0., 0., 0., 0., 0., 0.,\n",
       "              0., 0., 0., 0., 0., 0., 0., 0., 0., 0., 0., 0., 0., 0., 0.,\n",
       "              0., 0., 0., 0., 0., 0., 0., 0., 0., 0., 0., 0., 0., 0., 0.,\n",
       "              0., 0., 0., 0., 0., 0., 0., 0., 0., 0., 0., 0., 0., 0., 0.,\n",
       "              0., 0., 0., 0., 0., 0., 0., 0., 0., 0., 0., 0., 0., 0., 0.,\n",
       "              0., 0., 0., 0., 0., 0., 0., 0., 0., 0., 0., 0., 0., 0., 0.,\n",
       "              0., 0., 0., 0., 0., 0., 0., 0., 0., 0., 0., 0., 0., 0., 0.,\n",
       "              0., 0., 0., 0., 0., 0., 0., 0., 0., 0., 0., 0., 0., 0., 0.,\n",
       "              0., 0., 0., 0., 0., 0., 0., 0., 0., 0., 0., 0., 0., 0., 0.,\n",
       "              0., 0., 0., 0., 0., 0., 0., 0., 0., 0., 0., 0., 0., 0., 0.,\n",
       "              0., 0., 0., 0., 0., 0., 0., 0., 0., 0., 0., 0., 0., 0., 0.,\n",
       "              0., 0., 0., 0., 0., 0., 0., 0., 0., 0., 0., 0., 0., 0., 0.,\n",
       "              0., 0., 0., 0., 0., 0., 0., 0., 0., 0., 0., 0., 0., 0., 0.,\n",
       "              0., 0., 0., 0., 0., 0., 0., 0., 0., 0., 0., 0., 0., 0., 0.,\n",
       "              0., 0., 0., 0., 0., 0., 0., 0., 0., 0., 0., 0., 0., 0., 0.,\n",
       "              0., 0., 0., 0., 0., 0., 0., 0., 0., 0., 0., 0., 0., 0., 0.,\n",
       "              0., 0., 0., 0., 0., 0., 0., 0., 0., 0., 0., 0., 0., 0., 0.,\n",
       "              0., 0., 0., 0., 0., 0., 0., 0., 0., 0., 0., 0., 0., 0., 0.,\n",
       "              0., 0., 0., 0., 0., 0., 0., 0., 0., 0., 0., 0., 0., 0., 0.,\n",
       "              0., 0., 0., 0., 0., 0., 0., 0., 0., 0., 0., 0., 0., 0., 0.,\n",
       "              0., 0., 0., 0., 0., 0., 0., 0., 0., 0., 0., 0., 0., 0., 0.,\n",
       "              0., 0., 0., 0., 0., 0., 0., 0., 0., 0., 0., 0., 0., 0., 0.,\n",
       "              0., 0., 0., 0., 0., 0., 0., 0., 0., 0., 0., 0., 0., 0., 0.,\n",
       "              0., 0., 0., 0., 0., 0., 0., 0., 0., 0., 0., 0., 0., 0., 0.,\n",
       "              0., 0., 0., 0., 0., 0., 0., 0., 0., 0., 0., 0., 0., 0., 0.,\n",
       "              0., 0., 0., 0., 0., 0., 0., 0., 0., 0., 0., 0., 0., 0., 0.,\n",
       "              0., 0., 0., 0., 0., 0., 0., 0., 0., 0., 0., 0., 0., 0., 0.,\n",
       "              0., 0., 0., 0., 0., 0., 0., 0., 0., 0., 0., 0., 0., 0., 0.,\n",
       "              0., 0., 0., 0., 0., 0., 0., 0., 0., 0., 0., 0., 0., 0., 0.,\n",
       "              0., 0., 0., 0., 0., 0., 0., 0., 0., 0., 0., 0., 0., 0., 0.,\n",
       "              0., 0., 0., 0., 0., 0., 0., 0., 0., 0., 0., 0., 0., 0., 0.,\n",
       "              0., 0., 0., 0., 0., 0., 0., 0., 0., 0., 0., 0., 0., 0., 0.,\n",
       "              0., 0., 0., 0., 0., 0., 0., 0., 0., 0., 0., 0., 0., 0., 0.,\n",
       "              0., 0., 0., 0., 0., 0., 0., 0., 0., 0., 0., 0., 0., 0., 0.,\n",
       "              0., 0., 0., 0., 0., 0., 0., 0., 0., 0., 0., 0., 0., 0., 0.,\n",
       "              0., 0., 0., 0., 0., 0., 0., 0., 0., 0., 0., 0., 0., 0., 0.,\n",
       "              0., 0., 0., 0., 0., 0., 0., 0., 0., 0., 0., 0., 0., 0., 0.,\n",
       "              0., 0., 0., 0., 0., 0., 0., 0., 0., 0., 0., 0., 0., 0., 0.,\n",
       "              0., 0., 0., 0., 0., 0., 0., 0., 0., 0., 0., 0., 0., 0., 0.,\n",
       "              0., 0., 0., 0., 0., 0., 0., 0., 0., 0., 0., 0., 0., 0., 0.,\n",
       "              0., 0., 0., 0., 0., 0., 0., 0., 0., 0., 0., 0., 0., 0., 0.,\n",
       "              0., 0., 0., 0., 0., 0., 0., 0., 0., 0., 0., 0., 0., 0., 0.,\n",
       "              0., 0., 0., 0., 0., 0., 0., 0., 0., 0., 0., 0., 0., 0., 0.,\n",
       "              0., 0., 0., 0., 0., 0., 0., 0., 0., 0., 0., 0., 0., 0., 0.,\n",
       "              0., 0., 0., 0., 0., 0., 0., 0., 0., 0., 0., 0., 0., 0., 0.,\n",
       "              0., 0., 0., 0., 0., 0., 0., 0., 0., 0., 0., 0., 0., 0., 0.,\n",
       "              0., 0., 0., 0., 0., 0., 0., 0., 0., 0., 0., 0., 0., 0., 0.,\n",
       "              0., 0., 0., 0., 0., 0., 0., 0., 0., 0., 0., 0., 0., 0., 0.,\n",
       "              0., 0., 0., 0., 0., 0., 0., 0., 0., 0., 0., 0., 0., 0., 0.,\n",
       "              0., 0., 0., 0., 0., 0., 0., 0., 0., 0., 0., 0., 0., 0., 0.,\n",
       "              0., 0., 0., 0., 0., 0., 0., 0., 0., 0.], dtype=float32), accepteds=DeviceArray([0., 0., 0., 0., 0., 0., 0., 0., 0., 0., 0., 0., 0., 0., 0.,\n",
       "              0., 0., 0., 0., 0., 0., 0., 0., 0., 0., 0., 0., 0., 0., 0.,\n",
       "              0., 0., 0., 0., 0., 0., 0., 0., 0., 0., 0., 0., 0., 0., 0.,\n",
       "              0., 0., 0., 0., 0., 0., 0., 0., 0., 0., 0., 0., 0., 0., 0.,\n",
       "              0., 0., 0., 0., 0., 0., 0., 0., 0., 0., 0., 0., 0., 0., 0.,\n",
       "              0., 0., 0., 0., 0., 0., 0., 0., 0., 0., 0., 0., 0., 0., 0.,\n",
       "              0., 0., 0., 0., 0., 0., 0., 0., 0., 0., 0., 0., 0., 0., 0.,\n",
       "              0., 0., 0., 0., 0., 0., 0., 0., 0., 0., 0., 0., 0., 0., 0.,\n",
       "              0., 0., 0., 0., 0., 0., 0., 0., 0., 0., 0., 0., 0., 0., 0.,\n",
       "              0., 0., 0., 0., 0., 0., 0., 0., 0., 0., 0., 0., 0., 0., 0.,\n",
       "              0., 0., 0., 0., 0., 0., 0., 0., 0., 0., 0., 0., 0., 0., 0.,\n",
       "              0., 0., 0., 0., 0., 0., 0., 0., 0., 0., 0., 0., 0., 0., 0.,\n",
       "              0., 0., 0., 0., 0., 0., 0., 0., 0., 0., 0., 0., 0., 0., 0.,\n",
       "              0., 0., 0., 0., 0., 0., 0., 0., 0., 0., 0., 0., 0., 0., 0.,\n",
       "              0., 0., 0., 0., 0., 0., 0., 0., 0., 0., 0., 0., 0., 0., 0.,\n",
       "              0., 0., 0., 0., 0., 0., 0., 0., 0., 0., 0., 0., 0., 0., 0.,\n",
       "              0., 0., 0., 0., 0., 0., 0., 0., 0., 0., 0., 0., 0., 0., 0.,\n",
       "              0., 0., 0., 0., 0., 0., 0., 0., 0., 0., 0., 0., 0., 0., 0.,\n",
       "              0., 0., 0., 0., 0., 0., 0., 0., 0., 0., 0., 0., 0., 0., 0.,\n",
       "              0., 0., 0., 0., 0., 0., 0., 0., 0., 0., 0., 0., 0., 0., 0.,\n",
       "              0., 0., 0., 0., 0., 0., 0., 0., 0., 0., 0., 0., 0., 0., 0.,\n",
       "              0., 0., 0., 0., 0., 0., 0., 0., 0., 0., 0., 0., 0., 0., 0.,\n",
       "              0., 0., 0., 0., 0., 0., 0., 0., 0., 0., 0., 0., 0., 0., 0.,\n",
       "              0., 0., 0., 0., 0., 0., 0., 0., 0., 0., 0., 0., 0., 0., 0.,\n",
       "              0., 0., 0., 0., 0., 0., 0., 0., 0., 0., 0., 0., 0., 0., 0.,\n",
       "              0., 0., 0., 0., 0., 0., 0., 0., 0., 0., 0., 0., 0., 0., 0.,\n",
       "              0., 0., 0., 0., 0., 0., 0., 0., 0., 0., 0., 0., 0., 0., 0.,\n",
       "              0., 0., 0., 0., 0., 0., 0., 0., 0., 0., 0., 0., 0., 0., 0.,\n",
       "              0., 0., 0., 0., 0., 0., 0., 0., 0., 0., 0., 0., 0., 0., 0.,\n",
       "              0., 0., 0., 0., 0., 0., 0., 0., 0., 0., 0., 0., 0., 0., 0.,\n",
       "              0., 0., 0., 0., 0., 0., 0., 0., 0., 0., 0., 0., 0., 0., 0.,\n",
       "              0., 0., 0., 0., 0., 0., 0., 0., 0., 0., 0., 0., 0., 0., 0.,\n",
       "              0., 0., 0., 0., 0., 0., 0., 0., 0., 0., 0., 0., 0., 0., 0.,\n",
       "              0., 0., 0., 0., 0., 0., 0., 0., 0., 0., 0., 0., 0., 0., 0.,\n",
       "              0., 0., 0., 0., 0., 0., 0., 0., 0., 0., 0., 0., 0., 0., 0.,\n",
       "              0., 0., 0., 0., 0., 0., 0., 0., 0., 0., 0., 0., 0., 0., 0.,\n",
       "              0., 0., 0., 0., 0., 0., 0., 0., 0., 0., 0., 0., 0., 0., 0.,\n",
       "              0., 0., 0., 0., 0., 0., 0., 0., 0., 0., 0., 0., 0., 0., 0.,\n",
       "              0., 0., 0., 0., 0., 0., 0., 0., 0., 0., 0., 0., 0., 0., 0.,\n",
       "              0., 0., 0., 0., 0., 0., 0., 0., 0., 0., 0., 0., 0., 0., 0.,\n",
       "              0., 0., 0., 0., 0., 0., 0., 0., 0., 0., 0., 0., 0., 0., 0.,\n",
       "              0., 0., 0., 0., 0., 0., 0., 0., 0., 0., 0., 0., 0., 0., 0.,\n",
       "              0., 0., 0., 0., 0., 0., 0., 0., 0., 0., 0., 0., 0., 0., 0.,\n",
       "              0., 0., 0., 0., 0., 0., 0., 0., 0., 0., 0., 0., 0., 0., 0.,\n",
       "              0., 0., 0., 0., 0., 0., 0., 0., 0., 0., 0., 0., 0., 0., 0.,\n",
       "              0., 0., 0., 0., 0., 0., 0., 0., 0., 0., 0., 0., 0., 0., 0.,\n",
       "              0., 0., 0., 0., 0., 0., 0., 0., 0., 0., 0., 0., 0., 0., 0.,\n",
       "              0., 0., 0., 0., 0., 0., 0., 0., 0., 0., 0., 0., 0., 0., 0.,\n",
       "              0., 0., 0., 0., 0., 0., 0., 0., 0., 0., 0., 0., 0., 0., 0.,\n",
       "              0., 0., 0., 0., 0., 0., 0., 0., 0., 0., 0., 0., 0., 0., 0.,\n",
       "              0., 0., 0., 0., 0., 0., 0., 0., 0., 0., 0., 0., 0., 0., 0.,\n",
       "              0., 0., 0., 0., 0., 0., 0., 0., 0., 0., 0., 0., 0., 0., 0.,\n",
       "              0., 0., 0., 0., 0., 0., 0., 0., 0., 0., 0., 0., 0., 0., 0.,\n",
       "              0., 0., 0., 0., 0., 0., 0., 0., 0., 0., 0., 0., 0., 0., 0.,\n",
       "              0., 0., 0., 0., 0., 0., 0., 0., 0., 0., 0., 0., 0., 0., 0.,\n",
       "              0., 0., 0., 0., 0., 0., 0., 0., 0., 0., 0., 0., 0., 0., 0.,\n",
       "              0., 0., 0., 0., 0., 0., 0., 0., 0., 0., 0., 0., 0., 0., 0.,\n",
       "              0., 0., 0., 0., 0., 0., 0., 0., 0., 0., 0., 0., 0., 0., 0.,\n",
       "              0., 0., 0., 0., 0., 0., 0., 0., 0., 0., 0., 0., 0., 0., 0.,\n",
       "              0., 0., 0., 0., 0., 0., 0., 0., 0., 0., 0., 0., 0., 0., 0.,\n",
       "              0., 0., 0., 0., 0., 0., 0., 0., 0., 0., 0., 0., 0., 0., 0.,\n",
       "              0., 0., 0., 0., 0., 0., 0., 0., 0., 0., 0., 0., 0., 0., 0.,\n",
       "              0., 0., 0., 0., 0., 0., 0., 0., 0., 0., 0., 0., 0., 0., 0.,\n",
       "              0., 0., 0., 0., 0., 0., 0., 0., 0., 0., 0., 0., 0., 0., 0.,\n",
       "              0., 0., 0., 0., 0., 0., 0., 0., 0., 0., 0., 0., 0., 0., 0.,\n",
       "              0., 0., 0., 0., 0., 0., 0., 0., 0., 0., 0., 0., 0., 0., 0.,\n",
       "              0., 0., 0., 0., 0., 0., 0., 0., 0., 0.], dtype=float32), As=DeviceArray([[[0., 0., 0., 0., 0., 0., 0., 0.],\n",
       "               [0., 0., 0., 0., 0., 0., 0., 0.],\n",
       "               [0., 0., 0., 0., 0., 0., 0., 0.],\n",
       "               [0., 0., 0., 0., 0., 0., 0., 0.],\n",
       "               [0., 0., 0., 0., 0., 0., 0., 0.],\n",
       "               [0., 0., 0., 0., 0., 0., 0., 0.],\n",
       "               [0., 0., 0., 0., 0., 0., 0., 0.],\n",
       "               [0., 0., 0., 0., 0., 0., 0., 0.]],\n",
       " \n",
       "              [[0., 0., 0., 0., 0., 0., 0., 0.],\n",
       "               [0., 0., 0., 0., 0., 0., 0., 0.],\n",
       "               [0., 0., 0., 0., 0., 0., 0., 0.],\n",
       "               [0., 0., 0., 0., 0., 0., 0., 0.],\n",
       "               [0., 0., 0., 0., 0., 0., 0., 0.],\n",
       "               [0., 0., 0., 0., 0., 0., 0., 0.],\n",
       "               [0., 0., 0., 0., 0., 0., 0., 0.],\n",
       "               [0., 0., 0., 0., 0., 0., 0., 0.]],\n",
       " \n",
       "              [[0., 0., 0., 0., 0., 0., 0., 0.],\n",
       "               [0., 0., 0., 0., 0., 0., 0., 0.],\n",
       "               [0., 0., 0., 0., 0., 0., 0., 0.],\n",
       "               [0., 0., 0., 0., 0., 0., 0., 0.],\n",
       "               [0., 0., 0., 0., 0., 0., 0., 0.],\n",
       "               [0., 0., 0., 0., 0., 0., 0., 0.],\n",
       "               [0., 0., 0., 0., 0., 0., 0., 0.],\n",
       "               [0., 0., 0., 0., 0., 0., 0., 0.]],\n",
       " \n",
       "              [[0., 0., 0., 0., 0., 0., 0., 0.],\n",
       "               [0., 0., 0., 0., 0., 0., 0., 0.],\n",
       "               [0., 0., 0., 0., 0., 0., 0., 0.],\n",
       "               [0., 0., 0., 0., 0., 0., 0., 0.],\n",
       "               [0., 0., 0., 0., 0., 0., 0., 0.],\n",
       "               [0., 0., 0., 0., 0., 0., 0., 0.],\n",
       "               [0., 0., 0., 0., 0., 0., 0., 0.],\n",
       "               [0., 0., 0., 0., 0., 0., 0., 0.]],\n",
       " \n",
       "              [[0., 0., 0., 0., 0., 0., 0., 0.],\n",
       "               [0., 0., 0., 0., 0., 0., 0., 0.],\n",
       "               [0., 0., 0., 0., 0., 0., 0., 0.],\n",
       "               [0., 0., 0., 0., 0., 0., 0., 0.],\n",
       "               [0., 0., 0., 0., 0., 0., 0., 0.],\n",
       "               [0., 0., 0., 0., 0., 0., 0., 0.],\n",
       "               [0., 0., 0., 0., 0., 0., 0., 0.],\n",
       "               [0., 0., 0., 0., 0., 0., 0., 0.]],\n",
       " \n",
       "              [[0., 0., 0., 0., 0., 0., 0., 0.],\n",
       "               [0., 0., 0., 0., 0., 0., 0., 0.],\n",
       "               [0., 0., 0., 0., 0., 0., 0., 0.],\n",
       "               [0., 0., 0., 0., 0., 0., 0., 0.],\n",
       "               [0., 0., 0., 0., 0., 0., 0., 0.],\n",
       "               [0., 0., 0., 0., 0., 0., 0., 0.],\n",
       "               [0., 0., 0., 0., 0., 0., 0., 0.],\n",
       "               [0., 0., 0., 0., 0., 0., 0., 0.]],\n",
       " \n",
       "              [[0., 0., 0., 0., 0., 0., 0., 0.],\n",
       "               [0., 0., 0., 0., 0., 0., 0., 0.],\n",
       "               [0., 0., 0., 0., 0., 0., 0., 0.],\n",
       "               [0., 0., 0., 0., 0., 0., 0., 0.],\n",
       "               [0., 0., 0., 0., 0., 0., 0., 0.],\n",
       "               [0., 0., 0., 0., 0., 0., 0., 0.],\n",
       "               [0., 0., 0., 0., 0., 0., 0., 0.],\n",
       "               [0., 0., 0., 0., 0., 0., 0., 0.]],\n",
       " \n",
       "              [[0., 0., 0., 0., 0., 0., 0., 0.],\n",
       "               [0., 0., 0., 0., 0., 0., 0., 0.],\n",
       "               [0., 0., 0., 0., 0., 0., 0., 0.],\n",
       "               [0., 0., 0., 0., 0., 0., 0., 0.],\n",
       "               [0., 0., 0., 0., 0., 0., 0., 0.],\n",
       "               [0., 0., 0., 0., 0., 0., 0., 0.],\n",
       "               [0., 0., 0., 0., 0., 0., 0., 0.],\n",
       "               [0., 0., 0., 0., 0., 0., 0., 0.]],\n",
       " \n",
       "              [[0., 0., 0., 0., 0., 0., 0., 0.],\n",
       "               [0., 0., 0., 0., 0., 0., 0., 0.],\n",
       "               [0., 0., 0., 0., 0., 0., 0., 0.],\n",
       "               [0., 0., 0., 0., 0., 0., 0., 0.],\n",
       "               [0., 0., 0., 0., 0., 0., 0., 0.],\n",
       "               [0., 0., 0., 0., 0., 0., 0., 0.],\n",
       "               [0., 0., 0., 0., 0., 0., 0., 0.],\n",
       "               [0., 0., 0., 0., 0., 0., 0., 0.]],\n",
       " \n",
       "              [[0., 0., 0., 0., 0., 0., 0., 0.],\n",
       "               [0., 0., 0., 0., 0., 0., 0., 0.],\n",
       "               [0., 0., 0., 0., 0., 0., 0., 0.],\n",
       "               [0., 0., 0., 0., 0., 0., 0., 0.],\n",
       "               [0., 0., 0., 0., 0., 0., 0., 0.],\n",
       "               [0., 0., 0., 0., 0., 0., 0., 0.],\n",
       "               [0., 0., 0., 0., 0., 0., 0., 0.],\n",
       "               [0., 0., 0., 0., 0., 0., 0., 0.]]], dtype=float32), Sigma1s=DeviceArray([[[0., 0., 0., 0.],\n",
       "               [0., 0., 0., 0.],\n",
       "               [0., 0., 0., 0.],\n",
       "               [0., 0., 0., 0.]],\n",
       " \n",
       "              [[0., 0., 0., 0.],\n",
       "               [0., 0., 0., 0.],\n",
       "               [0., 0., 0., 0.],\n",
       "               [0., 0., 0., 0.]],\n",
       " \n",
       "              [[0., 0., 0., 0.],\n",
       "               [0., 0., 0., 0.],\n",
       "               [0., 0., 0., 0.],\n",
       "               [0., 0., 0., 0.]],\n",
       " \n",
       "              [[0., 0., 0., 0.],\n",
       "               [0., 0., 0., 0.],\n",
       "               [0., 0., 0., 0.],\n",
       "               [0., 0., 0., 0.]],\n",
       " \n",
       "              [[0., 0., 0., 0.],\n",
       "               [0., 0., 0., 0.],\n",
       "               [0., 0., 0., 0.],\n",
       "               [0., 0., 0., 0.]],\n",
       " \n",
       "              [[0., 0., 0., 0.],\n",
       "               [0., 0., 0., 0.],\n",
       "               [0., 0., 0., 0.],\n",
       "               [0., 0., 0., 0.]],\n",
       " \n",
       "              [[0., 0., 0., 0.],\n",
       "               [0., 0., 0., 0.],\n",
       "               [0., 0., 0., 0.],\n",
       "               [0., 0., 0., 0.]],\n",
       " \n",
       "              [[0., 0., 0., 0.],\n",
       "               [0., 0., 0., 0.],\n",
       "               [0., 0., 0., 0.],\n",
       "               [0., 0., 0., 0.]],\n",
       " \n",
       "              [[0., 0., 0., 0.],\n",
       "               [0., 0., 0., 0.],\n",
       "               [0., 0., 0., 0.],\n",
       "               [0., 0., 0., 0.]],\n",
       " \n",
       "              [[0., 0., 0., 0.],\n",
       "               [0., 0., 0., 0.],\n",
       "               [0., 0., 0., 0.],\n",
       "               [0., 0., 0., 0.]]], dtype=float32), Sigma2s=DeviceArray([[[0., 0., 0., 0., 0.],\n",
       "               [0., 0., 0., 0., 0.],\n",
       "               [0., 0., 0., 0., 0.],\n",
       "               [0., 0., 0., 0., 0.],\n",
       "               [0., 0., 0., 0., 0.]],\n",
       " \n",
       "              [[0., 0., 0., 0., 0.],\n",
       "               [0., 0., 0., 0., 0.],\n",
       "               [0., 0., 0., 0., 0.],\n",
       "               [0., 0., 0., 0., 0.],\n",
       "               [0., 0., 0., 0., 0.]],\n",
       " \n",
       "              [[0., 0., 0., 0., 0.],\n",
       "               [0., 0., 0., 0., 0.],\n",
       "               [0., 0., 0., 0., 0.],\n",
       "               [0., 0., 0., 0., 0.],\n",
       "               [0., 0., 0., 0., 0.]],\n",
       " \n",
       "              [[0., 0., 0., 0., 0.],\n",
       "               [0., 0., 0., 0., 0.],\n",
       "               [0., 0., 0., 0., 0.],\n",
       "               [0., 0., 0., 0., 0.],\n",
       "               [0., 0., 0., 0., 0.]],\n",
       " \n",
       "              [[0., 0., 0., 0., 0.],\n",
       "               [0., 0., 0., 0., 0.],\n",
       "               [0., 0., 0., 0., 0.],\n",
       "               [0., 0., 0., 0., 0.],\n",
       "               [0., 0., 0., 0., 0.]],\n",
       " \n",
       "              [[0., 0., 0., 0., 0.],\n",
       "               [0., 0., 0., 0., 0.],\n",
       "               [0., 0., 0., 0., 0.],\n",
       "               [0., 0., 0., 0., 0.],\n",
       "               [0., 0., 0., 0., 0.]],\n",
       " \n",
       "              [[0., 0., 0., 0., 0.],\n",
       "               [0., 0., 0., 0., 0.],\n",
       "               [0., 0., 0., 0., 0.],\n",
       "               [0., 0., 0., 0., 0.],\n",
       "               [0., 0., 0., 0., 0.]],\n",
       " \n",
       "              [[0., 0., 0., 0., 0.],\n",
       "               [0., 0., 0., 0., 0.],\n",
       "               [0., 0., 0., 0., 0.],\n",
       "               [0., 0., 0., 0., 0.],\n",
       "               [0., 0., 0., 0., 0.]],\n",
       " \n",
       "              [[0., 0., 0., 0., 0.],\n",
       "               [0., 0., 0., 0., 0.],\n",
       "               [0., 0., 0., 0., 0.],\n",
       "               [0., 0., 0., 0., 0.],\n",
       "               [0., 0., 0., 0., 0.]],\n",
       " \n",
       "              [[0., 0., 0., 0., 0.],\n",
       "               [0., 0., 0., 0., 0.],\n",
       "               [0., 0., 0., 0., 0.],\n",
       "               [0., 0., 0., 0., 0.],\n",
       "               [0., 0., 0., 0., 0.]]], dtype=float32), step=DeviceArray(1, dtype=int32, weak_type=True), saveindex=DeviceArray(0, dtype=int32, weak_type=True)))"
      ]
     },
     "execution_count": 294,
     "metadata": {},
     "output_type": "execute_result"
    }
   ],
   "source": [
    "jax.jit(dontsave)((sample_state, init_infstate))"
   ]
  },
  {
   "cell_type": "code",
   "execution_count": 273,
   "id": "fa09b542",
   "metadata": {
    "collapsed": true
   },
   "outputs": [
    {
     "ename": "TypeError",
     "evalue": "Value _tuplegetter(0, 'Alias for field number 0') with type <class '_collections._tuplegetter'> is not a valid JAX type",
     "output_type": "error",
     "traceback": [
      "\u001b[0;31m---------------------------------------------------------------------------\u001b[0m",
      "\u001b[0;31mTypeError\u001b[0m                                 Traceback (most recent call last)",
      "Input \u001b[0;32mIn [273]\u001b[0m, in \u001b[0;36m<cell line: 1>\u001b[0;34m()\u001b[0m\n\u001b[0;32m----> 1\u001b[0m \u001b[43minference_loop\u001b[49m\u001b[43m(\u001b[49m\u001b[43msample_state\u001b[49m\u001b[43m)\u001b[49m\n",
      "Input \u001b[0;32mIn [270]\u001b[0m, in \u001b[0;36mdo_inference\u001b[0;34m(init_state, update_fun, nsteps, save_position_every)\u001b[0m\n\u001b[1;32m     79\u001b[0m     \u001b[38;5;28;01mreturn\u001b[39;00m val\n\u001b[1;32m     80\u001b[0m val \u001b[38;5;241m=\u001b[39m init_state, init_infstate\n\u001b[0;32m---> 81\u001b[0m \u001b[38;5;28;01mreturn\u001b[39;00m \u001b[43mjax\u001b[49m\u001b[38;5;241;43m.\u001b[39;49m\u001b[43mlax\u001b[49m\u001b[38;5;241;43m.\u001b[39;49m\u001b[43mfori_loop\u001b[49m\u001b[43m(\u001b[49m\u001b[38;5;241;43m0\u001b[39;49m\u001b[43m,\u001b[49m\u001b[43m \u001b[49m\u001b[43mnsteps\u001b[49m\u001b[43m,\u001b[49m\u001b[43m \u001b[49m\u001b[43mbody\u001b[49m\u001b[43m,\u001b[49m\u001b[43m \u001b[49m\u001b[43mval\u001b[49m\u001b[43m)\u001b[49m\n",
      "    \u001b[0;31m[... skipping hidden 12 frame]\u001b[0m\n",
      "Input \u001b[0;32mIn [270]\u001b[0m, in \u001b[0;36mdo_inference.<locals>.body\u001b[0;34m(i, val)\u001b[0m\n\u001b[1;32m     67\u001b[0m notsave \u001b[38;5;241m=\u001b[39m step \u001b[38;5;241m%\u001b[39m nsaves\n\u001b[1;32m     69\u001b[0m val \u001b[38;5;241m=\u001b[39m state, infstate\n\u001b[0;32m---> 71\u001b[0m scratch, updated_infstate \u001b[38;5;241m=\u001b[39m \u001b[43mjax\u001b[49m\u001b[38;5;241;43m.\u001b[39;49m\u001b[43mlax\u001b[49m\u001b[38;5;241;43m.\u001b[39;49m\u001b[43mcond\u001b[49m\u001b[43m(\u001b[49m\u001b[43mnotsave\u001b[49m\u001b[38;5;241;43m==\u001b[39;49m\u001b[38;5;28;43;01mFalse\u001b[39;49;00m\u001b[43m,\u001b[49m\n\u001b[1;32m     72\u001b[0m \u001b[43m                               \u001b[49m\u001b[43mdosaves\u001b[49m\u001b[43m,\u001b[49m\n\u001b[1;32m     73\u001b[0m \u001b[43m                               \u001b[49m\u001b[43mdontsave\u001b[49m\u001b[43m,\u001b[49m\n\u001b[1;32m     74\u001b[0m \u001b[43m                               \u001b[49m\u001b[43mval\u001b[49m\u001b[43m)\u001b[49m\n\u001b[1;32m     76\u001b[0m updated_state \u001b[38;5;241m=\u001b[39m update_fun(state)\n\u001b[1;32m     77\u001b[0m val \u001b[38;5;241m=\u001b[39m updated_state, updated_infstate\n",
      "    \u001b[0;31m[... skipping hidden 16 frame]\u001b[0m\n",
      "File \u001b[0;32m~/anaconda3/envs/pynetp3.10.0clone/lib/python3.10/site-packages/jax/core.py:1170\u001b[0m, in \u001b[0;36mconcrete_aval\u001b[0;34m(x)\u001b[0m\n\u001b[1;32m   1168\u001b[0m \u001b[38;5;28;01mif\u001b[39;00m \u001b[38;5;28mhasattr\u001b[39m(x, \u001b[38;5;124m'\u001b[39m\u001b[38;5;124m__jax_array__\u001b[39m\u001b[38;5;124m'\u001b[39m):\n\u001b[1;32m   1169\u001b[0m   \u001b[38;5;28;01mreturn\u001b[39;00m concrete_aval(x\u001b[38;5;241m.\u001b[39m__jax_array__())\n\u001b[0;32m-> 1170\u001b[0m \u001b[38;5;28;01mraise\u001b[39;00m \u001b[38;5;167;01mTypeError\u001b[39;00m(\u001b[38;5;124mf\u001b[39m\u001b[38;5;124m\"\u001b[39m\u001b[38;5;124mValue \u001b[39m\u001b[38;5;132;01m{\u001b[39;00m\u001b[38;5;28mrepr\u001b[39m(x)\u001b[38;5;132;01m}\u001b[39;00m\u001b[38;5;124m with type \u001b[39m\u001b[38;5;132;01m{\u001b[39;00m\u001b[38;5;28mtype\u001b[39m(x)\u001b[38;5;132;01m}\u001b[39;00m\u001b[38;5;124m is not a valid JAX \u001b[39m\u001b[38;5;124m\"\u001b[39m\n\u001b[1;32m   1171\u001b[0m                  \u001b[38;5;124m\"\u001b[39m\u001b[38;5;124mtype\u001b[39m\u001b[38;5;124m\"\u001b[39m)\n",
      "\u001b[0;31mTypeError\u001b[0m: Value _tuplegetter(0, 'Alias for field number 0') with type <class '_collections._tuplegetter'> is not a valid JAX type"
     ]
    }
   ],
   "source": [
    "inference_loop(sample_state)"
   ]
  },
  {
   "cell_type": "code",
   "execution_count": 280,
   "id": "42ce7586",
   "metadata": {
    "collapsed": true
   },
   "outputs": [
    {
     "ename": "TypeError",
     "evalue": "Value _tuplegetter(0, 'Alias for field number 0') with type <class '_collections._tuplegetter'> is not a valid JAX type",
     "output_type": "error",
     "traceback": [
      "\u001b[0;31m---------------------------------------------------------------------------\u001b[0m",
      "\u001b[0;31mTypeError\u001b[0m                                 Traceback (most recent call last)",
      "Input \u001b[0;32mIn [280]\u001b[0m, in \u001b[0;36m<cell line: 2>\u001b[0;34m()\u001b[0m\n\u001b[1;32m      1\u001b[0m val \u001b[38;5;241m=\u001b[39m sample_state, init_infstate\n\u001b[0;32m----> 2\u001b[0m \u001b[43mjax\u001b[49m\u001b[38;5;241;43m.\u001b[39;49m\u001b[43mlax\u001b[49m\u001b[38;5;241;43m.\u001b[39;49m\u001b[43mcond\u001b[49m\u001b[43m(\u001b[49m\u001b[38;5;241;43m0\u001b[39;49m\u001b[43m,\u001b[49m\u001b[43m \u001b[49m\u001b[43mdosaves\u001b[49m\u001b[43m,\u001b[49m\u001b[43m \u001b[49m\u001b[43mdontsave\u001b[49m\u001b[43m,\u001b[49m\u001b[43m \u001b[49m\u001b[43mval\u001b[49m\u001b[43m)\u001b[49m\n",
      "    \u001b[0;31m[... skipping hidden 16 frame]\u001b[0m\n",
      "File \u001b[0;32m~/anaconda3/envs/pynetp3.10.0clone/lib/python3.10/site-packages/jax/core.py:1170\u001b[0m, in \u001b[0;36mconcrete_aval\u001b[0;34m(x)\u001b[0m\n\u001b[1;32m   1168\u001b[0m \u001b[38;5;28;01mif\u001b[39;00m \u001b[38;5;28mhasattr\u001b[39m(x, \u001b[38;5;124m'\u001b[39m\u001b[38;5;124m__jax_array__\u001b[39m\u001b[38;5;124m'\u001b[39m):\n\u001b[1;32m   1169\u001b[0m   \u001b[38;5;28;01mreturn\u001b[39;00m concrete_aval(x\u001b[38;5;241m.\u001b[39m__jax_array__())\n\u001b[0;32m-> 1170\u001b[0m \u001b[38;5;28;01mraise\u001b[39;00m \u001b[38;5;167;01mTypeError\u001b[39;00m(\u001b[38;5;124mf\u001b[39m\u001b[38;5;124m\"\u001b[39m\u001b[38;5;124mValue \u001b[39m\u001b[38;5;132;01m{\u001b[39;00m\u001b[38;5;28mrepr\u001b[39m(x)\u001b[38;5;132;01m}\u001b[39;00m\u001b[38;5;124m with type \u001b[39m\u001b[38;5;132;01m{\u001b[39;00m\u001b[38;5;28mtype\u001b[39m(x)\u001b[38;5;132;01m}\u001b[39;00m\u001b[38;5;124m is not a valid JAX \u001b[39m\u001b[38;5;124m\"\u001b[39m\n\u001b[1;32m   1171\u001b[0m                  \u001b[38;5;124m\"\u001b[39m\u001b[38;5;124mtype\u001b[39m\u001b[38;5;124m\"\u001b[39m)\n",
      "\u001b[0;31mTypeError\u001b[0m: Value _tuplegetter(0, 'Alias for field number 0') with type <class '_collections._tuplegetter'> is not a valid JAX type"
     ]
    }
   ],
   "source": [
    "val = sample_state, init_infstate\n",
    "jax.lax.cond(0, dosaves, dontsave, val)"
   ]
  },
  {
   "cell_type": "code",
   "execution_count": 281,
   "id": "7a07022f",
   "metadata": {},
   "outputs": [
    {
     "data": {
      "text/plain": [
       "(DeviceArray(0, dtype=int32, weak_type=True),\n",
       " DeviceArray(1, dtype=int32, weak_type=True))"
      ]
     },
     "execution_count": 281,
     "metadata": {},
     "output_type": "execute_result"
    }
   ],
   "source": []
  },
  {
   "cell_type": "code",
   "execution_count": 268,
   "id": "c9c0ca92",
   "metadata": {},
   "outputs": [],
   "source": [
    "def ftest(x):\n",
    "    mytupe = namedtuple(\"X\", 'x, y')\n",
    "    return mytupe(x, 0)"
   ]
  },
  {
   "cell_type": "code",
   "execution_count": 269,
   "id": "9b7a2102",
   "metadata": {},
   "outputs": [
    {
     "data": {
      "text/plain": [
       "X(x=DeviceArray(0, dtype=int32, weak_type=True), y=DeviceArray(0, dtype=int32, weak_type=True))"
      ]
     },
     "execution_count": 269,
     "metadata": {},
     "output_type": "execute_result"
    }
   ],
   "source": []
  },
  {
   "cell_type": "code",
   "execution_count": 173,
   "id": "23e1a3ba",
   "metadata": {},
   "outputs": [
    {
     "data": {
      "text/plain": [
       "DeviceArray(0.2835287, dtype=float32)"
      ]
     },
     "execution_count": 173,
     "metadata": {},
     "output_type": "execute_result"
    }
   ],
   "source": [
    "jax.random.uniform(key, minval=0, maxval=1)"
   ]
  },
  {
   "cell_type": "code",
   "execution_count": 69,
   "id": "1a5ee1f4",
   "metadata": {
    "collapsed": true
   },
   "outputs": [
    {
     "data": {
      "text/plain": [
       "[<matplotlib.lines.Line2D at 0x7f8a7026d630>]"
      ]
     },
     "execution_count": 69,
     "metadata": {},
     "output_type": "execute_result"
    },
    {
     "data": {
      "image/png": "[encoded data removed]",
      "text/plain": [
       "<Figure size 640x480 with 1 Axes>"
      ]
     },
     "metadata": {},
     "output_type": "display_data"
    }
   ],
   "source": [
    "x = jnp.arange(-10, 10)\n",
    "y = jsp.stats.logistic.cdf(x)\n",
    "plt.plot(x, y, 'r.')"
   ]
  },
  {
   "cell_type": "code",
   "execution_count": 126,
   "id": "c9608267",
   "metadata": {},
   "outputs": [
    {
     "name": "stdout",
     "output_type": "stream",
     "text": [
      "[0]\n"
     ]
    }
   ],
   "source": [
    "s = 0\n",
    "for i in range(100):\n",
    "    ky = jax.random.PRNGKey(i)\n",
    "    s += jax.random.randint(ky, shape=(1,), minval=0, maxval=1)\n",
    "print(s)"
   ]
  },
  {
   "cell_type": "code",
   "execution_count": 88,
   "id": "899848e0",
   "metadata": {
    "collapsed": true
   },
   "outputs": [
    {
     "data": {
      "text/plain": [
       "[<matplotlib.lines.Line2D at 0x7f8963fdba60>]"
      ]
     },
     "execution_count": 88,
     "metadata": {},
     "output_type": "execute_result"
    },
    {
     "data": {
      "image/png": "[encoded data removed]",
      "text/plain": [
       "<Figure size 640x480 with 1 Axes>"
      ]
     },
     "metadata": {},
     "output_type": "display_data"
    }
   ],
   "source": [
    "# exponential distribution\n",
    "x = jnp.arange(0, 10)\n",
    "ypdf = jsp.stats.expon.pdf(x, scale=2)\n",
    "ylpdf = jsp.stats.expon.logpdf(x, scale=2)\n",
    "plt.plot(x, ypdf)\n",
    "plt.plot(x, ylpdf)"
   ]
  },
  {
   "cell_type": "code",
   "execution_count": 96,
   "id": "08074bab",
   "metadata": {},
   "outputs": [
    {
     "data": {
      "text/plain": [
       "DeviceArray([[-3.28456906e-07, -2.33308128e-09,  3.30800049e-07],\n",
       "             [ 8.64975149e-08,  1.21117594e-07, -2.07623344e-07],\n",
       "             [ 2.41965324e-07, -1.18790055e-07, -1.23177088e-07]],            dtype=float32)"
      ]
     },
     "execution_count": 96,
     "metadata": {},
     "output_type": "execute_result"
    }
   ],
   "source": [
    "inv(y2 @ y2.T)"
   ]
  },
  {
   "cell_type": "code",
   "execution_count": 45,
   "id": "fe5ad87e",
   "metadata": {
    "collapsed": true
   },
   "outputs": [
    {
     "data": {
      "text/plain": [
       "DeviceArray([[2., 1., 0., 0.],\n",
       "             [1., 2., 0., 1.],\n",
       "             [0., 0., 2., 1.],\n",
       "             [0., 1., 1., 2.]], dtype=float32)"
      ]
     },
     "execution_count": 45,
     "metadata": {},
     "output_type": "execute_result"
    }
   ],
   "source": [
    "projectAtog1(Atrue).at[jnp.diag_indices(p1)].set(2)"
   ]
  },
  {
   "cell_type": "code",
   "execution_count": 75,
   "id": "0a50ce96",
   "metadata": {},
   "outputs": [
    {
     "data": {
      "text/plain": [
       "DeviceArray([[3.9408867 , 0.03940887, 0.        , 0.        ],\n",
       "             [0.03940887, 3.9408867 , 0.        , 0.03940887],\n",
       "             [0.        , 0.        , 3.9408867 , 0.03940887],\n",
       "             [0.        , 0.03940887, 0.03940887, 3.9408867 ]],            dtype=float32)"
      ]
     },
     "execution_count": 75,
     "metadata": {},
     "output_type": "execute_result"
    }
   ],
   "source": [
    "norm_squares(data_prec1)"
   ]
  },
  {
   "cell_type": "code",
   "execution_count": 14,
   "id": "7b2e6272",
   "metadata": {},
   "outputs": [
    {
     "data": {
      "text/plain": [
       "'268,435,456'"
      ]
     },
     "execution_count": 14,
     "metadata": {},
     "output_type": "execute_result"
    }
   ],
   "source": [
    "# scratch\n",
    "'{:,}'.format(nsolutions)"
   ]
  },
  {
   "cell_type": "code",
   "execution_count": 88,
   "id": "d0bcb50d",
   "metadata": {},
   "outputs": [
    {
     "data": {
      "text/plain": [
       "<matplotlib.image.AxesImage at 0x7effdabd75b0>"
      ]
     },
     "execution_count": 88,
     "metadata": {},
     "output_type": "execute_result"
    },
    {
     "data": {
      "image/png": "[encoded data removed]",
      "text/plain": [
       "<Figure size 640x480 with 1 Axes>"
      ]
     },
     "metadata": {},
     "output_type": "display_data"
    }
   ],
   "source": [
    "plt.title(\"True interaction network\")\n",
    "plt.xlabel(\"Protein ID\")\n",
    "plt.ylabel(\"Protein ID\")\n",
    "plt.imshow(Atrue, 'bone')"
   ]
  },
  {
   "cell_type": "code",
   "execution_count": 48,
   "id": "4b64e4e2",
   "metadata": {},
   "outputs": [
    {
     "data": {
      "text/plain": [
       "[<matplotlib.lines.Line2D at 0x7efa84113a60>]"
      ]
     },
     "execution_count": 48,
     "metadata": {},
     "output_type": "execute_result"
    },
    {
     "data": {
      "image/png": "[encoded data removed]",
      "text/plain": [
       "<Figure size 640x480 with 1 Axes>"
      ]
     },
     "metadata": {},
     "output_type": "display_data"
    }
   ],
   "source": [
    "# Make some plots of model assumptions\n",
    "x = np.arange(0, 1, 0.1)\n",
    "y = lpdf.beta(x, alpha, beta)\n",
    "plt.title(\"log Beta prior\")\n",
    "plt.ylabel(f\"log beta(x | {alpha},{beta})\")\n",
    "plt.plot(x, y, 'b.')"
   ]
  },
  {
   "cell_type": "code",
   "execution_count": 58,
   "id": "ef52b94a",
   "metadata": {},
   "outputs": [
    {
     "data": {
      "text/plain": [
       "Text(0.5, 0, 'k-edges out of 28 possible pairs')"
      ]
     },
     "execution_count": 58,
     "metadata": {},
     "output_type": "execute_result"
    },
    {
     "data": {
      "image/png": "[encoded data removed]",
      "text/plain": [
       "<Figure size 640x480 with 1 Axes>"
      ]
     },
     "metadata": {},
     "output_type": "display_data"
    }
   ],
   "source": [
    "k = jnp.arange(0, m, 1, dtype=int)\n",
    "y = lpmf.betabinom(k, m, alpha, beta)\n",
    "plt.plot(k, y, 'b.')\n",
    "plt.title(f\"log betabinom(k| {m}, {alpha}, {beta}) prior\")\n",
    "plt.ylabel(f\"log pmf\")\n",
    "plt.xlabel(f\"k-edges out of {m} possible pairs\")"
   ]
  },
  {
   "cell_type": "code",
   "execution_count": 26,
   "id": "a64d29a3",
   "metadata": {},
   "outputs": [
    {
     "data": {
      "text/plain": [
       "28"
      ]
     },
     "execution_count": 26,
     "metadata": {},
     "output_type": "execute_result"
    }
   ],
   "source": []
  }
 ],
 "metadata": {
  "kernelspec": {
   "display_name": "Python 3 (ipykernel)",
   "language": "python",
   "name": "python3"
  },
  "language_info": {
   "codemirror_mode": {
    "name": "ipython",
    "version": 3
   },
   "file_extension": ".py",
   "mimetype": "text/x-python",
   "name": "python",
   "nbconvert_exporter": "python",
   "pygments_lexer": "ipython3",
   "version": "3.10.6"
  }
 },
 "nbformat": 4,
 "nbformat_minor": 5
}
