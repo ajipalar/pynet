{
 "cells": [
  {
   "cell_type": "code",
   "execution_count": 1,
   "id": "6cf15bc4",
   "metadata": {},
   "outputs": [],
   "source": [
    "import numpy as np\n",
    "import jax\n",
    "import jax.numpy as jnp\n",
    "import jax.scipy as jsp\n",
    "import matplotlib.pyplot as plt\n",
    "from typing import Callable\n",
    "from functools import partial"
   ]
  },
  {
   "cell_type": "code",
   "execution_count": 2,
   "id": "2be16d2c",
   "metadata": {},
   "outputs": [
    {
     "name": "stderr",
     "output_type": "stream",
     "text": [
      "WARNING:absl:No GPU/TPU found, falling back to CPU. (Set TF_CPP_MIN_LOG_LEVEL=0 and rerun for more info.)\n"
     ]
    },
    {
     "data": {
      "image/png": "[encoded data removed]",
      "text/plain": [
       "<Figure size 432x288 with 1 Axes>"
      ]
     },
     "metadata": {
      "needs_background": "light"
     },
     "output_type": "display_data"
    }
   ],
   "source": [
    "pmf = jsp.stats.poisson.pmf\n",
    "\n",
    "x = np.arange(0, 32)\n",
    "lamb = 7.2\n",
    "y = pmf(x, lamb)\n",
    "\n",
    "title = f\"Poisson PMF\\nrate {lamb}\"\n",
    "plt.plot(x, y, 'k.')\n",
    "plt.xlabel('Spectral Counts')\n",
    "plt.ylabel('Frequency')\n",
    "\n",
    "\n",
    "# Generate random samples\n",
    "key = jax.random.PRNGKey(113)\n",
    "n = 100\n",
    "samples = jax.random.poisson(key, lamb, [n])\n",
    "\n",
    "med = np.median(samples)\n",
    "med = np.round(med)\n",
    "var = np.var(samples)\n",
    "var = np.round(var)\n",
    "\n",
    "title += f'\\n n={n} med {med}  var {var}'\n",
    "plt.title(title)\n",
    "plt.show()"
   ]
  },
  {
   "cell_type": "code",
   "execution_count": 3,
   "id": "048d17e1",
   "metadata": {},
   "outputs": [],
   "source": [
    "def slice_sweep__s(key, x: float, pstar: Callable, w: float) -> Callable:\n",
    "    \"\"\"Univariate Slice Sampling\n",
    "    \n",
    "    (x, u) -> (x', u')\n",
    "    Maps a point x, u under the density function pstar to x' u'\n",
    "    \n",
    "    Folowing David MacKay Book\n",
    "\n",
    "    Advantages:\n",
    "\n",
    "    No need for tuning (opposed to Metropolis). src wikipedia\n",
    "    Automatically adjusts the step size to match the local shape\n",
    "    of the density function.\n",
    "    Easier to implement than gibbs.\n",
    "  \n",
    "    Random variates exhibit seriel statistical dependance.\n",
    "  \n",
    "    For P(x) = 1/Z * P*(x)\n",
    "    Thus P*(x) \\propto P(x)\n",
    "  \n",
    "    MacKay Pseudocode\n",
    "  \n",
    "    1. evaluate P*(x)\n",
    "    2. draw a vertical coordinate u' ~ Unmiform(0, P*(x))\n",
    "    3. create a horizontal interval (xl, xr) enclosing x\n",
    "    4. loop {\n",
    "    5.   draw x' ~ Uniform(xl, xr)\n",
    "    6.   evaluate P*(x')\n",
    "    7.   if P*(x') > u' break out of loop 4-9\n",
    "    8.   else modify the interval (xl, xr)\n",
    "    }\n",
    "    \n",
    "    Params:\n",
    "    \n",
    "      key: A jax.random.PRNGKeyArray\n",
    "      x: A starting coordinate for the sweep within the domain of pstar\n",
    "      pstar: A univariate (1-dimensional) probability mass or density function of one parameter.\n",
    "             p(x)=1/Z*pstar(x). Thus pstar does not have to be normalized\n",
    "      w: A weight parameter for the stepping our algorithm in step 3.\n",
    "      \n",
    "    Returns:\n",
    "      x_prime, u_prim\n",
    "    \"\"\"\n",
    "    \n",
    "    k1, k2, k3, k4 = jax.random.split(key, 4)\n",
    "    # step 1 evaluate pstar(x)\n",
    "    u = pstar(x)\n",
    "    \n",
    "    # step 2 draw a vertical coordinate\n",
    "    u_prime = jax.random.uniform(k1, minval=0, maxval=u)\n",
    "    \n",
    "    # step 3 create a horizontal interval (xl, xr) enclosing x\n",
    "    r = jax.random.uniform(k2, minval=0, maxval=1)\n",
    "    \n",
    "    xl = x - r * w\n",
    "    xr = x + (1 - r) * w\n",
    "    \n",
    "    xl = jax.lax.while_loop(lambda xl: pstar(xl) > u_prime, lambda xl: xl - w, xl)\n",
    "    xr = jax.lax.while_loop(lambda xr: pstar(xr) > u_prime, lambda xr: xr + w, xr)\n",
    "    \n",
    "    # step 4 loop 1st iteration\n",
    "    \n",
    "    loop_break = False\n",
    "    \n",
    "    # step 5 draw x'\n",
    "    x_prime = jax.random.uniform(k3, minval=xl, maxval=xr)\n",
    "    \n",
    "    # step 6 evaluate pstar(x')\n",
    "    t = pstar(x_prime)\n",
    "    \n",
    "    \n",
    "    def step7_true_func(val):\n",
    "        \"\"\"Do nothing break out of loop\"\"\"\n",
    "        key, x, x_prime, xl, xr, u_prime, t, loop_break = val\n",
    "        loop_break = True\n",
    "        return key, x, x_prime, xl, xr, u_prime, t, loop_break\n",
    "\n",
    "    def step8(val):\n",
    "        \"\"\"Perform the shrinking method for step 8\"\"\"\n",
    "        key, x, x_prime, xl, xr, u_prime, t, loop_break = val       \n",
    "        \n",
    "        x_prime, x, xr, xl = jax.lax.cond(\n",
    "            x_prime > x, \n",
    "            lambda x_prime, x, xr, xl: (x_prime, x, x_prime, xl),  # reduce the right side\n",
    "            lambda x_prime, x, xr, xl: (x_prime, x, xr, x_prime),  # reduce the left side\n",
    "            *(x_prime, x, xr, xl))\n",
    "        \n",
    "        return key, x, x_prime, xl, xr, u_prime, t, loop_break\n",
    "    \n",
    "    def step7_and_8(val):\n",
    "        val = jax.lax.cond(\n",
    "            val[6] > val[5], # p*(x')>u'\n",
    "            step7_true_func, # do nothing. Break out of loop\n",
    "            step8, # step 8 modify the interval (xl, xr)\n",
    "            val)\n",
    "        \n",
    "        return val\n",
    "\n",
    "    # step 7 if pstar(x') > u' break out of loop. else modify interval\n",
    "    \n",
    "    val = k4, x, x_prime, xl, xr, u_prime, t, loop_break\n",
    "    val = step7_and_8(val)\n",
    "\n",
    "    def step4_loop_body(val):\n",
    "        \n",
    "        # step 5 draw x'\n",
    "        key, x, x_prime, xl, xr, u_prime, t, loop_break = val \n",
    "        key, subkey = jax.random.split(key)\n",
    "        x_prime = jax.random.uniform(subkey, minval=xl, maxval=xr)\n",
    "        \n",
    "        # step 6 evaluate pstar(x')\n",
    "        t = pstar(x_prime)\n",
    "        \n",
    "        # step 7\n",
    "        \n",
    "        val = key, x, x_prime, xl, xr, u_prime, t, loop_break\n",
    "        val = step7_and_8(val)\n",
    "        return val\n",
    "    \n",
    "    # End 1st loop iteration\n",
    "    # Continue the loop executing the while loop\n",
    "    \n",
    "    def while_cond_func(val):\n",
    "        \"\"\"Check the loop break condition,\n",
    "           terminate the loop if True\"\"\"\n",
    "        key, x, x_prime, xl, xr, u_prime, t, loop_break = val\n",
    "        return loop_break == False\n",
    "    \n",
    "    val = jax.lax.while_loop(\n",
    "        while_cond_func, # check the loop break condition\n",
    "        step4_loop_body, \n",
    "        val) # u_prime <= p*(x') i.e., t\n",
    "        \n",
    "    return val"
   ]
  },
  {
   "cell_type": "code",
   "execution_count": null,
   "id": "34e5fa62",
   "metadata": {},
   "outputs": [],
   "source": [
    "w = 50\n",
    "rate = 57\n",
    "key = jax.random.PRNGKey(13)\n",
    "\n",
    "pstar = partial(jsp.stats.norm.pdf, loc=rate, scale=9)\n",
    "#pstar = partial(jsp.stats.poisson.pmf, mu=rate)\n",
    "\n",
    "fa = partial(jsp.stats.norm.pdf, loc=10, scale=2)\n",
    "fb = partial(jsp.stats.poisson.pmf, mu=100)\n",
    "\n",
    "def pstar(x):\n",
    "    return fa(x) + fb(x)\n",
    "x=7\n",
    "\n",
    "def pstar(x):\n",
    "    return 0.\n",
    "\n",
    "slice_sweep = partial(slice_sweep__s,\n",
    "                     pstar=pstar,\n",
    "                     w=w,\n",
    "                     )\n",
    "\n",
    "ss = jax.jit(slice_sweep)\n",
    "\n",
    "def sample(key, nsamples, ss, x):\n",
    "    samples = jnp.zeros(nsamples)\n",
    "    for i in range(nsamples):\n",
    "        key, subkey = jax.random.split(key)\n",
    "        val = ss(key=subkey, x=x)\n",
    "        key, x, x_prime, xl, xr, u_prime, t, loop_break = val\n",
    "        x = x_prime\n",
    "        samples = samples.at[i].set(x_prime)\n",
    "    \n",
    "    return samples\n",
    "\n",
    "\n",
    "\n",
    "key = jax.random.PRNGKey(13)\n",
    "x = 3\n",
    "\n",
    "\n",
    "ss(key=key, x=x)"
   ]
  },
  {
   "cell_type": "code",
   "execution_count": 14,
   "id": "355db23a",
   "metadata": {},
   "outputs": [
    {
     "data": {
      "image/png": "[encoded data removed]",
      "text/plain": [
       "<Figure size 432x288 with 1 Axes>"
      ]
     },
     "metadata": {
      "needs_background": "light"
     },
     "output_type": "display_data"
    }
   ],
   "source": [
    "samples = sample(key, 100, ss, x)\n",
    "\n",
    "samples = np.array(samples)\n",
    "plt.hist(samples, bins=20)\n",
    "plt.show()"
   ]
  },
  {
   "cell_type": "code",
   "execution_count": null,
   "id": "88015e6c",
   "metadata": {},
   "outputs": [],
   "source": [
    "key = jax.random.PRNGKey(55)\n",
    "x = 1000\n",
    "samples = sample(key, 100, ss, x)\n",
    "\n",
    "samples = np.array(samples)\n",
    "plt.hist(samples, bins=20)\n",
    "plt.show()"
   ]
  },
  {
   "cell_type": "code",
   "execution_count": 13,
   "id": "182602c2",
   "metadata": {},
   "outputs": [
    {
     "data": {
      "text/plain": [
       "[<matplotlib.lines.Line2D at 0x7f13445203d0>]"
      ]
     },
     "execution_count": 13,
     "metadata": {},
     "output_type": "execute_result"
    },
    {
     "data": {
      "image/png": "[encoded data removed]",
      "text/plain": [
       "<Figure size 432x288 with 1 Axes>"
      ]
     },
     "metadata": {
      "needs_background": "light"
     },
     "output_type": "display_data"
    }
   ],
   "source": [
    "plt.plot(np.arange(0, len(samples), 1), samples)"
   ]
  },
  {
   "cell_type": "code",
   "execution_count": 22,
   "id": "87b09c3b",
   "metadata": {},
   "outputs": [
    {
     "data": {
      "text/plain": [
       "[<matplotlib.lines.Line2D at 0x7f0c087f7ac0>]"
      ]
     },
     "execution_count": 22,
     "metadata": {},
     "output_type": "execute_result"
    },
    {
     "data": {
      "image/png": "[encoded data removed]",
      "text/plain": [
       "<Figure size 432x288 with 1 Axes>"
      ]
     },
     "metadata": {
      "needs_background": "light"
     },
     "output_type": "display_data"
    }
   ],
   "source": [
    "x = np.arange(0, 200, 5)\n",
    "y = pstar(x)\n",
    "x = np.array(x)\n",
    "y = np.array(y)\n",
    "plt.plot(x, y, 'k+')"
   ]
  },
  {
   "cell_type": "code",
   "execution_count": 18,
   "id": "6ee845dd",
   "metadata": {},
   "outputs": [
    {
     "data": {
      "text/plain": [
       "DeviceArray([0.0000000e+00, 4.8616059e-35, 2.0589512e-26, 5.3621473e-20,\n",
       "             4.9497573e-15, 3.7704138e-11, 3.9129809e-08, 7.7182194e-06,\n",
       "             3.6680687e-04, 5.0170063e-03, 2.2677615e-02, 3.7836723e-02,\n",
       "             2.5507245e-02, 7.4922182e-03, 1.0218829e-03, 6.8374189e-05,\n",
       "             2.3526670e-06, 4.3396767e-08, 4.4513040e-10, 2.6228802e-12,\n",
       "             9.1411626e-15, 1.9343177e-17, 2.5450446e-20, 2.1273291e-23,\n",
       "             1.1520056e-26, 4.1163017e-30, 9.8637825e-34, 1.6104799e-37,\n",
       "             0.0000000e+00, 0.0000000e+00, 0.0000000e+00, 0.0000000e+00,\n",
       "             0.0000000e+00, 0.0000000e+00, 0.0000000e+00, 0.0000000e+00,\n",
       "             0.0000000e+00, 0.0000000e+00, 0.0000000e+00, 0.0000000e+00,\n",
       "             0.0000000e+00, 0.0000000e+00, 0.0000000e+00, 0.0000000e+00,\n",
       "             0.0000000e+00, 0.0000000e+00, 0.0000000e+00, 0.0000000e+00,\n",
       "             0.0000000e+00, 0.0000000e+00, 0.0000000e+00, 0.0000000e+00,\n",
       "             0.0000000e+00, 0.0000000e+00, 0.0000000e+00, 0.0000000e+00,\n",
       "             0.0000000e+00, 0.0000000e+00, 0.0000000e+00, 0.0000000e+00,\n",
       "             0.0000000e+00, 0.0000000e+00, 0.0000000e+00, 0.0000000e+00,\n",
       "             0.0000000e+00, 0.0000000e+00, 0.0000000e+00, 0.0000000e+00,\n",
       "             0.0000000e+00, 0.0000000e+00, 0.0000000e+00, 0.0000000e+00,\n",
       "             0.0000000e+00, 0.0000000e+00, 0.0000000e+00, 0.0000000e+00,\n",
       "             0.0000000e+00, 0.0000000e+00, 0.0000000e+00, 0.0000000e+00,\n",
       "             0.0000000e+00, 0.0000000e+00, 0.0000000e+00, 0.0000000e+00,\n",
       "             0.0000000e+00, 0.0000000e+00, 0.0000000e+00, 0.0000000e+00,\n",
       "             0.0000000e+00, 0.0000000e+00, 0.0000000e+00, 0.0000000e+00,\n",
       "             0.0000000e+00, 0.0000000e+00, 0.0000000e+00, 0.0000000e+00,\n",
       "             0.0000000e+00, 0.0000000e+00, 0.0000000e+00, 0.0000000e+00],            dtype=float32)"
      ]
     },
     "execution_count": 18,
     "metadata": {},
     "output_type": "execute_result"
    }
   ],
   "source": [
    "y"
   ]
  },
  {
   "cell_type": "code",
   "execution_count": null,
   "id": "1e1fe20c",
   "metadata": {},
   "outputs": [],
   "source": [
    "key = jax.random.PRNGKey(13)\n",
    "for i in range(40):\n",
    "    key, subkey = jax.random.split(key)\n",
    "    ss(key=subkey)\n",
    "    "
   ]
  },
  {
   "cell_type": "code",
   "execution_count": 76,
   "id": "e343cb91",
   "metadata": {},
   "outputs": [],
   "source": [
    "def body(val):\n",
    "    key, r, count = val\n",
    "    count += 1\n",
    "    key, subkey = jax.random.split(key)\n",
    "    r = jax.random.uniform(subkey)\n",
    "    return key, r, count\n",
    "\n",
    "def cond_func(val):\n",
    "    key, r, count = val\n",
    "    return r < 0.5\n",
    "\n",
    "count = 0\n",
    "\n",
    "r = 0.3\n",
    "key = jax.random.PRNGKey(13)\n",
    "\n",
    "val = key, r, count\n",
    "val = jax.lax.while_loop(cond_func, body, val)"
   ]
  },
  {
   "cell_type": "code",
   "execution_count": 44,
   "id": "a9c0ef4b",
   "metadata": {},
   "outputs": [
    {
     "data": {
      "text/plain": [
       "[<matplotlib.lines.Line2D at 0x7f7cb05ec2e0>]"
      ]
     },
     "execution_count": 44,
     "metadata": {},
     "output_type": "execute_result"
    },
    {
     "data": {
      "image/png": "[encoded data removed]",
      "text/plain": [
       "<Figure size 432x288 with 1 Axes>"
      ]
     },
     "metadata": {
      "needs_background": "light"
     },
     "output_type": "display_data"
    }
   ],
   "source": [
    "x = np.arange(-10, 10)\n",
    "y = jsp.stats.poisson.pmf(x, 3.3)\n",
    "plt.plot(x, y, 'k+')"
   ]
  },
  {
   "cell_type": "code",
   "execution_count": 86,
   "id": "7b399be1",
   "metadata": {},
   "outputs": [
    {
     "data": {
      "text/plain": [
       "DeviceArray(2, dtype=int32, weak_type=True)"
      ]
     },
     "execution_count": 86,
     "metadata": {},
     "output_type": "execute_result"
    }
   ],
   "source": [
    "def f(val):\n",
    "    val = jax.lax.cond(\n",
    "        val[0] > val[1], \n",
    "        lambda val: val[0],\n",
    "        lambda val: val[1], \n",
    "        val)\n",
    "    return val\n",
    "\n",
    "jf = jax.jit(f)\n",
    "jf((1, 2))"
   ]
  }
 ],
 "metadata": {
  "kernelspec": {
   "display_name": "Python 3 (ipykernel)",
   "language": "python",
   "name": "python3"
  },
  "language_info": {
   "codemirror_mode": {
    "name": "ipython",
    "version": 3
   },
   "file_extension": ".py",
   "mimetype": "text/x-python",
   "name": "python",
   "nbconvert_exporter": "python",
   "pygments_lexer": "ipython3",
   "version": "3.10.1"
  }
 },
 "nbformat": 4,
 "nbformat_minor": 5
}
