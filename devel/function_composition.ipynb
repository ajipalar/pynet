{
 "cells": [
  {
   "cell_type": "code",
   "execution_count": 26,
   "id": "aef20a2d",
   "metadata": {},
   "outputs": [],
   "source": [
    "import jax\n",
    "import numpy as np\n",
    "import jax.numpy as jnp\n",
    "import itertools\n",
    "import timeit"
   ]
  },
  {
   "cell_type": "code",
   "execution_count": 27,
   "id": "018a569c",
   "metadata": {},
   "outputs": [],
   "source": [
    "a = lambda x: x / 13\n",
    "b = lambda x: 2 + x - 1\n",
    "c = lambda x: 2**x\n",
    "d = lambda x: jnp.log(x)\n",
    "e = lambda x: x*jnp.pi\n",
    "f = lambda x: x - 0.5*x\n",
    "g = lambda x: x % 190\n",
    "h = lambda x: g(f(e(d(c(b(a(x)))))))\n",
    "\n"
   ]
  },
  {
   "cell_type": "code",
   "execution_count": 30,
   "id": "c4afedcd",
   "metadata": {},
   "outputs": [],
   "source": [
    "h_jit = jax.jit(h)"
   ]
  },
  {
   "cell_type": "code",
   "execution_count": 31,
   "id": "d24f96ce",
   "metadata": {},
   "outputs": [
    {
     "name": "stdout",
     "output_type": "stream",
     "text": [
      "23.1 µs ± 61.4 ns per loop (mean ± std. dev. of 7 runs, 10,000 loops each)\n"
     ]
    }
   ],
   "source": [
    "%timeit h(99)"
   ]
  },
  {
   "cell_type": "code",
   "execution_count": 32,
   "id": "20dd0bd0",
   "metadata": {},
   "outputs": [
    {
     "name": "stdout",
     "output_type": "stream",
     "text": [
      "4.05 µs ± 9.54 ns per loop (mean ± std. dev. of 7 runs, 100,000 loops each)\n"
     ]
    }
   ],
   "source": [
    "%timeit h_jit(99).block_until_ready()"
   ]
  },
  {
   "cell_type": "code",
   "execution_count": 34,
   "id": "cd370f59",
   "metadata": {},
   "outputs": [],
   "source": [
    "l = [1, 2, 3, 4, 5, 6, 7]\n",
    "h_stream = map(h, l)"
   ]
  },
  {
   "cell_type": "code",
   "execution_count": 35,
   "id": "978c12b8",
   "metadata": {},
   "outputs": [
    {
     "name": "stdout",
     "output_type": "stream",
     "text": [
      "172 µs ± 19.4 µs per loop (mean ± std. dev. of 7 runs, 1,000 loops each)\n"
     ]
    }
   ],
   "source": [
    "%timeit list(map(h, l))"
   ]
  },
  {
   "cell_type": "code",
   "execution_count": 36,
   "id": "9bdb4b66",
   "metadata": {},
   "outputs": [
    {
     "name": "stdout",
     "output_type": "stream",
     "text": [
      "24.4 µs ± 765 ns per loop (mean ± std. dev. of 7 runs, 10,000 loops each)\n"
     ]
    }
   ],
   "source": [
    "%timeit list(map(h_jit, l))"
   ]
  },
  {
   "cell_type": "code",
   "execution_count": 38,
   "id": "d6b4bc2c",
   "metadata": {},
   "outputs": [],
   "source": [
    "z = lambda x: d(e(x))\n",
    "z = jax.jit(z)"
   ]
  },
  {
   "cell_type": "code",
   "execution_count": 39,
   "id": "f46a0a77",
   "metadata": {},
   "outputs": [
    {
     "data": {
      "text/plain": [
       "DeviceArray(3.09064, dtype=float32, weak_type=True)"
      ]
     },
     "execution_count": 39,
     "metadata": {},
     "output_type": "execute_result"
    }
   ],
   "source": [
    "z(7)"
   ]
  }
 ],
 "metadata": {
  "kernelspec": {
   "display_name": "Python 3 (ipykernel)",
   "language": "python",
   "name": "python3"
  },
  "language_info": {
   "codemirror_mode": {
    "name": "ipython",
    "version": 3
   },
   "file_extension": ".py",
   "mimetype": "text/x-python",
   "name": "python",
   "nbconvert_exporter": "python",
   "pygments_lexer": "ipython3",
   "version": "3.10.1"
  }
 },
 "nbformat": 4,
 "nbformat_minor": 5
}
