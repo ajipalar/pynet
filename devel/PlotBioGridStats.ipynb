{
 "cells": [
  {
   "cell_type": "code",
   "execution_count": 1,
   "id": "3c36133f",
   "metadata": {},
   "outputs": [
    {
     "name": "stdout",
     "output_type": "stream",
     "text": [
      "Python 3.10.1\n"
     ]
    }
   ],
   "source": [
    "%%bash\n",
    "python --version"
   ]
  },
  {
   "cell_type": "code",
   "execution_count": 2,
   "id": "5346214e",
   "metadata": {},
   "outputs": [
    {
     "name": "stdout",
     "output_type": "stream",
     "text": [
      "# conda environments:\n",
      "#\n",
      "                         /home/aji/anaconda2\n",
      "                         /home/aji/anaconda2/envs/coevolution\n",
      "base                     /home/aji/anaconda3\n",
      "bmi219p                  /home/aji/anaconda3/envs/bmi219p\n",
      "minipynetp               /home/aji/anaconda3/envs/minipynetp\n",
      "openpyxl                 /home/aji/anaconda3/envs/openpyxl\n",
      "pynetp                   /home/aji/anaconda3/envs/pynetp\n",
      "pynetp3.10.0          *  /home/aji/anaconda3/envs/pynetp3.10.0\n",
      "pytorch                  /home/aji/anaconda3/envs/pytorch\n",
      "sciProj                  /home/aji/anaconda3/envs/sciProj\n",
      "testenv                  /home/aji/anaconda3/envs/testenv\n",
      "xlrd                     /home/aji/anaconda3/envs/xlrd\n",
      "                         /home/aji/yes\n",
      "\n"
     ]
    }
   ],
   "source": [
    "%%bash\n",
    "conda env list"
   ]
  },
  {
   "cell_type": "code",
   "execution_count": null,
   "id": "95c45cb8",
   "metadata": {},
   "outputs": [],
   "source": [
    "import pandas as pd\n",
    "import numpy as np\n",
    "import matplotlib.pyplot as plt\n",
    "import jax\n",
    "import jax.numpy as jnp\n",
    "from pathlib import Path\n",
    "from functools import partial\n",
    "from typing import Any, Callable, NewType\n",
    "import graphviz\n",
    "import inspect\n",
    "from PlotBioGridStatsLib import (\n",
    "    prepare_biogrid,\n",
    "    load_tip49_spec_counts_dataset,\n",
    "    plot_col,\n",
    "    plot_physical_experiments,\n",
    "    find_idmapping_overlap,\n",
    "    filter_biogrid,\n",
    "    ProteinName,\n",
    "    Any,\n",
    "    DataFrame,\n",
    "    Array\n",
    ")\n",
    "from sklearn.metrics import roc_curve, precision_recall_curve"
   ]
  },
  {
   "cell_type": "code",
   "execution_count": null,
   "id": "29658869",
   "metadata": {},
   "outputs": [],
   "source": [
    "# create a list of sets\n",
    "\n",
    "# create a row_set\n",
    "\n",
    "Series = NewType('Series', Any)\n",
    "\n",
    "def get_biogrid_row_set_from_array(row : Array) -> set[ProteinName]:\n",
    "    rowset = {row[0], row[1], row[2], row[3], row[4],\n",
    "              row[5]}\n",
    "    syn_a = row[6].split(\"|\")\n",
    "    syn_b = row[7].split(\"|\")\n",
    "    assert len(syn_a) > 0\n",
    "    assert len(syn_b) > 0\n",
    "    \n",
    "    syn = syn_a.union(syn_b)\n",
    "    rowset = rowset.union(syn)\n",
    "    return rowset\n",
    "\n",
    "def get_biogrid_row_set_from_df_row(biogrid)\n",
    "    \"\"\"Parse all the protein names in a biogrid row to \n",
    "       a set of names\"\"\"\n",
    "    \n",
    "    names = biogrid[['']]\n",
    "    "
   ]
  },
  {
   "cell_type": "code",
   "execution_count": null,
   "id": "7282492e",
   "metadata": {},
   "outputs": [],
   "source": [
    "biogrid.columns"
   ]
  },
  {
   "cell_type": "code",
   "execution_count": null,
   "id": "5da26308",
   "metadata": {},
   "outputs": [],
   "source": [
    "\n",
    "\n",
    "def minmaxlen(col):\n",
    "    \"\"\"Use to determine the max, min length of a pipe\n",
    "       delimeted entry in a dataframe\"\"\"\n",
    "    max_l = 0\n",
    "    min_l = 1e9\n",
    "    for syn in col:\n",
    "        synlen = len(syn.split(\"|\"))\n",
    "        max_l = synlen if synlen > max_l else max_l\n",
    "        min_l = synlen if synlen < min_l else min_l\n",
    "    return max_l, min_l\n",
    "print(minmaxlen(biogrid['Synonyms Interactor A']))\n",
    "\n",
    "    "
   ]
  },
  {
   "cell_type": "code",
   "execution_count": null,
   "id": "8fb03644",
   "metadata": {},
   "outputs": [],
   "source": [
    "biogrid = prepare_biogrid()"
   ]
  },
  {
   "cell_type": "code",
   "execution_count": null,
   "id": "fb245c5e",
   "metadata": {},
   "outputs": [],
   "source": [
    "plot_col(biogrid,'Experimental System Type' )"
   ]
  },
  {
   "cell_type": "code",
   "execution_count": null,
   "id": "79955d5a",
   "metadata": {},
   "outputs": [],
   "source": [
    "plot_col(biogrid, 'Experimental System', topn=12)"
   ]
  },
  {
   "cell_type": "code",
   "execution_count": null,
   "id": "23c751be",
   "metadata": {},
   "outputs": [],
   "source": [
    "plot_physical_experiments(biogrid)"
   ]
  },
  {
   "cell_type": "code",
   "execution_count": null,
   "id": "d3ec0d8b",
   "metadata": {},
   "outputs": [],
   "source": [
    "spec_counts_df = load_tip49_spec_counts_dataset()"
   ]
  },
  {
   "cell_type": "code",
   "execution_count": null,
   "id": "4b892dcc",
   "metadata": {},
   "outputs": [],
   "source": [
    "find_idmapping_overlap(biogrid, spec_counts_df)"
   ]
  },
  {
   "cell_type": "code",
   "execution_count": null,
   "id": "493ec2b8",
   "metadata": {},
   "outputs": [],
   "source": [
    "biogrid = filter_biogrid(spec_counts_df, biogrid)"
   ]
  },
  {
   "cell_type": "code",
   "execution_count": null,
   "id": "63e098c5",
   "metadata": {},
   "outputs": [],
   "source": [
    "plot_physical_experiments(biogrid)"
   ]
  },
  {
   "cell_type": "code",
   "execution_count": null,
   "id": "b49c0b82",
   "metadata": {},
   "outputs": [],
   "source": [
    "plot_col(biogrid, 'Experimental System')"
   ]
  },
  {
   "cell_type": "code",
   "execution_count": null,
   "id": "1d99456a",
   "metadata": {},
   "outputs": [],
   "source": [
    "spec_counts_df"
   ]
  },
  {
   "cell_type": "code",
   "execution_count": null,
   "id": "f4e17b88",
   "metadata": {},
   "outputs": [],
   "source": [
    "biogrid"
   ]
  },
  {
   "cell_type": "code",
   "execution_count": null,
   "id": "e8fabab8",
   "metadata": {},
   "outputs": [],
   "source": [
    "#ROC Examples\n",
    "key = jax.random.PRNGKey(10)\n",
    "y_true = jax.random.bernoulli(key, p=0.1, shape=(len(spec_counts_df), ))\n",
    "y_true = np.array(y_true, dtype=int)\n",
    "\n",
    "y_score = spec_counts_df['SAINT'].values\n",
    "y_score = map(lambda i: float(i), iter(y_score))\n",
    "y_score = list(y_score)\n",
    "fpr, tpr, thresholds = roc_curve(y_true, y_score)\n",
    "prec, recall, pthresh = precision_recall_curve(y_true, y_score)"
   ]
  },
  {
   "cell_type": "code",
   "execution_count": null,
   "id": "5a29eb0a",
   "metadata": {},
   "outputs": [],
   "source": [
    "\n",
    "\n",
    "plt.subplot(121)\n",
    "plt.xlabel('fpr')\n",
    "plt.ylabel('tpr')\n",
    "plt.plot(fpr, tpr)\n",
    "plt.title('ROC')\n",
    "plt.subplot(122)\n",
    "plt.xlabel('recall')\n",
    "plt.ylabel('precision')\n",
    "plt.plot(recall, prec)\n",
    "plt.title('PRC')\n",
    "plt.tight_layout()\n",
    "plt.show()"
   ]
  }
 ],
 "metadata": {
  "kernelspec": {
   "display_name": "Python 3 (ipykernel)",
   "language": "python",
   "name": "python3"
  },
  "language_info": {
   "codemirror_mode": {
    "name": "ipython",
    "version": 3
   },
   "file_extension": ".py",
   "mimetype": "text/x-python",
   "name": "python",
   "nbconvert_exporter": "python",
   "pygments_lexer": "ipython3",
   "version": "3.10.1"
  }
 },
 "nbformat": 4,
 "nbformat_minor": 5
}
