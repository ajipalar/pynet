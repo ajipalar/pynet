{
 "cells": [
  {
   "cell_type": "code",
   "execution_count": 1,
   "id": "3c36133f",
   "metadata": {},
   "outputs": [
    {
     "name": "stdout",
     "output_type": "stream",
     "text": [
      "Python 3.10.1\n"
     ]
    }
   ],
   "source": [
    "%%bash\n",
    "python --version"
   ]
  },
  {
   "cell_type": "code",
   "execution_count": 2,
   "id": "5346214e",
   "metadata": {},
   "outputs": [
    {
     "name": "stdout",
     "output_type": "stream",
     "text": [
      "# conda environments:\n",
      "#\n",
      "                         /home/aji/anaconda2\n",
      "                         /home/aji/anaconda2/envs/coevolution\n",
      "base                     /home/aji/anaconda3\n",
      "bmi219p                  /home/aji/anaconda3/envs/bmi219p\n",
      "minipynetp               /home/aji/anaconda3/envs/minipynetp\n",
      "openpyxl                 /home/aji/anaconda3/envs/openpyxl\n",
      "pynetp                   /home/aji/anaconda3/envs/pynetp\n",
      "pynetp3.10.0          *  /home/aji/anaconda3/envs/pynetp3.10.0\n",
      "pytorch                  /home/aji/anaconda3/envs/pytorch\n",
      "sciProj                  /home/aji/anaconda3/envs/sciProj\n",
      "testenv                  /home/aji/anaconda3/envs/testenv\n",
      "xlrd                     /home/aji/anaconda3/envs/xlrd\n",
      "                         /home/aji/yes\n",
      "\n"
     ]
    }
   ],
   "source": [
    "%%bash\n",
    "conda env list"
   ]
  },
  {
   "cell_type": "code",
   "execution_count": 3,
   "id": "f5d091aa",
   "metadata": {},
   "outputs": [],
   "source": [
    "import pandas as pd\n",
    "import numpy as np\n",
    "import matplotlib.pyplot as plt\n",
    "import jax\n",
    "import jax.numpy as jnp\n",
    "from pathlib import Path\n",
    "from typing import Any, NewType\n",
    "DataFrame = NewType('DataFrame', Any)"
   ]
  },
  {
   "cell_type": "code",
   "execution_count": 4,
   "id": "97c6a1f2",
   "metadata": {},
   "outputs": [],
   "source": [
    "def load_biogrid_v4_4():\n",
    "    dpath = Path(\"../data/biogrid/BIOGRID-ALL-4.4.206.tab3.txt\")\n",
    "    biogrid_df : DataFrame = pd.read_csv(dpath, sep=\"\\t\")\n",
    "    return biogrid_df\n",
    "\n",
    "def drop_columns(biogrid_df: DataFrame):\n",
    "    to_drop = ['BioGRID ID Interactor A',\n",
    "               'BioGRID ID Interactor B',\n",
    "               'Systematic Name Interactor A',\n",
    "               'Systematic Name Interactor B',\n",
    "               'Official Symbol Interactor A',\n",
    "               'Official Symbol Interactor B',\n",
    "               'Synonyms Interactor A',\n",
    "               'Synonyms Interactor B',\n",
    "               'Modification',\n",
    "               'Throughput',\n",
    "               'Score',\n",
    "               'Qualifications',\n",
    "               'Tags',\n",
    "               'Source Database',\n",
    "               'SWISS-PROT Accessions Interactor A',\n",
    "               'TREMBL Accessions Interactor A',\n",
    "               'REFSEQ Accessions Interactor A',\n",
    "               'SWISS-PROT Accessions Interactor B',\n",
    "               'TREMBL Accessions Interactor B',\n",
    "               'REFSEQ Accessions Interactor B',\n",
    "               'Ontology Term IDs',\n",
    "               'Ontology Term Names',\n",
    "               'Ontology Term Categories',\n",
    "               'Ontology Term Qualifier IDs',\n",
    "               'Ontology Term Qualifier Names',\n",
    "               'Ontology Term Types'\n",
    "               ]\n",
    "    d = biogrid_df.drop(columns=to_drop, inplace=False)\n",
    "    return d\n",
    "\n",
    "def filter_missing_entrez_interactors(d):\n",
    "    d = d[d['Entrez Gene Interactor A'] != \"-\"]\n",
    "    d = d[d['Entrez Gene Interactor B'] != \"-\"]\n",
    "    return d\n",
    "\n",
    "def get_frequency(col):\n",
    "    freq_dict = {}\n",
    "    for label in col:\n",
    "        if label not in freq_dict:\n",
    "            freq_dict[label]=0\n",
    "        else:\n",
    "            freq_dict[label] += 1\n",
    "    return freq_dict\n",
    "\n",
    "def plot_freq(d, colname):\n",
    "    col = d[colname]\n",
    "    freq_dic = get_frequency(col)\n",
    "\n",
    "def get_physical(d):\n",
    "    t = d['Experimental System Type'] == 'physical'\n",
    "    d = d[t]\n",
    "    return d\n",
    "\n",
    "\n",
    "def plot_physical_experiments(d):\n",
    "    d = get_physical(d)\n",
    "    plot_col(d, 'Experimental System', topn=20)\n",
    "        \n",
    "\n",
    "def prepare_biogrid():\n",
    "    d = load_biogrid_v4_4()\n",
    "    d = drop_columns(d)\n",
    "    d = filter_missing_entrez_interactors(d)\n",
    "    return d\n",
    "    \n",
    "\n",
    "\n",
    "def plot_col(d, colname, titlename=None, topn=12):\n",
    "    \n",
    "    freq_dict = get_frequency(d[colname])\n",
    "    freq_dict = dict(sorted(freq_dict.items(), key= lambda x: x[1], reverse=True))\n",
    "\n",
    "    vals = list(freq_dict.values())[0:topn]\n",
    "    keys = list(freq_dict.keys())[0:topn]\n",
    "\n",
    "    #color = np.arange(len(keys))\n",
    "    plt.barh(keys, vals)\n",
    "    if titlename:\n",
    "        plt.title(titlename)\n",
    "    #plt.legend(keys)\n",
    "    plt.show()\n",
    "    \n",
    "def load_tip49_spec_counts_dataset():\n",
    "    data = Path(\"../data\")\n",
    "    apms = data / \"apms\"\n",
    "    saint = apms / \"20110108_NATUREMETHODS_8_1_SAINTProbabilisticScoringOfAffinityPurification\"\n",
    "    tip49 = saint / \"tip49_supp2.A._Interactions.csv\"\n",
    "    tip49 = pd.read_csv(tip49)\n",
    "    tip49 = tip49.rename(columns=tip49.iloc[1])\n",
    "    tip49 = tip49.iloc[2:, 1:]\n",
    "    \n",
    "    #print(tip49.columns[1])\n",
    "    assert tip49.columns[1] == \"Prey\"\n",
    "    return tip49"
   ]
  },
  {
   "cell_type": "code",
   "execution_count": 5,
   "id": "8fb03644",
   "metadata": {},
   "outputs": [
    {
     "name": "stderr",
     "output_type": "stream",
     "text": [
      "/tmp/ipykernel_136596/2419981315.py:67: DtypeWarning: Columns (1,2,18) have mixed types.Specify dtype option on import or set low_memory=False.\n",
      "  d = load_biogrid_v4_4()\n"
     ]
    }
   ],
   "source": [
    "d = prepare_biogrid()"
   ]
  },
  {
   "cell_type": "code",
   "execution_count": 6,
   "id": "03724cac",
   "metadata": {},
   "outputs": [
    {
     "name": "stdout",
     "output_type": "stream",
     "text": [
      "#BioGRID Interaction ID 0\n",
      "Entrez Gene Interactor A 0\n",
      "Entrez Gene Interactor B 0\n",
      "Experimental System 0\n",
      "Experimental System Type 0\n",
      "Author 0\n",
      "Publication Source 0\n",
      "Organism ID Interactor A 0\n",
      "Organism ID Interactor B 0\n",
      "Organism Name Interactor A 0\n",
      "Organism Name Interactor B 0\n"
     ]
    }
   ],
   "source": [
    "for col in d: print(col, sum(d[col] == \"-\"))"
   ]
  },
  {
   "cell_type": "code",
   "execution_count": null,
   "id": "fc9e02f6",
   "metadata": {},
   "outputs": [],
   "source": [
    "\n"
   ]
  },
  {
   "cell_type": "code",
   "execution_count": 7,
   "id": "fb245c5e",
   "metadata": {},
   "outputs": [
    {
     "data": {
      "image/png": "[encoded data removed]",
      "text/plain": [
       "<Figure size 432x288 with 1 Axes>"
      ]
     },
     "metadata": {
      "needs_background": "light"
     },
     "output_type": "display_data"
    }
   ],
   "source": [
    "plot_col(d,'Experimental System Type' )"
   ]
  },
  {
   "cell_type": "code",
   "execution_count": 8,
   "id": "79955d5a",
   "metadata": {},
   "outputs": [
    {
     "data": {
      "image/png": "[encoded data removed]",
      "text/plain": [
       "<Figure size 432x288 with 1 Axes>"
      ]
     },
     "metadata": {
      "needs_background": "light"
     },
     "output_type": "display_data"
    }
   ],
   "source": [
    "plot_col(d, 'Experimental System', topn=12)"
   ]
  },
  {
   "cell_type": "code",
   "execution_count": 9,
   "id": "23c751be",
   "metadata": {},
   "outputs": [
    {
     "data": {
      "image/png": "[encoded data removed]",
      "text/plain": [
       "<Figure size 432x288 with 1 Axes>"
      ]
     },
     "metadata": {
      "needs_background": "light"
     },
     "output_type": "display_data"
    }
   ],
   "source": [
    "plot_physical_experiments(d)"
   ]
  },
  {
   "cell_type": "code",
   "execution_count": 13,
   "id": "dfce64ca",
   "metadata": {},
   "outputs": [
    {
     "name": "stdout",
     "output_type": "stream",
     "text": [
      "check_psv.sh\n",
      "dub_supp3.A._Interactions.csv\n",
      "dub_supp3.B._GO_SAINT.csv\n",
      "dub_supp3.C._GO_D-score_(CompPASS).csv\n",
      "dub_supp3.D._GO_Z-score_(CompPASS).csv\n",
      "dub_supp3.xls\n",
      "excel_write_tool.py\n",
      "NIHMS252278-supplement-4.Interaction.csv\n",
      "NIHMS252278-supplement-4.xls\n",
      "tip49_supp2.A._Interactions.csv\n",
      "tip49_supp2.B._Control_data_(35_->_9).csv\n",
      "tip49_supp2.C._Control_merge_table.csv\n",
      "tip49_supp2.D.GO_terms.csv\n",
      "tip49_supp2.xls\n",
      "write_data.py\n"
     ]
    }
   ],
   "source": [
    "%%bash\n",
    "ls ../data/apms/20110108_NATUREMETHODS_8_1_SAINTProbabilisticScoringOfAffinityPurification"
   ]
  },
  {
   "cell_type": "code",
   "execution_count": 61,
   "id": "4474f9b9",
   "metadata": {},
   "outputs": [],
   "source": [
    "spec_counts_df = load_tip49_spec_counts_dataset()"
   ]
  },
  {
   "cell_type": "code",
   "execution_count": 64,
   "id": "479b0102",
   "metadata": {},
   "outputs": [
    {
     "data": {
      "text/html": [
       "<div>\n",
       "<style scoped>\n",
       "    .dataframe tbody tr th:only-of-type {\n",
       "        vertical-align: middle;\n",
       "    }\n",
       "\n",
       "    .dataframe tbody tr th {\n",
       "        vertical-align: top;\n",
       "    }\n",
       "\n",
       "    .dataframe thead th {\n",
       "        text-align: right;\n",
       "    }\n",
       "</style>\n",
       "<table border=\"1\" class=\"dataframe\">\n",
       "  <thead>\n",
       "    <tr style=\"text-align: right;\">\n",
       "      <th></th>\n",
       "      <th>Bait</th>\n",
       "      <th>Prey</th>\n",
       "      <th>IP</th>\n",
       "      <th>Spec</th>\n",
       "      <th>ctrlCounts</th>\n",
       "      <th>SAINT</th>\n",
       "      <th>PP-NSAF</th>\n",
       "      <th>Z-score</th>\n",
       "      <th>weighted D-score</th>\n",
       "    </tr>\n",
       "  </thead>\n",
       "  <tbody>\n",
       "    <tr>\n",
       "      <th>2</th>\n",
       "      <td>ACTR5</td>\n",
       "      <td>ACTR5</td>\n",
       "      <td>ARP5</td>\n",
       "      <td>417</td>\n",
       "      <td>0|0|0|0|0|0|0|0|0</td>\n",
       "      <td>1</td>\n",
       "      <td>0.697316352520067</td>\n",
       "      <td>4.93341427067021</td>\n",
       "      <td>7.32386764271932</td>\n",
       "    </tr>\n",
       "    <tr>\n",
       "      <th>3</th>\n",
       "      <td>ACTR5</td>\n",
       "      <td>RUVBL2</td>\n",
       "      <td>ARP5</td>\n",
       "      <td>73</td>\n",
       "      <td>6|0|1|0|0|0|0|0|0</td>\n",
       "      <td>1</td>\n",
       "      <td>0.033910239152529</td>\n",
       "      <td>-0.277434577751575</td>\n",
       "      <td>2.30143615423011</td>\n",
       "    </tr>\n",
       "    <tr>\n",
       "      <th>4</th>\n",
       "      <td>ACTR5</td>\n",
       "      <td>RUVBL1</td>\n",
       "      <td>ARP5</td>\n",
       "      <td>50</td>\n",
       "      <td>3|2|0|0|0|0|0|2|0</td>\n",
       "      <td>1</td>\n",
       "      <td>0.0188476130319074</td>\n",
       "      <td>-0.445655245594782</td>\n",
       "      <td>1.6953802173525</td>\n",
       "    </tr>\n",
       "    <tr>\n",
       "      <th>5</th>\n",
       "      <td>ACTR5</td>\n",
       "      <td>INO80C</td>\n",
       "      <td>ARP5</td>\n",
       "      <td>26</td>\n",
       "      <td>0|0|0|0|0|0|0|0|0</td>\n",
       "      <td>0.99</td>\n",
       "      <td>0.17716503039295</td>\n",
       "      <td>2.47752757446183</td>\n",
       "      <td>2.16103341761436</td>\n",
       "    </tr>\n",
       "    <tr>\n",
       "      <th>6</th>\n",
       "      <td>ACTR5</td>\n",
       "      <td>ACTR8</td>\n",
       "      <td>ARP5</td>\n",
       "      <td>32</td>\n",
       "      <td>0|0|0|0|0|0|0|0|0</td>\n",
       "      <td>1</td>\n",
       "      <td>0.0326314267664079</td>\n",
       "      <td>0.101163744000279</td>\n",
       "      <td>2.1299377904367</td>\n",
       "    </tr>\n",
       "    <tr>\n",
       "      <th>...</th>\n",
       "      <td>...</td>\n",
       "      <td>...</td>\n",
       "      <td>...</td>\n",
       "      <td>...</td>\n",
       "      <td>...</td>\n",
       "      <td>...</td>\n",
       "      <td>...</td>\n",
       "      <td>...</td>\n",
       "      <td>...</td>\n",
       "    </tr>\n",
       "    <tr>\n",
       "      <th>5518</th>\n",
       "      <td>ZNHIT2</td>\n",
       "      <td>ZNHIT2</td>\n",
       "      <td>ZnF.HIT2</td>\n",
       "      <td>358</td>\n",
       "      <td>0|0|0|0|0|0|0|0|0</td>\n",
       "      <td>1</td>\n",
       "      <td>0.95751746168747</td>\n",
       "      <td>5.00260255351579</td>\n",
       "      <td>13.7777734271275</td>\n",
       "    </tr>\n",
       "    <tr>\n",
       "      <th>5519</th>\n",
       "      <td>ZNHIT2</td>\n",
       "      <td>C20orf4</td>\n",
       "      <td>ZnF.HIT2</td>\n",
       "      <td>4</td>\n",
       "      <td>0|0|0|0|0|0|0|0|0</td>\n",
       "      <td>0.97</td>\n",
       "      <td>1</td>\n",
       "      <td>5.00370233297676</td>\n",
       "      <td>1.7133212483779</td>\n",
       "    </tr>\n",
       "    <tr>\n",
       "      <th>5520</th>\n",
       "      <td>ZNHIT2</td>\n",
       "      <td>TSSC4</td>\n",
       "      <td>ZnF.HIT2</td>\n",
       "      <td>4</td>\n",
       "      <td>0|0|0|0|0|0|0|0|0</td>\n",
       "      <td>0.98</td>\n",
       "      <td>1</td>\n",
       "      <td>5.00370233297676</td>\n",
       "      <td>1.7133212483779</td>\n",
       "    </tr>\n",
       "    <tr>\n",
       "      <th>5521</th>\n",
       "      <td>ZNHIT2</td>\n",
       "      <td>TTC27</td>\n",
       "      <td>ZnF.HIT2</td>\n",
       "      <td>9</td>\n",
       "      <td>0|0|0|0|0|0|0|0|0</td>\n",
       "      <td>0.99</td>\n",
       "      <td>1</td>\n",
       "      <td>5.00370233297676</td>\n",
       "      <td>2.42300214615802</td>\n",
       "    </tr>\n",
       "    <tr>\n",
       "      <th>5522</th>\n",
       "      <td>ZNHIT2</td>\n",
       "      <td>ECD</td>\n",
       "      <td>ZnF.HIT2</td>\n",
       "      <td>3</td>\n",
       "      <td>0|0|0|0|0|0|0|0|0</td>\n",
       "      <td>0.96</td>\n",
       "      <td>1</td>\n",
       "      <td>5.00370233297676</td>\n",
       "      <td>2.09838141199706</td>\n",
       "    </tr>\n",
       "  </tbody>\n",
       "</table>\n",
       "<p>5521 rows × 9 columns</p>\n",
       "</div>"
      ],
      "text/plain": [
       "        Bait     Prey        IP Spec         ctrlCounts SAINT  \\\n",
       "2      ACTR5    ACTR5      ARP5  417  0|0|0|0|0|0|0|0|0     1   \n",
       "3      ACTR5   RUVBL2      ARP5   73  6|0|1|0|0|0|0|0|0     1   \n",
       "4      ACTR5   RUVBL1      ARP5   50  3|2|0|0|0|0|0|2|0     1   \n",
       "5      ACTR5   INO80C      ARP5   26  0|0|0|0|0|0|0|0|0  0.99   \n",
       "6      ACTR5    ACTR8      ARP5   32  0|0|0|0|0|0|0|0|0     1   \n",
       "...      ...      ...       ...  ...                ...   ...   \n",
       "5518  ZNHIT2   ZNHIT2  ZnF.HIT2  358  0|0|0|0|0|0|0|0|0     1   \n",
       "5519  ZNHIT2  C20orf4  ZnF.HIT2    4  0|0|0|0|0|0|0|0|0  0.97   \n",
       "5520  ZNHIT2    TSSC4  ZnF.HIT2    4  0|0|0|0|0|0|0|0|0  0.98   \n",
       "5521  ZNHIT2    TTC27  ZnF.HIT2    9  0|0|0|0|0|0|0|0|0  0.99   \n",
       "5522  ZNHIT2      ECD  ZnF.HIT2    3  0|0|0|0|0|0|0|0|0  0.96   \n",
       "\n",
       "                 PP-NSAF             Z-score  weighted D-score  \n",
       "2      0.697316352520067    4.93341427067021  7.32386764271932  \n",
       "3      0.033910239152529  -0.277434577751575  2.30143615423011  \n",
       "4     0.0188476130319074  -0.445655245594782   1.6953802173525  \n",
       "5       0.17716503039295    2.47752757446183  2.16103341761436  \n",
       "6     0.0326314267664079   0.101163744000279   2.1299377904367  \n",
       "...                  ...                 ...               ...  \n",
       "5518    0.95751746168747    5.00260255351579  13.7777734271275  \n",
       "5519                   1    5.00370233297676   1.7133212483779  \n",
       "5520                   1    5.00370233297676   1.7133212483779  \n",
       "5521                   1    5.00370233297676  2.42300214615802  \n",
       "5522                   1    5.00370233297676  2.09838141199706  \n",
       "\n",
       "[5521 rows x 9 columns]"
      ]
     },
     "execution_count": 64,
     "metadata": {},
     "output_type": "execute_result"
    }
   ],
   "source": [
    "spec_counts_df"
   ]
  }
 ],
 "metadata": {
  "kernelspec": {
   "display_name": "Python 3 (ipykernel)",
   "language": "python",
   "name": "python3"
  },
  "language_info": {
   "codemirror_mode": {
    "name": "ipython",
    "version": 3
   },
   "file_extension": ".py",
   "mimetype": "text/x-python",
   "name": "python",
   "nbconvert_exporter": "python",
   "pygments_lexer": "ipython3",
   "version": "3.10.1"
  }
 },
 "nbformat": 4,
 "nbformat_minor": 5
}
