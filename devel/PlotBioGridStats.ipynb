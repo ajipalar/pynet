{
 "cells": [
  {
   "cell_type": "code",
   "execution_count": 2,
   "id": "641fa70a",
   "metadata": {},
   "outputs": [
    {
     "name": "stdout",
     "output_type": "stream",
     "text": [
      "Python 3.10.1\n"
     ]
    }
   ],
   "source": [
    "%%bash\n",
    "python --version"
   ]
  },
  {
   "cell_type": "code",
   "execution_count": 3,
   "id": "de76c1b8",
   "metadata": {},
   "outputs": [
    {
     "name": "stdout",
     "output_type": "stream",
     "text": [
      "# conda environments:\n",
      "#\n",
      "                         /home/aji/anaconda2\n",
      "                         /home/aji/anaconda2/envs/coevolution\n",
      "base                     /home/aji/anaconda3\n",
      "bmi219p                  /home/aji/anaconda3/envs/bmi219p\n",
      "minipynetp               /home/aji/anaconda3/envs/minipynetp\n",
      "openpyxl                 /home/aji/anaconda3/envs/openpyxl\n",
      "pynetp                   /home/aji/anaconda3/envs/pynetp\n",
      "pynetp3.10.0          *  /home/aji/anaconda3/envs/pynetp3.10.0\n",
      "pytorch                  /home/aji/anaconda3/envs/pytorch\n",
      "sciProj                  /home/aji/anaconda3/envs/sciProj\n",
      "testenv                  /home/aji/anaconda3/envs/testenv\n",
      "xlrd                     /home/aji/anaconda3/envs/xlrd\n",
      "                         /home/aji/yes\n",
      "\n"
     ]
    }
   ],
   "source": [
    "%%bash\n",
    "conda env list"
   ]
  },
  {
   "cell_type": "code",
   "execution_count": 13,
   "id": "539bd369",
   "metadata": {},
   "outputs": [],
   "source": [
    "import pandas as pd\n",
    "import numpy as np\n",
    "import matplotlib.pyplot as plt\n",
    "import jax\n",
    "import jax.numpy as jnp\n",
    "from pathlib import Path\n",
    "from typing import Any, NewType\n",
    "DataFrame = NewType('DataFrame', Any)"
   ]
  },
  {
   "cell_type": "code",
   "execution_count": 49,
   "id": "751140d2",
   "metadata": {},
   "outputs": [
    {
     "name": "stderr",
     "output_type": "stream",
     "text": [
      "/tmp/ipykernel_129495/165770527.py:37: DtypeWarning: Columns (1,2,18) have mixed types.Specify dtype option on import or set low_memory=False.\n",
      "  d = load_biogrid_v4_4()\n"
     ]
    }
   ],
   "source": [
    "def load_biogrid_v4_4():\n",
    "    dpath = Path(\"../data/biogrid/BIOGRID-ALL-4.4.206.tab3.txt\")\n",
    "    biogrid_df : DataFrame = pd.read_csv(dpath, sep=\"\\t\")\n",
    "    return biogrid_df\n",
    "\n",
    "def drop_columns(biogrid_df: DataFrame):\n",
    "    to_drop = ['BioGRID ID Interactor A',\n",
    "               'BioGRID ID Interactor B',\n",
    "               'Systematic Name Interactor A',\n",
    "               'Systematic Name Interactor B',\n",
    "               'Official Symbol Interactor A',\n",
    "               'Official Symbol Interactor B',\n",
    "               'Synonyms Interactor A',\n",
    "               'Synonyms Interactor A',\n",
    "               'Modification',\n",
    "               'Throughput',\n",
    "               'Qualifications',\n",
    "               'Tags',\n",
    "               'Source Database',\n",
    "               'SWISS-PROT Accessions Interactor A',\n",
    "               'TREMBL Accessions Interactor A',\n",
    "               'REFSEQ Accessions Interactor A',\n",
    "               'SWISS-PROT Accessions Interactor B',\n",
    "               'TREMBL Accessions Interactor B',\n",
    "               'REFSEQ Accessions Interactor B',\n",
    "               'Ontology Term IDs',\n",
    "               'Ontology Term Names',\n",
    "               'Ontology Term Categories',\n",
    "               'Ontology Term Qualifier IDs',\n",
    "               'Ontology Term Qualifier Names',\n",
    "               'Ontology Term Types'\n",
    "               ]\n",
    "    d = biogrid_df.drop(columns=to_drop, inplace=False)\n",
    "    return d\n",
    "\n",
    "def prepare_biogrid():\n",
    "    d = load_biogrid_v4_4()\n",
    "    d = drop_columns(d)\n",
    "    \n",
    "d = prepare_biogrid()"
   ]
  },
  {
   "cell_type": "code",
   "execution_count": 54,
   "id": "e11bebea",
   "metadata": {},
   "outputs": [
    {
     "name": "stderr",
     "output_type": "stream",
     "text": [
      "/tmp/ipykernel_129495/2241613065.py:1: DtypeWarning: Columns (1,2,18) have mixed types.Specify dtype option on import or set low_memory=False.\n",
      "  d = load_biogrid_v4_4()\n"
     ]
    }
   ],
   "source": [
    "d = load_biogrid_v4_4()"
   ]
  },
  {
   "cell_type": "code",
   "execution_count": null,
   "id": "b59dfd4d",
   "metadata": {},
   "outputs": [],
   "source": [
    "for col in d: print(col, sum(d[]))"
   ]
  }
 ],
 "metadata": {
  "kernelspec": {
   "display_name": "Python 3 (ipykernel)",
   "language": "python",
   "name": "python3"
  },
  "language_info": {
   "codemirror_mode": {
    "name": "ipython",
    "version": 3
   },
   "file_extension": ".py",
   "mimetype": "text/x-python",
   "name": "python",
   "nbconvert_exporter": "python",
   "pygments_lexer": "ipython3",
   "version": "3.10.1"
  }
 },
 "nbformat": 4,
 "nbformat_minor": 5
}
