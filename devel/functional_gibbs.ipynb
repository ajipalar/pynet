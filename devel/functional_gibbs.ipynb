{
 "cells": [
  {
   "cell_type": "code",
   "execution_count": 1,
   "id": "47ceefbb",
   "metadata": {},
   "outputs": [],
   "source": [
    "import jax\n",
    "import numpy as np\n",
    "import jax.numpy as jnp\n",
    "import matplotlib.pyplot as plt\n",
    "from jax.lax import fori_loop as jfori\n",
    "from functools import partial\n",
    "import pyext.src.plot as plot\n",
    "from typing import Any\n",
    "from sklearn.metrics import roc_curve, precision_recall_curve\n",
    "import inspect\n",
    "import re\n",
    "State = Any\n",
    "Output = Any\n",
    "KeyArray = Any\n",
    "DeviceArray = Any"
   ]
  },
  {
   "cell_type": "code",
   "execution_count": 2,
   "id": "ae6b872a",
   "metadata": {},
   "outputs": [],
   "source": [
    "class StateLess:\n",
    "    def stateless_method(state: State, *args, **kwargs) -> (State, Output):\n",
    "        pass\n",
    "\n",
    "# Funcitonal implementation\n",
    "def cond_norm(key, y, rho, *args, **kwargs):\n",
    "    return jax.random.normal(key) * jnp.sqrt(1 - rho **2) + y * rho\n",
    "\n",
    "def cond_bern(key, p, shape):\n",
    "    return jax.random.bernoulli(key, p, shape)\n",
    "\n",
    "\"\"\"\n",
    "def cond_bern(key, i, state, args):\n",
    "    x = jax.random.bernoulli(key, args)\n",
    "    state = state.at[i].set(x)\n",
    "    return state\n",
    "\"\"\"\n",
    "\n",
    "    \n",
    "def cond_dist(key, dist, params, **kwargs):\n",
    "    return dist(key, *params, **kwargs)\n",
    "\n",
    "\n",
    "# X and Y are independant\n",
    "\n",
    "\n",
    "def gibbsf(key: KeyArray, *args, N=10, thin=10,\n",
    "           rho=0.5, dof=2,\n",
    "           **kwargs) -> DeviceArray:\n",
    "    \n",
    "    def outer_body_fun(i: int, val):\n",
    "        key, samples, params, rho, thin  = val\n",
    "        key, samples, params, rho, thin = jax.lax.fori_loop(0, thin, inner_body_fun, val)\n",
    "        samples = samples.at[i].set(params)\n",
    "        return key, samples, params, rho, thin\n",
    "\n",
    "    def inner_body_fun(i: int, \n",
    "                       init_val\n",
    "                       ) -> tuple[KeyArray, float, float]:\n",
    "        \n",
    "        key, samples, params, rho, thin = init_val\n",
    "        key, k1, k2 = jax.random.split(key, 1 + dof)\n",
    "        # x = jax.random.normal(k1) * jnp.sqrt(1 - rho **2) + y * rho\n",
    "        # y = jax.random.normal(k2) * jnp.sqrt(1 - rho **2) + x * rho\n",
    "        x = jax.random.bernoulli(k1, 0.5)\n",
    "        y = jax.random.bernoulli(k2, 0.5)\n",
    "        \n",
    "        \n",
    "        \n",
    "        \n",
    "        params = [x, y]\n",
    "        return key, samples, params, rho, thin\n",
    "    \n",
    "    # initiate\n",
    "    key, k1, k2 = jax.random.split(key, 3)\n",
    "    # x = jax.random.uniform(k1)\n",
    "    # y = jax.random.uniform(k2)\n",
    "    \n",
    "    x = jax.random.bernoulli(k1)\n",
    "    y = jax.random.bernoulli(k2)\n",
    "    \n",
    "    samples = jnp.zeros((N, 2))\n",
    "    params = [x, y]\n",
    "    val = key, samples, params, rho, thin\n",
    "    \n",
    "    # key, samples, x, y, rho, thin\n",
    "    samples = jax.lax.fori_loop(0, N, outer_body_fun, val)[1]\n",
    "    return samples"
   ]
  },
  {
   "cell_type": "code",
   "execution_count": 3,
   "id": "d5149049",
   "metadata": {},
   "outputs": [],
   "source": [
    "# imperative implementation\n",
    "def gibbs(key, N=10, thin=10):\n",
    "    key, k1, k2 = jax.random.split(key, 3)\n",
    "    x = jax.random.uniform(k1)\n",
    "    y = jax.random.uniform(k2)\n",
    "    samples = jnp.array(np.zeros((N, 2)))\n",
    "    for i in range(N):\n",
    "        for j in range(thin):\n",
    "            key, k1, k2 = jax.random.split(key, 3)\n",
    "            x = x_cond_dens(k1, y)\n",
    "            y = y_cond_dens(k2, x)\n",
    "        samples = samples.at[i].set([x, y])\n",
    "    return samples"
   ]
  },
  {
   "cell_type": "code",
   "execution_count": 4,
   "id": "96d6c9f6",
   "metadata": {},
   "outputs": [],
   "source": [
    "#Block defines meta programmig conventions for dynamically defined\n",
    "#functions used with the jax jit compiler\n",
    "from typing import NewType\n",
    "PyFname = NewType('MPyFname', str)  # sybolic id (name) of a function\n",
    "PyFdef = NewType('MPyFdef', str)  # string rep of python function definition\n",
    "PyFargs = NewType('MPyFargs', str) # string rep of python funciton arguments\n",
    "\n",
    "PyObj = NewType('MPyObj', str)   # string rep of a python object\n",
    "PyStmnt = NewType('MPyObj', str)  # string rep of a python statment\n",
    "PyBlock = NewType('MPyBlock', str)  # string rep of a block of statements\n",
    "\n",
    "PyExpr = NewType('MPyExpr', str)  # string rep of a python expression\n",
    "PyCname = NewType('MPyCname', str)  # symbolic id (name) of a class\n",
    "PyCdef = NewType('MPyCdef', str) # string rep of python class definition\n",
    "\n",
    "PyLit = NewType('PyLit', str)  # string rep of python literal e.g., '2'\n",
    "PyIden = NewType('PyIden', str)  # string rep of python identifier e.g. 'map'\n",
    "PyOp = NewType('PyOp', str)  # string rep of python operator e.g., '+', '('\n",
    "\n",
    "#cond_bern_str : PyFdef = \"\"\"def cond_bern(key, i, state, args):\n",
    "#    x = jax.random.bernoulli(key, args)\n",
    "#    state = state.at[i].set(x)\n",
    "#    return state\"\"\"\n",
    "\n",
    "class PyFunction:\n",
    "    def __init__(self, \n",
    "                 name : PyFname = \"\",\n",
    "                 args : PyStmnt = \"\",\n",
    "                 ret = \"\",\n",
    "                 ret_t = \"\",\n",
    "                 body = \"\",\n",
    "                 offset : int = 0):\n",
    "        self.args = args\n",
    "        self.name = name\n",
    "        self.ret = ret\n",
    "        self.ret_t = ret_t\n",
    "        self.offset = offset\n",
    "        self.body = body\n",
    "    \n",
    "    def define(self) -> PyFdef:\n",
    "        fs = ' ' * self.offset + f'def {self.name}({self.args}) -> {self.ret_t}:'\n",
    "        \n",
    "        return fs"
   ]
  },
  {
   "cell_type": "code",
   "execution_count": 5,
   "id": "abd4e584",
   "metadata": {},
   "outputs": [],
   "source": [
    "def offset_str(off: int, s: str, newline = True) -> str:\n",
    "    s = ' ' * off + s\n",
    "    if newline:\n",
    "        return s + '\\n'\n",
    "    else:\n",
    "        return s\n",
    "    \n",
    "def define_inner_body_fun():\n",
    "    def inner_body_fun(i : int,\n",
    "                       init_val) -> tuple[KeyArray, float, float]:\n",
    "        pass\n",
    "    \n",
    "    def stmnt():\n",
    "        (key, *k) = jax.random.split(key, 1 + {dof})\n",
    "    ss = inspect.getsource(stmnt)\n",
    "    fs = inspect.getsource(inner_body_fun)\n",
    "    return fs, ss\n",
    "    \n",
    "def get_paramlist_str(dof : int) -> PyObj:\n",
    "    start = '['\n",
    "    for i, j in enumerate(range(dof)):\n",
    "        start +=  f'x{j}, '\n",
    "    start = start.strip(', ')\n",
    "    start+= ']'\n",
    "    return start\n",
    "\n",
    "def py_compile_inner_body(f : PyFname , \n",
    "                          dof : int , \n",
    "                          offset : int = 0,\n",
    "                          comma_seperated_values=\"\") -> PyFdef:\n",
    "    \n",
    "    \n",
    "    c = \"\"\"\"\"\"\n",
    "    o = partial(offset_str, offset)\n",
    "    c += o(\"\"\"def inner_body_fun(i: int,\n",
    "                   init_val) -> tuple[KeyArray, float, float]:\\n\"\"\")\n",
    "    c+= o(f\"\"\"    {comma_seperated_values} = init_val\"\"\")\n",
    "    c+= o(f\"\"\"    (key, *k) = jax.random.split(key, 1 + {dof})\"\"\")\n",
    "    \n",
    "    \n",
    "    param_list = offset_str(offset, '[', newline=False)\n",
    "    \n",
    "    \n",
    "    for i, j in enumerate(range(dof)):\n",
    "        c+=o(f'    x{j} = {f}(k[{j}])')\n",
    "        param_list += f'x{j}, '\n",
    "    param_list = param_list.strip(', ')\n",
    "    param_list +=']'\n",
    "    c+=o(f'    params = {param_list}')\n",
    "    c+=o( f'    return {comma_seperated_values}')\n",
    "    \n",
    "    #c = inspect.getsource(inner_body_fun)\n",
    "    #pattern = 'key, samples, params, rho, thin'\n",
    "    #repl = '{comma_seperated_values}'\n",
    "    #c = re.sub(pattern, repl, source)\n",
    "    \n",
    "    return c\n",
    "\n",
    "#print(py_compile_inner_body('jax.random.bernoulli', 10))\n",
    "\n",
    "def py_compile_outer_body(dof, offset=0,\n",
    "                         comma_seperated_values=\"\") -> PyFdef:\n",
    "    \n",
    "    o = partial(offset_str, offset)\n",
    "    c=''\n",
    "    c+=o(\"\"\"def outer_body_fun(i: int, val):\\n\"\"\")\n",
    "    o = partial(offset_str, 4 + offset)\n",
    "    c+=o(f\"\"\"{comma_seperated_values} = val\"\"\")\n",
    "    c+=o(f\"\"\"{comma_seperated_values} = jax.lax.fori_loop(0, thin, inner_body_fun, val)\"\"\")\n",
    "    c+=o(\"\"\"samples = samples.at[i].set(params)\"\"\")\n",
    "    # c+=o(f\"\"\"val = {comma_seperated_values}\"\"\")\n",
    "    c+=o(f\"\"\"return {comma_seperated_values}\"\"\")\n",
    "    return c\n",
    "\n",
    "def py_compile_initialize(init_function_str, dof, \n",
    "                         offset=0,\n",
    "                         comma_seperated_values=\"\",\n",
    "                         N=5000) -> PyBlock:\n",
    "        # initiate\n",
    "    c=\"\"\"\"\"\"\n",
    "    o = partial(offset_str, offset)\n",
    "    # c = OffsetStr(offset=offset)\n",
    "    c+=o(f'(key, *k) = jax.random.split(key, {1 + dof})')\n",
    "    param_list = '['\n",
    "    for i, j in enumerate(range(dof)):\n",
    "        c+=o(f'x{j} = {init_function_str}(k[{j}])')\n",
    "    param_list += f'x{j}, '\n",
    "    param_list_str = get_paramlist_str(dof)\n",
    "    c+=o(f'samples = jnp.zeros(({N}, {dof}))')\n",
    "    c+=o(f'params = {param_list_str}')\n",
    "    c+=o(f'val = {comma_seperated_values}')\n",
    "    c+=o('samples = jax.lax.fori_loop(0, N, outer_body_fun, val)[1]')\n",
    "    c+=o('return samples')\n",
    "    \n",
    "    return c\n",
    "\n",
    "    \n",
    "    #val = key, samples, params, rho, thin\n",
    "    \n",
    "    # key, samples, x, y, rho, thin\n",
    "    #samples = jax.lax.fori_loop(0, N, outer_body_fun, val)[1]\n",
    "\n",
    "def compile_gibbsf(init_f : PyFname, \n",
    "                   f_str : PyFname,\n",
    "                   definitions : PyBlock = \"\",\n",
    "                   offset : int = 4,\n",
    "                   thin : int = 10,\n",
    "                   N : int = 5000,\n",
    "                   rho : float = 0.5,\n",
    "                   dof : int = 3) -> PyFdef:\n",
    "    \n",
    "    comma_seperated_values = 'key, samples, params, rho, thin'\n",
    "    \n",
    "    o = partial(offset_str, 0)\n",
    "\n",
    "    c=o(f\"\"\"def gibbsf(key: KeyArray, *args, N={N}, thin={thin},\n",
    "           rho={rho}, dof={dof},\n",
    "           **kwargs) -> DeviceArray:\\n\"\"\")\n",
    "    c+=o(f\"\"\"{py_compile_outer_body(dof, offset=offset,\n",
    "                                  comma_seperated_values=comma_seperated_values)}\\n\"\"\")\n",
    "    c+=o(f\"\"\"{py_compile_inner_body(f_str, dof, offset=offset,\n",
    "                                  comma_seperated_values=comma_seperated_values)}\\n\"\"\")\n",
    "    c+=o(f\"\"\"{py_compile_initialize(init_f, dof, offset=offset, N=N,\n",
    "                                  comma_seperated_values = comma_seperated_values)}\\n\"\"\")\n",
    "    \n",
    "    m=\"\"\"### Meta python func BEGIN ###\\n\"\"\"\n",
    "    m+= c\n",
    "    m+= \"\"\"### Meta python func END ###\\n\"\"\"\n",
    "    return m"
   ]
  },
  {
   "cell_type": "code",
   "execution_count": 6,
   "id": "18b96936",
   "metadata": {},
   "outputs": [],
   "source": [
    "N = 5000\n",
    "thin = 100\n",
    "dof = 2\n",
    "rho=-0.99\n",
    "\n",
    "init_func = 'jax.random.bernoulli'\n",
    "func = 'jax.random.bernoulli'\n",
    "#init_func = 'jax.random.normal'\n",
    "#func = 'jax.random.normal'\n",
    "\n",
    "#init_func = 'cond_norm'\n",
    "#func = 'cond_norm'\n",
    "\n",
    "#init_func = cond_bern_str\n",
    "#func = 'cond_bern'\n",
    "\n",
    "\n",
    "init_sig = ''\n",
    "func_sig = ''\n",
    "inter_rep = compile_gibbsf(init_func, func, N=N, dof=dof, \n",
    "                           thin=thin, rho=rho)\n",
    "\n",
    "#Exec brings the meta function gibbsf into the global scope\n",
    "exec(inter_rep)\n",
    "gibbsf_jaxpr = jax.make_jaxpr(gibbsf)\n",
    "gibbsf_jit = jax.jit(gibbsf)"
   ]
  },
  {
   "cell_type": "code",
   "execution_count": 7,
   "id": "51de3e61",
   "metadata": {},
   "outputs": [
    {
     "name": "stdout",
     "output_type": "stream",
     "text": [
      "### Meta python func BEGIN ###\n",
      "def gibbsf(key: KeyArray, *args, N=5000, thin=100,\n",
      "           rho=-0.99, dof=2,\n",
      "           **kwargs) -> DeviceArray:\n",
      "\n",
      "    def outer_body_fun(i: int, val):\n",
      "\n",
      "        key, samples, params, rho, thin = val\n",
      "        key, samples, params, rho, thin = jax.lax.fori_loop(0, thin, inner_body_fun, val)\n",
      "        samples = samples.at[i].set(params)\n",
      "        return key, samples, params, rho, thin\n",
      "\n",
      "\n",
      "    def inner_body_fun(i: int,\n",
      "                   init_val) -> tuple[KeyArray, float, float]:\n",
      "\n",
      "        key, samples, params, rho, thin = init_val\n",
      "        (key, *k) = jax.random.split(key, 1 + 2)\n",
      "        x0 = jax.random.bernoulli(k[0])\n",
      "        x1 = jax.random.bernoulli(k[1])\n",
      "        params = [x0, x1]\n",
      "        return key, samples, params, rho, thin\n",
      "\n",
      "\n",
      "    (key, *k) = jax.random.split(key, 3)\n",
      "    x0 = jax.random.bernoulli(k[0])\n",
      "    x1 = jax.random.bernoulli(k[1])\n",
      "    samples = jnp.zeros((5000, 2))\n",
      "    params = [x0, x1]\n",
      "    val = key, samples, params, rho, thin\n",
      "    samples = jax.lax.fori_loop(0, N, outer_body_fun, val)[1]\n",
      "    return samples\n",
      "\n",
      "\n",
      "### Meta python func END ###\n",
      "\n"
     ]
    }
   ],
   "source": [
    "print(compile_gibbsf(init_func, func, N=N, dof=dof, \n",
    "                           thin=thin, rho=rho))"
   ]
  },
  {
   "cell_type": "code",
   "execution_count": 8,
   "id": "c9d32320",
   "metadata": {},
   "outputs": [
    {
     "name": "stderr",
     "output_type": "stream",
     "text": [
      "WARNING:absl:No GPU/TPU found, falling back to CPU. (Set TF_CPP_MIN_LOG_LEVEL=0 and rerun for more info.)\n"
     ]
    },
    {
     "data": {
      "image/png": "[encoded data removed]",
      "text/plain": [
       "<Figure size 432x288 with 1 Axes>"
      ]
     },
     "metadata": {
      "needs_background": "light"
     },
     "output_type": "display_data"
    }
   ],
   "source": [
    "def make_gibbs_jit(sampler, rho, N, thin, dof):\n",
    "    gibbsf_partial = partial(sampler, N=N, \n",
    "                             thin=thin, rho=rho,\n",
    "                             dof=dof)\n",
    "    gibbsf_jit = jax.jit(gibbsf_partial)\n",
    "    return gibbsf_jit\n",
    "\n",
    "# gibbsf_jit = make_gibbs_jit(gibbsf, 0.99, 5000, 100, 2)\n",
    "# gibbsf_jit  = jax.jit(gibbsf)\n",
    "key = jax.random.PRNGKey(12)\n",
    "samples = np.array(gibbsf_jit(key))\n",
    "x, y = samples[:, 0], samples[:, 1]\n",
    "plot.scatter(x, y)"
   ]
  },
  {
   "cell_type": "code",
   "execution_count": 9,
   "id": "65e6c556",
   "metadata": {},
   "outputs": [
    {
     "name": "stdout",
     "output_type": "stream",
     "text": [
      "0.32 megabytes\n"
     ]
    }
   ],
   "source": [
    "print(f'{samples.size * 32 / 10**6} megabytes')"
   ]
  },
  {
   "cell_type": "code",
   "execution_count": 10,
   "id": "834961d6",
   "metadata": {},
   "outputs": [],
   "source": [
    "def get_probability_estimates(samples):\n",
    "    return jnp.mean(samples, axis=0)"
   ]
  },
  {
   "cell_type": "code",
   "execution_count": 11,
   "id": "50b5f4b8",
   "metadata": {},
   "outputs": [],
   "source": [
    "prob_estimate = get_probability_estimates(samples)"
   ]
  },
  {
   "cell_type": "code",
   "execution_count": 12,
   "id": "e4e94cd5",
   "metadata": {},
   "outputs": [],
   "source": [
    "# Plot ROC and PRC curves\n",
    "def ROC_PRC_test():\n",
    "    key = jax.random.PRNGKey(10298)\n",
    "    key, k1 , k2 = jax.random.split(key, 3)\n",
    "    shape = (1000000, )\n",
    "    y_true = jax.random.bernoulli(key, p=0.01, shape=shape)\n",
    "    score = jax.random.uniform(k1, shape=shape)\n",
    "    fpr, tpr, thresholds = roc_curve(y_true, score)\n",
    "    precision, recall, pthresholds = precision_recall_curve(y_true, score)\n",
    "    return fpr, tpr, thresholds, precision, recall, pthresholds"
   ]
  },
  {
   "cell_type": "code",
   "execution_count": 13,
   "id": "40b50058",
   "metadata": {},
   "outputs": [],
   "source": [
    "val = ROC_PRC_test()\n",
    "fpr, tpr, thre, prec, recall, pthre = val"
   ]
  },
  {
   "cell_type": "code",
   "execution_count": 14,
   "id": "96cf2d09",
   "metadata": {},
   "outputs": [
    {
     "data": {
      "image/png": "[encoded data removed]",
      "text/plain": [
       "<Figure size 432x288 with 1 Axes>"
      ]
     },
     "metadata": {
      "needs_background": "light"
     },
     "output_type": "display_data"
    }
   ],
   "source": [
    "def multi_plot(fpr, tpr, xlabel='fpr', ylabel='tpr'):\n",
    "    labels = []\n",
    "    for e, i in enumerate(np.arange(0.01, 0.5, 0.05)):\n",
    "        xi = tpr + i\n",
    "        plt.plot(fpr, xi)\n",
    "        label = f'model {e}'\n",
    "        labels.append(label)\n",
    "    plt.legend(labels)\n",
    "    plt.xlabel(xlabel)\n",
    "    plt.ylabel(ylabel)\n",
    "    plt.show()\n",
    "\n",
    "multi_plot(fpr, tpr)"
   ]
  },
  {
   "cell_type": "code",
   "execution_count": 15,
   "id": "f4d3c663",
   "metadata": {},
   "outputs": [
    {
     "name": "stderr",
     "output_type": "stream",
     "text": [
      "/home/aji/anaconda3/envs/pynetp3.10.0/lib/python3.10/site-packages/IPython/core/pylabtools.py:151: UserWarning: Creating legend with loc=\"best\" can be slow with large amounts of data.\n",
      "  fig.canvas.print_figure(bytes_io, **kw)\n"
     ]
    },
    {
     "data": {
      "image/png": "[encoded data removed]",
      "text/plain": [
       "<Figure size 432x288 with 1 Axes>"
      ]
     },
     "metadata": {
      "needs_background": "light"
     },
     "output_type": "display_data"
    }
   ],
   "source": [
    "multi_plot(prec, recall)"
   ]
  },
  {
   "cell_type": "code",
   "execution_count": 16,
   "id": "25486dc3",
   "metadata": {},
   "outputs": [
    {
     "ename": "NameError",
     "evalue": "name 'testkey' is not defined",
     "output_type": "error",
     "traceback": [
      "\u001b[0;31m---------------------------------------------------------------------------\u001b[0m",
      "\u001b[0;31mNameError\u001b[0m                                 Traceback (most recent call last)",
      "Input \u001b[0;32mIn [16]\u001b[0m, in \u001b[0;36m<module>\u001b[0;34m\u001b[0m\n\u001b[1;32m      4\u001b[0m     u, x \u001b[38;5;241m=\u001b[39m f1(k2, x)\n\u001b[1;32m      5\u001b[0m     \u001b[38;5;28;01mreturn\u001b[39;00m u, x\n\u001b[0;32m----> 6\u001b[0m f3(\u001b[43mtestkey\u001b[49m, \u001b[38;5;241m2\u001b[39m)\n",
      "\u001b[0;31mNameError\u001b[0m: name 'testkey' is not defined"
     ]
    }
   ],
   "source": [
    "def f3(k1, x):\n",
    "    k1, k2 = jax.random.split(k1)\n",
    "    n, x = f2(k1, x)\n",
    "    u, x = f1(k2, x)\n",
    "    return u, x\n",
    "f3(testkey, 2)"
   ]
  },
  {
   "cell_type": "code",
   "execution_count": null,
   "id": "218a686e",
   "metadata": {},
   "outputs": [],
   "source": [
    "%%bash\n",
    "conda list scikit-learn"
   ]
  },
  {
   "cell_type": "code",
   "execution_count": null,
   "id": "8fe09514",
   "metadata": {},
   "outputs": [],
   "source": [
    "samples = gibbsf_jit(key, rho=0)\n",
    "plot.scatter(samples[:, 0], samples[:, 1])"
   ]
  },
  {
   "cell_type": "code",
   "execution_count": null,
   "id": "b7e8e884",
   "metadata": {},
   "outputs": [],
   "source": [
    "plot.marginal(x, xlabel='x')"
   ]
  },
  {
   "cell_type": "code",
   "execution_count": null,
   "id": "f6c9d43a",
   "metadata": {
    "scrolled": true
   },
   "outputs": [],
   "source": [
    "plot.marginal(y, xlabel='y')"
   ]
  },
  {
   "cell_type": "code",
   "execution_count": null,
   "id": "d415c72e",
   "metadata": {},
   "outputs": [],
   "source": [
    "# Metropolis Hastings\n",
    "\n",
    "\n",
    "def mh_f(key, steps):\n",
    "    \n",
    "    def score(x):\n",
    "        return jax.scipy.stats.logistic.pdf(x)\n",
    "\n",
    "    def rv(key):\n",
    "        return jax.random.uniform(key, minval=-10, maxval=10)\n",
    "\n",
    "    def body(i, init):\n",
    "        key, x = init\n",
    "        x0 = x[i-1]\n",
    "        key, g1, g2 = jax.random.split(key, 3)\n",
    "        x1 = rv(g1)\n",
    "        A = score(x1) / score(x0)\n",
    "        p = jax.random.uniform(g2)\n",
    "        xi = jax.lax.cond(p < A, lambda : x1, lambda : x0)\n",
    "        x = x.at[i].set(xi)\n",
    "        return key, x\n",
    "    \n",
    "    def silly(i, v):\n",
    "        u, x = v\n",
    "        w = u, x\n",
    "        return w\n",
    "    \n",
    "    samples = jnp.zeros(steps)\n",
    "    key, samples = jax.lax.fori_loop(1, steps, body, (key, samples))\n",
    "    return samples\n",
    "\n",
    "key = jax.random.PRNGKey(10)\n",
    "key, j1 = jax.random.split(key, 2)\n",
    "steps = 100000\n",
    "mh_f(key, steps)"
   ]
  },
  {
   "cell_type": "code",
   "execution_count": null,
   "id": "9c376022",
   "metadata": {},
   "outputs": [],
   "source": [
    "%timeit mh_f(key, steps)"
   ]
  },
  {
   "cell_type": "code",
   "execution_count": null,
   "id": "73b85dd9",
   "metadata": {},
   "outputs": [],
   "source": [
    "mh_fp = partial(mh_f, steps=100000)"
   ]
  },
  {
   "cell_type": "code",
   "execution_count": null,
   "id": "a150028b",
   "metadata": {},
   "outputs": [],
   "source": [
    "mh_f_p_jit = jax.jit(mh_fp)"
   ]
  },
  {
   "cell_type": "code",
   "execution_count": null,
   "id": "7bd12166",
   "metadata": {},
   "outputs": [],
   "source": [
    "%timeit mh_f_p_jit(key).block_until_ready()"
   ]
  },
  {
   "cell_type": "code",
   "execution_count": null,
   "id": "af541594",
   "metadata": {},
   "outputs": [],
   "source": [
    "jnp.all(mh_fp(key) == mh_f_p_jit(key))"
   ]
  },
  {
   "cell_type": "code",
   "execution_count": null,
   "id": "c97b85cf",
   "metadata": {},
   "outputs": [],
   "source": [
    "x = np.array(mh_f_p_jit(key))\n",
    "plot.marginal(x)"
   ]
  },
  {
   "cell_type": "code",
   "execution_count": null,
   "id": "235b9a7d",
   "metadata": {},
   "outputs": [],
   "source": [
    "s = np.array(score(x))\n",
    "plot.marginal(s)"
   ]
  },
  {
   "cell_type": "code",
   "execution_count": null,
   "id": "52da2e0b",
   "metadata": {},
   "outputs": [],
   "source": []
  },
  {
   "cell_type": "code",
   "execution_count": null,
   "id": "5c95a637",
   "metadata": {},
   "outputs": [],
   "source": [
    "np.quantile(x, np.arange(0, 1, 0.1))"
   ]
  },
  {
   "cell_type": "code",
   "execution_count": null,
   "id": "222c0fa8",
   "metadata": {},
   "outputs": [],
   "source": [
    "np.arange(0, 1, 0.1)"
   ]
  },
  {
   "cell_type": "code",
   "execution_count": null,
   "id": "59c0618b",
   "metadata": {},
   "outputs": [],
   "source": [
    "k1 = jax.random.PRNGKey(23)\n",
    "k2 = jax.random.PRNGKey(23)"
   ]
  },
  {
   "cell_type": "code",
   "execution_count": null,
   "id": "3466ab11",
   "metadata": {},
   "outputs": [],
   "source": [
    "%timeit gibbsf_jit(k1).block_until_ready()"
   ]
  },
  {
   "cell_type": "code",
   "execution_count": null,
   "id": "a223144c",
   "metadata": {},
   "outputs": [],
   "source": [
    "%timeit gibbs(k2, N=5000, thin=100)"
   ]
  },
  {
   "cell_type": "code",
   "execution_count": null,
   "id": "44f6e197",
   "metadata": {},
   "outputs": [],
   "source": [
    "def rel_error(x, s):\n",
    "    return s / x\n",
    "\n",
    "def error():\n",
    "    r1 = rel_error(0.160, 0.0177)\n",
    "    r2 = rel_error(59.9, 0.0373)\n",
    "    r3 = r1 + r2\n",
    "    return (59.9 / 0.160 ) * r3"
   ]
  },
  {
   "cell_type": "markdown",
   "id": "1ed4b2ff",
   "metadata": {},
   "source": [
    "jit:    160 ms ± 17.7 ms per loop (mean ± std. dev. of 7 runs, 1 loop each)\n",
    "python: 59.9 s ± 37.3 ms per loop (mean ± std. dev. of 7 runs, 1 loop each)\n",
    "\n",
    "jit compilation appeared to accelerate the gibbs sampler by 374 ± 42"
   ]
  },
  {
   "cell_type": "code",
   "execution_count": null,
   "id": "4530bdb5",
   "metadata": {},
   "outputs": [],
   "source": [
    "jax.make_jaxpr(f)"
   ]
  },
  {
   "cell_type": "code",
   "execution_count": null,
   "id": "eea51f0e",
   "metadata": {},
   "outputs": [],
   "source": [
    "\"\"\"\n",
    "# This code will take a very long time to jit compile\n",
    "# because the gibbs function uses python for loops\n",
    "# instead of jax.lax.fori_loop\n",
    "\n",
    "gibbs_partial = partial(gibbs, N=50000, thin=1000)\n",
    "gibbs_jit = jax.jit(gibbs_partial)\n",
    "key = jax.random.PRNGKey(5)\n",
    "samples = np.array(gibbs_jit(key))\n",
    "plot.scatter(samples[:, 0], samples[:, 1])\n",
    "\"\"\""
   ]
  },
  {
   "cell_type": "code",
   "execution_count": null,
   "id": "4cbe9429",
   "metadata": {},
   "outputs": [],
   "source": [
    "key = jax.random.PRNGKey(5)\n",
    "gibbs_jit = jax.jit(gibbs)\n",
    "samples = gibbs_jit(key)"
   ]
  },
  {
   "cell_type": "code",
   "execution_count": null,
   "id": "f07024d7",
   "metadata": {},
   "outputs": [],
   "source": [
    "key = jax.random.PRNGKey(5)\n",
    "gibbsf_jit = jax.jit(gibbsf)\n",
    "samplesf = gibbsf_jit(key)"
   ]
  },
  {
   "cell_type": "raw",
   "id": "2b11a9f1",
   "metadata": {},
   "source": [
    "# samples == samplesf"
   ]
  },
  {
   "cell_type": "code",
   "execution_count": null,
   "id": "fabc46cb",
   "metadata": {},
   "outputs": [],
   "source": [
    "key2 = jax.random.PRNGKey(17)\n",
    "samples = gibbs_jit(key2)\n",
    "key2 = jax.random.PRNGKey(17)\n",
    "samplesf = gibbsf_jit(key2)"
   ]
  },
  {
   "cell_type": "code",
   "execution_count": null,
   "id": "44508532",
   "metadata": {},
   "outputs": [],
   "source": [
    "plt.scatter(samplesf[:, 0], samplesf[:, 1])"
   ]
  },
  {
   "cell_type": "code",
   "execution_count": null,
   "id": "62faec77",
   "metadata": {},
   "outputs": [],
   "source": [
    "gibbs_partial = partial(gibbsf, N=50000, thin=1000)\n",
    "gibbsf_jit = jax.jit(gibbs_partial)\n",
    "key = jax.random.PRNGKey(5)\n",
    "samples = np.array(gibbsf_jit(key))\n",
    "plt.scatter(samples[:, 0], samples[:, 1])"
   ]
  },
  {
   "cell_type": "code",
   "execution_count": null,
   "id": "3ca899e3",
   "metadata": {},
   "outputs": [],
   "source": [
    "x, y, z, *args = (1, 2, 3)"
   ]
  },
  {
   "cell_type": "code",
   "execution_count": null,
   "id": "945155e3",
   "metadata": {},
   "outputs": [],
   "source": [
    "try:  # Doesn't work; fori_loop requires f(i, val)\n",
    "    f = lambda x: x+1\n",
    "    jax.lax.fori_loop(0, 100, f, 0)\n",
    "except TypeError:\n",
    "    # Works\n",
    "    # Can jit through the funciton\n",
    "    def iwrapper(f):\n",
    "        def wrap(i, val):\n",
    "            return f(val)\n",
    "        return wrap\n",
    "    f = iwrapper(lambda x: x+1)\n",
    "    print(jax.lax.fori_loop(0, 10, f, 0))\n",
    "    print(jax.jit(lambda : jax.lax.fori_loop(0, 10, f, 0))().block_until_ready())"
   ]
  },
  {
   "cell_type": "code",
   "execution_count": null,
   "id": "f06b0fd5",
   "metadata": {},
   "outputs": [],
   "source": [
    "def f(x: KeyArray):\n",
    "    def g(x):\n",
    "        return 2*x\n",
    "    return g(x) + 1\n",
    "f = jax.jit(f)\n"
   ]
  },
  {
   "cell_type": "code",
   "execution_count": null,
   "id": "4c1954fd",
   "metadata": {
    "scrolled": true
   },
   "outputs": [],
   "source": [
    "def inner_body_fun(i: int, \n",
    "                   val: tuple[KeyArray, float, float]\n",
    "                   ) -> tuple[KeyArray, float, float]:\n",
    "\n",
    "    key, samples, x, y, thin = val\n",
    "    key, k1, k2 = jax.random.split(key, 3)\n",
    "    x = x_cond_dens(k1, y)\n",
    "    y = y_cond_dens(k2, x)\n",
    "    samples = samples.at[i].set([x, y])\n",
    "    return key, samples, x, y, thin\n",
    "\n",
    "key = jax.random.PRNGKey(10)\n",
    "key, k1, k2 = jax.random.split(key, 3)\n",
    "N = 1000\n",
    "thin = 5\n",
    "x = jax.random.uniform(k1)\n",
    "y = jax.random.uniform(k2)\n",
    "samples = jnp.zeros((N, 2))\n",
    "val = key, samples, x, y, thin\n",
    "def outer(val):\n",
    "    return jax.lax.fori_loop(0, N, inner_body_fun, val)\n",
    "\n",
    "opartial = partial(outer, val=val)\n",
    "otest = jax.jit(opartial)"
   ]
  },
  {
   "cell_type": "code",
   "execution_count": null,
   "id": "c63e9d39",
   "metadata": {},
   "outputs": [],
   "source": [
    "a, b, *args = (1, 2, 3)"
   ]
  },
  {
   "cell_type": "code",
   "execution_count": null,
   "id": "46cf0f54",
   "metadata": {},
   "outputs": [],
   "source": [
    "def f1(x, y, *args, **kwargs):\n",
    "    return x * y, args, kwargs\n",
    "\n",
    "def f2(x, *args, **kwargs):\n",
    "    rho = kwargs['rho']\n",
    "    return x + rho, args, kwargs\n",
    "\n",
    "def g(x, y, *args, **kwargs):\n",
    "    a, args, kwargs = f1(x, y, *args, **kwargs)\n",
    "    b, args, kwargs = f2(a, *args, **kwargs)\n",
    "    return b, args, kwargs\n",
    "\n",
    "def h(x, y, *args, **kwargs):\n",
    "    return f2(f1(*args, **kwargs))\n",
    "g(1, 2, **{'rho': 4})"
   ]
  },
  {
   "cell_type": "code",
   "execution_count": null,
   "id": "d5ee7abc",
   "metadata": {},
   "outputs": [],
   "source": [
    "# Suppose we have a set of functions a, b, c, ..., h\n",
    "def local_block():\n",
    "    def a(state: tuple[Any], x, y, *args, **kwargs):\n",
    "        return state, (x + y, )\n",
    "\n",
    "    def b(state: tuple[Any], x, *args, **kwargs):\n",
    "        return state, (x, x ** 2 )\n",
    "\n",
    "    def c(state: tuple[Any], x, y, *args, **kwargs):\n",
    "        return state, (x + y, ), args, kwargs\n",
    "\n",
    "    def d(state: tuple[Any], x, rho, *args, **kwargs):\n",
    "        return state, (x - 10 * rho,)\n",
    "    \n",
    "    def e(state: tuple[Any], x, *args, **kwargs):\n",
    "        return state, (x * 2, )\n",
    "    \n",
    "    def f(state: tuple[Any], x, *args, **kwargs):\n",
    "        return state, (jnp.log(x), )\n",
    "    \n",
    "    def h(state: tuple[Any], x, *args, **kwargs):\n",
    "        return state, (1 / 2 * x ** 2, )\n",
    "    \n",
    "    # We wish to compose and jit compile these functions into a pipe\n",
    "    # output = h(e(d(c(b(a)))))\n",
    "    # each function has positional[:tuple] and keyword[:dict] arguments\n",
    "    # we would like to make a change in the middle of the chain without\n",
    "    # affecting how we built the funciton before and after\n",
    "    # how would we do this?\n",
    "    \n",
    "    # supposing the funcitons are pure\n",
    "    \n",
    "    # we must make a change to c\n",
    "    # option1 : add an extra parameter to the highest level function\n",
    "    # and a parameter to c without changing c's return type\n",
    "    \n",
    "    # c(x, y) -> c(x, y, z)\n",
    "    # \n",
    "    \n",
    "    def statless_function(state: State, *args, **kwargs) -> tuple[State, Output]:\n",
    "        pass\n",
    "    \n",
    "    def pipe(state: tuple[Any], pipe_in, *args, **kwargs):\n",
    "        state, return_a = a(state, *pipe_in)\n",
    "        state, return_b = b(state, *return_a)\n",
    "        state, return_c = c(state, *return_b)\n",
    "        state, return_d = d(state, *return_c)\n",
    "        state, return_e = e(state, *return_d)\n",
    "        state, return_f = f(state, *return_e)\n",
    "        state, pipe_out = h(state, *return_f)\n",
    "        return state, pipe_out\n",
    "    \n",
    "    class P:\n",
    "        def __lt__(self, div):\n",
    "            print(div)\n",
    "    \n",
    "    state = (1, 2)\n",
    "    pipe_in = (11, 12)\n",
    "    p = P()\n",
    "    p < pipe(state, pipe_in)\n",
    "    #p < jax.make_jaxpr(a)((), np.array([1, 2]), np.array([1, 1]))\n",
    "    p < jax.make_jaxpr(pipe)((1, 2), (11, 12))\n",
    "    \n",
    "        \n",
    "local_block()"
   ]
  },
  {
   "cell_type": "code",
   "execution_count": null,
   "id": "72237dc9",
   "metadata": {},
   "outputs": [],
   "source": [
    "def f(x, y, z, *args, file=None, **kwargs):\n",
    "    print(file)\n",
    "    return x, (y + z, ), args, kwargs\n",
    "\n",
    "state, ret, args, kwargs = f(*(1, 2, 3, 4, 5), **{'j': 2, 'file':4})\n",
    "state, ret, args, kwargs"
   ]
  },
  {
   "cell_type": "code",
   "execution_count": null,
   "id": "76b756ba",
   "metadata": {},
   "outputs": [],
   "source": [
    "def f(state, *args, **kwargs):\n",
    "    print(args)\n",
    "    x = args[0]\n",
    "    print(x)\n",
    "    print(args)\n",
    "    y = args[1]\n",
    "    return args\n",
    "\n",
    "\n",
    "def f(state, x, y, *args, **kwargs):\n",
    "    ret_f = x + y\n",
    "    return state_f, ret_f, args_f, kwargs_f\n",
    "\n",
    "\n",
    "def producer(*args):\n",
    "    return 1, 2\n",
    "\n",
    "def middle(x, y, *args):\n",
    "    print(x + y)\n",
    "    print(args)\n",
    "    return x + y, args\n",
    "    \n",
    "def consumer(z, *args):\n",
    "    z = z**2\n",
    "    print(z)\n",
    "    print(args)\n",
    "    return z\n",
    "\n",
    "\n",
    "\n",
    "consumer(*middle(*producer()))"
   ]
  },
  {
   "cell_type": "code",
   "execution_count": null,
   "id": "f1186edc",
   "metadata": {},
   "outputs": [],
   "source": [
    "def f1(x, y, *args, **kwargs):\n",
    "    return x * y, args, kwargs\n",
    "\n",
    "def f2(x, *args, **kwargs):\n",
    "    return x + 2\n",
    "print(jax.make_jaxpr(f2)b)"
   ]
  },
  {
   "cell_type": "code",
   "execution_count": null,
   "id": "c21ced03",
   "metadata": {},
   "outputs": [],
   "source": [
    "jxp_f2 = jax.make_jaxpr(f2)"
   ]
  },
  {
   "cell_type": "code",
   "execution_count": null,
   "id": "6ca3eb95",
   "metadata": {},
   "outputs": [],
   "source": [
    "jxp_f2"
   ]
  },
  {
   "cell_type": "code",
   "execution_count": null,
   "id": "6150f372",
   "metadata": {},
   "outputs": [],
   "source": [
    "g(1, 2, **{'rho': 10})"
   ]
  },
  {
   "cell_type": "code",
   "execution_count": null,
   "id": "5196f78f",
   "metadata": {},
   "outputs": [],
   "source": [
    "def f(x, y, **kwargs):\n",
    "    return x * y * rho"
   ]
  },
  {
   "cell_type": "code",
   "execution_count": null,
   "id": "1eea291b",
   "metadata": {},
   "outputs": [],
   "source": [
    "f(1, 2, **{'rho':10})"
   ]
  },
  {
   "cell_type": "code",
   "execution_count": null,
   "id": "b915d212",
   "metadata": {},
   "outputs": [],
   "source": [
    "m[9]"
   ]
  }
 ],
 "metadata": {
  "kernelspec": {
   "display_name": "Python 3 (ipykernel)",
   "language": "python",
   "name": "python3"
  },
  "language_info": {
   "codemirror_mode": {
    "name": "ipython",
    "version": 3
   },
   "file_extension": ".py",
   "mimetype": "text/x-python",
   "name": "python",
   "nbconvert_exporter": "python",
   "pygments_lexer": "ipython3",
   "version": "3.10.1"
  }
 },
 "nbformat": 4,
 "nbformat_minor": 5
}
