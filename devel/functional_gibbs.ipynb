{
 "cells": [
  {
   "cell_type": "code",
   "execution_count": 1,
   "id": "47ceefbb",
   "metadata": {},
   "outputs": [],
   "source": [
    "import jax\n",
    "import numpy as np\n",
    "import jax.numpy as jnp\n",
    "import matplotlib.pyplot as plt\n",
    "from jax.lax import fori_loop as jfori\n",
    "from functools import partial\n",
    "import pyext.src.plot as plot\n",
    "from typing import Any\n",
    "from sklearn.metrics import roc_curve, precision_recall_curve\n",
    "State = Any\n",
    "Output = Any\n",
    "KeyArray = Any\n",
    "DeviceArray = Any"
   ]
  },
  {
   "cell_type": "code",
   "execution_count": 39,
   "id": "c9d32320",
   "metadata": {},
   "outputs": [
    {
     "data": {
      "image/png": "[encoded data removed]",
      "text/plain": [
       "<Figure size 432x288 with 1 Axes>"
      ]
     },
     "metadata": {
      "needs_background": "light"
     },
     "output_type": "display_data"
    }
   ],
   "source": [
    "class StateLess:\n",
    "    def stateless_method(state: State, *args, **kwargs) -> (State, Output):\n",
    "        pass\n",
    "\n",
    "# Funcitonal implementation\n",
    "def cond_norm(key, y, rho, *args, **kwargs):\n",
    "    return jax.random.normal(key) * jnp.sqrt(1 - rho **2) + y * rho\n",
    "\n",
    "def cond_bern(key, p, shape):\n",
    "    return jax.random.bernoulli(key, p, shape)\n",
    "\n",
    "def cond_dist(key, dist, params, **kwargs):\n",
    "    return dist(key, *params, **kwargs)\n",
    "\n",
    "\n",
    "# X and Y are independant\n",
    "def gibbsf(key: KeyArray, *args, N=10, thin=10,\n",
    "           rho=0.5,\n",
    "           **kwargs) -> DeviceArray:\n",
    "    \n",
    "    def outer_body_fun(i: int, val):\n",
    "        key, samples, x, y, rho, thin  = val\n",
    "        key, samples, x, y, rho, thin = jax.lax.fori_loop(0, thin, inner_body_fun, val)\n",
    "        samples = samples.at[i].set([x, y])\n",
    "        return key, samples, x, y, rho, thin\n",
    "\n",
    "    def inner_body_fun(i: int, \n",
    "                       init_val\n",
    "                       ) -> tuple[KeyArray, float, float]:\n",
    "        \n",
    "        key, samples, x, y, rho, thin = init_val\n",
    "        key, k1, k2 = jax.random.split(key, 3)\n",
    "        x = jax.random.normal(key) * jnp.sqrt(1 - rho **2) + y * rho\n",
    "        y = jax.random.normal(key) * jnp.sqrt(1 - rho **2) + x * rho\n",
    "        \n",
    "        return key, samples, x, y, rho, thin\n",
    "    \n",
    "    # initiate\n",
    "    key, k1, k2 = jax.random.split(key, 3)\n",
    "    x = jax.random.uniform(k1)\n",
    "    y = jax.random.uniform(k2)\n",
    "    samples = jnp.zeros((N, 2))\n",
    "    val = key, samples, x, y, rho, thin\n",
    "    \n",
    "    # key, samples, x, y, rho, thin\n",
    "    samples = jax.lax.fori_loop(0, N, outer_body_fun, val)[1]\n",
    "    return samples\n",
    "\n",
    "# imperative implementation\n",
    "def gibbs(key, N=10, thin=10):\n",
    "    key, k1, k2 = jax.random.split(key, 3)\n",
    "    x = jax.random.uniform(k1)\n",
    "    y = jax.random.uniform(k2)\n",
    "    samples = jnp.array(np.zeros((N, 2)))\n",
    "    for i in range(N):\n",
    "        for j in range(thin):\n",
    "            key, k1, k2 = jax.random.split(key, 3)\n",
    "            x = x_cond_dens(k1, y)\n",
    "            y = y_cond_dens(k2, x)\n",
    "        samples = samples.at[i].set([x, y])\n",
    "    return samples\n",
    "\n",
    "\n",
    "gibbsf_partial = partial(gibbsf, N=5000, thin=100, rho=-0.7)\n",
    "gibbsf_jit = jax.jit(gibbsf_partial)\n",
    "key = jax.random.PRNGKey(5)\n",
    "samples = np.array(gibbsf_jit(key))\n",
    "x, y = samples[:, 0], samples[:, 1]\n",
    "plot.scatter(x, y)"
   ]
  },
  {
   "cell_type": "code",
   "execution_count": 8,
   "id": "e4e94cd5",
   "metadata": {},
   "outputs": [],
   "source": [
    "# Plot ROC and PRC curves\n",
    "x = 2\n",
    "z = eval('x')"
   ]
  },
  {
   "cell_type": "code",
   "execution_count": 12,
   "id": "b518695b",
   "metadata": {},
   "outputs": [],
   "source": [
    "testkey = jax.random.PRNGKey(22)\n",
    "def f1(k1, x):\n",
    "    return jax.random.uniform(k1), x\n",
    "\n",
    "def f2(k2, x):\n",
    "    return jax.random.normal(k2), x\n",
    "\n",
    "def f3(k1, x, fa, fb):\n",
    "    k1, k2 = jax.random.split(k1)\n",
    "    n, x = fa(k1, x)\n",
    "    u, x = fb(k2, x)\n",
    "    return u, x\n",
    "\n",
    "f4 = partial(f3, fa=f2, fb=f1)\n",
    "j3 = jax.jit(f4)"
   ]
  },
  {
   "cell_type": "code",
   "execution_count": 16,
   "id": "47ec678f",
   "metadata": {},
   "outputs": [
    {
     "data": {
      "text/plain": [
       "(DeviceArray(0.85301065, dtype=float32),\n",
       " DeviceArray(2, dtype=int32, weak_type=True))"
      ]
     },
     "execution_count": 16,
     "metadata": {},
     "output_type": "execute_result"
    }
   ],
   "source": [
    "j3(testkey, 2)"
   ]
  },
  {
   "cell_type": "code",
   "execution_count": 19,
   "id": "25486dc3",
   "metadata": {},
   "outputs": [
    {
     "data": {
      "text/plain": [
       "(DeviceArray(0.85301065, dtype=float32), 2)"
      ]
     },
     "execution_count": 19,
     "metadata": {},
     "output_type": "execute_result"
    }
   ],
   "source": [
    "def f3(k1, x):\n",
    "    k1, k2 = jax.random.split(k1)\n",
    "    n, x = f2(k1, x)\n",
    "    u, x = f1(k2, x)\n",
    "    return u, x\n",
    "f3(testkey, 2)"
   ]
  },
  {
   "cell_type": "code",
   "execution_count": 9,
   "id": "218a686e",
   "metadata": {},
   "outputs": [
    {
     "name": "stdout",
     "output_type": "stream",
     "text": [
      "# packages in environment at /home/aji/anaconda3/envs/pynetp3.10.0:\n",
      "#\n",
      "# Name                    Version                   Build  Channel\n"
     ]
    }
   ],
   "source": [
    "%%bash\n",
    "conda list scikit-learn"
   ]
  },
  {
   "cell_type": "code",
   "execution_count": 259,
   "id": "8fe09514",
   "metadata": {},
   "outputs": [
    {
     "data": {
      "image/png": "[encoded data removed]",
      "text/plain": [
       "<Figure size 432x288 with 1 Axes>"
      ]
     },
     "metadata": {
      "needs_background": "light"
     },
     "output_type": "display_data"
    }
   ],
   "source": [
    "samples = gibbsf_jit(key, rho=0)\n",
    "plot.scatter(samples[:, 0], samples[:, 1])"
   ]
  },
  {
   "cell_type": "code",
   "execution_count": 23,
   "id": "b7e8e884",
   "metadata": {},
   "outputs": [
    {
     "data": {
      "image/png": "[encoded data removed]",
      "text/plain": [
       "<Figure size 432x288 with 1 Axes>"
      ]
     },
     "metadata": {
      "needs_background": "light"
     },
     "output_type": "display_data"
    }
   ],
   "source": [
    "plot.marginal(x, xlabel='x')"
   ]
  },
  {
   "cell_type": "code",
   "execution_count": 24,
   "id": "f6c9d43a",
   "metadata": {
    "scrolled": true
   },
   "outputs": [
    {
     "data": {
      "image/png": "[encoded data removed]",
      "text/plain": [
       "<Figure size 432x288 with 1 Axes>"
      ]
     },
     "metadata": {
      "needs_background": "light"
     },
     "output_type": "display_data"
    }
   ],
   "source": [
    "plot.marginal(y, xlabel='y')"
   ]
  },
  {
   "cell_type": "code",
   "execution_count": 229,
   "id": "d415c72e",
   "metadata": {},
   "outputs": [
    {
     "data": {
      "text/plain": [
       "DeviceArray([0.        , 0.        , 0.        , ..., 0.12579441,\n",
       "             0.12579441, 0.12579441], dtype=float32)"
      ]
     },
     "execution_count": 229,
     "metadata": {},
     "output_type": "execute_result"
    }
   ],
   "source": [
    "# Metropolis Hastings\n",
    "\n",
    "\n",
    "def mh_f(key, steps):\n",
    "    \n",
    "    def score(x):\n",
    "        return jax.scipy.stats.logistic.pdf(x)\n",
    "\n",
    "    def rv(key):\n",
    "        return jax.random.uniform(key, minval=-10, maxval=10)\n",
    "\n",
    "    def body(i, init):\n",
    "        key, x = init\n",
    "        x0 = x[i-1]\n",
    "        key, g1, g2 = jax.random.split(key, 3)\n",
    "        x1 = rv(g1)\n",
    "        A = score(x1) / score(x0)\n",
    "        p = jax.random.uniform(g2)\n",
    "        xi = jax.lax.cond(p < A, lambda : x1, lambda : x0)\n",
    "        x = x.at[i].set(xi)\n",
    "        return key, x\n",
    "    \n",
    "    def silly(i, v):\n",
    "        u, x = v\n",
    "        w = u, x\n",
    "        return w\n",
    "    \n",
    "    samples = jnp.zeros(steps)\n",
    "    key, samples = jax.lax.fori_loop(1, steps, body, (key, samples))\n",
    "    return samples\n",
    "\n",
    "key = jax.random.PRNGKey(10)\n",
    "key, j1 = jax.random.split(key, 2)\n",
    "steps = 100000\n",
    "mh_f(key, steps)"
   ]
  },
  {
   "cell_type": "code",
   "execution_count": 230,
   "id": "9c376022",
   "metadata": {},
   "outputs": [
    {
     "name": "stdout",
     "output_type": "stream",
     "text": [
      "610 ms ± 1.92 ms per loop (mean ± std. dev. of 7 runs, 1 loop each)\n"
     ]
    }
   ],
   "source": [
    "%timeit mh_f(key, steps)"
   ]
  },
  {
   "cell_type": "code",
   "execution_count": 232,
   "id": "73b85dd9",
   "metadata": {},
   "outputs": [],
   "source": [
    "mh_fp = partial(mh_f, steps=100000)"
   ]
  },
  {
   "cell_type": "code",
   "execution_count": 236,
   "id": "a150028b",
   "metadata": {},
   "outputs": [],
   "source": [
    "mh_f_p_jit = jax.jit(mh_fp)"
   ]
  },
  {
   "cell_type": "code",
   "execution_count": 237,
   "id": "7bd12166",
   "metadata": {},
   "outputs": [
    {
     "name": "stdout",
     "output_type": "stream",
     "text": [
      "29.7 ms ± 507 µs per loop (mean ± std. dev. of 7 runs, 10 loops each)\n"
     ]
    }
   ],
   "source": [
    "%timeit mh_f_p_jit(key).block_until_ready()"
   ]
  },
  {
   "cell_type": "code",
   "execution_count": 241,
   "id": "af541594",
   "metadata": {},
   "outputs": [
    {
     "data": {
      "text/plain": [
       "DeviceArray(True, dtype=bool)"
      ]
     },
     "execution_count": 241,
     "metadata": {},
     "output_type": "execute_result"
    }
   ],
   "source": [
    "jnp.all(mh_fp(key) == mh_f_p_jit(key))"
   ]
  },
  {
   "cell_type": "code",
   "execution_count": 248,
   "id": "c97b85cf",
   "metadata": {},
   "outputs": [
    {
     "data": {
      "image/png": "[encoded data removed]",
      "text/plain": [
       "<Figure size 432x288 with 1 Axes>"
      ]
     },
     "metadata": {
      "needs_background": "light"
     },
     "output_type": "display_data"
    }
   ],
   "source": [
    "x = np.array(mh_f_p_jit(key))\n",
    "plot.marginal(x)"
   ]
  },
  {
   "cell_type": "code",
   "execution_count": 249,
   "id": "235b9a7d",
   "metadata": {},
   "outputs": [
    {
     "data": {
      "image/png": "[encoded data removed]",
      "text/plain": [
       "<Figure size 432x288 with 1 Axes>"
      ]
     },
     "metadata": {
      "needs_background": "light"
     },
     "output_type": "display_data"
    }
   ],
   "source": [
    "s = np.array(score(x))\n",
    "plot.marginal(s)"
   ]
  },
  {
   "cell_type": "code",
   "execution_count": 247,
   "id": "52da2e0b",
   "metadata": {},
   "outputs": [
    {
     "data": {
      "text/plain": [
       "array([2])"
      ]
     },
     "execution_count": 247,
     "metadata": {},
     "output_type": "execute_result"
    }
   ],
   "source": []
  },
  {
   "cell_type": "code",
   "execution_count": 39,
   "id": "5c95a637",
   "metadata": {},
   "outputs": [
    {
     "data": {
      "text/plain": [
       "array([-67.20993805, -17.57506008,  -7.74843721,  -0.57580901,\n",
       "         5.59279432,  10.89646578,  16.32335968,  22.66579857,\n",
       "        29.87790794,  39.63228264])"
      ]
     },
     "execution_count": 39,
     "metadata": {},
     "output_type": "execute_result"
    }
   ],
   "source": [
    "np.quantile(x, np.arange(0, 1, 0.1))"
   ]
  },
  {
   "cell_type": "code",
   "execution_count": 35,
   "id": "222c0fa8",
   "metadata": {},
   "outputs": [
    {
     "data": {
      "text/plain": [
       "array([0. , 0.1, 0.2, 0.3, 0.4, 0.5, 0.6, 0.7, 0.8, 0.9])"
      ]
     },
     "execution_count": 35,
     "metadata": {},
     "output_type": "execute_result"
    }
   ],
   "source": [
    "np.arange(0, 1, 0.1)"
   ]
  },
  {
   "cell_type": "code",
   "execution_count": 4,
   "id": "59c0618b",
   "metadata": {},
   "outputs": [],
   "source": [
    "k1 = jax.random.PRNGKey(23)\n",
    "k2 = jax.random.PRNGKey(23)"
   ]
  },
  {
   "cell_type": "code",
   "execution_count": 11,
   "id": "3466ab11",
   "metadata": {},
   "outputs": [
    {
     "name": "stdout",
     "output_type": "stream",
     "text": [
      "160 ms ± 17.7 ms per loop (mean ± std. dev. of 7 runs, 1 loop each)\n"
     ]
    }
   ],
   "source": [
    "%timeit gibbsf_jit(k1).block_until_ready()"
   ]
  },
  {
   "cell_type": "code",
   "execution_count": 13,
   "id": "a223144c",
   "metadata": {},
   "outputs": [
    {
     "name": "stdout",
     "output_type": "stream",
     "text": [
      "59.9 s ± 37.3 ms per loop (mean ± std. dev. of 7 runs, 1 loop each)\n"
     ]
    }
   ],
   "source": [
    "%timeit gibbs(k2, N=5000, thin=100)"
   ]
  },
  {
   "cell_type": "code",
   "execution_count": 5,
   "id": "44f6e197",
   "metadata": {},
   "outputs": [],
   "source": [
    "def rel_error(x, s):\n",
    "    return s / x\n",
    "\n",
    "def error():\n",
    "    r1 = rel_error(0.160, 0.0177)\n",
    "    r2 = rel_error(59.9, 0.0373)\n",
    "    r3 = r1 + r2\n",
    "    return (59.9 / 0.160 ) * r3"
   ]
  },
  {
   "cell_type": "markdown",
   "id": "1ed4b2ff",
   "metadata": {},
   "source": [
    "jit:    160 ms ± 17.7 ms per loop (mean ± std. dev. of 7 runs, 1 loop each)\n",
    "python: 59.9 s ± 37.3 ms per loop (mean ± std. dev. of 7 runs, 1 loop each)\n",
    "\n",
    "jit compilation appeared to accelerate the gibbs sampler by 374 ± 42"
   ]
  },
  {
   "cell_type": "code",
   "execution_count": 9,
   "id": "4530bdb5",
   "metadata": {},
   "outputs": [
    {
     "ename": "NameError",
     "evalue": "name 'f' is not defined",
     "output_type": "error",
     "traceback": [
      "\u001b[0;31m---------------------------------------------------------------------------\u001b[0m",
      "\u001b[0;31mNameError\u001b[0m                                 Traceback (most recent call last)",
      "Input \u001b[0;32mIn [9]\u001b[0m, in \u001b[0;36m<module>\u001b[0;34m\u001b[0m\n\u001b[0;32m----> 1\u001b[0m jax\u001b[38;5;241m.\u001b[39mmake_jaxpr(\u001b[43mf\u001b[49m)\n",
      "\u001b[0;31mNameError\u001b[0m: name 'f' is not defined"
     ]
    }
   ],
   "source": [
    "jax.make_jaxpr(f)"
   ]
  },
  {
   "cell_type": "code",
   "execution_count": null,
   "id": "eea51f0e",
   "metadata": {},
   "outputs": [],
   "source": [
    "\"\"\"\n",
    "# This code will take a very long time to jit compile\n",
    "# because the gibbs function uses python for loops\n",
    "# instead of jax.lax.fori_loop\n",
    "\n",
    "gibbs_partial = partial(gibbs, N=50000, thin=1000)\n",
    "gibbs_jit = jax.jit(gibbs_partial)\n",
    "key = jax.random.PRNGKey(5)\n",
    "samples = np.array(gibbs_jit(key))\n",
    "plot.scatter(samples[:, 0], samples[:, 1])\n",
    "\"\"\""
   ]
  },
  {
   "cell_type": "code",
   "execution_count": 3,
   "id": "4cbe9429",
   "metadata": {},
   "outputs": [
    {
     "name": "stderr",
     "output_type": "stream",
     "text": [
      "WARNING:absl:No GPU/TPU found, falling back to CPU. (Set TF_CPP_MIN_LOG_LEVEL=0 and rerun for more info.)\n"
     ]
    }
   ],
   "source": [
    "key = jax.random.PRNGKey(5)\n",
    "gibbs_jit = jax.jit(gibbs)\n",
    "samples = gibbs_jit(key)"
   ]
  },
  {
   "cell_type": "code",
   "execution_count": 4,
   "id": "f07024d7",
   "metadata": {},
   "outputs": [],
   "source": [
    "key = jax.random.PRNGKey(5)\n",
    "gibbsf_jit = jax.jit(gibbsf)\n",
    "samplesf = gibbsf_jit(key)"
   ]
  },
  {
   "cell_type": "raw",
   "id": "2b11a9f1",
   "metadata": {},
   "source": [
    "# samples == samplesf"
   ]
  },
  {
   "cell_type": "code",
   "execution_count": 7,
   "id": "fabc46cb",
   "metadata": {},
   "outputs": [],
   "source": [
    "key2 = jax.random.PRNGKey(17)\n",
    "samples = gibbs_jit(key2)\n",
    "key2 = jax.random.PRNGKey(17)\n",
    "samplesf = gibbsf_jit(key2)"
   ]
  },
  {
   "cell_type": "code",
   "execution_count": 13,
   "id": "44508532",
   "metadata": {},
   "outputs": [
    {
     "data": {
      "text/plain": [
       "<matplotlib.collections.PathCollection at 0x7fd1cc66c5b0>"
      ]
     },
     "execution_count": 13,
     "metadata": {},
     "output_type": "execute_result"
    },
    {
     "data": {
      "image/png": "[encoded data removed]",
      "text/plain": [
       "<Figure size 432x288 with 1 Axes>"
      ]
     },
     "metadata": {
      "needs_background": "light"
     },
     "output_type": "display_data"
    }
   ],
   "source": [
    "plt.scatter(samplesf[:, 0], samplesf[:, 1])"
   ]
  },
  {
   "cell_type": "code",
   "execution_count": 4,
   "id": "62faec77",
   "metadata": {},
   "outputs": [
    {
     "name": "stderr",
     "output_type": "stream",
     "text": [
      "WARNING:absl:No GPU/TPU found, falling back to CPU. (Set TF_CPP_MIN_LOG_LEVEL=0 and rerun for more info.)\n"
     ]
    },
    {
     "data": {
      "text/plain": [
       "<matplotlib.collections.PathCollection at 0x7fe27f3f0d90>"
      ]
     },
     "execution_count": 4,
     "metadata": {},
     "output_type": "execute_result"
    },
    {
     "data": {
      "image/png": "[encoded data removed]",
      "text/plain": [
       "<Figure size 432x288 with 1 Axes>"
      ]
     },
     "metadata": {
      "needs_background": "light"
     },
     "output_type": "display_data"
    }
   ],
   "source": [
    "gibbs_partial = partial(gibbsf, N=50000, thin=1000)\n",
    "gibbsf_jit = jax.jit(gibbs_partial)\n",
    "key = jax.random.PRNGKey(5)\n",
    "samples = np.array(gibbsf_jit(key))\n",
    "plt.scatter(samples[:, 0], samples[:, 1])"
   ]
  },
  {
   "cell_type": "code",
   "execution_count": 14,
   "id": "3ca899e3",
   "metadata": {},
   "outputs": [],
   "source": [
    "x, y, z, *args = (1, 2, 3)"
   ]
  },
  {
   "cell_type": "code",
   "execution_count": null,
   "id": "945155e3",
   "metadata": {},
   "outputs": [],
   "source": [
    "try:  # Doesn't work; fori_loop requires f(i, val)\n",
    "    f = lambda x: x+1\n",
    "    jax.lax.fori_loop(0, 100, f, 0)\n",
    "except TypeError:\n",
    "    # Works\n",
    "    # Can jit through the funciton\n",
    "    def iwrapper(f):\n",
    "        def wrap(i, val):\n",
    "            return f(val)\n",
    "        return wrap\n",
    "    f = iwrapper(lambda x: x+1)\n",
    "    print(jax.lax.fori_loop(0, 10, f, 0))\n",
    "    print(jax.jit(lambda : jax.lax.fori_loop(0, 10, f, 0))().block_until_ready())"
   ]
  },
  {
   "cell_type": "code",
   "execution_count": 270,
   "id": "f06b0fd5",
   "metadata": {},
   "outputs": [],
   "source": [
    "def f(x: KeyArray):\n",
    "    def g(x):\n",
    "        return 2*x\n",
    "    return g(x) + 1\n",
    "f = jax.jit(f)\n"
   ]
  },
  {
   "cell_type": "code",
   "execution_count": 80,
   "id": "4c1954fd",
   "metadata": {
    "scrolled": true
   },
   "outputs": [],
   "source": [
    "def inner_body_fun(i: int, \n",
    "                   val: tuple[KeyArray, float, float]\n",
    "                   ) -> tuple[KeyArray, float, float]:\n",
    "\n",
    "    key, samples, x, y, thin = val\n",
    "    key, k1, k2 = jax.random.split(key, 3)\n",
    "    x = x_cond_dens(k1, y)\n",
    "    y = y_cond_dens(k2, x)\n",
    "    samples = samples.at[i].set([x, y])\n",
    "    return key, samples, x, y, thin\n",
    "\n",
    "key = jax.random.PRNGKey(10)\n",
    "key, k1, k2 = jax.random.split(key, 3)\n",
    "N = 1000\n",
    "thin = 5\n",
    "x = jax.random.uniform(k1)\n",
    "y = jax.random.uniform(k2)\n",
    "samples = jnp.zeros((N, 2))\n",
    "val = key, samples, x, y, thin\n",
    "def outer(val):\n",
    "    return jax.lax.fori_loop(0, N, inner_body_fun, val)\n",
    "\n",
    "opartial = partial(outer, val=val)\n",
    "otest = jax.jit(opartial)"
   ]
  },
  {
   "cell_type": "code",
   "execution_count": 94,
   "id": "c63e9d39",
   "metadata": {},
   "outputs": [],
   "source": [
    "a, b, *args = (1, 2, 3)"
   ]
  },
  {
   "cell_type": "code",
   "execution_count": 185,
   "id": "46cf0f54",
   "metadata": {},
   "outputs": [
    {
     "data": {
      "text/plain": [
       "(6, (), {'rho': 4})"
      ]
     },
     "execution_count": 185,
     "metadata": {},
     "output_type": "execute_result"
    }
   ],
   "source": [
    "def f1(x, y, *args, **kwargs):\n",
    "    return x * y, args, kwargs\n",
    "\n",
    "def f2(x, *args, **kwargs):\n",
    "    rho = kwargs['rho']\n",
    "    return x + rho, args, kwargs\n",
    "\n",
    "def g(x, y, *args, **kwargs):\n",
    "    a, args, kwargs = f1(x, y, *args, **kwargs)\n",
    "    b, args, kwargs = f2(a, *args, **kwargs)\n",
    "    return b, args, kwargs\n",
    "\n",
    "def h(x, y, *args, **kwargs):\n",
    "    return f2(f1(*args, **kwargs))\n",
    "g(1, 2, **{'rho': 4})"
   ]
  },
  {
   "cell_type": "code",
   "execution_count": 100,
   "id": "d5ee7abc",
   "metadata": {},
   "outputs": [
    {
     "ename": "TypeError",
     "evalue": "local_block.<locals>.d() missing 1 required positional argument: 'rho'",
     "output_type": "error",
     "traceback": [
      "\u001b[0;31m---------------------------------------------------------------------------\u001b[0m",
      "\u001b[0;31mTypeError\u001b[0m                                 Traceback (most recent call last)",
      "Input \u001b[0;32mIn [100]\u001b[0m, in \u001b[0;36m<module>\u001b[0;34m\u001b[0m\n\u001b[1;32m     61\u001b[0m     \u001b[38;5;66;03m#p < jax.make_jaxpr(a)((), np.array([1, 2]), np.array([1, 1]))\u001b[39;00m\n\u001b[1;32m     62\u001b[0m     p \u001b[38;5;241m<\u001b[39m jax\u001b[38;5;241m.\u001b[39mmake_jaxpr(pipe)((\u001b[38;5;241m1\u001b[39m, \u001b[38;5;241m2\u001b[39m), (\u001b[38;5;241m11\u001b[39m, \u001b[38;5;241m12\u001b[39m))\n\u001b[0;32m---> 65\u001b[0m \u001b[43mlocal_block\u001b[49m\u001b[43m(\u001b[49m\u001b[43m)\u001b[49m\n",
      "Input \u001b[0;32mIn [100]\u001b[0m, in \u001b[0;36mlocal_block\u001b[0;34m()\u001b[0m\n\u001b[1;32m     58\u001b[0m pipe_in \u001b[38;5;241m=\u001b[39m (\u001b[38;5;241m11\u001b[39m, \u001b[38;5;241m12\u001b[39m)\n\u001b[1;32m     59\u001b[0m p \u001b[38;5;241m=\u001b[39m P()\n\u001b[0;32m---> 60\u001b[0m p \u001b[38;5;241m<\u001b[39m \u001b[43mpipe\u001b[49m\u001b[43m(\u001b[49m\u001b[43mstate\u001b[49m\u001b[43m,\u001b[49m\u001b[43m \u001b[49m\u001b[43mpipe_in\u001b[49m\u001b[43m)\u001b[49m\n\u001b[1;32m     61\u001b[0m \u001b[38;5;66;03m#p < jax.make_jaxpr(a)((), np.array([1, 2]), np.array([1, 1]))\u001b[39;00m\n\u001b[1;32m     62\u001b[0m p \u001b[38;5;241m<\u001b[39m jax\u001b[38;5;241m.\u001b[39mmake_jaxpr(pipe)((\u001b[38;5;241m1\u001b[39m, \u001b[38;5;241m2\u001b[39m), (\u001b[38;5;241m11\u001b[39m, \u001b[38;5;241m12\u001b[39m))\n",
      "Input \u001b[0;32mIn [100]\u001b[0m, in \u001b[0;36mlocal_block.<locals>.pipe\u001b[0;34m(state, pipe_in, *args, **kwargs)\u001b[0m\n\u001b[1;32m     45\u001b[0m state, return_b \u001b[38;5;241m=\u001b[39m b(state, \u001b[38;5;241m*\u001b[39mreturn_a)\n\u001b[1;32m     46\u001b[0m state, return_c \u001b[38;5;241m=\u001b[39m c(state, \u001b[38;5;241m*\u001b[39mreturn_b)\n\u001b[0;32m---> 47\u001b[0m state, return_d \u001b[38;5;241m=\u001b[39m \u001b[43md\u001b[49m\u001b[43m(\u001b[49m\u001b[43mstate\u001b[49m\u001b[43m,\u001b[49m\u001b[43m \u001b[49m\u001b[38;5;241;43m*\u001b[39;49m\u001b[43mreturn_c\u001b[49m\u001b[43m)\u001b[49m\n\u001b[1;32m     48\u001b[0m state, return_e \u001b[38;5;241m=\u001b[39m e(state, \u001b[38;5;241m*\u001b[39mreturn_d)\n\u001b[1;32m     49\u001b[0m state, return_f \u001b[38;5;241m=\u001b[39m f(state, \u001b[38;5;241m*\u001b[39mreturn_e)\n",
      "\u001b[0;31mTypeError\u001b[0m: local_block.<locals>.d() missing 1 required positional argument: 'rho'"
     ]
    }
   ],
   "source": [
    "# Suppose we have a set of functions a, b, c, ..., h\n",
    "def local_block():\n",
    "    def a(state: tuple[Any], x, y, *args, **kwargs):\n",
    "        return state, (x + y, )\n",
    "\n",
    "    def b(state: tuple[Any], x, *args, **kwargs):\n",
    "        return state, (x, x ** 2 )\n",
    "\n",
    "    def c(state: tuple[Any], x, y, *args, **kwargs):\n",
    "        return state, (x + y, ), args, kwargs\n",
    "\n",
    "    def d(state: tuple[Any], x, rho, *args, **kwargs):\n",
    "        return state, (x - 10 * rho,)\n",
    "    \n",
    "    def e(state: tuple[Any], x, *args, **kwargs):\n",
    "        return state, (x * 2, )\n",
    "    \n",
    "    def f(state: tuple[Any], x, *args, **kwargs):\n",
    "        return state, (jnp.log(x), )\n",
    "    \n",
    "    def h(state: tuple[Any], x, *args, **kwargs):\n",
    "        return state, (1 / 2 * x ** 2, )\n",
    "    \n",
    "    # We wish to compose and jit compile these functions into a pipe\n",
    "    # output = h(e(d(c(b(a)))))\n",
    "    # each function has positional[:tuple] and keyword[:dict] arguments\n",
    "    # we would like to make a change in the middle of the chain without\n",
    "    # affecting how we built the funciton before and after\n",
    "    # how would we do this?\n",
    "    \n",
    "    # supposing the funcitons are pure\n",
    "    \n",
    "    # we must make a change to c\n",
    "    # option1 : add an extra parameter to the highest level function\n",
    "    # and a parameter to c without changing c's return type\n",
    "    \n",
    "    # c(x, y) -> c(x, y, z)\n",
    "    # \n",
    "    \n",
    "    def statless_function(state: State, *args, **kwargs) -> tuple[State, Output]:\n",
    "        pass\n",
    "    \n",
    "    def pipe(state: tuple[Any], pipe_in, *args, **kwargs):\n",
    "        state, return_a = a(state, *pipe_in)\n",
    "        state, return_b = b(state, *return_a)\n",
    "        state, return_c = c(state, *return_b)\n",
    "        state, return_d = d(state, *return_c)\n",
    "        state, return_e = e(state, *return_d)\n",
    "        state, return_f = f(state, *return_e)\n",
    "        state, pipe_out = h(state, *return_f)\n",
    "        return state, pipe_out\n",
    "    \n",
    "    class P:\n",
    "        def __lt__(self, div):\n",
    "            print(div)\n",
    "    \n",
    "    state = (1, 2)\n",
    "    pipe_in = (11, 12)\n",
    "    p = P()\n",
    "    p < pipe(state, pipe_in)\n",
    "    #p < jax.make_jaxpr(a)((), np.array([1, 2]), np.array([1, 1]))\n",
    "    p < jax.make_jaxpr(pipe)((1, 2), (11, 12))\n",
    "    \n",
    "        \n",
    "local_block()"
   ]
  },
  {
   "cell_type": "code",
   "execution_count": 107,
   "id": "72237dc9",
   "metadata": {},
   "outputs": [
    {
     "name": "stdout",
     "output_type": "stream",
     "text": [
      "4\n"
     ]
    },
    {
     "data": {
      "text/plain": [
       "(1, (5,), (4, 5), {'j': 2})"
      ]
     },
     "execution_count": 107,
     "metadata": {},
     "output_type": "execute_result"
    }
   ],
   "source": [
    "def f(x, y, z, *args, file=None, **kwargs):\n",
    "    print(file)\n",
    "    return x, (y + z, ), args, kwargs\n",
    "\n",
    "state, ret, args, kwargs = f(*(1, 2, 3, 4, 5), **{'j': 2, 'file':4})\n",
    "state, ret, args, kwargs"
   ]
  },
  {
   "cell_type": "code",
   "execution_count": 119,
   "id": "76b756ba",
   "metadata": {},
   "outputs": [
    {
     "name": "stdout",
     "output_type": "stream",
     "text": [
      "3\n",
      "()\n",
      "9\n",
      "((),)\n"
     ]
    },
    {
     "data": {
      "text/plain": [
       "9"
      ]
     },
     "execution_count": 119,
     "metadata": {},
     "output_type": "execute_result"
    }
   ],
   "source": [
    "def f(state, *args, **kwargs):\n",
    "    print(args)\n",
    "    x = args[0]\n",
    "    print(x)\n",
    "    print(args)\n",
    "    y = args[1]\n",
    "    return args\n",
    "\n",
    "\n",
    "def f(state, x, y, *args, **kwargs):\n",
    "    ret_f = x + y\n",
    "    return state_f, ret_f, args_f, kwargs_f\n",
    "\n",
    "\n",
    "def producer(*args):\n",
    "    return 1, 2\n",
    "\n",
    "def middle(x, y, *args):\n",
    "    print(x + y)\n",
    "    print(args)\n",
    "    return x + y, args\n",
    "    \n",
    "def consumer(z, *args):\n",
    "    z = z**2\n",
    "    print(z)\n",
    "    print(args)\n",
    "    return z\n",
    "\n",
    "\n",
    "\n",
    "consumer(*middle(*producer()))"
   ]
  },
  {
   "cell_type": "code",
   "execution_count": 23,
   "id": "f1186edc",
   "metadata": {},
   "outputs": [
    {
     "name": "stdout",
     "output_type": "stream",
     "text": [
      "<function f2 at 0x7f89881ed510>\n"
     ]
    }
   ],
   "source": [
    "def f1(x, y, *args, **kwargs):\n",
    "    return x * y, args, kwargs\n",
    "\n",
    "def f2(x, *args, **kwargs):\n",
    "    return x + 2\n",
    "print(jax.make_jaxpr(f2)b)"
   ]
  },
  {
   "cell_type": "code",
   "execution_count": 24,
   "id": "c21ced03",
   "metadata": {},
   "outputs": [],
   "source": [
    "jxp_f2 = jax.make_jaxpr(f2)"
   ]
  },
  {
   "cell_type": "code",
   "execution_count": 25,
   "id": "6ca3eb95",
   "metadata": {},
   "outputs": [
    {
     "data": {
      "text/plain": [
       "<function __main__.f2(x, *args, **kwargs)>"
      ]
     },
     "execution_count": 25,
     "metadata": {},
     "output_type": "execute_result"
    }
   ],
   "source": [
    "jxp_f2"
   ]
  },
  {
   "cell_type": "code",
   "execution_count": 175,
   "id": "6150f372",
   "metadata": {
    "collapsed": true
   },
   "outputs": [
    {
     "ename": "NameError",
     "evalue": "name 'rho' is not defined",
     "output_type": "error",
     "traceback": [
      "\u001b[0;31m---------------------------------------------------------------------------\u001b[0m",
      "\u001b[0;31mNameError\u001b[0m                                 Traceback (most recent call last)",
      "Input \u001b[0;32mIn [175]\u001b[0m, in \u001b[0;36m<module>\u001b[0;34m\u001b[0m\n\u001b[0;32m----> 1\u001b[0m \u001b[43mg\u001b[49m\u001b[43m(\u001b[49m\u001b[38;5;241;43m1\u001b[39;49m\u001b[43m,\u001b[49m\u001b[43m \u001b[49m\u001b[38;5;241;43m2\u001b[39;49m\u001b[43m,\u001b[49m\u001b[43m \u001b[49m\u001b[38;5;241;43m*\u001b[39;49m\u001b[38;5;241;43m*\u001b[39;49m\u001b[43m{\u001b[49m\u001b[38;5;124;43m'\u001b[39;49m\u001b[38;5;124;43mrho\u001b[39;49m\u001b[38;5;124;43m'\u001b[39;49m\u001b[43m:\u001b[49m\u001b[43m \u001b[49m\u001b[38;5;241;43m10\u001b[39;49m\u001b[43m}\u001b[49m\u001b[43m)\u001b[49m\n",
      "Input \u001b[0;32mIn [169]\u001b[0m, in \u001b[0;36mg\u001b[0;34m(x, y, *args, **kwargs)\u001b[0m\n\u001b[1;32m      7\u001b[0m \u001b[38;5;28;01mdef\u001b[39;00m \u001b[38;5;21mg\u001b[39m(x, y, \u001b[38;5;241m*\u001b[39margs, \u001b[38;5;241m*\u001b[39m\u001b[38;5;241m*\u001b[39mkwargs):\n\u001b[1;32m      8\u001b[0m     a, args, kwargs \u001b[38;5;241m=\u001b[39m f1(x, y, \u001b[38;5;241m*\u001b[39margs, \u001b[38;5;241m*\u001b[39m\u001b[38;5;241m*\u001b[39mkwargs)\n\u001b[0;32m----> 9\u001b[0m     b, args, kwargs \u001b[38;5;241m=\u001b[39m \u001b[43mf2\u001b[49m\u001b[43m(\u001b[49m\u001b[43ma\u001b[49m\u001b[43m,\u001b[49m\u001b[43m \u001b[49m\u001b[38;5;241;43m*\u001b[39;49m\u001b[43margs\u001b[49m\u001b[43m,\u001b[49m\u001b[43m \u001b[49m\u001b[38;5;241;43m*\u001b[39;49m\u001b[38;5;241;43m*\u001b[39;49m\u001b[43mkwargs\u001b[49m\u001b[43m)\u001b[49m\n\u001b[1;32m     10\u001b[0m     \u001b[38;5;28;01mreturn\u001b[39;00m b, args, kwargs\n",
      "Input \u001b[0;32mIn [169]\u001b[0m, in \u001b[0;36mf2\u001b[0;34m(x, *args, **kwargs)\u001b[0m\n\u001b[1;32m      4\u001b[0m \u001b[38;5;28;01mdef\u001b[39;00m \u001b[38;5;21mf2\u001b[39m(x, \u001b[38;5;241m*\u001b[39margs, \u001b[38;5;241m*\u001b[39m\u001b[38;5;241m*\u001b[39mkwargs):\n\u001b[0;32m----> 5\u001b[0m     \u001b[38;5;28;01mreturn\u001b[39;00m x \u001b[38;5;241m+\u001b[39m \u001b[38;5;241m2\u001b[39m \u001b[38;5;241m*\u001b[39m \u001b[43mrho\u001b[49m, args, kwargs\n",
      "\u001b[0;31mNameError\u001b[0m: name 'rho' is not defined"
     ]
    }
   ],
   "source": [
    "g(1, 2, **{'rho': 10})"
   ]
  },
  {
   "cell_type": "code",
   "execution_count": 176,
   "id": "5196f78f",
   "metadata": {},
   "outputs": [],
   "source": [
    "def f(x, y, **kwargs):\n",
    "    return x * y * rho"
   ]
  },
  {
   "cell_type": "code",
   "execution_count": 180,
   "id": "1eea291b",
   "metadata": {
    "collapsed": true
   },
   "outputs": [
    {
     "ename": "NameError",
     "evalue": "name 'rho' is not defined",
     "output_type": "error",
     "traceback": [
      "\u001b[0;31m---------------------------------------------------------------------------\u001b[0m",
      "\u001b[0;31mNameError\u001b[0m                                 Traceback (most recent call last)",
      "Input \u001b[0;32mIn [180]\u001b[0m, in \u001b[0;36m<module>\u001b[0;34m\u001b[0m\n\u001b[0;32m----> 1\u001b[0m \u001b[43mf\u001b[49m\u001b[43m(\u001b[49m\u001b[38;5;241;43m1\u001b[39;49m\u001b[43m,\u001b[49m\u001b[43m \u001b[49m\u001b[38;5;241;43m2\u001b[39;49m\u001b[43m,\u001b[49m\u001b[43m \u001b[49m\u001b[38;5;241;43m*\u001b[39;49m\u001b[38;5;241;43m*\u001b[39;49m\u001b[43m{\u001b[49m\u001b[38;5;124;43m'\u001b[39;49m\u001b[38;5;124;43mrho\u001b[39;49m\u001b[38;5;124;43m'\u001b[39;49m\u001b[43m:\u001b[49m\u001b[38;5;241;43m10\u001b[39;49m\u001b[43m}\u001b[49m\u001b[43m)\u001b[49m\n",
      "Input \u001b[0;32mIn [176]\u001b[0m, in \u001b[0;36mf\u001b[0;34m(x, y, **kwargs)\u001b[0m\n\u001b[1;32m      1\u001b[0m \u001b[38;5;28;01mdef\u001b[39;00m \u001b[38;5;21mf\u001b[39m(x, y, \u001b[38;5;241m*\u001b[39m\u001b[38;5;241m*\u001b[39mkwargs):\n\u001b[0;32m----> 2\u001b[0m     \u001b[38;5;28;01mreturn\u001b[39;00m x \u001b[38;5;241m*\u001b[39m y \u001b[38;5;241m*\u001b[39m \u001b[43mrho\u001b[49m\n",
      "\u001b[0;31mNameError\u001b[0m: name 'rho' is not defined"
     ]
    }
   ],
   "source": [
    "f(1, 2, **{'rho':10})"
   ]
  },
  {
   "cell_type": "code",
   "execution_count": 195,
   "id": "b915d212",
   "metadata": {},
   "outputs": [
    {
     "data": {
      "text/plain": [
       "9"
      ]
     },
     "execution_count": 195,
     "metadata": {},
     "output_type": "execute_result"
    }
   ],
   "source": [
    "m[9]"
   ]
  }
 ],
 "metadata": {
  "kernelspec": {
   "display_name": "Python 3 (ipykernel)",
   "language": "python",
   "name": "python3"
  },
  "language_info": {
   "codemirror_mode": {
    "name": "ipython",
    "version": 3
   },
   "file_extension": ".py",
   "mimetype": "text/x-python",
   "name": "python",
   "nbconvert_exporter": "python",
   "pygments_lexer": "ipython3",
   "version": "3.10.1"
  }
 },
 "nbformat": 4,
 "nbformat_minor": 5
}
