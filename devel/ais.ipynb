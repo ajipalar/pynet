{
 "cells": [
  {
   "cell_type": "code",
   "execution_count": 1,
   "id": "0c9c1a3a",
   "metadata": {},
   "outputs": [
    {
     "ename": "ModuleNotFoundError",
     "evalue": "No module named 'ais'",
     "output_type": "error",
     "traceback": [
      "\u001b[0;31m---------------------------------------------------------------------------\u001b[0m",
      "\u001b[0;31mModuleNotFoundError\u001b[0m                       Traceback (most recent call last)",
      "Input \u001b[0;32mIn [1]\u001b[0m, in \u001b[0;36m<module>\u001b[0;34m\u001b[0m\n\u001b[0;32m----> 1\u001b[0m \u001b[38;5;28;01mimport\u001b[39;00m \u001b[38;5;21;01mais\u001b[39;00m\n\u001b[1;32m      3\u001b[0m \u001b[38;5;28;01mimport\u001b[39;00m \u001b[38;5;21;01mjax\u001b[39;00m\n\u001b[1;32m      4\u001b[0m \u001b[38;5;28;01mimport\u001b[39;00m \u001b[38;5;21;01mjax\u001b[39;00m\u001b[38;5;21;01m.\u001b[39;00m\u001b[38;5;21;01mscipy\u001b[39;00m \u001b[38;5;28;01mas\u001b[39;00m \u001b[38;5;21;01mjscipy\u001b[39;00m\n",
      "\u001b[0;31mModuleNotFoundError\u001b[0m: No module named 'ais'"
     ]
    }
   ],
   "source": [
    "import ais\n",
    "\n",
    "import jax\n",
    "import jax.scipy as jscipy\n",
    "import jax.random as jrandom\n",
    "import jax.numpy as jnp\n",
    "import numpy as np\n",
    "import matplotlib.pyplot as plt\n",
    "import scipy.stats as st\n",
    "\n",
    "\n",
    "y = []\n",
    "x = list(jnp.arange(-10, 10, 0.1))\n",
    "f_n = jax.scipy.stats.norm.pdf\n",
    "for i in x:\n",
    "    ys = f_n(i, loc=0, scale=1)\n",
    "    y.append(ys)\n",
    "\n",
    "plt.plot(x, y)"
   ]
  },
  {
   "cell_type": "code",
   "execution_count": 2,
   "id": "f7cab9e1",
   "metadata": {},
   "outputs": [],
   "source": [
    "samples, weights = ais.ais_example()"
   ]
  },
  {
   "cell_type": "code",
   "execution_count": 3,
   "id": "1b230fa8",
   "metadata": {},
   "outputs": [
    {
     "data": {
      "text/plain": [
       "(array([573.,  16.,   4.,   1.,   1.,   3.,   1.,   0.,   0.,   1.]),\n",
       " array([2.18833454e-03, 1.39729121e+01, 2.79436359e+01, 4.19143597e+01,\n",
       "        5.58850834e+01, 6.98558072e+01, 8.38265310e+01, 9.77972548e+01,\n",
       "        1.11767979e+02, 1.25738702e+02, 1.39709426e+02]),\n",
       " <BarContainer object of 10 artists>)"
      ]
     },
     "execution_count": 3,
     "metadata": {},
     "output_type": "execute_result"
    },
    {
     "data": {
      "image/png": "[encoded data removed]",
      "text/plain": [
       "<Figure size 432x288 with 1 Axes>"
      ]
     },
     "metadata": {
      "needs_background": "light"
     },
     "output_type": "display_data"
    }
   ],
   "source": [
    "plt.hist(weights)"
   ]
  },
  {
   "cell_type": "code",
   "execution_count": 4,
   "id": "4c7cf5c8",
   "metadata": {},
   "outputs": [
    {
     "data": {
      "text/plain": [
       "(array([  3.,  10.,  50., 153., 147.,  91.,  85.,  43.,  12.,   6.]),\n",
       " array([-15.76569478, -12.94242962, -10.11916446,  -7.2958993 ,\n",
       "         -4.47263414,  -1.64936898,   1.17389618,   3.99716135,\n",
       "          6.82042651,   9.64369167,  12.46695683]),\n",
       " <BarContainer object of 10 artists>)"
      ]
     },
     "execution_count": 4,
     "metadata": {},
     "output_type": "execute_result"
    },
    {
     "data": {
      "image/png": "[encoded data removed]",
      "text/plain": [
       "<Figure size 432x288 with 1 Axes>"
      ]
     },
     "metadata": {
      "needs_background": "light"
     },
     "output_type": "display_data"
    }
   ],
   "source": [
    "plt.hist(samples)"
   ]
  },
  {
   "cell_type": "code",
   "execution_count": 5,
   "id": "de43e226",
   "metadata": {},
   "outputs": [
    {
     "data": {
      "text/plain": [
       "(array([  2.,   3.,   0.,   0.,   6., 345., 239.,   4.,   0.,   1.]),\n",
       " array([-1262.46542984, -1052.33967166,  -842.21391348,  -632.08815529,\n",
       "         -421.96239711,  -211.83663892,    -1.71088074,   208.41487744,\n",
       "          418.54063563,   628.66639381,   838.79215199]),\n",
       " <BarContainer object of 10 artists>)"
      ]
     },
     "execution_count": 5,
     "metadata": {},
     "output_type": "execute_result"
    },
    {
     "data": {
      "image/png": "[encoded data removed]",
      "text/plain": [
       "<Figure size 432x288 with 1 Axes>"
      ]
     },
     "metadata": {
      "needs_background": "light"
     },
     "output_type": "display_data"
    }
   ],
   "source": [
    "plt.hist(weights * samples)"
   ]
  },
  {
   "cell_type": "code",
   "execution_count": 6,
   "id": "e15a963e",
   "metadata": {},
   "outputs": [],
   "source": [
    "a = 1/np.sum(weights) * np.sum(weights * samples)"
   ]
  },
  {
   "cell_type": "code",
   "execution_count": 7,
   "id": "c75ba550",
   "metadata": {},
   "outputs": [
    {
     "data": {
      "text/plain": [
       "-3.130714098415819"
      ]
     },
     "execution_count": 7,
     "metadata": {},
     "output_type": "execute_result"
    }
   ],
   "source": [
    "a"
   ]
  },
  {
   "cell_type": "code",
   "execution_count": 2,
   "id": "d1ed3877",
   "metadata": {},
   "outputs": [],
   "source": [
    "jdo_ais = jax.jit(ais.do_ais)"
   ]
  },
  {
   "cell_type": "code",
   "execution_count": 3,
   "id": "5d288661",
   "metadata": {},
   "outputs": [],
   "source": [
    "from ais import key, n_samples, n_inter, betas, x\n",
    "okey = key\n",
    "samples, weights = ais.do_ais(okey, n_samples, n_inter, betas, x)"
   ]
  },
  {
   "cell_type": "code",
   "execution_count": 6,
   "id": "1ff5746b",
   "metadata": {},
   "outputs": [],
   "source": [
    "#target N(5, 2)\n",
    "#proposal N(0, 1)\n",
    "import numpy as np\n",
    "a = 1/jnp.sum(weights) *(jnp.sum(weights * samples))"
   ]
  },
  {
   "cell_type": "code",
   "execution_count": 10,
   "id": "5e26c733",
   "metadata": {},
   "outputs": [
    {
     "data": {
      "text/plain": [
       "(DeviceArray([ -8.759453  ,   7.499897  ,  12.0804    ,  -4.628505  ,\n",
       "                5.286942  ,  10.669766  ,   9.747906  ,   8.902935  ,\n",
       "                5.5352697 ,  -0.7860356 ,  -1.8937062 ,  -0.9373089 ,\n",
       "               -5.3776193 , -13.655067  ,   4.7546515 ,   7.01027   ,\n",
       "                8.339084  , -12.465981  ,  -2.9416249 ,  -2.2929218 ,\n",
       "               -0.7732041 ,   9.837725  ,   5.7311816 ,  -1.5261312 ,\n",
       "               -5.17635   ,  -1.9133081 ,  -1.0057569 ,  -0.06322229,\n",
       "                5.732791  ,   7.915844  ,   5.239588  ,  16.184364  ,\n",
       "               14.513094  ,  -0.69070286,   7.224042  ,  -8.522067  ,\n",
       "               -0.60364723,   5.2669206 ,   6.809432  ,   0.18702906,\n",
       "               10.021658  ,   8.803823  ,   5.187592  ,   4.7117786 ,\n",
       "               -1.6639252 ,  -0.94339186,   7.453226  ,  -0.62132084,\n",
       "                9.207269  ,   5.1112685 ,  -6.7543283 ,  -1.6793603 ,\n",
       "                5.273603  ,   5.602741  ,   5.125672  ,  -1.1155878 ,\n",
       "                6.423828  ,  -4.4802623 ,  -8.981536  ,  -1.3268169 ,\n",
       "               13.615691  , -13.514952  ,  -2.4446814 ,   5.8659353 ,\n",
       "               -2.2847433 ,  12.472502  ,   5.743856  ,   7.1708927 ,\n",
       "               13.837476  ,   0.2654154 ,  -0.796416  ,  -1.1777611 ,\n",
       "               11.907577  ,  -1.7222177 ,   4.952239  ,  -1.5673764 ,\n",
       "                4.874279  ,   3.8850515 ,  -7.4951215 ,  -0.8584817 ,\n",
       "               -1.5911438 ,   6.6827416 ,   9.50396   ,  -1.3924329 ,\n",
       "               -5.8161373 , -13.5899725 ,   9.093793  ,  -0.3316718 ,\n",
       "               14.890308  ,  14.575362  ,  -0.37630326,  14.260651  ,\n",
       "              -13.605864  ,   4.889658  ,   5.6102653 ,  -1.6243743 ,\n",
       "               -0.5668018 ,  12.602748  ,   4.8333197 ,   5.043805  ],            dtype=float32),\n",
       " DeviceArray([2.0228313e-04, 4.3876079e+03, 1.0247397e+11, 9.9830759e-05,\n",
       "              8.4124084e+01, 6.1352621e+08, 3.1635024e+07, 1.3056998e+06,\n",
       "              1.4357320e+01, 2.1512916e-03, 2.8335882e-04, 1.5731164e-03,\n",
       "              1.5648112e-04,           inf, 2.8479378e+01, 5.2061118e+03,\n",
       "              1.6288025e+05, 2.0953882e-02, 7.3235271e-05, 1.5862084e-04,\n",
       "              2.2103372e-03, 1.1550266e+08, 4.6875530e+01, 5.1873323e-04,\n",
       "              2.6100739e-05, 2.7488841e-04, 1.3705173e-03, 1.1241779e-02,\n",
       "              5.8834812e+01, 3.1956301e+04, 2.0192862e+01,           inf,\n",
       "                        inf, 2.6358464e-03, 7.2786218e+02, 1.4744127e-04,\n",
       "              3.1857037e-03, 1.9924850e+01, 6.1509033e+02, 2.1179026e-02,\n",
       "              1.1419120e+08, 9.9099256e+05, 2.0672840e+01, 1.9334257e+01,\n",
       "              4.1026296e-04, 1.6688280e-03, 8.2608154e+03, 3.0645540e-03,\n",
       "              3.7764202e+06, 2.1958551e+01, 1.8721946e-04, 4.1557135e-04,\n",
       "              9.7613821e+00, 2.3980953e+01, 1.2809546e+01, 1.1039104e-03,\n",
       "              8.5666626e+01, 3.4245815e-05, 1.7819836e-04, 7.4064173e-04,\n",
       "                        inf,           inf, 1.3389124e-04, 8.1767914e+01,\n",
       "              1.6038932e-04, 7.6011327e+11, 3.1643979e+02, 2.6654299e+03,\n",
       "                        inf, 2.5993407e-02, 2.1048083e-03, 9.7928941e-04,\n",
       "              1.3525095e+11, 3.7256585e-04, 3.4516472e+01, 4.8307722e-04,\n",
       "              9.7259254e+00, 8.8281221e+00, 1.3368747e-04, 1.8491691e-03,\n",
       "              4.6383330e-04, 6.1989948e+02, 4.5422032e+07, 6.5726263e-04,\n",
       "              6.3665779e-05,           inf, 2.9095048e+06, 5.9003741e-03,\n",
       "                        inf,           inf, 5.3192750e-03,           inf,\n",
       "                        inf, 2.7021961e+01, 3.6536263e+01, 4.3841288e-04,\n",
       "              3.4556305e-03, 1.0537821e+12, 3.6060081e+01, 4.2598198e+01],            dtype=float32))"
      ]
     },
     "execution_count": 10,
     "metadata": {},
     "output_type": "execute_result"
    }
   ],
   "source": [
    "samples, weights"
   ]
  }
 ],
 "metadata": {
  "kernelspec": {
   "display_name": "Python 3 (ipykernel)",
   "language": "python",
   "name": "python3"
  },
  "language_info": {
   "codemirror_mode": {
    "name": "ipython",
    "version": 3
   },
   "file_extension": ".py",
   "mimetype": "text/x-python",
   "name": "python",
   "nbconvert_exporter": "python",
   "pygments_lexer": "ipython3",
   "version": "3.10.1"
  }
 },
 "nbformat": 4,
 "nbformat_minor": 5
}
